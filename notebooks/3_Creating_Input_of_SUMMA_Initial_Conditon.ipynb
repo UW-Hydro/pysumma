{
 "cells": [
  {
   "cell_type": "markdown",
   "metadata": {},
   "source": [
    "## 3. Creating Initial Condition netCDF"
   ]
  },
  {
   "cell_type": "code",
   "execution_count": 7,
   "metadata": {},
   "outputs": [],
   "source": [
    "from netCDF4 import Dataset"
   ]
  },
  {
   "cell_type": "code",
   "execution_count": 8,
   "metadata": {},
   "outputs": [],
   "source": [
    "# Create a netCDF file\n",
    "InitialCond = Dataset(\"InitialCond.nc\", \"w\", format=\"NETCDF3_CLASSIC\")"
   ]
  },
  {
   "cell_type": "code",
   "execution_count": 9,
   "metadata": {},
   "outputs": [],
   "source": [
    "# Create Dimension in a netCDF file\n",
    "hru = InitialCond.createDimension(\"hru\", 1)\n",
    "ifcToto = InitialCond.createDimension(\"ifcToto\", 9)\n",
    "midSoil = InitialCond.createDimension(\"midSoil\", 8)\n",
    "midToto = InitialCond.createDimension(\"midToto\", 8)\n",
    "scalarv = InitialCond.createDimension(\"scalarv\", 1)"
   ]
  },
  {
   "cell_type": "markdown",
   "metadata": {},
   "source": [
    "### Create variables in a netCDF file  for figure07 in wrrPaperTestCases (Clark et al., 2015b)"
   ]
  },
  {
   "cell_type": "code",
   "execution_count": 10,
   "metadata": {
    "scrolled": true
   },
   "outputs": [],
   "source": [
    "mLayerVolFracIce = InitialCond.createVariable(\"mLayerVolFracIce\", \"f8\", (\"midToto\",\"hru\",))\n",
    "mLayerVolFracIce[:] = [[0.],[0.],[0.],[0.],[0.],[0.],[0.],[0.]]"
   ]
  },
  {
   "cell_type": "code",
   "execution_count": 11,
   "metadata": {},
   "outputs": [],
   "source": [
    "scalarCanairTemp = InitialCond.createVariable(\"scalarCanairTemp\", \"f8\", (\"scalarv\",\"hru\",))\n",
    "scalarCanairTemp[:] = '286'"
   ]
  },
  {
   "cell_type": "code",
   "execution_count": 12,
   "metadata": {},
   "outputs": [],
   "source": [
    "nSnow = InitialCond.createVariable(\"nSnow\", \"f8\", (\"scalarv\",\"hru\",))\n",
    "nSnow[:] = '0'"
   ]
  },
  {
   "cell_type": "code",
   "execution_count": 13,
   "metadata": {},
   "outputs": [],
   "source": [
    "iLayerHeight = InitialCond.createVariable(\"iLayerHeight\", \"f8\", (\"ifcToto\",\"hru\",))\n",
    "iLayerHeight[:] = [[0.],[0.025],[0.1],[0.25],[0.5],[1.],[1.5],[2.5],[4.]]"
   ]
  },
  {
   "cell_type": "code",
   "execution_count": 14,
   "metadata": {},
   "outputs": [],
   "source": [
    "mLayerMatricHead = InitialCond.createVariable(\"mLayerMatricHead\", \"f8\", (\"midSoil\",\"hru\",))\n",
    "mLayerMatricHead[:] = [[-100.],[-100.],[-100.],[-100.],[-100.],[-100.],[-100.],[-100.]]"
   ]
  },
  {
   "cell_type": "code",
   "execution_count": 15,
   "metadata": {},
   "outputs": [],
   "source": [
    "scalarSnowAlbedo = InitialCond.createVariable(\"scalarSnowAlbedo\", \"f8\", (\"scalarv\",\"hru\",))\n",
    "scalarSnowAlbedo[:] = '0.82'"
   ]
  },
  {
   "cell_type": "code",
   "execution_count": 16,
   "metadata": {},
   "outputs": [],
   "source": [
    "dt_init = InitialCond.createVariable(\"dt_init\", \"f8\", (\"scalarv\",\"hru\",))\n",
    "dt_init[:] = '360'"
   ]
  },
  {
   "cell_type": "code",
   "execution_count": 17,
   "metadata": {},
   "outputs": [],
   "source": [
    "mLayerTemp = InitialCond.createVariable(\"mLayerTemp\", \"f8\", (\"midToto\",\"hru\",))\n",
    "mLayerTemp[:] = [[288.5],[288.5],[288.5],[288.5],[288.5],[288.5],[288.5],[288.5]]"
   ]
  },
  {
   "cell_type": "code",
   "execution_count": 18,
   "metadata": {},
   "outputs": [],
   "source": [
    "scalarSfcMeltPond = InitialCond.createVariable(\"scalarSfcMeltPond\", \"f8\", (\"scalarv\",\"hru\",))\n",
    "scalarSfcMeltPond[:] = '0'"
   ]
  },
  {
   "cell_type": "code",
   "execution_count": 19,
   "metadata": {},
   "outputs": [],
   "source": [
    "scalarCanopyTemp = InitialCond.createVariable(\"scalarCanopyTemp\", \"f8\", (\"scalarv\",\"hru\",))\n",
    "scalarCanopyTemp[:] = '290'"
   ]
  },
  {
   "cell_type": "code",
   "execution_count": 20,
   "metadata": {},
   "outputs": [],
   "source": [
    "scalarSnowDepth = InitialCond.createVariable(\"scalarSnowDepth\", \"f8\", (\"scalarv\",\"hru\",))\n",
    "scalarSnowDepth[:] = '0'"
   ]
  },
  {
   "cell_type": "code",
   "execution_count": 21,
   "metadata": {},
   "outputs": [],
   "source": [
    "nSoil = InitialCond.createVariable(\"nSoil\", \"f8\", (\"scalarv\",\"hru\",))\n",
    "nSoil[:] = '8'"
   ]
  },
  {
   "cell_type": "code",
   "execution_count": 22,
   "metadata": {},
   "outputs": [],
   "source": [
    "scalarSWE = InitialCond.createVariable(\"scalarSWE\", \"f8\", (\"scalarv\",\"hru\",))\n",
    "scalarSWE[:] = '0'"
   ]
  },
  {
   "cell_type": "code",
   "execution_count": 23,
   "metadata": {},
   "outputs": [],
   "source": [
    "scalarCanopyLiq = InitialCond.createVariable(\"scalarCanopyLiq\", \"f8\", (\"scalarv\",\"hru\",))\n",
    "scalarCanopyLiq[:] = '3.16'"
   ]
  },
  {
   "cell_type": "code",
   "execution_count": 24,
   "metadata": {},
   "outputs": [],
   "source": [
    "mLayerVolFracLiq = InitialCond.createVariable(\"mLayerVolFracLiq\", \"f8\", (\"midToto\",\"hru\",))\n",
    "mLayerVolFracLiq[:] = [[0.29],[0.29],[0.29],[0.29],[0.29],[0.29],[0.29],[0.29]]"
   ]
  },
  {
   "cell_type": "code",
   "execution_count": 25,
   "metadata": {},
   "outputs": [],
   "source": [
    "mLayerDepth = InitialCond.createVariable(\"mLayerDepth\", \"f8\", (\"midToto\",\"hru\",))\n",
    "mLayerDepth[:] = [[0.025],[0.075],[0.15],[0.25],[0.5],[0.5],[1.],[1.5]]"
   ]
  },
  {
   "cell_type": "code",
   "execution_count": 26,
   "metadata": {},
   "outputs": [],
   "source": [
    "scalarCanopyIce = InitialCond.createVariable(\"scalarCanopyIce\", \"f8\", (\"scalarv\",\"hru\",))\n",
    "scalarCanopyIce[:] = '0'"
   ]
  },
  {
   "cell_type": "code",
   "execution_count": 27,
   "metadata": {},
   "outputs": [],
   "source": [
    "scalarAquiferStorage = InitialCond.createVariable(\"scalarAquiferStorage\", \"f8\", (\"scalarv\",\"hru\",))\n",
    "scalarAquiferStorage[:] = '0'"
   ]
  },
  {
   "cell_type": "code",
   "execution_count": null,
   "metadata": {},
   "outputs": [],
   "source": []
  },
  {
   "cell_type": "code",
   "execution_count": null,
   "metadata": {},
   "outputs": [],
   "source": []
  },
  {
   "cell_type": "code",
   "execution_count": 28,
   "metadata": {},
   "outputs": [
    {
     "data": {
      "text/plain": [
       "OrderedDict([('mLayerVolFracIce', <class 'netCDF4._netCDF4.Variable'>\n",
       "              float64 mLayerVolFracIce(midToto, hru)\n",
       "              unlimited dimensions: \n",
       "              current shape = (8, 1)\n",
       "              filling off),\n",
       "             ('scalarCanairTemp', <class 'netCDF4._netCDF4.Variable'>\n",
       "              float64 scalarCanairTemp(scalarv, hru)\n",
       "              unlimited dimensions: \n",
       "              current shape = (1, 1)\n",
       "              filling off),\n",
       "             ('nSnow', <class 'netCDF4._netCDF4.Variable'>\n",
       "              float64 nSnow(scalarv, hru)\n",
       "              unlimited dimensions: \n",
       "              current shape = (1, 1)\n",
       "              filling off),\n",
       "             ('iLayerHeight', <class 'netCDF4._netCDF4.Variable'>\n",
       "              float64 iLayerHeight(ifcToto, hru)\n",
       "              unlimited dimensions: \n",
       "              current shape = (9, 1)\n",
       "              filling off),\n",
       "             ('mLayerMatricHead', <class 'netCDF4._netCDF4.Variable'>\n",
       "              float64 mLayerMatricHead(midSoil, hru)\n",
       "              unlimited dimensions: \n",
       "              current shape = (8, 1)\n",
       "              filling off),\n",
       "             ('scalarSnowAlbedo', <class 'netCDF4._netCDF4.Variable'>\n",
       "              float64 scalarSnowAlbedo(scalarv, hru)\n",
       "              unlimited dimensions: \n",
       "              current shape = (1, 1)\n",
       "              filling off),\n",
       "             ('dt_init', <class 'netCDF4._netCDF4.Variable'>\n",
       "              float64 dt_init(scalarv, hru)\n",
       "              unlimited dimensions: \n",
       "              current shape = (1, 1)\n",
       "              filling off),\n",
       "             ('mLayerTemp', <class 'netCDF4._netCDF4.Variable'>\n",
       "              float64 mLayerTemp(midToto, hru)\n",
       "              unlimited dimensions: \n",
       "              current shape = (8, 1)\n",
       "              filling off),\n",
       "             ('scalarSfcMeltPond', <class 'netCDF4._netCDF4.Variable'>\n",
       "              float64 scalarSfcMeltPond(scalarv, hru)\n",
       "              unlimited dimensions: \n",
       "              current shape = (1, 1)\n",
       "              filling off),\n",
       "             ('scalarCanopyTemp', <class 'netCDF4._netCDF4.Variable'>\n",
       "              float64 scalarCanopyTemp(scalarv, hru)\n",
       "              unlimited dimensions: \n",
       "              current shape = (1, 1)\n",
       "              filling off),\n",
       "             ('scalarSnowDepth', <class 'netCDF4._netCDF4.Variable'>\n",
       "              float64 scalarSnowDepth(scalarv, hru)\n",
       "              unlimited dimensions: \n",
       "              current shape = (1, 1)\n",
       "              filling off),\n",
       "             ('nSoil', <class 'netCDF4._netCDF4.Variable'>\n",
       "              float64 nSoil(scalarv, hru)\n",
       "              unlimited dimensions: \n",
       "              current shape = (1, 1)\n",
       "              filling off),\n",
       "             ('scalarSWE', <class 'netCDF4._netCDF4.Variable'>\n",
       "              float64 scalarSWE(scalarv, hru)\n",
       "              unlimited dimensions: \n",
       "              current shape = (1, 1)\n",
       "              filling off),\n",
       "             ('scalarCanopyLiq', <class 'netCDF4._netCDF4.Variable'>\n",
       "              float64 scalarCanopyLiq(scalarv, hru)\n",
       "              unlimited dimensions: \n",
       "              current shape = (1, 1)\n",
       "              filling off),\n",
       "             ('mLayerVolFracLiq', <class 'netCDF4._netCDF4.Variable'>\n",
       "              float64 mLayerVolFracLiq(midToto, hru)\n",
       "              unlimited dimensions: \n",
       "              current shape = (8, 1)\n",
       "              filling off),\n",
       "             ('mLayerDepth', <class 'netCDF4._netCDF4.Variable'>\n",
       "              float64 mLayerDepth(midToto, hru)\n",
       "              unlimited dimensions: \n",
       "              current shape = (8, 1)\n",
       "              filling off),\n",
       "             ('scalarCanopyIce', <class 'netCDF4._netCDF4.Variable'>\n",
       "              float64 scalarCanopyIce(scalarv, hru)\n",
       "              unlimited dimensions: \n",
       "              current shape = (1, 1)\n",
       "              filling off),\n",
       "             ('scalarAquiferStorage', <class 'netCDF4._netCDF4.Variable'>\n",
       "              float64 scalarAquiferStorage(scalarv, hru)\n",
       "              unlimited dimensions: \n",
       "              current shape = (1, 1)\n",
       "              filling off)])"
      ]
     },
     "execution_count": 28,
     "metadata": {},
     "output_type": "execute_result"
    }
   ],
   "source": [
    "# Check variables in a netCDF file\n",
    "InitialCond.variables"
   ]
  },
  {
   "cell_type": "code",
   "execution_count": 29,
   "metadata": {},
   "outputs": [
    {
     "data": {
      "text/plain": [
       "OrderedDict([('hru',\n",
       "              <class 'netCDF4._netCDF4.Dimension'>: name = 'hru', size = 1),\n",
       "             ('ifcToto',\n",
       "              <class 'netCDF4._netCDF4.Dimension'>: name = 'ifcToto', size = 9),\n",
       "             ('midSoil',\n",
       "              <class 'netCDF4._netCDF4.Dimension'>: name = 'midSoil', size = 8),\n",
       "             ('midToto',\n",
       "              <class 'netCDF4._netCDF4.Dimension'>: name = 'midToto', size = 8),\n",
       "             ('scalarv',\n",
       "              <class 'netCDF4._netCDF4.Dimension'>: name = 'scalarv', size = 1)])"
      ]
     },
     "execution_count": 29,
     "metadata": {},
     "output_type": "execute_result"
    }
   ],
   "source": [
    "# Check Dimension in a netCDF file\n",
    "InitialCond.dimensions"
   ]
  },
  {
   "cell_type": "code",
   "execution_count": 30,
   "metadata": {
    "scrolled": false
   },
   "outputs": [
    {
     "data": {
      "text/plain": [
       "<class 'netCDF4._netCDF4.Dataset'>\n",
       "root group (NETCDF3_CLASSIC data model, file format NETCDF3):\n",
       "    dimensions(sizes): hru(1), ifcToto(9), midSoil(8), midToto(8), scalarv(1)\n",
       "    variables(dimensions): float64 \u001b[4mmLayerVolFracIce\u001b[0m(midToto,hr), float64 \u001b[4mscalarCanairTemp\u001b[0m(scalarv,hr), float64 \u001b[4mnSnow\u001b[0m(scalarv,hr), float64 \u001b[4miLayerHeight\u001b[0m(ifcToto,hr), float64 \u001b[4mmLayerMatricHead\u001b[0m(midSoil,hr), float64 \u001b[4mscalarSnowAlbedo\u001b[0m(scalarv,hr), float64 \u001b[4mdt_init\u001b[0m(scalarv,hr), float64 \u001b[4mmLayerTemp\u001b[0m(midToto,hr), float64 \u001b[4mscalarSfcMeltPond\u001b[0m(scalarv,hr), float64 \u001b[4mscalarCanopyTemp\u001b[0m(scalarv,hr), float64 \u001b[4mscalarSnowDepth\u001b[0m(scalarv,hr), float64 \u001b[4mnSoil\u001b[0m(scalarv,hr), float64 \u001b[4mscalarSWE\u001b[0m(scalarv,hr), float64 \u001b[4mscalarCanopyLiq\u001b[0m(scalarv,hr), float64 \u001b[4mmLayerVolFracLiq\u001b[0m(midToto,hr), float64 \u001b[4mmLayerDepth\u001b[0m(midToto,hr), float64 \u001b[4mscalarCanopyIce\u001b[0m(scalarv,hr), float64 \u001b[4mscalarAquiferStorage\u001b[0m(scalarv,hr)\n",
       "    groups: "
      ]
     },
     "execution_count": 30,
     "metadata": {},
     "output_type": "execute_result"
    }
   ],
   "source": [
    "# Check a netCDF file\n",
    "InitialCond"
   ]
  },
  {
   "cell_type": "code",
   "execution_count": 31,
   "metadata": {},
   "outputs": [],
   "source": [
    "# close a netCDF file\n",
    "InitialCond.close()"
   ]
  },
  {
   "cell_type": "code",
   "execution_count": null,
   "metadata": {},
   "outputs": [],
   "source": []
  }
 ],
 "metadata": {
  "kernelspec": {
   "display_name": "Python 3",
   "language": "python",
   "name": "python3"
  },
  "language_info": {
   "codemirror_mode": {
    "name": "ipython",
    "version": 3
   },
   "file_extension": ".py",
   "mimetype": "text/x-python",
   "name": "python",
   "nbconvert_exporter": "python",
   "pygments_lexer": "ipython3",
   "version": "3.6.3"
  }
 },
 "nbformat": 4,
 "nbformat_minor": 2
}
