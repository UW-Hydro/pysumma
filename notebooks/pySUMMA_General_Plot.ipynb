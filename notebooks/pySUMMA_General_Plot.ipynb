{
 "cells": [
  {
   "cell_type": "markdown",
   "metadata": {},
   "source": [
    "##  Modeling the Impact of Stomatal Resistance Parameterizations on Total Evapotranspiration in the Reynolds Mountain East catchment using pySUMMA"
   ]
  },
  {
   "cell_type": "markdown",
   "metadata": {},
   "source": [
    "## 1. Introduction"
   ]
  },
  {
   "cell_type": "markdown",
   "metadata": {},
   "source": [
    "One part of the Clark et al. (2015) study explored the impact of different stomatal resistance parameterizations on total evapotranspiration (ET) using a SUMMA model for the Reynolds Mountain East catchment. This study looked at three different stomatal resistance parameterizations: the simple soil resistance method, the Ball Berry method, and the Jarvis method.\n",
    "\n",
    "In this Jupyter Notebook, the pySUMMA library is used to reproduce this analysis. First, the three different stomatal resistance parameterizations are described. Next, the Methods section describes how the pySUMMA can be used to create three different versions of the Reynolds Mountain East catchment model, one for each stomatal resistance parameterization. The Results section shows how to use pySUMMA and the Pandas library to reproduce Figure 7 from Clark et al. (2015). \n",
    "\n",
    "Collectively, this Jupyter Notebook serves as an example of how hydrologic modeling can be conducted directly within a Jupyter Notebook by leveraging the pySUMMA library. "
   ]
  },
  {
   "cell_type": "markdown",
   "metadata": {},
   "source": [
    "## 2. Background"
   ]
  },
  {
   "cell_type": "markdown",
   "metadata": {},
   "source": [
    "### The stomatal resistance parameterizations available in SUMMA"
   ]
  },
  {
   "cell_type": "code",
   "execution_count": null,
   "metadata": {},
   "outputs": [],
   "source": [
    "#import libraries to display equations within the notebook\n",
    "from IPython.display import display, Math, Latex"
   ]
  },
  {
   "cell_type": "markdown",
   "metadata": {},
   "source": [
    "### 1.) The simple soil resistance method"
   ]
  },
  {
   "cell_type": "markdown",
   "metadata": {},
   "source": [
    "\\begin{equation*}\n",
    "r_{{s},{sun}} = r_{{s},{shd}} = \\frac{r_{0c}}{\\beta_v} \\,\\,\\,\\, \n",
    "\\end{equation*}\n",
    "$r_{0c} \\,(s\\,m^{-1})$ : the minimum stomatal resistance ,     ${\\beta_v}\\,(-)$ : the total soil water stress function"
   ]
  },
  {
   "cell_type": "markdown",
   "metadata": {},
   "source": [
    "\\begin{equation*}\n",
    "{\\beta_v} = \\sum f_{{roots},{j}} \\beta_{{v},{j}}  +  f_{roots}^{aq} \\beta_{v}^{aq}\n",
    "\\end{equation*}\n",
    "$z_{soil}$ : the soil depth, $f_{{roots},{j}}$ : the root density in the $j$-th soil layer\n",
    "$\\beta_{{v},{j}}$ : the water availability stress funtion in the $j$-th soil layer <br/>\n",
    "$f_{roots}^{aq}$ : the fraction of roots for the aquifer, $\\beta_{v}^{aq}$ : water availability stress function for the aquifer\n",
    "\n",
    "For additional detail, see: https://github.com/DavidChoi76/pysumma/blob/master/simple1.png"
   ]
  },
  {
   "cell_type": "markdown",
   "metadata": {},
   "source": [
    "### 2.) The Ball-Berry method\n",
    " "
   ]
  },
  {
   "cell_type": "markdown",
   "metadata": {},
   "source": [
    "\\begin{equation*}\n",
    "g_i = v_t  \\frac{A_i}{c_{air}}\\frac{e_{air}}{e_{sat}(T_{veg})}P_{air} + g_{min}\\beta_v, \\,\\,\\,\\,   i = sun, shd\n",
    "\\end{equation*}"
   ]
  },
  {
   "cell_type": "markdown",
   "metadata": {},
   "source": [
    "$g_i\\, (micromol \\,\\, m^{-2} s^{-1})$ : Stomatal conductance per unit sunlit and shaded leaf area <br/> \n",
    "$A_i\\, (micromol \\,\\, m^{-2} s^{-1})$ : a function of the rate of photosynthesis <br/>\n",
    "$c_{air}\\, (Pa)$ : $CO_2$ concentration at the leaf surface (time varying model forcing, representing carbon fertilization) <br/>\n",
    "$g_{min}\\, (micromol \\,\\, m^{-2} s^{-1})$ : the minimum stomatal conductance <br/>\n",
    "$v_t\\,(-)$ : an empirical parameter to relate transpiration to the $CO_2$ flux, where a greater value of $v_t$ means the leaf consumes more water to produce the same carbon mass <br/>\n",
    "\n",
    "For additinoal detail, see: https://github.com/DavidChoi76/pysumma/blob/master/BallBerry.png"
   ]
  },
  {
   "cell_type": "markdown",
   "metadata": {},
   "source": [
    "### 3) The Jarvis method"
   ]
  },
  {
   "cell_type": "markdown",
   "metadata": {},
   "source": [
    "\\begin{equation*}\n",
    "r_{{s},{i}} = \\frac{r_{0c}}{f(Q_{{PAR},{i}})f(T_{air})f(e_{d})\\beta_v} \\,\\,\\,\\,   i = sun, shd\n",
    "\\end{equation*}"
   ]
  },
  {
   "cell_type": "markdown",
   "metadata": {},
   "source": [
    "the subscript $i$ defines either sunlit or shaded leaves <br/> \n",
    "$f(Q_{{PAR},{i}})$, $f(T_{air})$, $f(e_{d})$ : all limited to the range 0-1, represent the effects of photosynthetically-active radiation(PAR), air temperature, and vapor pressure deficit, where $ Q_{{PAR},{i}} $ represents PAR absorbed on sunlit or shaded leaves <br/> \n",
    "\n",
    "For additional detail, see: https://github.com/DavidChoi76/pysumma/blob/master/Jarvis.png"
   ]
  },
  {
   "cell_type": "markdown",
   "metadata": {},
   "source": [
    "The above images are taken from the Stomal Resistance Method section within the manual Structure for Unifying Multiple Modeling Alternatives (SUMMA), Version 1.0: Technical Description (April, 2015)."
   ]
  },
  {
   "cell_type": "markdown",
   "metadata": {},
   "source": [
    "## 3. Methods"
   ]
  },
  {
   "cell_type": "markdown",
   "metadata": {},
   "source": [
    "### 1) Study Area"
   ]
  },
  {
   "cell_type": "markdown",
   "metadata": {},
   "source": [
    "#### The Reynolds Mountain East catchment is located in southwestern Idaho as shown in the figure below."
   ]
  },
  {
   "cell_type": "code",
   "execution_count": 1,
   "metadata": {},
   "outputs": [],
   "source": [
    "from ipyleaflet import Map, GeoJSON\n",
    "import json"
   ]
  },
  {
   "cell_type": "code",
   "execution_count": 2,
   "metadata": {},
   "outputs": [
    {
     "ename": "FileNotFoundError",
     "evalue": "[Errno 2] No such file or directory: 'reynolds_geojson_latlon.geojson'",
     "output_type": "error",
     "traceback": [
      "\u001b[0;31m---------------------------------------------------------------------------\u001b[0m",
      "\u001b[0;31mFileNotFoundError\u001b[0m                         Traceback (most recent call last)",
      "\u001b[0;32m<ipython-input-2-b0e409144ee3>\u001b[0m in \u001b[0;36m<module>\u001b[0;34m()\u001b[0m\n\u001b[1;32m      1\u001b[0m \u001b[0mm\u001b[0m \u001b[0;34m=\u001b[0m \u001b[0mMap\u001b[0m\u001b[0;34m(\u001b[0m\u001b[0mcenter\u001b[0m\u001b[0;34m=\u001b[0m\u001b[0;34m[\u001b[0m\u001b[0;36m43.06745\u001b[0m\u001b[0;34m,\u001b[0m \u001b[0;34m-\u001b[0m\u001b[0;36m116.75489\u001b[0m\u001b[0;34m]\u001b[0m\u001b[0;34m,\u001b[0m \u001b[0mzoom\u001b[0m\u001b[0;34m=\u001b[0m\u001b[0;36m15\u001b[0m\u001b[0;34m)\u001b[0m\u001b[0;34m\u001b[0m\u001b[0m\n\u001b[0;32m----> 2\u001b[0;31m \u001b[0;32mwith\u001b[0m \u001b[0mopen\u001b[0m\u001b[0;34m(\u001b[0m\u001b[0;34m'reynolds_geojson_latlon.geojson'\u001b[0m\u001b[0;34m)\u001b[0m \u001b[0;32mas\u001b[0m \u001b[0mf\u001b[0m\u001b[0;34m:\u001b[0m\u001b[0;34m\u001b[0m\u001b[0m\n\u001b[0m\u001b[1;32m      3\u001b[0m     \u001b[0mdata\u001b[0m \u001b[0;34m=\u001b[0m \u001b[0mjson\u001b[0m\u001b[0;34m.\u001b[0m\u001b[0mload\u001b[0m\u001b[0;34m(\u001b[0m\u001b[0mf\u001b[0m\u001b[0;34m)\u001b[0m\u001b[0;34m\u001b[0m\u001b[0m\n\u001b[1;32m      4\u001b[0m \u001b[0mg\u001b[0m \u001b[0;34m=\u001b[0m \u001b[0mGeoJSON\u001b[0m\u001b[0;34m(\u001b[0m\u001b[0mdata\u001b[0m\u001b[0;34m=\u001b[0m\u001b[0mdata\u001b[0m\u001b[0;34m)\u001b[0m\u001b[0;34m\u001b[0m\u001b[0m\n\u001b[1;32m      5\u001b[0m \u001b[0mm\u001b[0m\u001b[0;34m.\u001b[0m\u001b[0madd_layer\u001b[0m\u001b[0;34m(\u001b[0m\u001b[0mg\u001b[0m\u001b[0;34m)\u001b[0m\u001b[0;34m\u001b[0m\u001b[0m\n",
      "\u001b[0;31mFileNotFoundError\u001b[0m: [Errno 2] No such file or directory: 'reynolds_geojson_latlon.geojson'"
     ]
    }
   ],
   "source": [
    "m = Map(center=[43.06745, -116.75489], zoom=15)\n",
    "with open('reynolds_geojson_latlon.geojson') as f:\n",
    "    data = json.load(f)\n",
    "g = GeoJSON(data=data)\n",
    "m.add_layer(g)\n",
    "m"
   ]
  },
  {
   "cell_type": "markdown",
   "metadata": {},
   "source": [
    "### 2) Create pySUMMA Simulation Object"
   ]
  },
  {
   "cell_type": "code",
   "execution_count": 1,
   "metadata": {},
   "outputs": [],
   "source": [
    "from pysumma.Simulation import Simulation"
   ]
  },
  {
   "cell_type": "code",
   "execution_count": 2,
   "metadata": {},
   "outputs": [],
   "source": [
    "# create a pySUMMA simulation object using the SUMMA 'file manager' input file \n",
    "S = Simulation('../../summaTestCases_2.x/settings/wrrPaperTestCases/figure07/summa_fileManager_riparianAspenSimpleResistance.txt')"
   ]
  },
  {
   "cell_type": "code",
   "execution_count": 3,
   "metadata": {},
   "outputs": [],
   "source": [
    "# set the simulation start and finish times\n",
    "S.decision_obj.simulStart.value = \"2007-07-01 00:00\"\n",
    "S.decision_obj.simulFinsh.value = \"2007-08-20 00:00\""
   ]
  },
  {
   "cell_type": "markdown",
   "metadata": {},
   "source": [
    "### 3) Run SUMMA for the different stomatal resistance parameterization options with Developing version of Docker image"
   ]
  },
  {
   "cell_type": "code",
   "execution_count": 4,
   "metadata": {
    "scrolled": true
   },
   "outputs": [
    {
     "data": {
      "text/plain": [
       "['BallBerry', 'Jarvis', 'simpleResistance']"
      ]
     },
     "execution_count": 4,
     "metadata": {},
     "output_type": "execute_result"
    }
   ],
   "source": [
    "# query for the available stomatal resistance parameterizations\n",
    "S.decision_obj.stomResist.options"
   ]
  },
  {
   "cell_type": "markdown",
   "metadata": {},
   "source": [
    "#### 3.4) assign the Jarvis method "
   ]
  },
  {
   "cell_type": "code",
   "execution_count": 5,
   "metadata": {},
   "outputs": [
    {
     "data": {
      "text/plain": [
       "'Jarvis'"
      ]
     },
     "execution_count": 5,
     "metadata": {},
     "output_type": "execute_result"
    }
   ],
   "source": [
    "S.decision_obj.stomResist.value = 'Jarvis'\n",
    "S.decision_obj.stomResist.value"
   ]
  },
  {
   "cell_type": "code",
   "execution_count": 6,
   "metadata": {},
   "outputs": [],
   "source": [
    "results_Jarvis, output_path = S.execute(run_suffix=\"Jarvis_docker\", run_option = 'docker_develop')"
   ]
  },
  {
   "cell_type": "markdown",
   "metadata": {},
   "source": [
    "## 4. Results"
   ]
  },
  {
   "cell_type": "markdown",
   "metadata": {},
   "source": [
    "### Recreate the Figure 7 plot from Clark et al., 2015: The total ET for the three different stomatal resistance methods"
   ]
  },
  {
   "cell_type": "code",
   "execution_count": 7,
   "metadata": {},
   "outputs": [],
   "source": [
    "from pysumma.Plotting import Plotting\n",
    "from jupyterthemes import jtplot\n",
    "import matplotlib.pyplot as plt\n",
    "import pandas as pd\n",
    "import xarray as xr\n",
    "import numpy as np\n",
    "jtplot.figsize(x=10, y=10)"
   ]
  },
  {
   "cell_type": "markdown",
   "metadata": {},
   "source": [
    "#### 4.1) Create P attribute using Plotting.py and output_path"
   ]
  },
  {
   "cell_type": "code",
   "execution_count": 8,
   "metadata": {
    "scrolled": true
   },
   "outputs": [],
   "source": [
    "# create P attribute \n",
    "P = Plotting(output_path)\n",
    "# create Plot attribute with open_netcdf method\n",
    "Plot = P.open_netcdf()"
   ]
  },
  {
   "cell_type": "markdown",
   "metadata": {},
   "source": [
    "#### 4.2) Explain output variables"
   ]
  },
  {
   "cell_type": "markdown",
   "metadata": {},
   "source": [
    "#### There are three structure types of variables \n",
    "\n",
    "1) variable (time, hru or gru) : [example] pptrate, airtemp, basin__SurfaceRunoff,  ...\n",
    "\n",
    "2) variable (time, midToto, hru) : [example] mLayerVolFracIce, mLayerVolFracLiq, mLayerVolFracWat, ... \n",
    "\n",
    " - 'mid' are associated with variables that are specified at the mid-point of each layer (or layer-average)\n",
    " - 'Toto indicate snow layers, soil layers, and all layers,\n",
    "\n",
    "3) variable (time, midSoil, hru) : [example] mLayerMatricHead, mLayerLiqFluxSoil \n",
    "\n",
    "4) variable (time, ifcToto, hru) : [example] iLayerHeight \n",
    " - 'ifc' are associated with variables that are specified at the interfaces between layers including the very top and bottom\n",
    " \n",
    "5) variable (time, ifcSoil, hru) : [example] iLayerLiqFluxSoil "
   ]
  },
  {
   "cell_type": "code",
   "execution_count": 9,
   "metadata": {
    "scrolled": true
   },
   "outputs": [
    {
     "data": {
      "text/plain": [
       "<xarray.Dataset>\n",
       "Dimensions:                    (gru: 1, hru: 1, ifcSoil: 9, ifcToto: 14, midSoil: 8, midToto: 13, time: 1201)\n",
       "Coordinates:\n",
       "  * time                       (time) datetime64[ns] 2007-07-01 ...\n",
       "  * hru                        (hru) int32 1\n",
       "Dimensions without coordinates: gru, ifcSoil, ifcToto, midSoil, midToto\n",
       "Data variables:\n",
       "    pptrate                    (time, hru) float64 ...\n",
       "    airtemp                    (time, hru) float64 ...\n",
       "    hruId                      (hru) int32 ...\n",
       "    basin__SurfaceRunoff       (time, gru) float64 ...\n",
       "    basin__ColumnOutflow       (time, gru) float64 ...\n",
       "    basin__AquiferStorage      (time, gru) float64 ...\n",
       "    basin__AquiferRecharge     (time, gru) float64 ...\n",
       "    basin__AquiferBaseflow     (time, gru) float64 ...\n",
       "    basin__AquiferTranspire    (time, gru) float64 ...\n",
       "    averageInstantRunoff       (time, gru) float64 ...\n",
       "    averageRoutedRunoff        (time, gru) float64 ...\n",
       "    nSnow                      (time, hru) int32 ...\n",
       "    nSoil                      (time, hru) int32 ...\n",
       "    nLayers                    (time, hru) int32 ...\n",
       "    scalarSWE                  (time, hru) float64 ...\n",
       "    mLayerTemp                 (time, midToto, hru) float64 ...\n",
       "    mLayerVolFracIce           (time, midToto, hru) float64 ...\n",
       "    mLayerVolFracLiq           (time, midToto, hru) float64 ...\n",
       "    mLayerVolFracWat           (time, midToto, hru) float64 ...\n",
       "    mLayerMatricHead           (time, midSoil, hru) float64 ...\n",
       "    scalarSurfaceTemp          (time, hru) float64 ...\n",
       "    mLayerDepth                (time, midToto, hru) float64 ...\n",
       "    iLayerHeight               (time, ifcToto, hru) float64 ...\n",
       "    scalarSenHeatTotal         (time, hru) float64 ...\n",
       "    scalarLatHeatTotal         (time, hru) float64 ...\n",
       "    scalarSnowSublimation      (time, hru) float64 ...\n",
       "    scalarCanopyTranspiration  (time, hru) float64 ...\n",
       "    scalarCanopyEvaporation    (time, hru) float64 ...\n",
       "    scalarGroundEvaporation    (time, hru) float64 ...\n",
       "    scalarThroughfallSnow      (time, hru) float64 ...\n",
       "    scalarThroughfallRain      (time, hru) float64 ...\n",
       "    scalarRainPlusMelt         (time, hru) float64 ...\n",
       "    scalarInfiltration         (time, hru) float64 ...\n",
       "    scalarExfiltration         (time, hru) float64 ...\n",
       "    scalarSurfaceRunoff        (time, hru) float64 ...\n",
       "    iLayerLiqFluxSoil          (time, ifcSoil, hru) float64 ...\n",
       "    mLayerLiqFluxSoil          (time, midSoil, hru) float64 ...\n",
       "Attributes:\n",
       "    summaVersion:     v2.0.0\n",
       "    buildTime:        Tue Feb 27 19:15:36 UTC 2018\n",
       "    gitBranch:        develop-0-ga0c8b69\n",
       "    gitHash:          a0c8b69cffa001c846e331d51ae24105cdbf3347\n",
       "    soilStress:       NoahType\n",
       "    stomResist:       Jarvis\n",
       "    num_method:       non_iter\n",
       "    fDerivMeth:       analytic\n",
       "    LAI_method:       specified\n",
       "    notPopulatedYet:  notPopulatedYet\n",
       "    f_Richards:       mixdform\n",
       "    groundwatr:       noXplict\n",
       "    hc_profile:       constant\n",
       "    bcUpprTdyn:       nrg_flux\n",
       "    bcLowrTdyn:       zeroFlux\n",
       "    bcUpprSoiH:       liq_flux\n",
       "    bcLowrSoiH:       drainage\n",
       "    veg_traits:       CM_QJRMS1988\n",
       "    canopyEmis:       difTrans\n",
       "    snowIncept:       lightSnow\n",
       "    windPrfile:       logBelowCanopy\n",
       "    astability:       louisinv\n",
       "    canopySrad:       BeersLaw\n",
       "    alb_method:       varDecay\n",
       "    snowLayers:       CLM_2010\n",
       "    compaction:       anderson\n",
       "    thCondSnow:       jrdn1991\n",
       "    thCondSoil:       mixConstit\n",
       "    spatial_gw:       localColumn\n",
       "    subRouting:       timeDlay"
      ]
     },
     "execution_count": 9,
     "metadata": {},
     "output_type": "execute_result"
    }
   ],
   "source": [
    "# explain output variables\n",
    "Plot"
   ]
  },
  {
   "cell_type": "markdown",
   "metadata": {},
   "source": [
    "#### 4.3) Plot (variable)"
   ]
  },
  {
   "cell_type": "code",
   "execution_count": 10,
   "metadata": {
    "scrolled": true
   },
   "outputs": [
    {
     "name": "stderr",
     "output_type": "stream",
     "text": [
      "/home/hydro/miniconda3/lib/python3.6/site-packages/xarray/plot/utils.py:51: FutureWarning: 'pandas.tseries.converter.register' has been moved and renamed to 'pandas.plotting.register_matplotlib_converters'. \n",
      "  converter.register()\n"
     ]
    },
    {
     "data": {
      "image/png": "[encoded data removed]",
      "text/plain": [
       "<matplotlib.figure.Figure at 0x7f0c62ecc278>"
      ]
     },
     "metadata": {},
     "output_type": "display_data"
    },
    {
     "data": {
      "text/plain": [
       "[<matplotlib.lines.Line2D at 0x7f0c5b33c908>]"
      ]
     },
     "execution_count": 10,
     "metadata": {},
     "output_type": "execute_result"
    }
   ],
   "source": [
    "# The case of \"1) variable (time, hru or gru)\"\n",
    "P.plot_1d('pptrate')"
   ]
  },
  {
   "cell_type": "markdown",
   "metadata": {},
   "source": [
    "#### 4.4) Plot hru (hru_num, variable)"
   ]
  },
  {
   "cell_type": "code",
   "execution_count": 11,
   "metadata": {
    "scrolled": true
   },
   "outputs": [
    {
     "data": {
      "image/png": "[encoded data removed]",
      "text/plain": [
       "<matplotlib.figure.Figure at 0x7f0c62e7a0f0>"
      ]
     },
     "metadata": {},
     "output_type": "display_data"
    },
    {
     "data": {
      "text/plain": [
       "[<matplotlib.lines.Line2D at 0x7f0c5b2e99b0>]"
      ]
     },
     "execution_count": 11,
     "metadata": {},
     "output_type": "execute_result"
    }
   ],
   "source": [
    "# The case of \"1) variable (time, hru or gru) and more than 2 hru\n",
    "P.plot_1d_hru(0,'airtemp')"
   ]
  },
  {
   "cell_type": "markdown",
   "metadata": {},
   "source": [
    "#### 4.5) Plot layer (variable)"
   ]
  },
  {
   "cell_type": "code",
   "execution_count": 12,
   "metadata": {},
   "outputs": [],
   "source": [
    "# the case of 2) variable (time, midToto, hru) : [example] mLayerVolFracIce, mLayerVolFracLiq, mLayerVolFracWat, ... \n",
    "# midToto: 13\n",
    "test = Plot['mLayerVolFracWat'].data\n",
    "dates = Plot['time'].data\n",
    "# convert data array\n",
    "test = np.squeeze(test)\n",
    "# create df attribute using pandas DataFrame    \n",
    "df = pd.DataFrame(data = test, index=dates)\n",
    "df.replace(to_replace=-9999.0, value = 0, inplace=True)"
   ]
  },
  {
   "cell_type": "code",
   "execution_count": 13,
   "metadata": {
    "scrolled": false
   },
   "outputs": [
    {
     "data": {
      "text/plain": [
       "<matplotlib.axes._subplots.AxesSubplot at 0x7f0c5b2e9dd8>"
      ]
     },
     "execution_count": 13,
     "metadata": {},
     "output_type": "execute_result"
    },
    {
     "data": {
      "image/png": "[encoded data removed]",
      "text/plain": [
       "<matplotlib.figure.Figure at 0x7f0c5b2e98d0>"
      ]
     },
     "metadata": {},
     "output_type": "display_data"
    }
   ],
   "source": [
    "# midToto is 13, therefore user can change each layer value from 0 to 12\n",
    "df[12].plot()"
   ]
  },
  {
   "cell_type": "code",
   "execution_count": 14,
   "metadata": {
    "scrolled": false
   },
   "outputs": [
    {
     "data": {
      "image/png": "[encoded data removed]",
      "text/plain": [
       "<matplotlib.figure.Figure at 0x7f0c63632080>"
      ]
     },
     "metadata": {},
     "output_type": "display_data"
    },
    {
     "data": {
      "text/plain": [
       "<matplotlib.collections.QuadMesh at 0x7f0c5b1f3da0>"
      ]
     },
     "execution_count": 14,
     "metadata": {},
     "output_type": "execute_result"
    }
   ],
   "source": [
    "P.plot_1d_layer('mLayerVolFracWat')"
   ]
  },
  {
   "cell_type": "code",
   "execution_count": 15,
   "metadata": {},
   "outputs": [],
   "source": [
    "# the case of 3) variable (time, midSoil, hru) : [example] mLayerMatricHead, mLayerLiqFluxSoil \n",
    "# midSoil: 8\n",
    "test = Plot['mLayerLiqFluxSoil'].data\n",
    "dates = Plot['time'].data\n",
    "# convert data array\n",
    "test = np.squeeze(test)\n",
    "# create df attribute using pandas DataFrame    \n",
    "df = pd.DataFrame(data = test, index=dates)\n",
    "df.replace(to_replace=-9999.0, value = 0, inplace=True)"
   ]
  },
  {
   "cell_type": "code",
   "execution_count": 16,
   "metadata": {
    "scrolled": false
   },
   "outputs": [
    {
     "data": {
      "text/plain": [
       "<matplotlib.axes._subplots.AxesSubplot at 0x7f0c5b1ea748>"
      ]
     },
     "execution_count": 16,
     "metadata": {},
     "output_type": "execute_result"
    },
    {
     "data": {
      "image/png": "[encoded data removed]",
      "text/plain": [
       "<matplotlib.figure.Figure at 0x7f0c5b1a9dd8>"
      ]
     },
     "metadata": {},
     "output_type": "display_data"
    }
   ],
   "source": [
    "# midToto is 13, therefore user can change each layer value from 0 to 12\n",
    "df[0].plot()"
   ]
  },
  {
   "cell_type": "code",
   "execution_count": 17,
   "metadata": {
    "scrolled": false
   },
   "outputs": [
    {
     "data": {
      "image/png": "[encoded data removed]",
      "text/plain": [
       "<matplotlib.figure.Figure at 0x7f0c5b2f7550>"
      ]
     },
     "metadata": {},
     "output_type": "display_data"
    },
    {
     "data": {
      "text/plain": [
       "<matplotlib.collections.QuadMesh at 0x7f0c5b0a4550>"
      ]
     },
     "execution_count": 17,
     "metadata": {},
     "output_type": "execute_result"
    }
   ],
   "source": [
    "P.plot_1d_layer('mLayerLiqFluxSoil')"
   ]
  },
  {
   "cell_type": "code",
   "execution_count": 18,
   "metadata": {},
   "outputs": [],
   "source": [
    "# the case of 4) variable (time, ifcToto, hru) : [example] iLayerHeight\n",
    "# midSoil: 14\n",
    "test = Plot['iLayerHeight'].data\n",
    "dates = Plot['time'].data\n",
    "# convert data array\n",
    "test = np.squeeze(test)\n",
    "# create df attribute using pandas DataFrame    \n",
    "df = pd.DataFrame(data = test, index=dates)\n",
    "df.replace(to_replace=-9999.0, value = 0, inplace=True)"
   ]
  },
  {
   "cell_type": "code",
   "execution_count": 19,
   "metadata": {
    "scrolled": false
   },
   "outputs": [
    {
     "data": {
      "text/plain": [
       "<matplotlib.axes._subplots.AxesSubplot at 0x7f0c5b042d30>"
      ]
     },
     "execution_count": 19,
     "metadata": {},
     "output_type": "execute_result"
    },
    {
     "data": {
      "image/png": "[encoded data removed]",
      "text/plain": [
       "<matplotlib.figure.Figure at 0x7f0c5b013438>"
      ]
     },
     "metadata": {},
     "output_type": "display_data"
    }
   ],
   "source": [
    "# midToto is 13, therefore user can change each layer value from 0 to 12\n",
    "df[0].plot()"
   ]
  },
  {
   "cell_type": "code",
   "execution_count": 20,
   "metadata": {
    "scrolled": true
   },
   "outputs": [
    {
     "data": {
      "image/png": "[encoded data removed]",
      "text/plain": [
       "<matplotlib.figure.Figure at 0x7f0c5b08e208>"
      ]
     },
     "metadata": {},
     "output_type": "display_data"
    },
    {
     "data": {
      "text/plain": [
       "<matplotlib.collections.QuadMesh at 0x7f0c5afb6860>"
      ]
     },
     "execution_count": 20,
     "metadata": {},
     "output_type": "execute_result"
    }
   ],
   "source": [
    "P.plot_1d_layer('iLayerHeight')"
   ]
  },
  {
   "cell_type": "code",
   "execution_count": 21,
   "metadata": {},
   "outputs": [],
   "source": [
    "# the case of 5) variable (time, ifcSoil, hru) : [example] iLayerLiqFluxSoil\n",
    "# midSoil: 9\n",
    "test = Plot['iLayerLiqFluxSoil'].data\n",
    "dates = Plot['time'].data\n",
    "# convert data array\n",
    "test = np.squeeze(test)\n",
    "# create df attribute using pandas DataFrame    \n",
    "df = pd.DataFrame(data = test, index=dates)\n",
    "df.replace(to_replace=-9999.0, value = 0, inplace=True)"
   ]
  },
  {
   "cell_type": "code",
   "execution_count": 22,
   "metadata": {
    "scrolled": false
   },
   "outputs": [
    {
     "data": {
      "text/plain": [
       "<matplotlib.axes._subplots.AxesSubplot at 0x7f0c5af696d8>"
      ]
     },
     "execution_count": 22,
     "metadata": {},
     "output_type": "execute_result"
    },
    {
     "data": {
      "image/png": "[encoded data removed]",
      "text/plain": [
       "<matplotlib.figure.Figure at 0x7f0c5af13400>"
      ]
     },
     "metadata": {},
     "output_type": "display_data"
    }
   ],
   "source": [
    "# midToto is 13, therefore user can change each layer value from 0 to 12\n",
    "df[0].plot()"
   ]
  },
  {
   "cell_type": "code",
   "execution_count": 23,
   "metadata": {
    "scrolled": true
   },
   "outputs": [
    {
     "data": {
      "image/png": "[encoded data removed]",
      "text/plain": [
       "<matplotlib.figure.Figure at 0x7f0c5aee80b8>"
      ]
     },
     "metadata": {},
     "output_type": "display_data"
    },
    {
     "data": {
      "text/plain": [
       "<matplotlib.collections.QuadMesh at 0x7f0c5ae4b780>"
      ]
     },
     "execution_count": 23,
     "metadata": {},
     "output_type": "execute_result"
    }
   ],
   "source": [
    "P.plot_1d_layer('iLayerLiqFluxSoil')"
   ]
  },
  {
   "cell_type": "code",
   "execution_count": 24,
   "metadata": {},
   "outputs": [
    {
     "ename": "ModuleNotFoundError",
     "evalue": "No module named 'pysumma.layers'",
     "output_type": "error",
     "traceback": [
      "\u001b[0;31m---------------------------------------------------------------------------\u001b[0m",
      "\u001b[0;31mModuleNotFoundError\u001b[0m                       Traceback (most recent call last)",
      "\u001b[0;32m<ipython-input-24-a079f19d6b0f>\u001b[0m in \u001b[0;36m<module>\u001b[0;34m()\u001b[0m\n\u001b[0;32m----> 1\u001b[0;31m \u001b[0;32mfrom\u001b[0m \u001b[0mpysumma\u001b[0m\u001b[0;34m.\u001b[0m\u001b[0mlayers\u001b[0m \u001b[0;32mimport\u001b[0m \u001b[0mlayers\u001b[0m\u001b[0;34m\u001b[0m\u001b[0m\n\u001b[0m",
      "\u001b[0;31mModuleNotFoundError\u001b[0m: No module named 'pysumma.layers'"
     ]
    }
   ],
   "source": [
    "from pysumma.layers import layers"
   ]
  },
  {
   "cell_type": "code",
   "execution_count": 25,
   "metadata": {},
   "outputs": [],
   "source": [
    "ds = xr.open_dataset(output_path).isel(hru=0)"
   ]
  },
  {
   "cell_type": "code",
   "execution_count": 26,
   "metadata": {},
   "outputs": [
    {
     "ename": "NameError",
     "evalue": "name 'layers' is not defined",
     "output_type": "error",
     "traceback": [
      "\u001b[0;31m---------------------------------------------------------------------------\u001b[0m",
      "\u001b[0;31mNameError\u001b[0m                                 Traceback (most recent call last)",
      "\u001b[0;32m<ipython-input-26-498cc4135dc1>\u001b[0m in \u001b[0;36m<module>\u001b[0;34m()\u001b[0m\n\u001b[0;32m----> 1\u001b[0;31m \u001b[0mlayers\u001b[0m\u001b[0;34m(\u001b[0m\u001b[0mds\u001b[0m\u001b[0;34m.\u001b[0m\u001b[0misel\u001b[0m\u001b[0;34m(\u001b[0m\u001b[0mtime\u001b[0m\u001b[0;34m=\u001b[0m\u001b[0mslice\u001b[0m\u001b[0;34m(\u001b[0m\u001b[0;36m0\u001b[0m\u001b[0;34m,\u001b[0m\u001b[0;36m9\u001b[0m\u001b[0;34m)\u001b[0m\u001b[0;34m)\u001b[0m\u001b[0;34m,\u001b[0m \u001b[0;34m'mLayerTemp'\u001b[0m\u001b[0;34m)\u001b[0m\u001b[0;34m\u001b[0m\u001b[0m\n\u001b[0m",
      "\u001b[0;31mNameError\u001b[0m: name 'layers' is not defined"
     ]
    }
   ],
   "source": [
    "layers(ds.isel(time=slice(0,9)), 'mLayerTemp')"
   ]
  },
  {
   "cell_type": "code",
   "execution_count": null,
   "metadata": {},
   "outputs": [],
   "source": []
  },
  {
   "cell_type": "code",
   "execution_count": null,
   "metadata": {},
   "outputs": [],
   "source": []
  },
  {
   "cell_type": "code",
   "execution_count": null,
   "metadata": {},
   "outputs": [],
   "source": []
  },
  {
   "cell_type": "code",
   "execution_count": null,
   "metadata": {},
   "outputs": [],
   "source": []
  },
  {
   "cell_type": "code",
   "execution_count": 36,
   "metadata": {},
   "outputs": [],
   "source": [
    "layers = ds.nLayers.values.astype('int')"
   ]
  },
  {
   "cell_type": "code",
   "execution_count": 38,
   "metadata": {},
   "outputs": [
    {
     "data": {
      "text/plain": [
       "8"
      ]
     },
     "execution_count": 38,
     "metadata": {},
     "output_type": "execute_result"
    }
   ],
   "source": [
    "max_layers = np.amax(layers)\n",
    "max_layers"
   ]
  },
  {
   "cell_type": "code",
   "execution_count": 39,
   "metadata": {},
   "outputs": [],
   "source": [
    "depths = np.empty((max_layers+1, len(ds.time)))"
   ]
  },
  {
   "cell_type": "code",
   "execution_count": 40,
   "metadata": {},
   "outputs": [
    {
     "data": {
      "text/plain": [
       "array([[6.90408353e-310, 6.90408353e-310, 4.65241459e-310, ...,\n",
       "                    nan,             nan,             nan],\n",
       "       [            nan,             nan,             nan, ...,\n",
       "        7.29111856e-304, 7.29111856e-304, 7.29111856e-304],\n",
       "       [7.29111856e-304, 7.29111856e-304, 7.29111856e-304, ...,\n",
       "                    nan,             nan,             nan],\n",
       "       ...,\n",
       "       [            nan,             nan,             nan, ...,\n",
       "        7.29111856e-304, 7.29111856e-304, 7.29111856e-304],\n",
       "       [7.29111856e-304, 7.29111856e-304, 7.29111856e-304, ...,\n",
       "                    nan,             nan,             nan],\n",
       "       [            nan,             nan,             nan, ...,\n",
       "        7.29111856e-304, 7.29111856e-304, 7.29111856e-304]])"
      ]
     },
     "execution_count": 40,
     "metadata": {},
     "output_type": "execute_result"
    }
   ],
   "source": [
    "depths"
   ]
  },
  {
   "cell_type": "code",
   "execution_count": 41,
   "metadata": {},
   "outputs": [],
   "source": [
    "depths[:] = np.nan"
   ]
  },
  {
   "cell_type": "code",
   "execution_count": 42,
   "metadata": {},
   "outputs": [
    {
     "data": {
      "text/plain": [
       "array([[nan, nan, nan, ..., nan, nan, nan],\n",
       "       [nan, nan, nan, ..., nan, nan, nan],\n",
       "       [nan, nan, nan, ..., nan, nan, nan],\n",
       "       ...,\n",
       "       [nan, nan, nan, ..., nan, nan, nan],\n",
       "       [nan, nan, nan, ..., nan, nan, nan],\n",
       "       [nan, nan, nan, ..., nan, nan, nan]])"
      ]
     },
     "execution_count": 42,
     "metadata": {},
     "output_type": "execute_result"
    }
   ],
   "source": [
    "depths[:]"
   ]
  },
  {
   "cell_type": "code",
   "execution_count": 43,
   "metadata": {},
   "outputs": [],
   "source": [
    "vals = np.empty((max_layers, len(ds.time)))"
   ]
  },
  {
   "cell_type": "code",
   "execution_count": 44,
   "metadata": {},
   "outputs": [
    {
     "data": {
      "text/plain": [
       "array([[ 6.90408353e-310,  6.90408353e-310,  4.65241460e-310, ...,\n",
       "                     nan,              nan,              nan],\n",
       "       [             nan,              nan,              nan, ...,\n",
       "         7.29111856e-304,  7.29111856e-304,  7.29111856e-304],\n",
       "       [ 7.29111856e-304,  7.29111856e-304,  7.29111856e-304, ...,\n",
       "                     nan,              nan,              nan],\n",
       "       ...,\n",
       "       [             nan,              nan,              nan, ...,\n",
       "                     nan,              nan,              nan],\n",
       "       [             nan,              nan,              nan, ...,\n",
       "        -5.09183568e+305, -5.09183568e+305, -1.25542154e+058],\n",
       "       [ 7.29111856e-304,  7.29111856e-304,  7.29111856e-304, ...,\n",
       "         7.29111856e-304,  7.29111856e-304,  7.29111856e-304]])"
      ]
     },
     "execution_count": 44,
     "metadata": {},
     "output_type": "execute_result"
    }
   ],
   "source": [
    "vals"
   ]
  },
  {
   "cell_type": "code",
   "execution_count": 45,
   "metadata": {},
   "outputs": [],
   "source": [
    "vals[:] = np.nan"
   ]
  },
  {
   "cell_type": "code",
   "execution_count": 46,
   "metadata": {},
   "outputs": [
    {
     "data": {
      "text/plain": [
       "array([[nan, nan, nan, ..., nan, nan, nan],\n",
       "       [nan, nan, nan, ..., nan, nan, nan],\n",
       "       [nan, nan, nan, ..., nan, nan, nan],\n",
       "       ...,\n",
       "       [nan, nan, nan, ..., nan, nan, nan],\n",
       "       [nan, nan, nan, ..., nan, nan, nan],\n",
       "       [nan, nan, nan, ..., nan, nan, nan]])"
      ]
     },
     "execution_count": 46,
     "metadata": {},
     "output_type": "execute_result"
    }
   ],
   "source": [
    "vals[:]"
   ]
  },
  {
   "cell_type": "code",
   "execution_count": 31,
   "metadata": {},
   "outputs": [],
   "source": [
    "layer_refs = ['Toto', 'Soil']\n",
    "for ref in layer_refs:\n",
    "    test_coord = 'mid{}'.format(ref)\n",
    "    if test_coord in ds['mLayerTemp'].dims:\n",
    "        ifcStartIdx = ds['ifc{}'.format(ref)].values\n",
    "        midStartIdx = ds['mid{}'.format(ref)].values\n",
    "        break\n",
    "else:\n",
    "    raise ValueError(\"Dataset provided doesn't appear to have layers!\")"
   ]
  },
  {
   "cell_type": "code",
   "execution_count": 32,
   "metadata": {},
   "outputs": [
    {
     "data": {
      "text/plain": [
       "array([ 0,  1,  2,  3,  4,  5,  6,  7,  8,  9, 10, 11, 12, 13])"
      ]
     },
     "execution_count": 32,
     "metadata": {},
     "output_type": "execute_result"
    }
   ],
   "source": [
    "ifcStartIdx"
   ]
  },
  {
   "cell_type": "code",
   "execution_count": 33,
   "metadata": {},
   "outputs": [
    {
     "data": {
      "text/plain": [
       "array([ 0,  1,  2,  3,  4,  5,  6,  7,  8,  9, 10, 11, 12])"
      ]
     },
     "execution_count": 33,
     "metadata": {},
     "output_type": "execute_result"
    }
   ],
   "source": [
    "midStartIdx"
   ]
  },
  {
   "cell_type": "code",
   "execution_count": 47,
   "metadata": {},
   "outputs": [
    {
     "ename": "ValueError",
     "evalue": "could not broadcast input array from shape (0,14) into shape (9)",
     "output_type": "error",
     "traceback": [
      "\u001b[0;31m---------------------------------------------------------------------------\u001b[0m",
      "\u001b[0;31mValueError\u001b[0m                                Traceback (most recent call last)",
      "\u001b[0;32m<ipython-input-47-5d3a81b18522>\u001b[0m in \u001b[0;36m<module>\u001b[0;34m()\u001b[0m\n\u001b[1;32m      4\u001b[0m     \u001b[0mend_ifc\u001b[0m \u001b[0;34m=\u001b[0m \u001b[0mstart_ifc\u001b[0m \u001b[0;34m+\u001b[0m \u001b[0mint\u001b[0m\u001b[0;34m(\u001b[0m\u001b[0mlayers\u001b[0m\u001b[0;34m[\u001b[0m\u001b[0mi\u001b[0m\u001b[0;34m]\u001b[0m\u001b[0;34m)\u001b[0m \u001b[0;34m+\u001b[0m \u001b[0;36m1\u001b[0m\u001b[0;34m\u001b[0m\u001b[0m\n\u001b[1;32m      5\u001b[0m     \u001b[0mend_mid\u001b[0m \u001b[0;34m=\u001b[0m \u001b[0mstart_mid\u001b[0m \u001b[0;34m+\u001b[0m \u001b[0mint\u001b[0m\u001b[0;34m(\u001b[0m\u001b[0mlayers\u001b[0m\u001b[0;34m[\u001b[0m\u001b[0mi\u001b[0m\u001b[0;34m]\u001b[0m\u001b[0;34m)\u001b[0m\u001b[0;34m\u001b[0m\u001b[0m\n\u001b[0;32m----> 6\u001b[0;31m     \u001b[0mdepths\u001b[0m\u001b[0;34m[\u001b[0m\u001b[0;36m0\u001b[0m\u001b[0;34m:\u001b[0m\u001b[0mlayers\u001b[0m\u001b[0;34m[\u001b[0m\u001b[0mi\u001b[0m\u001b[0;34m]\u001b[0m\u001b[0;34m+\u001b[0m\u001b[0;36m1\u001b[0m\u001b[0;34m,\u001b[0m \u001b[0mi\u001b[0m\u001b[0;34m]\u001b[0m \u001b[0;34m=\u001b[0m \u001b[0;34m-\u001b[0m\u001b[0mds\u001b[0m\u001b[0;34m[\u001b[0m\u001b[0;34m'iLayerHeight'\u001b[0m\u001b[0;34m]\u001b[0m\u001b[0;34m[\u001b[0m\u001b[0mstart_ifc\u001b[0m\u001b[0;34m:\u001b[0m\u001b[0mend_ifc\u001b[0m\u001b[0;34m]\u001b[0m\u001b[0;34m\u001b[0m\u001b[0m\n\u001b[0m\u001b[1;32m      7\u001b[0m     \u001b[0mvals\u001b[0m\u001b[0;34m[\u001b[0m\u001b[0;36m0\u001b[0m\u001b[0;34m:\u001b[0m\u001b[0mlayers\u001b[0m\u001b[0;34m[\u001b[0m\u001b[0mi\u001b[0m\u001b[0;34m]\u001b[0m\u001b[0;34m,\u001b[0m \u001b[0mi\u001b[0m\u001b[0;34m]\u001b[0m \u001b[0;34m=\u001b[0m \u001b[0mds\u001b[0m\u001b[0;34m[\u001b[0m\u001b[0mvar\u001b[0m\u001b[0;34m]\u001b[0m\u001b[0;34m[\u001b[0m\u001b[0mstart_mid\u001b[0m\u001b[0;34m:\u001b[0m\u001b[0mend_mid\u001b[0m\u001b[0;34m]\u001b[0m\u001b[0;34m\u001b[0m\u001b[0m\n",
      "\u001b[0;31mValueError\u001b[0m: could not broadcast input array from shape (0,14) into shape (9)"
     ]
    }
   ],
   "source": [
    "for i in range(len(ds['time'].values)):\n",
    "    start_ifc = int(ifcStartIdx[i]) - 1\n",
    "    start_mid = int(midStartIdx[i]) - 1\n",
    "    end_ifc = start_ifc + int(layers[i]) + 1\n",
    "    end_mid = start_mid + int(layers[i])\n",
    "    depths[0:layers[i]+1, i] = -ds['iLayerHeight'][start_ifc:end_ifc]\n",
    "    vals[0:layers[i], i] = ds[var][start_mid:end_mid]"
   ]
  },
  {
   "cell_type": "code",
   "execution_count": 55,
   "metadata": {},
   "outputs": [
    {
     "data": {
      "text/plain": [
       "1201"
      ]
     },
     "execution_count": 55,
     "metadata": {},
     "output_type": "execute_result"
    }
   ],
   "source": [
    "len(ds['time'].values)"
   ]
  },
  {
   "cell_type": "code",
   "execution_count": 53,
   "metadata": {},
   "outputs": [
    {
     "data": {
      "text/plain": [
       "-1"
      ]
     },
     "execution_count": 53,
     "metadata": {},
     "output_type": "execute_result"
    }
   ],
   "source": [
    "start_ifc = int(ifcStartIdx[i]) - 1\n",
    "start_ifc"
   ]
  },
  {
   "cell_type": "code",
   "execution_count": 54,
   "metadata": {},
   "outputs": [
    {
     "data": {
      "text/plain": [
       "-1"
      ]
     },
     "execution_count": 54,
     "metadata": {},
     "output_type": "execute_result"
    }
   ],
   "source": [
    "start_mid = int(midStartIdx[i]) - 1\n",
    "start_mid"
   ]
  },
  {
   "cell_type": "code",
   "execution_count": 57,
   "metadata": {},
   "outputs": [
    {
     "data": {
      "text/plain": [
       "8"
      ]
     },
     "execution_count": 57,
     "metadata": {},
     "output_type": "execute_result"
    }
   ],
   "source": [
    "end_ifc = start_ifc + int(layers[i]) + 1\n",
    "end_ifc"
   ]
  },
  {
   "cell_type": "code",
   "execution_count": 59,
   "metadata": {},
   "outputs": [
    {
     "data": {
      "text/plain": [
       "7"
      ]
     },
     "execution_count": 59,
     "metadata": {},
     "output_type": "execute_result"
    }
   ],
   "source": [
    "end_mid = start_mid + int(layers[i])\n",
    "end_mid    "
   ]
  },
  {
   "cell_type": "code",
   "execution_count": 60,
   "metadata": {},
   "outputs": [
    {
     "data": {
      "text/plain": [
       "8"
      ]
     },
     "execution_count": 60,
     "metadata": {},
     "output_type": "execute_result"
    }
   ],
   "source": [
    "int(layers[i])"
   ]
  },
  {
   "cell_type": "code",
   "execution_count": 51,
   "metadata": {
    "scrolled": true
   },
   "outputs": [
    {
     "data": {
      "text/plain": [
       "array([nan, nan, nan, nan, nan, nan, nan, nan, nan])"
      ]
     },
     "execution_count": 51,
     "metadata": {},
     "output_type": "execute_result"
    }
   ],
   "source": [
    "depths[0:layers[i]+1, i]"
   ]
  },
  {
   "cell_type": "code",
   "execution_count": 49,
   "metadata": {},
   "outputs": [
    {
     "data": {
      "text/plain": [
       "<xarray.DataArray 'iLayerHeight' (time: 1201, ifcToto: 14)>\n",
       "array([[ 0.000e+00, -2.500e-02, -1.000e-01, ...,  9.999e+03,  9.999e+03,\n",
       "         9.999e+03],\n",
       "       [ 0.000e+00, -2.500e-02, -1.000e-01, ...,  9.999e+03,  9.999e+03,\n",
       "         9.999e+03],\n",
       "       [ 0.000e+00, -2.500e-02, -1.000e-01, ...,  9.999e+03,  9.999e+03,\n",
       "         9.999e+03],\n",
       "       ...,\n",
       "       [ 0.000e+00, -2.500e-02, -1.000e-01, ...,  9.999e+03,  9.999e+03,\n",
       "         9.999e+03],\n",
       "       [ 0.000e+00, -2.500e-02, -1.000e-01, ...,  9.999e+03,  9.999e+03,\n",
       "         9.999e+03],\n",
       "       [ 0.000e+00, -2.500e-02, -1.000e-01, ...,  9.999e+03,  9.999e+03,\n",
       "         9.999e+03]])\n",
       "Coordinates:\n",
       "  * time     (time) datetime64[ns] 2007-07-01 2007-07-01T00:59:59.999986624 ...\n",
       "    hru      int32 1\n",
       "Dimensions without coordinates: ifcToto"
      ]
     },
     "execution_count": 49,
     "metadata": {},
     "output_type": "execute_result"
    }
   ],
   "source": [
    "-ds['iLayerHeight']"
   ]
  },
  {
   "cell_type": "code",
   "execution_count": null,
   "metadata": {},
   "outputs": [],
   "source": []
  },
  {
   "cell_type": "code",
   "execution_count": null,
   "metadata": {},
   "outputs": [],
   "source": [
    "ds['mLayerTemp']."
   ]
  },
  {
   "cell_type": "code",
   "execution_count": null,
   "metadata": {},
   "outputs": [],
   "source": [
    "ds['midToto'].values"
   ]
  },
  {
   "cell_type": "code",
   "execution_count": null,
   "metadata": {},
   "outputs": [],
   "source": []
  },
  {
   "cell_type": "code",
   "execution_count": null,
   "metadata": {},
   "outputs": [],
   "source": []
  },
  {
   "cell_type": "code",
   "execution_count": null,
   "metadata": {},
   "outputs": [],
   "source": []
  },
  {
   "cell_type": "code",
   "execution_count": null,
   "metadata": {},
   "outputs": [],
   "source": [
    "ds['time'].isel(time=slice(0,4))"
   ]
  },
  {
   "cell_type": "code",
   "execution_count": null,
   "metadata": {},
   "outputs": [],
   "source": []
  }
 ],
 "metadata": {
  "kernelspec": {
   "display_name": "Python 3",
   "language": "python",
   "name": "python3"
  },
  "language_info": {
   "codemirror_mode": {
    "name": "ipython",
    "version": 3
   },
   "file_extension": ".py",
   "mimetype": "text/x-python",
   "name": "python",
   "nbconvert_exporter": "python",
   "pygments_lexer": "ipython3",
   "version": "3.6.3"
  }
 },
 "nbformat": 4,
 "nbformat_minor": 2
}
