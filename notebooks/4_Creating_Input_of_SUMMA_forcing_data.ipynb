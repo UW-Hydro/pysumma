{
 "cells": [
  {
   "cell_type": "markdown",
   "metadata": {},
   "source": [
    "## 4. Creating forcing data netCDF"
   ]
  },
  {
   "cell_type": "code",
   "execution_count": 36,
   "metadata": {},
   "outputs": [],
   "source": [
    "from netCDF4 import Dataset, default_fillvals\n",
    "import numpy as np"
   ]
  },
  {
   "cell_type": "code",
   "execution_count": 37,
   "metadata": {},
   "outputs": [],
   "source": [
    "# Create a netCDF file\n",
    "forcing_data = Dataset(\"forcing_above_aspen.nc\", \"w\", format=\"NETCDF3_CLASSIC\")\n",
    "# Create attributes in a netCDF file\n",
    "forcing_data.dataset_orig_path = \"/d2/anewman/summa/summaTestCases/testCases_data/inputData/fieldData/reynolds\"\n",
    "forcing_data.history = \"Tue Sep 27 21:53:08 2016: ncrename -d nHRU,hru ./inputData/fieldData/reynolds/forcing_above_aspen.nc\"\n",
    "forcing_data.NCO = \"4.6.0\""
   ]
  },
  {
   "cell_type": "code",
   "execution_count": 38,
   "metadata": {},
   "outputs": [],
   "source": [
    "# Create Dimension in a netCDF file\n",
    "hru = forcing_data.createDimension(\"hru\", 1)\n",
    "time = forcing_data.createDimension(\"time\", None)"
   ]
  },
  {
   "cell_type": "code",
   "execution_count": 39,
   "metadata": {
    "scrolled": true
   },
   "outputs": [
    {
     "data": {
      "text/plain": [
       "<class 'netCDF4._netCDF4.Dataset'>\n",
       "root group (NETCDF3_CLASSIC data model, file format NETCDF3):\n",
       "    dataset_orig_path: /d2/anewman/summa/summaTestCases/testCases_data/inputData/fieldData/reynolds\n",
       "    history: Tue Sep 27 21:53:08 2016: ncrename -d nHRU,hru ./inputData/fieldData/reynolds/forcing_above_aspen.nc\n",
       "    NCO: 4.6.0\n",
       "    dimensions(sizes): hru(1), time(0)\n",
       "    variables(dimensions): \n",
       "    groups: "
      ]
     },
     "execution_count": 39,
     "metadata": {},
     "output_type": "execute_result"
    }
   ],
   "source": [
    "forcing_data"
   ]
  },
  {
   "cell_type": "markdown",
   "metadata": {},
   "source": [
    "### Create variables in a netCDF file  for figure07 in wrrPaperTestCases (Clark et al., 2015b)"
   ]
  },
  {
   "cell_type": "code",
   "execution_count": 40,
   "metadata": {
    "scrolled": true
   },
   "outputs": [],
   "source": [
    "hruId = forcing_data.createVariable(\"hruId\", \"i4\", (\"hru\",))\n",
    "hruId[:] = '1001'"
   ]
  },
  {
   "cell_type": "code",
   "execution_count": 41,
   "metadata": {},
   "outputs": [],
   "source": [
    "latitude = forcing_data.createVariable(\"latitude\", \"f8\", (\"hru\",))\n",
    "latitude[:] = '43.2'"
   ]
  },
  {
   "cell_type": "code",
   "execution_count": 42,
   "metadata": {},
   "outputs": [],
   "source": [
    "longitude = forcing_data.createVariable(\"longitude\", \"f8\", (\"hru\",))\n",
    "longitude[:] = '243.2'"
   ]
  },
  {
   "cell_type": "code",
   "execution_count": 43,
   "metadata": {
    "scrolled": true
   },
   "outputs": [],
   "source": [
    "data_step = forcing_data.createVariable(\"data_step\", \"f8\", )\n",
    "data_step.units = 'seconds'\n",
    "data_step.long_name = \"data step length in seconds\"\n",
    "data_step[:] = '3600.0'"
   ]
  },
  {
   "cell_type": "code",
   "execution_count": 44,
   "metadata": {},
   "outputs": [],
   "source": [
    "import pandas as pd \n",
    "filename = '/media/sf_pysumma/input/Forcing_data/forcing2.csv'\n",
    "myFile = pd.read_csv(filename, sep=',')"
   ]
  },
  {
   "cell_type": "code",
   "execution_count": 45,
   "metadata": {},
   "outputs": [],
   "source": [
    "time = forcing_data.createVariable(\"time\", \"f8\", (\"time\"))\n",
    "time.units = 'days since 1990-01-01 00:00:00'\n",
    "time.long_name = \"Observation time\"\n",
    "time.calendar = \"standard\"\n",
    "time[:] = np.arange(87672)\n",
    "time[:] = myFile[['time2']].values"
   ]
  },
  {
   "cell_type": "code",
   "execution_count": 46,
   "metadata": {},
   "outputs": [],
   "source": [
    "LWRadAtm = forcing_data.createVariable(\"LWRadAtm\", \"f8\", (\"time\", \"hru\",), fill_value=-999.0)\n",
    "LWRadAtm.units = 'W m-2'\n",
    "LWRadAtm.long_name = \"downward longwave radiation at the upper boundary\"\n",
    "LWRadAtm.v_type = 'scalarv'\n",
    "LWRadAtm[:] = myFile[['LWRadAtm']].values"
   ]
  },
  {
   "cell_type": "code",
   "execution_count": 47,
   "metadata": {},
   "outputs": [],
   "source": [
    "SWRadAtm = forcing_data.createVariable(\"SWRadAtm\", \"f8\", (\"time\", \"hru\",), fill_value=-999.0)\n",
    "SWRadAtm.units = 'W m-2'\n",
    "SWRadAtm.long_name = \"downward shortwave radiation at the upper boundary\"\n",
    "SWRadAtm.v_type = 'scalarv'\n",
    "SWRadAtm[:] = myFile[['SWRadAtm']].values"
   ]
  },
  {
   "cell_type": "code",
   "execution_count": 48,
   "metadata": {},
   "outputs": [],
   "source": [
    "airpres = forcing_data.createVariable(\"airpres\", \"f8\", (\"time\", \"hru\",), fill_value=-999.0)\n",
    "airpres.units = 'Pa'\n",
    "airpres.long_name = \"air pressure at the measurement height\"\n",
    "airpres.v_type = 'scalarv'\n",
    "airpres[:] = myFile[['airpres']].values"
   ]
  },
  {
   "cell_type": "code",
   "execution_count": 49,
   "metadata": {},
   "outputs": [],
   "source": [
    "airtemp = forcing_data.createVariable(\"airtemp\", \"f8\", (\"time\", \"hru\",), fill_value=-999.0)\n",
    "airtemp.units = 'K'\n",
    "airtemp.long_name = \"air temperature at the measurement height\"\n",
    "airtemp.v_type = 'scalarv'\n",
    "airtemp[:] = myFile[['airtemp']].values"
   ]
  },
  {
   "cell_type": "code",
   "execution_count": 50,
   "metadata": {},
   "outputs": [],
   "source": [
    "pptrate = forcing_data.createVariable(\"pptrate\", \"f8\", (\"time\", \"hru\",), fill_value=-999.0)\n",
    "pptrate.units = 'kg m-2 s-1'\n",
    "pptrate.long_name = \"Precipitation rate\"\n",
    "pptrate.v_type = 'scalarv'\n",
    "pptrate[:] = myFile[['pptrate']].values"
   ]
  },
  {
   "cell_type": "code",
   "execution_count": 51,
   "metadata": {},
   "outputs": [],
   "source": [
    "spechum = forcing_data.createVariable(\"spechum\", \"f8\", (\"time\", \"hru\",), fill_value=-999.0)\n",
    "spechum.units = 'g g-1'\n",
    "spechum.long_name = \"specific humidity at the measurement heigh\"\n",
    "spechum.v_type = 'scalarv'\n",
    "spechum[:] = myFile[['spechum']].values"
   ]
  },
  {
   "cell_type": "code",
   "execution_count": 52,
   "metadata": {},
   "outputs": [],
   "source": [
    "windspd = forcing_data.createVariable(\"windspd\", \"f8\", (\"time\", \"hru\",), fill_value=-999.0)\n",
    "windspd.units = 'm s-1'\n",
    "windspd.long_name = \"wind speed at the measurement height\"\n",
    "windspd.v_type = 'scalarv'\n",
    "windspd[:] = myFile[['windspd']].values"
   ]
  },
  {
   "cell_type": "code",
   "execution_count": 53,
   "metadata": {
    "scrolled": true
   },
   "outputs": [
    {
     "data": {
      "text/plain": [
       "OrderedDict([('hruId', <class 'netCDF4._netCDF4.Variable'>\n",
       "              int32 hruId(hru)\n",
       "              unlimited dimensions: \n",
       "              current shape = (1,)\n",
       "              filling off), ('latitude', <class 'netCDF4._netCDF4.Variable'>\n",
       "              float64 latitude(hru)\n",
       "              unlimited dimensions: \n",
       "              current shape = (1,)\n",
       "              filling off), ('longitude', <class 'netCDF4._netCDF4.Variable'>\n",
       "              float64 longitude(hru)\n",
       "              unlimited dimensions: \n",
       "              current shape = (1,)\n",
       "              filling off), ('data_step', <class 'netCDF4._netCDF4.Variable'>\n",
       "              float64 data_step()\n",
       "                  units: seconds\n",
       "                  long_name: data step length in seconds\n",
       "              unlimited dimensions: \n",
       "              current shape = ()\n",
       "              filling off), ('time', <class 'netCDF4._netCDF4.Variable'>\n",
       "              float64 time(time)\n",
       "                  units: days since 1990-01-01 00:00:00\n",
       "                  long_name: Observation time\n",
       "                  calendar: standard\n",
       "              unlimited dimensions: time\n",
       "              current shape = (87672,)\n",
       "              filling off), ('LWRadAtm', <class 'netCDF4._netCDF4.Variable'>\n",
       "              float64 LWRadAtm(time, hru)\n",
       "                  _FillValue: -999.0\n",
       "                  units: W m-2\n",
       "                  long_name: downward longwave radiation at the upper boundary\n",
       "                  v_type: scalarv\n",
       "              unlimited dimensions: time\n",
       "              current shape = (87672, 1)\n",
       "              filling off), ('SWRadAtm', <class 'netCDF4._netCDF4.Variable'>\n",
       "              float64 SWRadAtm(time, hru)\n",
       "                  _FillValue: -999.0\n",
       "                  units: W m-2\n",
       "                  long_name: downward shortwave radiation at the upper boundary\n",
       "                  v_type: scalarv\n",
       "              unlimited dimensions: time\n",
       "              current shape = (87672, 1)\n",
       "              filling off), ('airpres', <class 'netCDF4._netCDF4.Variable'>\n",
       "              float64 airpres(time, hru)\n",
       "                  _FillValue: -999.0\n",
       "                  units: Pa\n",
       "                  long_name: air pressure at the measurement height\n",
       "                  v_type: scalarv\n",
       "              unlimited dimensions: time\n",
       "              current shape = (87672, 1)\n",
       "              filling off), ('airtemp', <class 'netCDF4._netCDF4.Variable'>\n",
       "              float64 airtemp(time, hru)\n",
       "                  _FillValue: -999.0\n",
       "                  units: K\n",
       "                  long_name: air temperature at the measurement height\n",
       "                  v_type: scalarv\n",
       "              unlimited dimensions: time\n",
       "              current shape = (87672, 1)\n",
       "              filling off), ('pptrate', <class 'netCDF4._netCDF4.Variable'>\n",
       "              float64 pptrate(time, hru)\n",
       "                  _FillValue: -999.0\n",
       "                  units: kg m-2 s-1\n",
       "                  long_name: Precipitation rate\n",
       "                  v_type: scalarv\n",
       "              unlimited dimensions: time\n",
       "              current shape = (87672, 1)\n",
       "              filling off), ('spechum', <class 'netCDF4._netCDF4.Variable'>\n",
       "              float64 spechum(time, hru)\n",
       "                  _FillValue: -999.0\n",
       "                  units: g g-1\n",
       "                  long_name: specific humidity at the measurement heigh\n",
       "                  v_type: scalarv\n",
       "              unlimited dimensions: time\n",
       "              current shape = (87672, 1)\n",
       "              filling off), ('windspd', <class 'netCDF4._netCDF4.Variable'>\n",
       "              float64 windspd(time, hru)\n",
       "                  _FillValue: -999.0\n",
       "                  units: m s-1\n",
       "                  long_name: wind speed at the measurement height\n",
       "                  v_type: scalarv\n",
       "              unlimited dimensions: time\n",
       "              current shape = (87672, 1)\n",
       "              filling off)])"
      ]
     },
     "execution_count": 53,
     "metadata": {},
     "output_type": "execute_result"
    }
   ],
   "source": [
    "# Check variables in a netCDF file\n",
    "forcing_data.variables"
   ]
  },
  {
   "cell_type": "code",
   "execution_count": 54,
   "metadata": {},
   "outputs": [
    {
     "data": {
      "text/plain": [
       "OrderedDict([('hru',\n",
       "              <class 'netCDF4._netCDF4.Dimension'>: name = 'hru', size = 1),\n",
       "             ('time',\n",
       "              <class 'netCDF4._netCDF4.Dimension'> (unlimited): name = 'time', size = 87672)])"
      ]
     },
     "execution_count": 54,
     "metadata": {},
     "output_type": "execute_result"
    }
   ],
   "source": [
    "# Check Dimension in a netCDF file\n",
    "forcing_data.dimensions"
   ]
  },
  {
   "cell_type": "code",
   "execution_count": 55,
   "metadata": {
    "scrolled": true
   },
   "outputs": [
    {
     "data": {
      "text/plain": [
       "<class 'netCDF4._netCDF4.Dataset'>\n",
       "root group (NETCDF3_CLASSIC data model, file format NETCDF3):\n",
       "    dataset_orig_path: /d2/anewman/summa/summaTestCases/testCases_data/inputData/fieldData/reynolds\n",
       "    history: Tue Sep 27 21:53:08 2016: ncrename -d nHRU,hru ./inputData/fieldData/reynolds/forcing_above_aspen.nc\n",
       "    NCO: 4.6.0\n",
       "    dimensions(sizes): hru(1), time(87672)\n",
       "    variables(dimensions): int32 \u001b[4mhruId\u001b[0m(hr), float64 \u001b[4mlatitude\u001b[0m(hr), float64 \u001b[4mlongitude\u001b[0m(hr), float64 \u001b[4mdata_step\u001b[0m(), float64 \u001b[4mtime\u001b[0m(time), float64 \u001b[4mLWRadAtm\u001b[0m(time,hr), float64 \u001b[4mSWRadAtm\u001b[0m(time,hr), float64 \u001b[4mairpres\u001b[0m(time,hr), float64 \u001b[4mairtemp\u001b[0m(time,hr), float64 \u001b[4mpptrate\u001b[0m(time,hr), float64 \u001b[4mspechum\u001b[0m(time,hr), float64 \u001b[4mwindspd\u001b[0m(time,hr)\n",
       "    groups: "
      ]
     },
     "execution_count": 55,
     "metadata": {},
     "output_type": "execute_result"
    }
   ],
   "source": [
    "# Check a netCDF file\n",
    "forcing_data"
   ]
  },
  {
   "cell_type": "code",
   "execution_count": 56,
   "metadata": {},
   "outputs": [],
   "source": [
    "# close a netCDF file\n",
    "forcing_data.close()"
   ]
  }
 ],
 "metadata": {
  "kernelspec": {
   "display_name": "Python 3",
   "language": "python",
   "name": "python3"
  },
  "language_info": {
   "codemirror_mode": {
    "name": "ipython",
    "version": 3
   },
   "file_extension": ".py",
   "mimetype": "text/x-python",
   "name": "python",
   "nbconvert_exporter": "python",
   "pygments_lexer": "ipython3",
   "version": "3.6.3"
  }
 },
 "nbformat": 4,
 "nbformat_minor": 2
}
