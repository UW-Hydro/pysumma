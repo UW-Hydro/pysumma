{
 "cells": [
  {
   "cell_type": "markdown",
   "metadata": {},
   "source": [
    "##  Modeling the Impact of Lateral Flow Parameterizations on Total Evapotranspiration in the Reynolds Mountain East catchment using pySUMMA"
   ]
  },
  {
   "cell_type": "markdown",
   "metadata": {},
   "source": [
    "## 1. Introduction"
   ]
  },
  {
   "cell_type": "markdown",
   "metadata": {},
   "source": [
    "One part of the Clark et al. (2015) study explored the impact of the lateral flux of liquid water on total evapotranspiration (ET) using a SUMMA model for the Reynolds Mountain East catchment. This study looked at the sensitivity of the different model representation of the lateral flux of liquid water, which determines the availability of soil water.\n",
    "\n",
    "In this Jupyter Notebook, the pySUMMA library is used to reproduce this analysis. First, the latertal flux from the soil profile are described. Next, the Methods section describes how the pySUMMA can be used to create three different lateral model representation of the Reynolds Mountain East catchment model, 1d Richards', lumped topmodel, and distributed topmodel. The Results section shows how to use pySUMMA and the Pandas library to reproduce Figure 8(right) from Clark et al. (2015).\n",
    "\n",
    "Collectively, this Jupyter Notebook serves as an example of how hydrologic modeling can be conducted directly within a Jupyter Notebook by leveraging the pySUMMA library. \n",
    "\n",
    " |                    Method                   | 1dRichards' |   Lumped Topmodel |   Distributed Topmodel |\n",
    " |---------------------------------------------|-------------|-------------------|------------------------|\n",
    " |         groundwater parameterization        | noXplict    | qTopmodl          | qTopmodl               |\n",
    " |       hydraulic conductivity profile        | constant    | pow_prof          | pow_prof               |\n",
    " |lower boundary condition for soil hydrology  | drainage    | zeroFlux          | zeroFlux               |\n",
    " |thermal conductivity representation for soil | mixConstit  | funcSoilWet       | funcSoilWet            |"
   ]
  },
  {
   "cell_type": "markdown",
   "metadata": {},
   "source": [
    "## 2. Background"
   ]
  },
  {
   "cell_type": "markdown",
   "metadata": {},
   "source": [
    "### The Transpiration from soil layers available in SUMMA"
   ]
  },
  {
   "cell_type": "code",
   "execution_count": 159,
   "metadata": {},
   "outputs": [],
   "source": [
    "#import libraries to display equations within the notebook\n",
    "from IPython.display import display, Math, Latex"
   ]
  },
  {
   "cell_type": "markdown",
   "metadata": {},
   "source": [
    "### Latertal flux from the soil profile"
   ]
  },
  {
   "cell_type": "markdown",
   "metadata": {},
   "source": [
    "The soil columns can be hydrologically connected, such that the lateral flux from upslope soil columns is the inflow to downslope soil columns, or hydrologically-disconnected (using one or many soil columns), in which case the lateral flux of water from soil columns is assumed to flow directly into the river network."
   ]
  },
  {
   "cell_type": "markdown",
   "metadata": {},
   "source": [
    "The continuity equation for sub-surface storage (i.e., below the water table) can be written for a given model element as [Wigmosta et al., 1994]\n",
    "\n",
    "\\begin{equation*}\n",
    "Q_{dr} = \\frac{dz_{wt}}{dt} = \\frac{Q_{out}-Q_{in}}{A} - q_{rchg}\n",
    "\\end{equation*}\n",
    "\n",
    "$Q_{dr} = (\\theta_{sat}^{soil} - \\theta_{fc}^{soil}) $ : “drainable” porosity, $\\theta_{fc}^{soil}$ : the field capacity of soil, $z_{wt}$ $(m)$ : the depth to the water table\n",
    "\n",
    "$Q_{out}$ and $Q_{in}$ $(m^{3}/s)$: the lateral inflow and outflow, $q_{rchg}$ $(m/s)$ : the vertical recharge rate, $A$ $(m^2)$ : the element area"
   ]
  },
  {
   "cell_type": "markdown",
   "metadata": {},
   "source": [
    "#### Storage-based implementation to represent lateral flow between soil columns"
   ]
  },
  {
   "cell_type": "markdown",
   "metadata": {},
   "source": [
    "The “drainable” water storage and the maximum drainable water storage can be given as\n",
    "\\begin{equation*}\n",
    "W_{dr}^{soil} = \\int_{z_{crit}}^{z_{soil}}\\ [\\theta_{liq}^{soil} (z) - \\theta_{fc}^{soil} ] \\mathrm{d}z, \\          W_{dr,max}^{soil} = \\phi_{dr}z_{soil}\n",
    "\\end{equation*}\n",
    "\n",
    "$\\theta_{liq}^{soil} (z)$ : the volumetric liquid water content at soil depth z, $z_{crit}$ : the lowest point in the soil profile where $\\theta_{liq}^{soil}$ < $\\theta_{fc}^{soil}$"
   ]
  },
  {
   "cell_type": "markdown",
   "metadata": {},
   "source": [
    "#### The total lateral outflow"
   ]
  },
  {
   "cell_type": "markdown",
   "metadata": {},
   "source": [
    "\\begin{equation*}\n",
    "Q_{out} = x_{len}tan(\\beta) \\frac{K_{sat}^{0} W_{dr,max}^{soil}}{\\phi_{dr}n_{sf}}[\\frac{W_{dr}^{soil}}{W_{dr,max}^{soil}}]^{n_{sf}}\n",
    "\\end{equation*}\n",
    "\n",
    "$\\beta$ : the gradient in the land surface, used to approximate the water table gradient"
   ]
  },
  {
   "cell_type": "markdown",
   "metadata": {},
   "source": [
    "#### The total lateral flux"
   ]
  },
  {
   "cell_type": "markdown",
   "metadata": {},
   "source": [
    "\\begin{equation*}\n",
    "q_{base}^{soil} =  \\frac{Q_{out}-Q_{in}}{A}\n",
    "\\end{equation*}\n",
    "\n",
    "The total lateral flux $q_{base}^{soil}$ can then be apportioned to individual soil layers, obtained after spatial discretization described in Clark et al. [2015b], to provide the lateral flow sink term"
   ]
  },
  {
   "cell_type": "markdown",
   "metadata": {},
   "source": [
    "\\begin{equation*}\n",
    "(S_{lf})_{j} = (w_{tv})_{j}   q_{base}^{soil}\n",
    "\\end{equation*}\n",
    "\n",
    "$(w_{tv})_{j}$ : the ratio of the transmissivity of the $j$-th layer to the total transmissivity"
   ]
  },
  {
   "cell_type": "markdown",
   "metadata": {},
   "source": [
    "The above descriptions are taken from the lateral flux from the soil profile section(3.2.3.5) within the manual Structure for Unifying Multiple Modeling Alternatives (SUMMA), Version 1.0: Technical Description (April, 2015)."
   ]
  },
  {
   "cell_type": "markdown",
   "metadata": {},
   "source": [
    "## 3. Methods"
   ]
  },
  {
   "cell_type": "markdown",
   "metadata": {},
   "source": [
    "### 1) Study Area"
   ]
  },
  {
   "cell_type": "markdown",
   "metadata": {},
   "source": [
    "#### The Reynolds Mountain East catchment is located in southwestern Idaho as shown in the figure below."
   ]
  },
  {
   "cell_type": "code",
   "execution_count": 1,
   "metadata": {},
   "outputs": [],
   "source": [
    "from ipyleaflet import Map, GeoJSON\n",
    "import json"
   ]
  },
  {
   "cell_type": "code",
   "execution_count": 2,
   "metadata": {},
   "outputs": [
    {
     "data": {
      "application/vnd.jupyter.widget-view+json": {
       "model_id": "eb1692daa92043dda4de5a4644b8b527",
       "version_major": 2,
       "version_minor": 0
      },
      "text/html": [
       "<p>Failed to display Jupyter Widget of type <code>Map</code>.</p>\n",
       "<p>\n",
       "  If you're reading this message in the Jupyter Notebook or JupyterLab Notebook, it may mean\n",
       "  that the widgets JavaScript is still loading. If this message persists, it\n",
       "  likely means that the widgets JavaScript library is either not installed or\n",
       "  not enabled. See the <a href=\"https://ipywidgets.readthedocs.io/en/stable/user_install.html\">Jupyter\n",
       "  Widgets Documentation</a> for setup instructions.\n",
       "</p>\n",
       "<p>\n",
       "  If you're reading this message in another frontend (for example, a static\n",
       "  rendering on GitHub or <a href=\"https://nbviewer.jupyter.org/\">NBViewer</a>),\n",
       "  it may mean that your frontend doesn't currently support widgets.\n",
       "</p>\n"
      ],
      "text/plain": [
       "Map(basemap={'url': 'https://{s}.tile.openstreetmap.org/{z}/{x}/{y}.png', 'max_zoom': 19, 'attribution': 'Map data (c) <a href=\"https://openstreetmap.org\">OpenStreetMap</a> contributors'}, center=[43.06745, -116.75489], layers=(TileLayer(base=True, max_zoom=19, min_zoom=1, options=['attribution', 'detect_retina', 'max_zoom', 'min_zoom', 'tile_size']), GeoJSON(data={'type': 'FeatureCollection', 'name': 'reynolds_geojson_latlon', 'crs': {'type': 'name', 'properties': {'name': 'urn:ogc:def:crs:OGC:1.3:CRS84'}}, 'features': [{'type': 'Feature', 'properties': {'OBJECTID': 1, 'RCEW_REGIO': 376208.194027, 'PERIMETER': 3340.0, 'RMEAST_MAS': 2, 'RMEAST_M_1': 2, 'GRID_CODE': 1}, 'geometry': {'type': 'Polygon', 'coordinates': [[[-116.7557156288284, 43.07072983625339], [-116.75559279969227, 43.07072957489522], [-116.75559315872648, 43.07063952502811], [-116.75547032977175, 43.07063926353894], [-116.75534750204696, 43.07063900192053], [-116.75522467432737, 43.07063873926983], [-116.7551018453776, 43.07063847738518], [-116.75510220512943, 43.0705484275199], [-116.75497937636112, 43.07054816550426], [-116.75497973629112, 43.070458115638395], [-116.75485690770425, 43.07045785349174], [-116.7547340803473, 43.07045759121584], [-116.754611252992, 43.070457328808125], [-116.75448842441011, 43.07045706626597], [-116.75436559706174, 43.070456802694125], [-116.75424276848315, 43.07045653988829], [-116.75424312949033, 43.070366490025975], [-116.75412030232148, 43.070366227091775], [-116.75399747392602, 43.0703659640231], [-116.75399783529119, 43.07027591416101], [-116.75387500707716, 43.07027565096134], [-116.7537521800931, 43.07027538763253], [-116.75362935188241, 43.07027512416918], [-116.75362971378532, 43.07018507430818], [-116.75363007445833, 43.07009502444305], [-116.75363043635795, 43.07000497457918], [-116.75363079702761, 43.06991492471125], [-116.75375362451547, 43.06991518907176], [-116.75375398500368, 43.06982513920156], [-116.75375434671845, 43.06973508933261], [-116.75375470720336, 43.06964503945952], [-116.75363188147955, 43.06964477600465], [-116.7536322421426, 43.069554726130995], [-116.75350941660027, 43.06955446254514], [-116.75350977744145, 43.06946441267091], [-116.75338695208056, 43.06946414895402], [-116.75338731309988, 43.0693740990792], [-116.75326448792045, 43.06937383523132], [-116.75326485034614, 43.06928378535855], [-116.75314202411995, 43.06928352137701], [-116.75301919912368, 43.069283257266314], [-116.75301956067906, 43.06919320739113], [-116.753019923461, 43.06910315751716], [-116.75289709759774, 43.069102893273666], [-116.7527742729644, 43.06910262890097], [-116.75277463610426, 43.06901257902725], [-116.75265181042415, 43.069012314520926], [-116.75265217374212, 43.06892226464661], [-116.75252934824346, 43.06892200000929], [-116.75252971173958, 43.06883195013435], [-116.7525300740058, 43.0687419002554], [-116.75240725009662, 43.068741635490554], [-116.75240761254095, 43.06865158561097], [-116.75240797621186, 43.06856153573259], [-116.75240833865288, 43.06847148585014], [-116.7524087023168, 43.06838143686942], [-116.75228587790387, 43.06838117107297], [-116.75228624174592, 43.068291122091665], [-116.7522866043617, 43.068201072205795], [-116.75228696820399, 43.06811102232113], [-116.75228733081644, 43.06802097243243], [-116.75228769465541, 43.067930922544896], [-116.75228805726088, 43.067840873553784], [-116.75228842109648, 43.06775082366344], [-116.75216559794013, 43.06775055864152], [-116.75216596195388, 43.06766050875055], [-116.75204313897898, 43.06766024359765], [-116.75192031723756, 43.067659977415076], [-116.7517974954942, 43.067659712001166], [-116.75167467252432, 43.06765944645277], [-116.75167503725551, 43.06756939656374], [-116.75167540075684, 43.067479346670616], [-116.75167576548104, 43.067389297679235], [-116.75167612897903, 43.06729924778324], [-116.75155330795809, 43.067298982109065], [-116.75155367163417, 43.06720893221254], [-116.75155403653679, 43.06711888231719], [-116.7515544002095, 43.067028832417755], [-116.75155476510872, 43.06693878251961], [-116.75143194358047, 43.06693851671426], [-116.75143230865777, 43.06684846681553], [-116.75130948853915, 43.066848200881864], [-116.75130985256638, 43.06675815097988], [-116.75118703262919, 43.06675788491523], [-116.75118739683452, 43.06666783501263], [-116.75118776226276, 43.06657778601176], [-116.75106494146222, 43.066577518913846], [-116.75106530706852, 43.06648746991238], [-116.75094248644945, 43.0664872026835], [-116.75094285223385, 43.06639715368145], [-116.75082003179624, 43.066396886321584], [-116.75082039775869, 43.06630683731896], [-116.75069757873075, 43.066306569830786], [-116.75069794364312, 43.06621652082491], [-116.7505751247966, 43.066216253205766], [-116.75057548988707, 43.06612620419928], [-116.75045267122199, 43.06612593644918], [-116.75045303649055, 43.06603588744212], [-116.75033021800695, 43.06603561956104], [-116.75033058345359, 43.065945570553396], [-116.75020776515143, 43.06594530254135], [-116.75020813200432, 43.06585525353577], [-116.75020849763101, 43.06576520362563], [-116.75008567968639, 43.06576493638401], [-116.75008604549117, 43.06567488647322], [-116.75008641252242, 43.065584836563744], [-116.74996359371086, 43.06558456918925], [-116.7499639609202, 43.065494519279184], [-116.74996432689967, 43.065404469365035], [-116.74996469410563, 43.06531441945208], [-116.74996506007805, 43.06522437043556], [-116.74996542728063, 43.06513432051978], [-116.74984260936957, 43.06513405301767], [-116.74984297675023, 43.06504400310135], [-116.74972015902064, 43.06504373546833], [-116.74972052657935, 43.064953685551345], [-116.74959770903118, 43.06495341778737], [-116.74959807676798, 43.06486336786981], [-116.7495984432749, 43.06477331794819], [-116.74959881100831, 43.06468326802785], [-116.74959917750822, 43.064593219003854], [-116.74959954523823, 43.06450316908064], [-116.7495999117384, 43.06441311915332], [-116.74947709649865, 43.064412851265224], [-116.74947746317322, 43.064322802237804], [-116.7494778310779, 43.06423275231115], [-116.74947819775275, 43.06414270238042], [-116.74947856565407, 43.06405265245087], [-116.74947893232557, 43.06396260251726], [-116.7494793002198, 43.06387255348542], [-116.74947966688791, 43.06378250354897], [-116.74948003478247, 43.06369245361374], [-116.74948040144716, 43.063602403674444], [-116.74960321629733, 43.063602671557646], [-116.74960358278061, 43.06351262161607], [-116.7497263974527, 43.063512889366656], [-116.74972676375454, 43.06342283942277], [-116.74984957824856, 43.06342310704069], [-116.74984994436898, 43.0633330570946], [-116.74997275745312, 43.06333332547769], [-116.74997312462025, 43.063243275532], [-116.74997349055754, 43.06315322558218], [-116.75009630451568, 43.063153492933985], [-116.75009667027156, 43.06306344298194], [-116.75009703725017, 43.06297339393163], [-116.7502198496224, 43.062973661147254], [-116.75021948404797, 43.0630637111016], [-116.75034229660163, 43.06306397818628], [-116.75046510915699, 43.06306424513917], [-116.7505879229421, 43.06306451196297], [-116.7507107355008, 43.063064778652276], [-116.75071037064365, 43.063154828608525], [-116.75083318338379, 43.06315509516688], [-116.75095599612195, 43.06315536249392], [-116.75107881009352, 43.06315562879136], [-116.75107844454583, 43.06324567874606], [-116.75120125869884, 43.0632459449125], [-116.75120089332918, 43.0633359948666], [-116.75132370643553, 43.06333626089942], [-116.75144652077161, 43.06333652680314], [-116.75156933388126, 43.063336792572414], [-116.75169214821707, 43.063337059113024], [-116.75181496133007, 43.06333732461871], [-116.75181459685749, 43.063427374575525], [-116.75193741138003, 43.063427639952906], [-116.7519370470855, 43.06351768990914], [-116.75205986178948, 43.063517955155504], [-116.75218267526697, 43.06351822026746], [-116.75230548874612, 43.063518485247634], [-116.75242830345512, 43.063518750098616], [-116.75242793987789, 43.06360880005679], [-116.75255075476827, 43.063609064776806], [-116.75255039136916, 43.063699114734405], [-116.75255002919647, 43.06378916469316], [-116.75267284321987, 43.0637894292804], [-116.75267248122528, 43.06387947923862], [-116.75279529543008, 43.06387974369489], [-116.7529181096366, 43.06388000801938], [-116.75291774799982, 43.06397005797781], [-116.75304056238771, 43.063970322171336], [-116.75304020092902, 43.064060372129184], [-116.75316301549836, 43.06406063619173], [-116.75316265421776, 43.06415068614896], [-116.75328546896849, 43.06415095008055], [-116.75340828371729, 43.06415121478082], [-116.75353109969949, 43.064151478451464], [-116.75365391445517, 43.06415174198767], [-116.75377672921257, 43.06415200539203], [-116.7537763688291, 43.06424205535201], [-116.75389918376786, 43.06424231862541], [-116.75402199993643, 43.064242581769655], [-116.75414481487492, 43.06424284567996], [-116.75414445380449, 43.064332894737866], [-116.75426727015254, 43.06433315851984], [-116.7542669092602, 43.06442320757712], [-116.75438972578966, 43.06442347122812], [-116.75438936507541, 43.0645135202848], [-116.75451218178628, 43.06451378380481], [-116.75451182125012, 43.064603832860904], [-116.75463463814239, 43.064604096249944], [-116.75475745381179, 43.06460435860405], [-116.75488026948283, 43.06460462082635], [-116.75500308638364, 43.06460488291948], [-116.755125902058, 43.06460514487822], [-116.75512554364352, 43.0646951948401], [-116.75524835949925, 43.064695456667856], [-116.75524800003474, 43.064785506626514], [-116.75537081730003, 43.06478576832591], [-116.75537045801362, 43.06487581828398], [-116.75549327546031, 43.06487607985238], [-116.75561609167696, 43.06487634218685], [-116.75573890789877, 43.064876603489026], [-116.75586172535041, 43.064876864661976], [-116.75598454157557, 43.06487712570054], [-116.7561073590305, 43.0648773866099], [-116.75623017525533, 43.064877648285346], [-116.75623053205527, 43.06478759831891], [-116.7563533493337, 43.064787858963875], [-116.75647616538564, 43.0647881194744], [-116.75659898143923, 43.064788379853105], [-116.75672179871903, 43.06478864100313], [-116.75684461477589, 43.06478890111827], [-116.75696743206254, 43.06478916110423], [-116.75709024812267, 43.06478942095575], [-116.75721306418444, 43.06478968067548], [-116.7573358814724, 43.06478994116648], [-116.75745869753746, 43.064790200622575], [-116.75745834253512, 43.06488025059716], [-116.75758115878155, 43.064880509922304], [-116.75758080272914, 43.06497055989368], [-116.75770362038512, 43.06497081909044], [-116.7577032645109, 43.065060869061206], [-116.75770290986314, 43.065150919033215], [-116.7578257266521, 43.06515117809714], [-116.7578253721825, 43.06524122806852], [-116.75794818915284, 43.06524148700146], [-116.75794783486137, 43.06533153697223], [-116.75807065201312, 43.06533179577418], [-116.75819346916649, 43.06533205444438], [-116.75831628754968, 43.06533231298532], [-116.75831593256771, 43.06542236295451], [-116.75843875113226, 43.06542262136445], [-116.75856156847028, 43.065422879640025], [-116.7586843858064, 43.06542313868428], [-116.75880720437586, 43.065423396698854], [-116.75880685011127, 43.06551344666984], [-116.75892966886211, 43.06551370455339], [-116.75892931477571, 43.06560375452376], [-116.75905213370793, 43.065604012276324], [-116.75905177979965, 43.06569406224608], [-116.75905142712142, 43.06578411131649], [-116.75917424518313, 43.06578436983676], [-116.75917389268305, 43.065874418906574], [-116.75917353894965, 43.06596446887284], [-116.7591731864428, 43.0660545188403], [-116.75917283270616, 43.06614456880377], [-116.75917248019607, 43.06623461876834], [-116.75917212645969, 43.06632466782846], [-116.75917177394635, 43.066414717790195], [-116.75917142020317, 43.06650476774793], [-116.7590486006998, 43.06650451012168], [-116.75904824677524, 43.0665945600772], [-116.75892542709727, 43.06659430141782], [-116.75892507421948, 43.06668435137369], [-116.75892472011186, 43.06677440132552], [-116.75892436723082, 43.06686445127852], [-116.75892401312, 43.06695450122755], [-116.75892366023923, 43.067044550277224], [-116.75892330612511, 43.06713460022334], [-116.75880048536656, 43.067134342327776], [-116.75880013107104, 43.067224392271726], [-116.7587997780021, 43.06731444221678], [-116.75867695688913, 43.067314183287294], [-116.75867660241056, 43.06740423322755], [-116.75867624915857, 43.06749428316894], [-116.75855342645592, 43.067494025003924], [-116.7585530730225, 43.06758407494312], [-116.75855271836282, 43.0676741239778], [-116.75842989653042, 43.06767386568192], [-116.75842954291397, 43.067763915617434], [-116.75830671967523, 43.06776365718634], [-116.75830636587736, 43.067853707119625], [-116.75818354246398, 43.06785344765541], [-116.7581831884847, 43.06794349758646], [-116.75806036488962, 43.067943238890116], [-116.7580600107289, 43.06803328881892], [-116.75805965656659, 43.068123338746325], [-116.7579368326171, 43.06812307901605], [-116.75793647827334, 43.068213128941196], [-116.75793612269969, 43.06830317886229], [-116.75793576835267, 43.068393228784586], [-116.7579354127758, 43.06848327870284], [-116.75781258933702, 43.06848301884009], [-116.75781223357868, 43.06857306875616], [-116.75781187904695, 43.06866311867337], [-116.75768905524666, 43.06866285957763], [-116.75768869930528, 43.06875290949003], [-116.75756587533033, 43.068752649361194], [-116.75756551920755, 43.06884269927132], [-116.75756516431133, 43.0689327491826], [-116.75744233874666, 43.06893248981821], [-116.757441983669, 43.06902253972731], [-116.75744162859324, 43.06911258873441], [-116.75744127228408, 43.06920263863806], [-116.75731844740992, 43.06920237914199], [-116.75731809091928, 43.069292429043344], [-116.75731773565526, 43.06938247894589], [-116.75731737916496, 43.06947252794394], [-116.75719455375298, 43.069472268313625], [-116.7571941970777, 43.06956231820989], [-116.75707137148756, 43.06956205844689], [-116.75707101585903, 43.06965210834358], [-116.75707065900417, 43.06974215733572], [-116.75694783305607, 43.06974189743925], [-116.75694747601622, 43.06983194732963], [-116.75694712020297, 43.06992199722117], [-116.75694676315979, 43.0700120471087], [-116.75694640734682, 43.0701020960969], [-116.75694605030037, 43.070192145981586], [-116.75694569448055, 43.07028219586746], [-116.75694533743085, 43.0703722457493], [-116.75682251022577, 43.0703719857153], [-116.75669968302586, 43.07037172464899], [-116.75669932561487, 43.07046177452776], [-116.75657649823327, 43.070461514229336], [-116.75645366962502, 43.0704612537964], [-116.75633084224668, 43.07046099323429], [-116.75620801487355, 43.07046073163985], [-116.75608518627023, 43.07046047081148], [-116.75596235889682, 43.070460209853884], [-116.7559620004053, 43.070550259726296], [-116.75583917285373, 43.07054999863605], [-116.75583881541262, 43.07064004760835], [-116.75571598645458, 43.07063978638286], [-116.7557156288284, 43.07072983625339]]]}}]})), options=['attribution_control', 'basemap', 'bounce_at_zoom_limits', 'box_zoom', 'center', 'close_popup_on_click', 'double_click_zoom', 'dragging', 'inertia', 'inertia_deceleration', 'inertia_max_speed', 'keyboard', 'keyboard_pan_offset', 'keyboard_zoom_offset', 'max_zoom', 'min_zoom', 'scroll_wheel_zoom', 'tap', 'tap_tolerance', 'touch_zoom', 'world_copy_jump', 'zoom', 'zoom_animation_threshold', 'zoom_control', 'zoom_start'], zoom=15)"
      ]
     },
     "metadata": {},
     "output_type": "display_data"
    }
   ],
   "source": [
    "m = Map(center=[43.06745, -116.75489], zoom=15)\n",
    "with open('reynolds_geojson_latlon.geojson') as f:\n",
    "    data = json.load(f)\n",
    "g = GeoJSON(data=data)\n",
    "m.add_layer(g)\n",
    "m"
   ]
  },
  {
   "cell_type": "markdown",
   "metadata": {},
   "source": [
    "### 2) Download TestCases from HS and Installation to prepare SUMMA simulation"
   ]
  },
  {
   "cell_type": "code",
   "execution_count": 3,
   "metadata": {},
   "outputs": [],
   "source": [
    "# To authenticate using HTTP Basic authentication.\n",
    "from hs_restclient import HydroShare, HydroShareAuthBasic"
   ]
  },
  {
   "cell_type": "code",
   "execution_count": 4,
   "metadata": {},
   "outputs": [],
   "source": [
    "# import utils.py to download TestCases from HS, unzip and installation\n",
    "from pysumma.utils import utils"
   ]
  },
  {
   "cell_type": "code",
   "execution_count": 5,
   "metadata": {},
   "outputs": [],
   "source": [
    "# define directory where you save SUMMA TestCases\n",
    "save_filepath = '/media/sf_pysumma'"
   ]
  },
  {
   "cell_type": "code",
   "execution_count": 2,
   "metadata": {},
   "outputs": [],
   "source": [
    "# call install_test_cases_hs method to download TestCase from HS, unzip and install the TestCase.\n",
    "hs_path = utils.install_test_cases_hs(save_filepath)"
   ]
  },
  {
   "cell_type": "code",
   "execution_count": 6,
   "metadata": {},
   "outputs": [],
   "source": [
    "# if you already have TestCase in your local, you can skip previous statement\n",
    "hs_path = save_filepath+'/a0105d479c334764ba84633c5b9c1c01/a0105d479c334764ba84633c5b9c1c01/data/contents'"
   ]
  },
  {
   "cell_type": "markdown",
   "metadata": {},
   "source": [
    "### 3) Create pySUMMA Simulation Object of 1d Richards method and Run SUMMA Model"
   ]
  },
  {
   "cell_type": "code",
   "execution_count": 7,
   "metadata": {},
   "outputs": [],
   "source": [
    "from pysumma.Simulation import Simulation\n",
    "from pysumma.Plotting import Plotting"
   ]
  },
  {
   "cell_type": "code",
   "execution_count": 8,
   "metadata": {},
   "outputs": [
    {
     "name": "stdout",
     "output_type": "stream",
     "text": [
      "ModelOuput master file filepath: /media/sf_pysumma/pysumma/notebooks/var_lookup.f90\n"
     ]
    }
   ],
   "source": [
    "# create a pySUMMA simulation object using the SUMMA 'file manager' input file \n",
    "S_1dRichards = Simulation(hs_path + '/summaTestCases_2.x/settings/wrrPaperTestCases/figure09/summa_fileManager_1dRichards.txt')"
   ]
  },
  {
   "cell_type": "code",
   "execution_count": 9,
   "metadata": {},
   "outputs": [],
   "source": [
    "# set SUMMA executable file\n",
    "excutable = '/media/sf_pysumma/a5dbd5b198c9468387f59f3fefc11e22/a5dbd5b198c9468387f59f3fefc11e22/data/contents/summa-master/bin'\n",
    "S_1dRichards.executable = excutable +'/summa.exe'"
   ]
  },
  {
   "cell_type": "code",
   "execution_count": 10,
   "metadata": {},
   "outputs": [
    {
     "data": {
      "text/plain": [
       "('2002-07-01 00:00', '2008-09-30 00:00')"
      ]
     },
     "execution_count": 10,
     "metadata": {},
     "output_type": "execute_result"
    }
   ],
   "source": [
    "# check the simulation start and finish times\n",
    "S_1dRichards.decision_obj.simulStart.value, S_1dRichards.decision_obj.simulFinsh.value"
   ]
  },
  {
   "cell_type": "code",
   "execution_count": 11,
   "metadata": {},
   "outputs": [
    {
     "data": {
      "text/plain": [
       "(['qTopmodl', 'bigBuckt', 'noXplict'], 'noXplict')"
      ]
     },
     "execution_count": 11,
     "metadata": {},
     "output_type": "execute_result"
    }
   ],
   "source": [
    "# check option and selected method of (11) choice of groundwater parameterization in Decision file\n",
    "S_1dRichards.decision_obj.groundwatr.options, S_1dRichards.decision_obj.groundwatr.value"
   ]
  },
  {
   "cell_type": "code",
   "execution_count": 12,
   "metadata": {},
   "outputs": [
    {
     "data": {
      "text/plain": [
       "(['constant', 'pow_prof'], 'constant')"
      ]
     },
     "execution_count": 12,
     "metadata": {},
     "output_type": "execute_result"
    }
   ],
   "source": [
    "# check option and selected method of (12) choice of hydraulic conductivity profile in Decision file\n",
    "S_1dRichards.decision_obj.hc_profile.options, S_1dRichards.decision_obj.hc_profile.value"
   ]
  },
  {
   "cell_type": "code",
   "execution_count": 13,
   "metadata": {},
   "outputs": [
    {
     "data": {
      "text/plain": [
       "(['drainage', 'presHead', 'bottmPsi', 'zeroFlux'], 'drainage')"
      ]
     },
     "execution_count": 13,
     "metadata": {},
     "output_type": "execute_result"
    }
   ],
   "source": [
    "# check option and selected method of (16) type of lower boundary condition for soil hydrology in Decision file\n",
    "S_1dRichards.decision_obj.bcLowrSoiH.options, S_1dRichards.decision_obj.bcLowrSoiH.value"
   ]
  },
  {
   "cell_type": "code",
   "execution_count": 14,
   "metadata": {},
   "outputs": [
    {
     "data": {
      "text/plain": [
       "(['funcSoilWet', 'mixConstit', 'hanssonVZJ'], 'mixConstit')"
      ]
     },
     "execution_count": 14,
     "metadata": {},
     "output_type": "execute_result"
    }
   ],
   "source": [
    "# check option and selected method of (27) choice of thermal conductivity representation for soil in Decision file\n",
    "S_1dRichards.decision_obj.thCondSoil.options, S_1dRichards.decision_obj.thCondSoil.value"
   ]
  },
  {
   "cell_type": "code",
   "execution_count": 15,
   "metadata": {},
   "outputs": [
    {
     "data": {
      "text/plain": [
       "'summa_zBasinModelVarMeta.txt'"
      ]
     },
     "execution_count": 15,
     "metadata": {},
     "output_type": "execute_result"
    }
   ],
   "source": [
    "# check Basin variable meta data in file manager file\n",
    "S_1dRichards.meta_basinvar.filename"
   ]
  },
  {
   "cell_type": "code",
   "execution_count": 16,
   "metadata": {},
   "outputs": [
    {
     "data": {
      "text/plain": [
       "'summa_zBasinParamInfo.txt'"
      ]
     },
     "execution_count": 16,
     "metadata": {},
     "output_type": "execute_result"
    }
   ],
   "source": [
    "# check Basin Parameter info data in file manager file\n",
    "S_1dRichards.basin_par.filename"
   ]
  },
  {
   "cell_type": "code",
   "execution_count": 17,
   "metadata": {},
   "outputs": [
    {
     "data": {
      "text/plain": [
       "'summa_zForcingFileList_riparianAspen_1dRichards.txt'"
      ]
     },
     "execution_count": 17,
     "metadata": {},
     "output_type": "execute_result"
    }
   ],
   "source": [
    "# check Forcing list data in file manager file\n",
    "S_1dRichards.forcing_list.filename"
   ]
  },
  {
   "cell_type": "code",
   "execution_count": 18,
   "metadata": {},
   "outputs": [
    {
     "data": {
      "text/plain": [
       "'summa_zInitialCond.nc'"
      ]
     },
     "execution_count": 18,
     "metadata": {},
     "output_type": "execute_result"
    }
   ],
   "source": [
    "# check Initial condition data in file manager file\n",
    "S_1dRichards.initial_cond.filename"
   ]
  },
  {
   "cell_type": "code",
   "execution_count": 19,
   "metadata": {},
   "outputs": [
    {
     "name": "stdout",
     "output_type": "stream",
     "text": [
      "file_suffix is '1dRichards_hs'.\n",
      "file_master is '/media/sf_pysumma/a0105d479c334764ba84633c5b9c1c01/a0105d479c334764ba84633c5b9c1c01/data/contents/summaTestCases_2.x/settings/wrrPaperTestCases/figure09/summa_fileManager_1dRichards.txt'.\n",
      "start at 13:56:04\n",
      "Name of Model Output control file: /media/sf_pysumma/a0105d479c334764ba84633c5b9c1c01/a0105d479c334764ba84633c5b9c1c01/data/contents/summaTestCases_2.x/settings/meta/Model_Output.txt\n",
      "decisions file =  /media/sf_pysumma/a0105d479c334764ba84633c5b9c1c01/a0105d479c334764ba84633c5b9c1c01/data/contents/summaTestCases_2.x/settings/wrrPaperTestCases/figure09/summa_zDecisions_1dRichards.txt\n",
      "   1 simulStart: 2002-07-01 00:00\n",
      "   2 simulFinsh: 2008-09-30 00:00\n",
      "   3 soilCatTbl: ROSETTA\n",
      "   4 vegeParTbl: USGS\n",
      "   5 soilStress: NoahType\n",
      "   6 stomResist: BallBerry\n",
      "   7 num_method: itertive\n",
      "   8 fDerivMeth: analytic\n",
      "   9 LAI_method: specified\n",
      "  10 f_Richards: mixdform\n",
      "  11 groundwatr: noXplict\n",
      "  12 hc_profile: constant\n",
      "  13 bcUpprTdyn: nrg_flux\n",
      "  14 bcLowrTdyn: zeroFlux\n",
      "  15 bcUpprSoiH: liq_flux\n",
      "  16 bcLowrSoiH: drainage\n",
      "  17 veg_traits: CM_QJRMS1988\n",
      "  18 canopyEmis: difTrans\n",
      "  19 snowIncept: lightSnow\n",
      "  20 windPrfile: logBelowCanopy\n",
      "  21 astability: louisinv\n",
      "  22 canopySrad: BeersLaw\n",
      "  23 alb_method: varDecay\n",
      "  24 compaction: anderson\n",
      "  25 snowLayers: CLM_2010\n",
      "  26 thCondSnow: jrdn1991\n",
      "  27 thCondSoil: mixConstit\n",
      "  28 spatial_gw: localColumn\n",
      "  29 subRouting: timeDlay\n",
      "startTime: iyyy, im, id, ih, imin = 2002  7  1  0  0\n",
      "finshTime: iyyy, im, id, ih, imin = 2008  9 30  0  0\n",
      "/media/sf_pysumma/a0105d479c334764ba84633c5b9c1c01/a0105d479c334764ba84633c5b9c1c01/data/contents/summaTestCases_2.x/settings/wrrPaperTestCases/figure09/summa_zLocalParamInfo-2mRoots.txt\n",
      "/media/sf_pysumma/a0105d479c334764ba84633c5b9c1c01/a0105d479c334764ba84633c5b9c1c01/data/contents/summaTestCases_2.x/settings/wrrPaperTestCases/figure09/summa_zBasinParamInfo.txt\n",
      "Skipping over SLTYPE = STAS\n",
      "Skipping over SLTYPE = STAS-RUC\n",
      " hruIndex\n",
      " frozenPrecipMultip\n",
      " theta_mp\n",
      " theta_sat\n",
      " theta_res\n",
      " vGn_alpha\n",
      " vGn_n\n",
      " f_impede\n",
      " k_soil\n",
      " k_macropore\n",
      " critSoilWilting\n",
      " critSoilTranspire\n",
      " winterSAI\n",
      " summerLAI\n",
      " heightCanopyTop\n",
      " heightCanopyBottom\n",
      " kAnisotropic\n",
      " zScale_TOPMODEL\n",
      " qSurfScale\n",
      " fieldCapacity\n",
      "Created output file:/media/sf_pysumma/a0105d479c334764ba84633c5b9c1c01/a0105d479c334764ba84633c5b9c1c01/data/contents/summaTestCases_2.x/output/wrrPaperTestCases/figure09/basinRunoff_output_1dRichards_hs_timestep.nc\n",
      "\n",
      "initial date/time = 2018-07-18  13:56:04.592\n",
      "  final date/time = 2018-07-18  13:57:25.654\n",
      "\n",
      "     elapsed init =   0.3830000     s\n",
      "    fraction init =   4.7247786E-03 s\n",
      "\n",
      "     elapsed read =    1.601000     s\n",
      "    fraction read =   1.9750315E-02 s\n",
      "\n",
      "    elapsed write =    25.36300     s\n",
      "   fraction write =   0.3128840     s\n",
      "\n",
      "  elapsed physics =    53.58000     s\n",
      " fraction physics =   0.6609755     s\n",
      "\n",
      "     elapsed time =    81.06200     s\n",
      "       or              1.351033     m\n",
      "       or             2.2517222E-02 h\n",
      "       or             9.3821759E-04 d\n",
      "\n",
      "   number threads =          1\n",
      "\n",
      " FORTRAN STOP: finished simulation successfully.\n",
      "\n"
     ]
    }
   ],
   "source": [
    "# run the model giving the output the suffix \"1dRichards_docker_develop\" and get \"results_1dRichards\" object\n",
    "results_1dRichards, output_R = S_1dRichards.execute(run_suffix=\"1dRichards_hs\", run_option = 'local')"
   ]
  },
  {
   "cell_type": "markdown",
   "metadata": {},
   "source": [
    "### 4) Create pySUMMA Simulation Object of Lumped Topmodel method and Run SUMMA Model"
   ]
  },
  {
   "cell_type": "code",
   "execution_count": 20,
   "metadata": {},
   "outputs": [
    {
     "name": "stdout",
     "output_type": "stream",
     "text": [
      "ModelOuput master file filepath: /media/sf_pysumma/pysumma/notebooks/var_lookup.f90\n"
     ]
    }
   ],
   "source": [
    "# create a pySUMMA simulation object using the SUMMA 'file manager' input file \n",
    "S_lumpedTopmodel = Simulation(hs_path + '/summaTestCases_2.x/settings/wrrPaperTestCases/figure09/summa_fileManager_lumpedTopmodel.txt')"
   ]
  },
  {
   "cell_type": "code",
   "execution_count": 21,
   "metadata": {},
   "outputs": [],
   "source": [
    "# set SUMMA executable file\n",
    "excutable = '/media/sf_pysumma/a5dbd5b198c9468387f59f3fefc11e22/a5dbd5b198c9468387f59f3fefc11e22/data/contents/summa-master/bin'\n",
    "S_lumpedTopmodel.executable = excutable +'/summa.exe'"
   ]
  },
  {
   "cell_type": "code",
   "execution_count": 22,
   "metadata": {},
   "outputs": [
    {
     "data": {
      "text/plain": [
       "('2001-07-01 00:00', '2008-09-30 00:00')"
      ]
     },
     "execution_count": 22,
     "metadata": {},
     "output_type": "execute_result"
    }
   ],
   "source": [
    "# check the simulation start and finish times\n",
    "S_lumpedTopmodel.decision_obj.simulStart.value, S_lumpedTopmodel.decision_obj.simulFinsh.value"
   ]
  },
  {
   "cell_type": "code",
   "execution_count": 23,
   "metadata": {},
   "outputs": [
    {
     "data": {
      "text/plain": [
       "(['qTopmodl', 'bigBuckt', 'noXplict'], 'qTopmodl')"
      ]
     },
     "execution_count": 23,
     "metadata": {},
     "output_type": "execute_result"
    }
   ],
   "source": [
    "# check option and selected method of (11) choice of groundwater parameterization in Decision file\n",
    "S_lumpedTopmodel.decision_obj.groundwatr.options, S_lumpedTopmodel.decision_obj.groundwatr.value"
   ]
  },
  {
   "cell_type": "code",
   "execution_count": 24,
   "metadata": {},
   "outputs": [
    {
     "data": {
      "text/plain": [
       "(['constant', 'pow_prof'], 'pow_prof')"
      ]
     },
     "execution_count": 24,
     "metadata": {},
     "output_type": "execute_result"
    }
   ],
   "source": [
    "# check option and selected method of (12) choice of hydraulic conductivity profile in Decision file\n",
    "S_lumpedTopmodel.decision_obj.hc_profile.options, S_lumpedTopmodel.decision_obj.hc_profile.value"
   ]
  },
  {
   "cell_type": "code",
   "execution_count": 25,
   "metadata": {},
   "outputs": [
    {
     "data": {
      "text/plain": [
       "(['drainage', 'presHead', 'bottmPsi', 'zeroFlux'], 'zeroFlux')"
      ]
     },
     "execution_count": 25,
     "metadata": {},
     "output_type": "execute_result"
    }
   ],
   "source": [
    "# check option and selected method of (16) type of lower boundary condition for soil hydrology in Decision file\n",
    "S_lumpedTopmodel.decision_obj.bcLowrSoiH.options, S_lumpedTopmodel.decision_obj.bcLowrSoiH.value"
   ]
  },
  {
   "cell_type": "code",
   "execution_count": 26,
   "metadata": {},
   "outputs": [
    {
     "data": {
      "text/plain": [
       "(['funcSoilWet', 'mixConstit', 'hanssonVZJ'], 'funcSoilWet')"
      ]
     },
     "execution_count": 26,
     "metadata": {},
     "output_type": "execute_result"
    }
   ],
   "source": [
    "# check option and selected method of (27) choice of thermal conductivity representation for soil in Decision file\n",
    "S_lumpedTopmodel.decision_obj.thCondSoil.options, S_lumpedTopmodel.decision_obj.thCondSoil.value"
   ]
  },
  {
   "cell_type": "code",
   "execution_count": 27,
   "metadata": {},
   "outputs": [
    {
     "data": {
      "text/plain": [
       "'summa_zBasinModelVarMeta.txt'"
      ]
     },
     "execution_count": 27,
     "metadata": {},
     "output_type": "execute_result"
    }
   ],
   "source": [
    "# check Basin variable meta data in file manager file\n",
    "S_lumpedTopmodel.meta_basinvar.filename"
   ]
  },
  {
   "cell_type": "code",
   "execution_count": 28,
   "metadata": {},
   "outputs": [
    {
     "data": {
      "text/plain": [
       "'summa_zBasinParamInfo.txt'"
      ]
     },
     "execution_count": 28,
     "metadata": {},
     "output_type": "execute_result"
    }
   ],
   "source": [
    "# check Basin Parameter info data in file manager file\n",
    "S_lumpedTopmodel.basin_par.filename"
   ]
  },
  {
   "cell_type": "code",
   "execution_count": 29,
   "metadata": {},
   "outputs": [
    {
     "data": {
      "text/plain": [
       "'summa_zForcingFileList_riparianAspen_lumpedTopmodel.txt'"
      ]
     },
     "execution_count": 29,
     "metadata": {},
     "output_type": "execute_result"
    }
   ],
   "source": [
    "# check Forcing list data in file manager file\n",
    "S_lumpedTopmodel.forcing_list.filename"
   ]
  },
  {
   "cell_type": "code",
   "execution_count": 30,
   "metadata": {},
   "outputs": [
    {
     "data": {
      "text/plain": [
       "'summa_zInitialCond.nc'"
      ]
     },
     "execution_count": 30,
     "metadata": {},
     "output_type": "execute_result"
    }
   ],
   "source": [
    "# check Initial condition data in file manager file\n",
    "S_lumpedTopmodel.initial_cond.filename"
   ]
  },
  {
   "cell_type": "code",
   "execution_count": 31,
   "metadata": {},
   "outputs": [
    {
     "name": "stdout",
     "output_type": "stream",
     "text": [
      "file_suffix is 'lumpedTopmodel_hs'.\n",
      "file_master is '/media/sf_pysumma/a0105d479c334764ba84633c5b9c1c01/a0105d479c334764ba84633c5b9c1c01/data/contents/summaTestCases_2.x/settings/wrrPaperTestCases/figure09/summa_fileManager_lumpedTopmodel.txt'.\n",
      "start at 13:57:30\n",
      "Name of Model Output control file: /media/sf_pysumma/a0105d479c334764ba84633c5b9c1c01/a0105d479c334764ba84633c5b9c1c01/data/contents/summaTestCases_2.x/settings/meta/Model_Output.txt\n",
      "decisions file =  /media/sf_pysumma/a0105d479c334764ba84633c5b9c1c01/a0105d479c334764ba84633c5b9c1c01/data/contents/summaTestCases_2.x/settings/wrrPaperTestCases/figure09/summa_zDecisions_lumpedTopmodel.txt\n",
      "   1 simulStart: 2001-07-01 00:00\n",
      "   2 simulFinsh: 2008-09-30 00:00\n",
      "   3 soilCatTbl: ROSETTA\n",
      "   4 vegeParTbl: USGS\n",
      "   5 soilStress: NoahType\n",
      "   6 stomResist: BallBerry\n",
      "   7 num_method: itertive\n",
      "   8 fDerivMeth: analytic\n",
      "   9 LAI_method: specified\n",
      "  10 f_Richards: mixdform\n",
      "  11 groundwatr: qTopmodl\n",
      "  12 hc_profile: pow_prof\n",
      "  13 bcUpprTdyn: nrg_flux\n",
      "  14 bcLowrTdyn: zeroFlux\n",
      "  15 bcUpprSoiH: liq_flux\n",
      "  16 bcLowrSoiH: zeroFlux\n",
      "  17 veg_traits: CM_QJRMS1988\n",
      "  18 canopyEmis: difTrans\n",
      "  19 snowIncept: lightSnow\n",
      "  20 windPrfile: logBelowCanopy\n",
      "  21 astability: louisinv\n",
      "  22 canopySrad: BeersLaw\n",
      "  23 alb_method: varDecay\n",
      "  24 compaction: anderson\n",
      "  25 snowLayers: CLM_2010\n",
      "  26 thCondSnow: jrdn1991\n",
      "  27 thCondSoil: funcSoilWet\n",
      "  28 spatial_gw: localColumn\n",
      "  29 subRouting: timeDlay\n",
      "startTime: iyyy, im, id, ih, imin = 2001  7  1  0  0\n",
      "finshTime: iyyy, im, id, ih, imin = 2008  9 30  0  0\n",
      "/media/sf_pysumma/a0105d479c334764ba84633c5b9c1c01/a0105d479c334764ba84633c5b9c1c01/data/contents/summaTestCases_2.x/settings/wrrPaperTestCases/figure09/summa_zLocalParamInfo.txt\n",
      "/media/sf_pysumma/a0105d479c334764ba84633c5b9c1c01/a0105d479c334764ba84633c5b9c1c01/data/contents/summaTestCases_2.x/settings/wrrPaperTestCases/figure09/summa_zBasinParamInfo.txt\n",
      "Skipping over SLTYPE = STAS\n",
      "Skipping over SLTYPE = STAS-RUC\n",
      " hruIndex\n",
      " frozenPrecipMultip\n",
      " theta_mp\n",
      " theta_sat\n",
      " theta_res\n",
      " vGn_alpha\n",
      " vGn_n\n",
      " f_impede\n",
      " k_soil\n",
      " k_macropore\n",
      " critSoilWilting\n",
      " critSoilTranspire\n",
      " winterSAI\n",
      " summerLAI\n",
      " heightCanopyTop\n",
      " heightCanopyBottom\n",
      " kAnisotropic\n",
      " zScale_TOPMODEL\n",
      " qSurfScale\n",
      " fieldCapacity\n",
      "Created output file:/media/sf_pysumma/a0105d479c334764ba84633c5b9c1c01/a0105d479c334764ba84633c5b9c1c01/data/contents/summaTestCases_2.x/output/wrrPaperTestCases/figure09/basinRunoff_output_lumpedTopmodel_hs_timestep.nc\n",
      "\n",
      "initial date/time = 2018-07-18  13:57:30.940\n",
      "  final date/time = 2018-07-18  13:59:39.542\n",
      "\n",
      "     elapsed init =    1.097000     s\n",
      "    fraction init =   8.5301939E-03 s\n",
      "\n",
      "     elapsed read =    2.530000     s\n",
      "    fraction read =   1.9673100E-02 s\n",
      "\n",
      "    elapsed write =    42.70800     s\n",
      "   fraction write =   0.3320944     s\n",
      "\n",
      "  elapsed physics =    82.02300     s\n",
      " fraction physics =   0.6378050     s\n",
      "\n",
      "     elapsed time =    128.6020     s\n",
      "       or              2.143367     m\n",
      "       or             3.5722778E-02 h\n",
      "       or             1.4884491E-03 d\n",
      "\n",
      "   number threads =          1\n",
      "\n",
      " FORTRAN STOP: finished simulation successfully.\n",
      "\n"
     ]
    }
   ],
   "source": [
    "# run the model giving the output the suffix \"lumpedTopmodel_docker_develop\" and get \"results_lumpedTopmodel\" object\n",
    "results_lumpedTopmodel, output_LT = S_lumpedTopmodel.execute(run_suffix=\"lumpedTopmodel_hs\", run_option = 'local')"
   ]
  },
  {
   "cell_type": "markdown",
   "metadata": {},
   "source": [
    "### 5) Create pySUMMA Simulation Object of Distributed Topmodel method and Run SUMMA Model"
   ]
  },
  {
   "cell_type": "code",
   "execution_count": 32,
   "metadata": {},
   "outputs": [
    {
     "name": "stdout",
     "output_type": "stream",
     "text": [
      "ModelOuput master file filepath: /media/sf_pysumma/pysumma/notebooks/var_lookup.f90\n"
     ]
    }
   ],
   "source": [
    "# create a pySUMMA simulation object using the SUMMA 'file manager' input file \n",
    "S_distributedTopmodel = Simulation(hs_path + '/summaTestCases_2.x/settings/wrrPaperTestCases/figure09/summa_fileManager_distributedTopmodel.txt')"
   ]
  },
  {
   "cell_type": "code",
   "execution_count": 33,
   "metadata": {},
   "outputs": [],
   "source": [
    "# set SUMMA executable file\n",
    "excutable = '/media/sf_pysumma/a5dbd5b198c9468387f59f3fefc11e22/a5dbd5b198c9468387f59f3fefc11e22/data/contents/summa-master/bin'\n",
    "S_distributedTopmodel.executable = excutable +'/summa.exe'"
   ]
  },
  {
   "cell_type": "code",
   "execution_count": 34,
   "metadata": {},
   "outputs": [
    {
     "data": {
      "text/plain": [
       "('2001-07-01 00:00', '2008-09-30 00:00')"
      ]
     },
     "execution_count": 34,
     "metadata": {},
     "output_type": "execute_result"
    }
   ],
   "source": [
    "# check the simulation start and finish times\n",
    "S_distributedTopmodel.decision_obj.simulStart.value, S_distributedTopmodel.decision_obj.simulFinsh.value"
   ]
  },
  {
   "cell_type": "code",
   "execution_count": 35,
   "metadata": {},
   "outputs": [
    {
     "data": {
      "text/plain": [
       "(['qTopmodl', 'bigBuckt', 'noXplict'], 'qTopmodl')"
      ]
     },
     "execution_count": 35,
     "metadata": {},
     "output_type": "execute_result"
    }
   ],
   "source": [
    "# check option and selected method of (11) choice of groundwater parameterization in Decision file\n",
    "S_distributedTopmodel.decision_obj.groundwatr.options, S_distributedTopmodel.decision_obj.groundwatr.value"
   ]
  },
  {
   "cell_type": "code",
   "execution_count": 36,
   "metadata": {},
   "outputs": [
    {
     "data": {
      "text/plain": [
       "(['constant', 'pow_prof'], 'pow_prof')"
      ]
     },
     "execution_count": 36,
     "metadata": {},
     "output_type": "execute_result"
    }
   ],
   "source": [
    "# check option and selected method of (12) choice of hydraulic conductivity profile in Decision file\n",
    "S_distributedTopmodel.decision_obj.hc_profile.options, S_distributedTopmodel.decision_obj.hc_profile.value"
   ]
  },
  {
   "cell_type": "code",
   "execution_count": 37,
   "metadata": {},
   "outputs": [
    {
     "data": {
      "text/plain": [
       "(['drainage', 'presHead', 'bottmPsi', 'zeroFlux'], 'zeroFlux')"
      ]
     },
     "execution_count": 37,
     "metadata": {},
     "output_type": "execute_result"
    }
   ],
   "source": [
    "# check option and selected method of (16) type of lower boundary condition for soil hydrology in Decision file\n",
    "S_distributedTopmodel.decision_obj.bcLowrSoiH.options, S_distributedTopmodel.decision_obj.bcLowrSoiH.value"
   ]
  },
  {
   "cell_type": "code",
   "execution_count": 38,
   "metadata": {},
   "outputs": [
    {
     "data": {
      "text/plain": [
       "(['funcSoilWet', 'mixConstit', 'hanssonVZJ'], 'funcSoilWet')"
      ]
     },
     "execution_count": 38,
     "metadata": {},
     "output_type": "execute_result"
    }
   ],
   "source": [
    "# check option and selected method of (27) choice of thermal conductivity representation for soil in Decision file\n",
    "S_distributedTopmodel.decision_obj.thCondSoil.options, S_distributedTopmodel.decision_obj.thCondSoil.value"
   ]
  },
  {
   "cell_type": "code",
   "execution_count": 39,
   "metadata": {},
   "outputs": [
    {
     "data": {
      "text/plain": [
       "'summa_zBasinModelVarMeta.txt'"
      ]
     },
     "execution_count": 39,
     "metadata": {},
     "output_type": "execute_result"
    }
   ],
   "source": [
    "# check Basin variable meta data in file manager file\n",
    "S_distributedTopmodel.meta_basinvar.filename"
   ]
  },
  {
   "cell_type": "code",
   "execution_count": 40,
   "metadata": {},
   "outputs": [
    {
     "data": {
      "text/plain": [
       "'summa_zBasinParamInfo.txt'"
      ]
     },
     "execution_count": 40,
     "metadata": {},
     "output_type": "execute_result"
    }
   ],
   "source": [
    "# check Basin Parameter info data in file manager file\n",
    "S_distributedTopmodel.basin_par.filename"
   ]
  },
  {
   "cell_type": "code",
   "execution_count": 41,
   "metadata": {},
   "outputs": [
    {
     "data": {
      "text/plain": [
       "'summa_zForcingFileList_fullDist.txt'"
      ]
     },
     "execution_count": 41,
     "metadata": {},
     "output_type": "execute_result"
    }
   ],
   "source": [
    "# check Forcing list data in file manager file\n",
    "S_distributedTopmodel.forcing_list.filename"
   ]
  },
  {
   "cell_type": "code",
   "execution_count": 42,
   "metadata": {},
   "outputs": [
    {
     "data": {
      "text/plain": [
       "'summa_zInitialCond_disTop.nc'"
      ]
     },
     "execution_count": 42,
     "metadata": {},
     "output_type": "execute_result"
    }
   ],
   "source": [
    "# check Initial condition data in file manager file\n",
    "S_distributedTopmodel.initial_cond.filename"
   ]
  },
  {
   "cell_type": "code",
   "execution_count": 43,
   "metadata": {},
   "outputs": [
    {
     "name": "stdout",
     "output_type": "stream",
     "text": [
      "file_suffix is 'distributedTopmodel_hs'.\n",
      "file_master is '/media/sf_pysumma/a0105d479c334764ba84633c5b9c1c01/a0105d479c334764ba84633c5b9c1c01/data/contents/summaTestCases_2.x/settings/wrrPaperTestCases/figure09/summa_fileManager_distributedTopmodel.txt'.\n",
      "start at 13:59:45\n",
      "Name of Model Output control file: /media/sf_pysumma/a0105d479c334764ba84633c5b9c1c01/a0105d479c334764ba84633c5b9c1c01/data/contents/summaTestCases_2.x/settings/meta/Model_Output.txt\n",
      "decisions file =  /media/sf_pysumma/a0105d479c334764ba84633c5b9c1c01/a0105d479c334764ba84633c5b9c1c01/data/contents/summaTestCases_2.x/settings/wrrPaperTestCases/figure09/summa_zDecisions_distributedTopmodel.txt\n",
      "   1 simulStart: 2001-07-01 00:00\n",
      "   2 simulFinsh: 2008-09-30 00:00\n",
      "   3 soilCatTbl: ROSETTA\n",
      "   4 vegeParTbl: USGS\n",
      "   5 soilStress: NoahType\n",
      "   6 stomResist: BallBerry\n",
      "   7 num_method: itertive\n",
      "   8 fDerivMeth: analytic\n",
      "   9 LAI_method: specified\n",
      "  10 f_Richards: mixdform\n",
      "  11 groundwatr: qTopmodl\n",
      "  12 hc_profile: pow_prof\n",
      "  13 bcUpprTdyn: nrg_flux\n",
      "  14 bcLowrTdyn: zeroFlux\n",
      "  15 bcUpprSoiH: liq_flux\n",
      "  16 bcLowrSoiH: zeroFlux\n",
      "  17 veg_traits: CM_QJRMS1988\n",
      "  18 canopyEmis: difTrans\n",
      "  19 snowIncept: lightSnow\n",
      "  20 windPrfile: logBelowCanopy\n",
      "  21 astability: louisinv\n",
      "  22 canopySrad: BeersLaw\n",
      "  23 alb_method: varDecay\n",
      "  24 compaction: anderson\n",
      "  25 snowLayers: CLM_2010\n",
      "  26 thCondSnow: jrdn1991\n",
      "  27 thCondSoil: funcSoilWet\n",
      "  28 spatial_gw: localColumn\n",
      "  29 subRouting: timeDlay\n",
      "startTime: iyyy, im, id, ih, imin = 2001  7  1  0  0\n",
      "finshTime: iyyy, im, id, ih, imin = 2008  9 30  0  0\n",
      "/media/sf_pysumma/a0105d479c334764ba84633c5b9c1c01/a0105d479c334764ba84633c5b9c1c01/data/contents/summaTestCases_2.x/settings/wrrPaperTestCases/figure09/summa_zLocalParamInfo.txt\n",
      "/media/sf_pysumma/a0105d479c334764ba84633c5b9c1c01/a0105d479c334764ba84633c5b9c1c01/data/contents/summaTestCases_2.x/settings/wrrPaperTestCases/figure09/summa_zBasinParamInfo.txt\n",
      "Skipping over SLTYPE = STAS\n",
      "Skipping over SLTYPE = STAS-RUC\n",
      " hruIndex\n",
      " frozenPrecipMultip\n",
      " theta_mp\n",
      " theta_sat\n",
      " theta_res\n",
      " vGn_alpha\n",
      " vGn_n\n",
      " f_impede\n",
      " k_soil\n",
      " k_macropore\n",
      " critSoilWilting\n",
      " critSoilTranspire\n",
      " winterSAI\n",
      " summerLAI\n",
      " heightCanopyTop\n",
      " heightCanopyBottom\n",
      " kAnisotropic\n",
      " zScale_TOPMODEL\n",
      " qSurfScale\n",
      " fieldCapacity\n",
      "Created output file:/media/sf_pysumma/a0105d479c334764ba84633c5b9c1c01/a0105d479c334764ba84633c5b9c1c01/data/contents/summaTestCases_2.x/output/wrrPaperTestCases/figure09/basinRunoff_output_distributedTopmodel_hs_timestep.nc\n",
      "\n",
      "initial date/time = 2018-07-18  13:59:45.349\n",
      "  final date/time = 2018-07-18  14:10:25.376\n",
      "\n",
      "     elapsed init =   0.9990000     s\n",
      "    fraction init =   1.5608717E-03 s\n",
      "\n",
      "     elapsed read =    4.956000     s\n",
      "    fraction read =   7.7434233E-03 s\n",
      "\n",
      "    elapsed write =    181.1990     s\n",
      "   fraction write =   0.2831115     s\n",
      "\n",
      "  elapsed physics =    452.5280     s\n",
      " fraction physics =   0.7070452     s\n",
      "\n",
      "     elapsed time =    640.0270     s\n",
      "       or              10.66712     m\n",
      "       or             0.1777853     h\n",
      "       or             7.4077199E-03 d\n",
      "\n",
      "   number threads =          1\n",
      "\n",
      " FORTRAN STOP: finished simulation successfully.\n",
      "\n"
     ]
    }
   ],
   "source": [
    "# run the model giving the output the suffix \"distributedTopmodel_docker_develop\" and get \"results_distributedTopmodel\" object\n",
    "results_distributedTopmodel, output_DT = S_distributedTopmodel.execute(run_suffix=\"distributedTopmodel_hs\", run_option = 'local')"
   ]
  },
  {
   "cell_type": "markdown",
   "metadata": {},
   "source": [
    "## 4. Results"
   ]
  },
  {
   "cell_type": "markdown",
   "metadata": {},
   "source": [
    "### Recreate the Figure 8(right) plot from Clark et al., 2015: The total ET Sensitivity for the model representation of the lateral flux of liquid water"
   ]
  },
  {
   "cell_type": "code",
   "execution_count": 44,
   "metadata": {},
   "outputs": [],
   "source": [
    "from pysumma.Plotting import Plotting\n",
    "from jupyterthemes import jtplot\n",
    "import matplotlib.pyplot as plt\n",
    "import pandas as pd\n",
    "jtplot.figsize(x=10, y=10)"
   ]
  },
  {
   "cell_type": "markdown",
   "metadata": {},
   "source": [
    "#### 4.1) Create function to calculate Total ET of hour of day from SUMMA output for the period 1 June to 20 August 2007"
   ]
  },
  {
   "cell_type": "code",
   "execution_count": 45,
   "metadata": {},
   "outputs": [],
   "source": [
    "def calc_total_et(et_output_df):\n",
    "    # Total Evapotranspiration = Canopy Transpiration + Canopy Evaporation + Ground Evaporation\n",
    "    # Change unit from kgm-2s-1 to mm/hr (mulpitle 3600)\n",
    "    total_et_data = (et_output_df['scalarCanopyTranspiration'] + et_output_df['scalarCanopyEvaporation'] + et_output_df['scalarGroundEvaporation'])*3600\n",
    "    # create dates(X-axis) attribute from ouput netcdf\n",
    "    dates = total_et_data.coords['time'].data\n",
    "    # create data value(Y-axis) attribute from ouput netcdf\n",
    "    data_values = total_et_data.data\n",
    "    # create two dimensional tabular data structure \n",
    "    total_et_df = pd.DataFrame(data_values, index=dates)\n",
    "    # round time to nearest hour (ex. 2006-10-01T00:59:59.99 -> 2006-10-01T01:00:00)\n",
    "    total_et_df.index = total_et_df.index.round(\"H\")\n",
    "    # set the time period to display plot \n",
    "    total_et_df = total_et_df.loc[\"2007-06-01\":\"2007-08-20\"]\n",
    "    # resample data by the average value hourly\n",
    "    total_et_df_hourly = total_et_df.resample(\"H\").mean()\n",
    "    # resample data by the average for hour of day\n",
    "    total_et_by_hour = total_et_df_hourly.groupby(total_et_df_hourly.index.hour).mean()\n",
    "    return total_et_by_hour"
   ]
  },
  {
   "cell_type": "markdown",
   "metadata": {},
   "source": [
    "#### 4.2) Get hour of day output of the Parameterization of Later Flux of Liquid water for the period 1 June to 20 August 2007"
   ]
  },
  {
   "cell_type": "code",
   "execution_count": 46,
   "metadata": {},
   "outputs": [],
   "source": [
    "# get hour of day output using calc_total_et method (1d Richards method appied 1 hru)\n",
    "hour_1dRichards = calc_total_et(results_1dRichards)"
   ]
  },
  {
   "cell_type": "code",
   "execution_count": 47,
   "metadata": {},
   "outputs": [],
   "source": [
    "# get hour of day output using calc_total_et method (lumped Topmodel method appied 1 hru)\n",
    "hour_lumpedTopmodel = calc_total_et(results_lumpedTopmodel)"
   ]
  },
  {
   "cell_type": "code",
   "execution_count": 48,
   "metadata": {},
   "outputs": [],
   "source": [
    "# get hour of day output using calc_total_et method (lumped Topmodel method appied 6 hru)\n",
    "hour_distributedTopmodel = calc_total_et(results_distributedTopmodel)"
   ]
  },
  {
   "cell_type": "code",
   "execution_count": 49,
   "metadata": {},
   "outputs": [
    {
     "data": {
      "text/plain": [
       "<xarray.DataArray 'HRUarea' (hru: 6)>\n",
       "array([ 78300.,  32700.,  18600.,  32800., 168200.,  45400.])\n",
       "Dimensions without coordinates: hru\n",
       "Attributes:\n",
       "    long_name:  Area of each HRU\n",
       "    units:      m^2"
      ]
     },
     "execution_count": 49,
     "metadata": {},
     "output_type": "execute_result"
    }
   ],
   "source": [
    "# check the area of each hru to calculate areal average ET\n",
    "trial_parameter_nc = Plotting(S_distributedTopmodel.setting_path.filepath+S_distributedTopmodel.local_attr.value)\n",
    "trial_parameter = trial_parameter_nc.open_netcdf()\n",
    "# read the area of each hru\n",
    "trial_parameter['HRUarea']"
   ]
  },
  {
   "cell_type": "code",
   "execution_count": 50,
   "metadata": {},
   "outputs": [],
   "source": [
    "# calculate areal average ET for distributed Topmodel\n",
    "hour_distributedTopmodel_average = (hour_distributedTopmodel[0]*78300 + hour_distributedTopmodel[1]*32700 + hour_distributedTopmodel[2]*18600 + hour_distributedTopmodel[3]*32800 + hour_distributedTopmodel[4]*168200 + hour_distributedTopmodel[5]*45400)/(78300+32700+18600+32800+168200+45400)"
   ]
  },
  {
   "cell_type": "markdown",
   "metadata": {},
   "source": [
    "#### 4.3) Combine the Parameterization of the Lateral Flux of Liquid Water into a single Pandas Dataframe"
   ]
  },
  {
   "cell_type": "code",
   "execution_count": 51,
   "metadata": {},
   "outputs": [],
   "source": [
    "# Combine ET for model representation of the lateral flux of liquid water\n",
    "ET_Combine = pd.concat([hour_1dRichards, hour_lumpedTopmodel, hour_distributedTopmodel_average], axis=1)\n",
    "# add label \n",
    "ET_Combine.columns = [\"Baseflow = 1D Richards'\", 'Baseflow = Topmodel(lumped)', 'Baseflow = Topmodel(distributed)']"
   ]
  },
  {
   "cell_type": "code",
   "execution_count": 52,
   "metadata": {},
   "outputs": [
    {
     "data": {
      "text/html": [
       "<div>\n",
       "<style scoped>\n",
       "    .dataframe tbody tr th:only-of-type {\n",
       "        vertical-align: middle;\n",
       "    }\n",
       "\n",
       "    .dataframe tbody tr th {\n",
       "        vertical-align: top;\n",
       "    }\n",
       "\n",
       "    .dataframe thead th {\n",
       "        text-align: right;\n",
       "    }\n",
       "</style>\n",
       "<table border=\"1\" class=\"dataframe\">\n",
       "  <thead>\n",
       "    <tr style=\"text-align: right;\">\n",
       "      <th></th>\n",
       "      <th>Baseflow = 1D Richards'</th>\n",
       "      <th>Baseflow = Topmodel(lumped)</th>\n",
       "      <th>Baseflow = Topmodel(distributed)</th>\n",
       "    </tr>\n",
       "  </thead>\n",
       "  <tbody>\n",
       "    <tr>\n",
       "      <th>0</th>\n",
       "      <td>-0.013952</td>\n",
       "      <td>-0.010959</td>\n",
       "      <td>-0.010086</td>\n",
       "    </tr>\n",
       "    <tr>\n",
       "      <th>1</th>\n",
       "      <td>-0.013044</td>\n",
       "      <td>-0.010335</td>\n",
       "      <td>-0.009470</td>\n",
       "    </tr>\n",
       "    <tr>\n",
       "      <th>2</th>\n",
       "      <td>-0.011820</td>\n",
       "      <td>-0.009304</td>\n",
       "      <td>-0.009037</td>\n",
       "    </tr>\n",
       "    <tr>\n",
       "      <th>3</th>\n",
       "      <td>-0.010243</td>\n",
       "      <td>-0.007883</td>\n",
       "      <td>-0.008132</td>\n",
       "    </tr>\n",
       "    <tr>\n",
       "      <th>4</th>\n",
       "      <td>-0.009461</td>\n",
       "      <td>-0.007196</td>\n",
       "      <td>-0.007583</td>\n",
       "    </tr>\n",
       "    <tr>\n",
       "      <th>5</th>\n",
       "      <td>-0.009664</td>\n",
       "      <td>-0.007387</td>\n",
       "      <td>-0.007902</td>\n",
       "    </tr>\n",
       "    <tr>\n",
       "      <th>6</th>\n",
       "      <td>-0.011500</td>\n",
       "      <td>-0.009555</td>\n",
       "      <td>-0.009237</td>\n",
       "    </tr>\n",
       "    <tr>\n",
       "      <th>7</th>\n",
       "      <td>-0.049050</td>\n",
       "      <td>-0.048293</td>\n",
       "      <td>-0.034619</td>\n",
       "    </tr>\n",
       "    <tr>\n",
       "      <th>8</th>\n",
       "      <td>-0.123080</td>\n",
       "      <td>-0.128143</td>\n",
       "      <td>-0.111728</td>\n",
       "    </tr>\n",
       "    <tr>\n",
       "      <th>9</th>\n",
       "      <td>-0.185370</td>\n",
       "      <td>-0.199763</td>\n",
       "      <td>-0.192050</td>\n",
       "    </tr>\n",
       "    <tr>\n",
       "      <th>10</th>\n",
       "      <td>-0.225450</td>\n",
       "      <td>-0.249130</td>\n",
       "      <td>-0.257456</td>\n",
       "    </tr>\n",
       "    <tr>\n",
       "      <th>11</th>\n",
       "      <td>-0.231749</td>\n",
       "      <td>-0.266121</td>\n",
       "      <td>-0.311639</td>\n",
       "    </tr>\n",
       "    <tr>\n",
       "      <th>12</th>\n",
       "      <td>-0.236074</td>\n",
       "      <td>-0.274318</td>\n",
       "      <td>-0.334507</td>\n",
       "    </tr>\n",
       "    <tr>\n",
       "      <th>13</th>\n",
       "      <td>-0.234801</td>\n",
       "      <td>-0.278276</td>\n",
       "      <td>-0.339161</td>\n",
       "    </tr>\n",
       "    <tr>\n",
       "      <th>14</th>\n",
       "      <td>-0.234641</td>\n",
       "      <td>-0.273518</td>\n",
       "      <td>-0.321774</td>\n",
       "    </tr>\n",
       "    <tr>\n",
       "      <th>15</th>\n",
       "      <td>-0.226415</td>\n",
       "      <td>-0.261789</td>\n",
       "      <td>-0.296647</td>\n",
       "    </tr>\n",
       "    <tr>\n",
       "      <th>16</th>\n",
       "      <td>-0.225590</td>\n",
       "      <td>-0.255222</td>\n",
       "      <td>-0.272851</td>\n",
       "    </tr>\n",
       "    <tr>\n",
       "      <th>17</th>\n",
       "      <td>-0.200959</td>\n",
       "      <td>-0.221595</td>\n",
       "      <td>-0.229138</td>\n",
       "    </tr>\n",
       "    <tr>\n",
       "      <th>18</th>\n",
       "      <td>-0.167172</td>\n",
       "      <td>-0.180151</td>\n",
       "      <td>-0.177602</td>\n",
       "    </tr>\n",
       "    <tr>\n",
       "      <th>19</th>\n",
       "      <td>-0.101366</td>\n",
       "      <td>-0.104477</td>\n",
       "      <td>-0.096843</td>\n",
       "    </tr>\n",
       "    <tr>\n",
       "      <th>20</th>\n",
       "      <td>-0.033673</td>\n",
       "      <td>-0.033347</td>\n",
       "      <td>-0.028116</td>\n",
       "    </tr>\n",
       "    <tr>\n",
       "      <th>21</th>\n",
       "      <td>-0.023482</td>\n",
       "      <td>-0.020558</td>\n",
       "      <td>-0.017639</td>\n",
       "    </tr>\n",
       "    <tr>\n",
       "      <th>22</th>\n",
       "      <td>-0.018994</td>\n",
       "      <td>-0.016057</td>\n",
       "      <td>-0.013765</td>\n",
       "    </tr>\n",
       "    <tr>\n",
       "      <th>23</th>\n",
       "      <td>-0.014186</td>\n",
       "      <td>-0.011364</td>\n",
       "      <td>-0.010427</td>\n",
       "    </tr>\n",
       "  </tbody>\n",
       "</table>\n",
       "</div>"
      ],
      "text/plain": [
       "    Baseflow = 1D Richards'  Baseflow = Topmodel(lumped)  \\\n",
       "0                 -0.013952                    -0.010959   \n",
       "1                 -0.013044                    -0.010335   \n",
       "2                 -0.011820                    -0.009304   \n",
       "3                 -0.010243                    -0.007883   \n",
       "4                 -0.009461                    -0.007196   \n",
       "5                 -0.009664                    -0.007387   \n",
       "6                 -0.011500                    -0.009555   \n",
       "7                 -0.049050                    -0.048293   \n",
       "8                 -0.123080                    -0.128143   \n",
       "9                 -0.185370                    -0.199763   \n",
       "10                -0.225450                    -0.249130   \n",
       "11                -0.231749                    -0.266121   \n",
       "12                -0.236074                    -0.274318   \n",
       "13                -0.234801                    -0.278276   \n",
       "14                -0.234641                    -0.273518   \n",
       "15                -0.226415                    -0.261789   \n",
       "16                -0.225590                    -0.255222   \n",
       "17                -0.200959                    -0.221595   \n",
       "18                -0.167172                    -0.180151   \n",
       "19                -0.101366                    -0.104477   \n",
       "20                -0.033673                    -0.033347   \n",
       "21                -0.023482                    -0.020558   \n",
       "22                -0.018994                    -0.016057   \n",
       "23                -0.014186                    -0.011364   \n",
       "\n",
       "    Baseflow = Topmodel(distributed)  \n",
       "0                          -0.010086  \n",
       "1                          -0.009470  \n",
       "2                          -0.009037  \n",
       "3                          -0.008132  \n",
       "4                          -0.007583  \n",
       "5                          -0.007902  \n",
       "6                          -0.009237  \n",
       "7                          -0.034619  \n",
       "8                          -0.111728  \n",
       "9                          -0.192050  \n",
       "10                         -0.257456  \n",
       "11                         -0.311639  \n",
       "12                         -0.334507  \n",
       "13                         -0.339161  \n",
       "14                         -0.321774  \n",
       "15                         -0.296647  \n",
       "16                         -0.272851  \n",
       "17                         -0.229138  \n",
       "18                         -0.177602  \n",
       "19                         -0.096843  \n",
       "20                         -0.028116  \n",
       "21                         -0.017639  \n",
       "22                         -0.013765  \n",
       "23                         -0.010427  "
      ]
     },
     "execution_count": 52,
     "metadata": {},
     "output_type": "execute_result"
    }
   ],
   "source": [
    "ET_Combine"
   ]
  },
  {
   "cell_type": "markdown",
   "metadata": {},
   "source": [
    "#### 4.4) Add obervation data in Aspen station in Reynolds Mountain East to the plot"
   ]
  },
  {
   "cell_type": "code",
   "execution_count": 53,
   "metadata": {},
   "outputs": [],
   "source": [
    "# create pySUMMA Plotting Object\n",
    "Val_eddyFlux = Plotting(hs_path + '/summaTestCases_2.x/testCases_data/validationData/ReynoldsCreek_eddyFlux.nc')"
   ]
  },
  {
   "cell_type": "code",
   "execution_count": 54,
   "metadata": {},
   "outputs": [],
   "source": [
    "# read Total Evapotranspiration(LE-wpl) from validation netcdf file\n",
    "Obs_Evapotranspitaton = Val_eddyFlux.ds['LE-wpl']\n",
    "# create dates(X-axis) attribute from validation netcdf file\n",
    "dates = Obs_Evapotranspitaton.coords['time'].data\n",
    "# Change unit from Wm-2 to mm/hr (1 Wm-2 = 0.0864 MJm-2day-1, 1 MJm-2day-1 = 0.408 mmday-1, 1day = 24h)\n",
    "data_values = Obs_Evapotranspitaton.data*0.0864*0.408/24\n",
    "# create two dimensional tabular data structure \n",
    "df = pd.DataFrame(data_values, index=dates)\n",
    "# set the time period to display plot\n",
    "df_filt = df.loc[\"2007-06-01\":\"2007-08-20\"]\n",
    "# select aspen obervation station among three different stations\n",
    "df_filt.columns = ['-','Observation (aspen)','-']\n",
    "# resample data by the average for hour of day\n",
    "df_gp_hr = df_filt.groupby([df_filt.index.hour, df_filt.index.minute]).mean()\n",
    "# reset index so each row has an hour an minute column\n",
    "df_gp_hr.reset_index(inplace=True)\n",
    "# add hour and minute columns for plotting\n",
    "xvals = df_gp_hr.reset_index()['level_0'] + df_gp_hr.reset_index()['level_1']/60."
   ]
  },
  {
   "cell_type": "markdown",
   "metadata": {},
   "source": [
    "#### 4.5) Plotting output of the Parameterization of the Lateral Flux of Liquid Water and observation data"
   ]
  },
  {
   "cell_type": "code",
   "execution_count": 56,
   "metadata": {
    "scrolled": false
   },
   "outputs": [
    {
     "data": {
      "text/plain": [
       "<matplotlib.legend.Legend at 0x7f86e74cdda0>"
      ]
     },
     "execution_count": 56,
     "metadata": {},
     "output_type": "execute_result"
    },
    {
     "data": {
      "image/png": "[encoded data removed]",
      "text/plain": [
       "<matplotlib.figure.Figure at 0x7f86e77a12b0>"
      ]
     },
     "metadata": {},
     "output_type": "display_data"
    }
   ],
   "source": [
    "# create plot with the Parameterization of model representation of the lateral flux of liquid water\n",
    "ET_Combine_Graph = ET_Combine.plot(legend=False)\n",
    "# invert y axis\n",
    "ET_Combine_Graph.invert_yaxis()\n",
    "\n",
    "ET_Combine_Graph.plot(ET_Combine[\"Baseflow = 1D Richards'\"],color='b', marker='^') \n",
    "ET_Combine_Graph.plot(ET_Combine['Baseflow = Topmodel(lumped)'], color='g', marker='o')\n",
    "ET_Combine_Graph.plot(ET_Combine['Baseflow = Topmodel(distributed)'], color='y', marker='d')\n",
    "\n",
    "ET_Combine_Graph.tick_params(labelsize = 15)\n",
    "# plot scatter with x='xvals', y='Observation (aspen)'\n",
    "ET_Combine_Graph.scatter(xvals, df_gp_hr['Observation (aspen)'], color='black')\n",
    "# add x, y label\n",
    "ET_Combine_Graph.set_xlabel(\"Time of day (hr)\", fontsize=18)\n",
    "ET_Combine_Graph.set_ylabel(\"Total evapotranspiration (mm h-1)\", fontsize=18)\n",
    "\n",
    "handles, labels = ET_Combine_Graph.get_legend_handles_labels()\n",
    "# show up the legend\n",
    "ET_Combine_Graph.legend(handles[3:7], labels[3:7])"
   ]
  },
  {
   "cell_type": "markdown",
   "metadata": {},
   "source": [
    "#### 4.6) Validation between the observation and simulation data."
   ]
  },
  {
   "cell_type": "code",
   "execution_count": 56,
   "metadata": {},
   "outputs": [],
   "source": [
    "from sklearn.metrics import mean_absolute_error, mean_squared_error\n",
    "from math import sqrt\n",
    "from pysumma.Validation import validation"
   ]
  },
  {
   "cell_type": "code",
   "execution_count": 57,
   "metadata": {},
   "outputs": [],
   "source": [
    "# defind simulation data\n",
    "richard_simulation = ET_Combine [\"Baseflow = 1D Richards'\"]\n",
    "lumped_simulation = ET_Combine ['Baseflow = Topmodel(lumped)']\n",
    "distributed_simulation = ET_Combine ['Baseflow = Topmodel(distributed)']"
   ]
  },
  {
   "cell_type": "code",
   "execution_count": 58,
   "metadata": {},
   "outputs": [],
   "source": [
    "# defind observation data\n",
    "obs = df_gp_hr.groupby('level_0').mean()\n",
    "observation_data = obs['Observation (aspen)']"
   ]
  },
  {
   "cell_type": "code",
   "execution_count": 59,
   "metadata": {},
   "outputs": [
    {
     "name": "stdout",
     "output_type": "stream",
     "text": [
      "Mean Absolute Error: 0.014825\n",
      "Mean Squared Error: 0.000444\n",
      "Root Mean Squared Error: 0.021079\n"
     ]
    }
   ],
   "source": [
    "# analyze validtation between BallBerry simulation and observation data.\n",
    "validation.analysis(observation_data, richard_simulation)"
   ]
  },
  {
   "cell_type": "code",
   "execution_count": 60,
   "metadata": {},
   "outputs": [
    {
     "name": "stdout",
     "output_type": "stream",
     "text": [
      "Mean Absolute Error: 0.010855\n",
      "Mean Squared Error: 0.000279\n",
      "Root Mean Squared Error: 0.016714\n"
     ]
    }
   ],
   "source": [
    "# analyze validtation between BallBerry simulation and observation data.\n",
    "validation.analysis(observation_data, lumped_simulation)"
   ]
  },
  {
   "cell_type": "code",
   "execution_count": 61,
   "metadata": {},
   "outputs": [
    {
     "name": "stdout",
     "output_type": "stream",
     "text": [
      "Mean Absolute Error: 0.021015\n",
      "Mean Squared Error: 0.000966\n",
      "Root Mean Squared Error: 0.031081\n"
     ]
    }
   ],
   "source": [
    "# analyze validtation between BallBerry simulation and observation data.\n",
    "validation.analysis(observation_data, distributed_simulation)"
   ]
  },
  {
   "cell_type": "markdown",
   "metadata": {},
   "source": [
    "## 5. Discussion"
   ]
  },
  {
   "cell_type": "markdown",
   "metadata": {},
   "source": [
    "As stated in Clark et al., 2015, the following insights can be gained from this analysis:\n",
    "\n",
    "* The simulation in Figure 8 illustrates the model representation of the lateral flux of liquid water, which determines (in part) the availability of soil water.\n",
    "\n",
    "* The results in Figure 8 demonstrate strong sensitivities the lateral flow parameterization. The parameterizations based on power-law transmissivity profiles (both lumped and distributed) have more drainage of soil water at deeper soil layers; however, the distributed simulations include inflow from upslope, resulting in more plant-available soil water and an increase in transpiration. Taken together, the results in Figure 8 illustrate the strong interdependencies among different modeling decisions, which of course complicate discriminating among competing process parameterizations."
   ]
  },
  {
   "cell_type": "markdown",
   "metadata": {},
   "source": [
    "## 6. Post notebook and simulation results back to Hydroshare"
   ]
  },
  {
   "cell_type": "code",
   "execution_count": 58,
   "metadata": {},
   "outputs": [
    {
     "name": "stdout",
     "output_type": "stream",
     "text": [
      "Successfully established a connection with HydroShare\n"
     ]
    }
   ],
   "source": [
    "from pysumma.hydroshare import hydroshare\n",
    "hs = hydroshare.hydroshare()"
   ]
  },
  {
   "cell_type": "code",
   "execution_count": 59,
   "metadata": {},
   "outputs": [],
   "source": [
    "# write meta data such as abstract, title, keywords, rtype\n",
    "abstract = 'output of SUMMA(Fig8, Right)'\n",
    "title = 'output of SUMMA(Fig8, Right)'\n",
    "keywords = ('SUMMA', 'Hydrologic Model')\n",
    "rtype = 'GenericResource'\n",
    "files = output_R, output_LT, output_DT\n",
    "metadata = '[{\"creator\":{\"name\":\"Youngdon Choi\"}}, {\"creator\":{\"name\":\"Jeffrey Sadler\"}}]'\n",
    "extra_metadata = '{\"key-1\": \"value-1\", \"key-2\": \"value-2\"}'"
   ]
  },
  {
   "cell_type": "code",
   "execution_count": 60,
   "metadata": {},
   "outputs": [
    {
     "name": "stdout",
     "output_type": "stream",
     "text": [
      "Resource Created Successfully                           \n",
      "Successfully Added Content Files                      \n"
     ]
    },
    {
     "data": {
      "text/html": [
       "Resource id: 3087695efdec4ca7a36306d8153214aa"
      ],
      "text/plain": [
       "<IPython.core.display.HTML object>"
      ]
     },
     "metadata": {},
     "output_type": "display_data"
    },
    {
     "data": {
      "text/html": [
       "<a href=https://www.hydroshare.org/resource/3087695efdec4ca7a36306d8153214aa target=\"_blank\">Open Resource in HydroShare<a>"
      ],
      "text/plain": [
       "<IPython.core.display.HTML object>"
      ]
     },
     "metadata": {},
     "output_type": "display_data"
    }
   ],
   "source": [
    "# post simulation results of simpleResistance back to HS\n",
    "resource_id = hs.createHydroShareResource(title=title, content_files=files, keywords=keywords, abstract=abstract, resource_type='genericresource', public=False)"
   ]
  },
  {
   "cell_type": "markdown",
   "metadata": {},
   "source": [
    "#### Save this notebook file to add the notebook to rhe resource of summa output"
   ]
  },
  {
   "cell_type": "code",
   "execution_count": 61,
   "metadata": {},
   "outputs": [
    {
     "name": "stdout",
     "output_type": "stream",
     "text": [
      "Successfully Added Content Files                      \n"
     ]
    }
   ],
   "source": [
    "# add a notebook to the resource of summa output\n",
    "npath = save_filepath+'/pysumma/sopron_2018_notebooks/pySUMMA_Demo_Example_Fig8_right_Using_TestCase_from_Hydroshare.ipynb'\n",
    "# check the resource id on HS that created.\n",
    "hs.addContentToExistingResource(resource_id, [npath])"
   ]
  },
  {
   "cell_type": "markdown",
   "metadata": {},
   "source": [
    "## 7. make this resource public"
   ]
  },
  {
   "cell_type": "code",
   "execution_count": null,
   "metadata": {},
   "outputs": [],
   "source": [
    "# check the resource id \n",
    "C_resource_id = '3087695efdec4ca7a36306d8153214aa'"
   ]
  },
  {
   "cell_type": "code",
   "execution_count": null,
   "metadata": {},
   "outputs": [],
   "source": [
    "# make a resource public\n",
    "hs.setAccessRules(C_resource_id, public=True)"
   ]
  },
  {
   "cell_type": "code",
   "execution_count": null,
   "metadata": {},
   "outputs": [],
   "source": []
  }
 ],
 "metadata": {
  "kernelspec": {
   "display_name": "Python 3",
   "language": "python",
   "name": "python3"
  },
  "language_info": {
   "codemirror_mode": {
    "name": "ipython",
    "version": 3
   },
   "file_extension": ".py",
   "mimetype": "text/x-python",
   "name": "python",
   "nbconvert_exporter": "python",
   "pygments_lexer": "ipython3",
   "version": "3.6.3"
  }
 },
 "nbformat": 4,
 "nbformat_minor": 2
}
