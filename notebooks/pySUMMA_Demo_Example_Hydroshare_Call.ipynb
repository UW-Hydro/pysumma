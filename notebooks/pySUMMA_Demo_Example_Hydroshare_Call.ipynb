{
 "cells": [
  {
   "cell_type": "markdown",
   "metadata": {},
   "source": [
    "##  Modeling the Impact of Stomatal Resistance Parameterizations on Total Evapotranspiration in the Reynolds Mountain East catchment using pySUMMA"
   ]
  },
  {
   "cell_type": "markdown",
   "metadata": {},
   "source": [
    "## 1. Introduction"
   ]
  },
  {
   "cell_type": "markdown",
   "metadata": {},
   "source": [
    "One part of the Clark et al. (2015) study explored the impact of different stomatal resistance parameterizations on total evapotranspiration (ET) using a SUMMA model for the Reynolds Mountain East catchment. This study looked at three different stomatal resistance parameterizations: the simple soil resistance method, the Ball Berry method, and the Jarvis method.\n",
    "\n",
    "In this Jupyter Notebook, the pySUMMA library is used to reproduce this analysis. First, the three different stomatal resistance parameterizations are described. Next, the Methods section describes how the pySUMMA can be used to create three different versions of the Reynolds Mountain East catchment model, one for each stomatal resistance parameterization. The Results section shows how to use pySUMMA and the Pandas library to reproduce Figure 7 from Clark et al. (2015). \n",
    "\n",
    "Collectively, this Jupyter Notebook serves as an example of how hydrologic modeling can be conducted directly within a Jupyter Notebook by leveraging the pySUMMA library. "
   ]
  },
  {
   "cell_type": "markdown",
   "metadata": {},
   "source": [
    "## 2. Background"
   ]
  },
  {
   "cell_type": "markdown",
   "metadata": {},
   "source": [
    "### The stomatal resistance parameterizations available in SUMMA"
   ]
  },
  {
   "cell_type": "code",
   "execution_count": 1,
   "metadata": {},
   "outputs": [],
   "source": [
    "#import libraries to display equations within the notebook\n",
    "from IPython.display import display, Math, Latex"
   ]
  },
  {
   "cell_type": "markdown",
   "metadata": {},
   "source": [
    "### 1.) The simple soil resistance method"
   ]
  },
  {
   "cell_type": "markdown",
   "metadata": {},
   "source": [
    "\\begin{equation*}\n",
    "r_{{s},{sun}} = r_{{s},{shd}} = \\frac{r_{0c}}{\\beta_v} \\,\\,\\,\\, \n",
    "\\end{equation*}\n",
    "$r_{0c} \\,(s\\,m^{-1})$ : the minimum stomatal resistance ,     ${\\beta_v}\\,(-)$ : the total soil water stress function"
   ]
  },
  {
   "cell_type": "markdown",
   "metadata": {},
   "source": [
    "\\begin{equation*}\n",
    "{\\beta_v} = \\sum f_{{roots},{j}} \\beta_{{v},{j}}  +  f_{roots}^{aq} \\beta_{v}^{aq}\n",
    "\\end{equation*}\n",
    "$z_{soil}$ : the soil depth, $f_{{roots},{j}}$ : the root density in the $j$-th soil layer\n",
    "$\\beta_{{v},{j}}$ : the water availability stress funtion in the $j$-th soil layer <br/>\n",
    "$f_{roots}^{aq}$ : the fraction of roots for the aquifer, $\\beta_{v}^{aq}$ : water availability stress function for the aquifer\n",
    "\n",
    "For additional detail, see: https://github.com/DavidChoi76/pysumma/blob/master/simple1.png"
   ]
  },
  {
   "cell_type": "markdown",
   "metadata": {},
   "source": [
    "### 2.) The Ball-Berry method\n",
    " "
   ]
  },
  {
   "cell_type": "markdown",
   "metadata": {},
   "source": [
    "\\begin{equation*}\n",
    "g_i = v_t  \\frac{A_i}{c_{air}}\\frac{e_{air}}{e_{sat}(T_{veg})}P_{air} + g_{min}\\beta_v, \\,\\,\\,\\,   i = sun, shd\n",
    "\\end{equation*}"
   ]
  },
  {
   "cell_type": "markdown",
   "metadata": {},
   "source": [
    "$g_i\\, (micromol \\,\\, m^{-2} s^{-1})$ : Stomatal conductance per unit sunlit and shaded leaf area <br/> \n",
    "$A_i\\, (micromol \\,\\, m^{-2} s^{-1})$ : a function of the rate of photosynthesis <br/>\n",
    "$c_{air}\\, (Pa)$ : $CO_2$ concentration at the leaf surface (time varying model forcing, representing carbon fertilization) <br/>\n",
    "$g_{min}\\, (micromol \\,\\, m^{-2} s^{-1})$ : the minimum stomatal conductance <br/>\n",
    "$v_t\\,(-)$ : an empirical parameter to relate transpiration to the $CO_2$ flux, where a greater value of $v_t$ means the leaf consumes more water to produce the same carbon mass <br/>\n",
    "\n",
    "For additinoal detail, see: https://github.com/DavidChoi76/pysumma/blob/master/BallBerry.png"
   ]
  },
  {
   "cell_type": "markdown",
   "metadata": {},
   "source": [
    "### 3) The Jarvis method"
   ]
  },
  {
   "cell_type": "markdown",
   "metadata": {},
   "source": [
    "\\begin{equation*}\n",
    "r_{{s},{i}} = \\frac{r_{0c}}{f(Q_{{PAR},{i}})f(T_{air})f(e_{d})\\beta_v} \\,\\,\\,\\,   i = sun, shd\n",
    "\\end{equation*}"
   ]
  },
  {
   "cell_type": "markdown",
   "metadata": {},
   "source": [
    "the subscript $i$ defines either sunlit or shaded leaves <br/> \n",
    "$f(Q_{{PAR},{i}})$, $f(T_{air})$, $f(e_{d})$ : all limited to the range 0-1, represent the effects of photosynthetically-active radiation(PAR), air temperature, and vapor pressure deficit, where $ Q_{{PAR},{i}} $ represents PAR absorbed on sunlit or shaded leaves <br/> \n",
    "\n",
    "For additional detail, see: https://github.com/DavidChoi76/pysumma/blob/master/Jarvis.png"
   ]
  },
  {
   "cell_type": "markdown",
   "metadata": {},
   "source": [
    "The above images are taken from the Stomal Resistance Method section within the manual Structure for Unifying Multiple Modeling Alternatives (SUMMA), Version 1.0: Technical Description (April, 2015)."
   ]
  },
  {
   "cell_type": "markdown",
   "metadata": {},
   "source": [
    "## 3. Methods"
   ]
  },
  {
   "cell_type": "markdown",
   "metadata": {},
   "source": [
    "### 1) Study Area"
   ]
  },
  {
   "cell_type": "markdown",
   "metadata": {},
   "source": [
    "#### The Reynolds Mountain East catchment is located in southwestern Idaho as shown in the figure below."
   ]
  },
  {
   "cell_type": "code",
   "execution_count": 1,
   "metadata": {},
   "outputs": [],
   "source": [
    "from ipyleaflet import Map, GeoJSON\n",
    "import json"
   ]
  },
  {
   "cell_type": "code",
   "execution_count": 2,
   "metadata": {},
   "outputs": [
    {
     "ename": "FileNotFoundError",
     "evalue": "[Errno 2] No such file or directory: 'reynolds_geojson_latlon.geojson'",
     "output_type": "error",
     "traceback": [
      "\u001b[0;31m---------------------------------------------------------------------------\u001b[0m",
      "\u001b[0;31mFileNotFoundError\u001b[0m                         Traceback (most recent call last)",
      "\u001b[0;32m<ipython-input-2-07bdf8f7dde3>\u001b[0m in \u001b[0;36m<module>\u001b[0;34m()\u001b[0m\n\u001b[1;32m      1\u001b[0m \u001b[0mm\u001b[0m \u001b[0;34m=\u001b[0m \u001b[0mMap\u001b[0m\u001b[0;34m(\u001b[0m\u001b[0mcenter\u001b[0m\u001b[0;34m=\u001b[0m\u001b[0;34m[\u001b[0m\u001b[0;36m43.06745\u001b[0m\u001b[0;34m,\u001b[0m \u001b[0;34m-\u001b[0m\u001b[0;36m116.75489\u001b[0m\u001b[0;34m]\u001b[0m\u001b[0;34m,\u001b[0m \u001b[0mzoom\u001b[0m\u001b[0;34m=\u001b[0m\u001b[0;36m14\u001b[0m\u001b[0;34m)\u001b[0m\u001b[0;34m\u001b[0m\u001b[0m\n\u001b[0;32m----> 2\u001b[0;31m \u001b[0;32mwith\u001b[0m \u001b[0mopen\u001b[0m\u001b[0;34m(\u001b[0m\u001b[0;34m'reynolds_geojson_latlon.geojson'\u001b[0m\u001b[0;34m)\u001b[0m \u001b[0;32mas\u001b[0m \u001b[0mf\u001b[0m\u001b[0;34m:\u001b[0m\u001b[0;34m\u001b[0m\u001b[0m\n\u001b[0m\u001b[1;32m      3\u001b[0m     \u001b[0mdata\u001b[0m \u001b[0;34m=\u001b[0m \u001b[0mjson\u001b[0m\u001b[0;34m.\u001b[0m\u001b[0mload\u001b[0m\u001b[0;34m(\u001b[0m\u001b[0mf\u001b[0m\u001b[0;34m)\u001b[0m\u001b[0;34m\u001b[0m\u001b[0m\n\u001b[1;32m      4\u001b[0m \u001b[0mg\u001b[0m \u001b[0;34m=\u001b[0m \u001b[0mGeoJSON\u001b[0m\u001b[0;34m(\u001b[0m\u001b[0mdata\u001b[0m\u001b[0;34m=\u001b[0m\u001b[0mdata\u001b[0m\u001b[0;34m)\u001b[0m\u001b[0;34m\u001b[0m\u001b[0m\n\u001b[1;32m      5\u001b[0m \u001b[0mm\u001b[0m\u001b[0;34m.\u001b[0m\u001b[0madd_layer\u001b[0m\u001b[0;34m(\u001b[0m\u001b[0mg\u001b[0m\u001b[0;34m)\u001b[0m\u001b[0;34m\u001b[0m\u001b[0m\n",
      "\u001b[0;31mFileNotFoundError\u001b[0m: [Errno 2] No such file or directory: 'reynolds_geojson_latlon.geojson'"
     ]
    }
   ],
   "source": [
    "m = Map(center=[43.06745, -116.75489], zoom=14)\n",
    "with open('reynolds_geojson_latlon.geojson') as f:\n",
    "    data = json.load(f)\n",
    "g = GeoJSON(data=data)\n",
    "m.add_layer(g)\n",
    "m"
   ]
  },
  {
   "cell_type": "markdown",
   "metadata": {},
   "source": [
    "### 2) Create pySUMMA Simulation Object"
   ]
  },
  {
   "cell_type": "code",
   "execution_count": 20,
   "metadata": {},
   "outputs": [],
   "source": [
    "from pysumma.Simulation import Simulation"
   ]
  },
  {
   "cell_type": "code",
   "execution_count": 21,
   "metadata": {},
   "outputs": [],
   "source": [
    "# create a pySUMMA simulation object using the SUMMA 'file manager' input file \n",
    "S = Simulation('/media/sf_pysumma/summaTestCases_2.x/settings/wrrPaperTestCases/figure07/summa_fileManager_riparianAspenSimpleResistance.txt')"
   ]
  },
  {
   "cell_type": "code",
   "execution_count": 22,
   "metadata": {},
   "outputs": [],
   "source": [
    "# set the simulation start and finish times\n",
    "S.decision_obj.simulStart.value = \"2006-07-01 00:00\"\n",
    "S.decision_obj.simulStart.value"
   ]
  },
  {
   "cell_type": "code",
   "execution_count": 19,
   "metadata": {},
   "outputs": [],
   "source": [
    "S.decision_obj.simulFinsh.value = \"2007-08-20 00:00\"\n",
    "S.decision_obj.simulFinsh.value"
   ]
  },
  {
   "cell_type": "markdown",
   "metadata": {},
   "source": [
    "### 3) Run SUMMA for the different stomatal resistance parameterization options"
   ]
  },
  {
   "cell_type": "code",
   "execution_count": 34,
   "metadata": {
    "scrolled": true
   },
   "outputs": [
    {
     "data": {
      "text/plain": [
       "['BallBerry', 'Jarvis', 'simpleResistance']"
      ]
     },
     "execution_count": 34,
     "metadata": {},
     "output_type": "execute_result"
    }
   ],
   "source": [
    "# query for the available stomatal resistance parameterizations\n",
    "S.decision_obj.stomResist.options"
   ]
  },
  {
   "cell_type": "markdown",
   "metadata": {},
   "source": [
    "#### 3.1) assign simple soil resistance method "
   ]
  },
  {
   "cell_type": "code",
   "execution_count": 38,
   "metadata": {},
   "outputs": [
    {
     "data": {
      "text/plain": [
       "'simpleResistance'"
      ]
     },
     "execution_count": 38,
     "metadata": {},
     "output_type": "execute_result"
    }
   ],
   "source": [
    "S.decision_obj.stomResist.value = 'simpleResistance'\n",
    "S.decision_obj.stomResist.value"
   ]
  },
  {
   "cell_type": "markdown",
   "metadata": {},
   "source": [
    "#### 3.2) run the model giving the output the suffix \"simpleResistance\""
   ]
  },
  {
   "cell_type": "code",
   "execution_count": 36,
   "metadata": {
    "scrolled": true
   },
   "outputs": [],
   "source": [
    "S.executable = \"/media/sf_pysumma/summa-master/bin/summa.exe\""
   ]
  },
  {
   "cell_type": "code",
   "execution_count": 37,
   "metadata": {},
   "outputs": [],
   "source": [
    "results_simpleResistance = S.execute(run_suffix=\"simpleResistance\")"
   ]
  },
  {
   "cell_type": "markdown",
   "metadata": {},
   "source": [
    "#### 3.3) repeat for the Ball Berry method "
   ]
  },
  {
   "cell_type": "code",
   "execution_count": 39,
   "metadata": {},
   "outputs": [
    {
     "data": {
      "text/plain": [
       "'BallBerry'"
      ]
     },
     "execution_count": 39,
     "metadata": {},
     "output_type": "execute_result"
    }
   ],
   "source": [
    "S.decision_obj.stomResist.value = 'BallBerry'\n",
    "S.decision_obj.stomResist.value"
   ]
  },
  {
   "cell_type": "code",
   "execution_count": null,
   "metadata": {},
   "outputs": [],
   "source": [
    "results_BallBerry = S.execute(run_suffix=\"BallBerry\")"
   ]
  },
  {
   "cell_type": "markdown",
   "metadata": {},
   "source": [
    "#### 3.4) repeat for the Jarvis method "
   ]
  },
  {
   "cell_type": "code",
   "execution_count": 40,
   "metadata": {},
   "outputs": [
    {
     "data": {
      "text/plain": [
       "'Jarvis'"
      ]
     },
     "execution_count": 40,
     "metadata": {},
     "output_type": "execute_result"
    }
   ],
   "source": [
    "S.decision_obj.stomResist.value = 'Jarvis'\n",
    "S.decision_obj.stomResist.value"
   ]
  },
  {
   "cell_type": "code",
   "execution_count": 41,
   "metadata": {},
   "outputs": [],
   "source": [
    "results_Jarvis = S.execute(run_suffix=\"Jarvis\")"
   ]
  },
  {
   "cell_type": "markdown",
   "metadata": {},
   "source": [
    "## 4. Results"
   ]
  },
  {
   "cell_type": "markdown",
   "metadata": {},
   "source": [
    "### Recreate the Figure 7 plot from Clark et al., 2015: The total ET for the three different stomatal resistance methods"
   ]
  },
  {
   "cell_type": "code",
   "execution_count": 42,
   "metadata": {},
   "outputs": [],
   "source": [
    "from pysumma.Plotting import Plotting\n",
    "from jupyterthemes import jtplot\n",
    "import matplotlib.pyplot as plt\n",
    "import pandas as pd\n",
    "jtplot.figsize(x=10, y=10)"
   ]
  },
  {
   "cell_type": "markdown",
   "metadata": {},
   "source": [
    "#### 4.1) Create function to calculate Total ET from SUMMA output"
   ]
  },
  {
   "cell_type": "code",
   "execution_count": 43,
   "metadata": {},
   "outputs": [],
   "source": [
    "def calc_total_et(et_output_df):\n",
    "    # Total Evapotranspiration = Canopy Transpiration + Canopy Evaporation + Ground Evaporation\n",
    "    # Change unit from kgm-2s-1 to mm/hr (mulpitle 3600)\n",
    "    total_et_data = (et_output_df['scalarCanopyTranspiration'] + et_output_df['scalarCanopyEvaporation'] + et_output_df['scalarGroundEvaporation'])*3600\n",
    "    # create dates(X-axis) attribute from ouput netcdf\n",
    "    dates = total_et_data.coords['time'].data\n",
    "    # create data value(Y-axis) attribute from ouput netcdf\n",
    "    data_values = total_et_data.data\n",
    "    # create two dimensional tabular data structure \n",
    "    total_et_df = pd.DataFrame(data_values, index=dates)\n",
    "    # round time to nearest hour (ex. 2006-10-01T00:59:59.99 -> 2006-10-01T01:00:00)\n",
    "    total_et_df.index = total_et_df.index.round(\"H\")\n",
    "    # set the time period to display plot \n",
    "    total_et_df = total_et_df.loc[\"2007-06-01\":\"2007-08-20\"]\n",
    "    # resample data by the average value hourly\n",
    "    total_et_df_hourly = total_et_df.resample(\"H\").mean()\n",
    "    # resample data by the average for hour of day\n",
    "    total_et_by_hour = total_et_df_hourly.groupby(total_et_df_hourly.index.hour).mean()\n",
    "    return total_et_by_hour"
   ]
  },
  {
   "cell_type": "markdown",
   "metadata": {},
   "source": [
    "#### 4.2) Get hour of day output of the three stomatal resistance methods for the period 1 June to 20 August 2007"
   ]
  },
  {
   "cell_type": "code",
   "execution_count": 44,
   "metadata": {},
   "outputs": [],
   "source": [
    "simResis_hour = calc_total_et(results_simpleResistance)\n",
    "BallBerry_hour = calc_total_et(results_BallBerry)\n",
    "Jarvis_hour = calc_total_et(results_Jarvis)"
   ]
  },
  {
   "cell_type": "markdown",
   "metadata": {},
   "source": [
    "#### 4.3) Combine the stomatal resistance parameterizations into a single Pandas Dataframe"
   ]
  },
  {
   "cell_type": "code",
   "execution_count": 45,
   "metadata": {},
   "outputs": [],
   "source": [
    "# Combine each stomatal resistance parameterizations\n",
    "ET_Combine = pd.concat([simResis_hour, BallBerry_hour, Jarvis_hour], axis=1)\n",
    "# add label \n",
    "ET_Combine.columns = ['Simple resistance', 'Ball-Berry', 'Jarvis']"
   ]
  },
  {
   "cell_type": "code",
   "execution_count": 46,
   "metadata": {},
   "outputs": [
    {
     "data": {
      "text/html": [
       "<div>\n",
       "<style scoped>\n",
       "    .dataframe tbody tr th:only-of-type {\n",
       "        vertical-align: middle;\n",
       "    }\n",
       "\n",
       "    .dataframe tbody tr th {\n",
       "        vertical-align: top;\n",
       "    }\n",
       "\n",
       "    .dataframe thead th {\n",
       "        text-align: right;\n",
       "    }\n",
       "</style>\n",
       "<table border=\"1\" class=\"dataframe\">\n",
       "  <thead>\n",
       "    <tr style=\"text-align: right;\">\n",
       "      <th></th>\n",
       "      <th>Simple resistance</th>\n",
       "      <th>Ball-Berry</th>\n",
       "      <th>Jarvis</th>\n",
       "    </tr>\n",
       "  </thead>\n",
       "  <tbody>\n",
       "    <tr>\n",
       "      <th>0</th>\n",
       "      <td>-0.015287</td>\n",
       "      <td>-0.015287</td>\n",
       "      <td>-0.011658</td>\n",
       "    </tr>\n",
       "    <tr>\n",
       "      <th>1</th>\n",
       "      <td>-0.014787</td>\n",
       "      <td>-0.014787</td>\n",
       "      <td>-0.011367</td>\n",
       "    </tr>\n",
       "    <tr>\n",
       "      <th>2</th>\n",
       "      <td>-0.013658</td>\n",
       "      <td>-0.013658</td>\n",
       "      <td>-0.010480</td>\n",
       "    </tr>\n",
       "    <tr>\n",
       "      <th>3</th>\n",
       "      <td>-0.011582</td>\n",
       "      <td>-0.011582</td>\n",
       "      <td>-0.008543</td>\n",
       "    </tr>\n",
       "    <tr>\n",
       "      <th>4</th>\n",
       "      <td>-0.010706</td>\n",
       "      <td>-0.010706</td>\n",
       "      <td>-0.007906</td>\n",
       "    </tr>\n",
       "    <tr>\n",
       "      <th>5</th>\n",
       "      <td>-0.010698</td>\n",
       "      <td>-0.010698</td>\n",
       "      <td>-0.008058</td>\n",
       "    </tr>\n",
       "    <tr>\n",
       "      <th>6</th>\n",
       "      <td>-0.012603</td>\n",
       "      <td>-0.012603</td>\n",
       "      <td>-0.011350</td>\n",
       "    </tr>\n",
       "    <tr>\n",
       "      <th>7</th>\n",
       "      <td>-0.045649</td>\n",
       "      <td>-0.045649</td>\n",
       "      <td>-0.044883</td>\n",
       "    </tr>\n",
       "    <tr>\n",
       "      <th>8</th>\n",
       "      <td>-0.124121</td>\n",
       "      <td>-0.124121</td>\n",
       "      <td>-0.122752</td>\n",
       "    </tr>\n",
       "    <tr>\n",
       "      <th>9</th>\n",
       "      <td>-0.195222</td>\n",
       "      <td>-0.195222</td>\n",
       "      <td>-0.194044</td>\n",
       "    </tr>\n",
       "    <tr>\n",
       "      <th>10</th>\n",
       "      <td>-0.240441</td>\n",
       "      <td>-0.240441</td>\n",
       "      <td>-0.250515</td>\n",
       "    </tr>\n",
       "    <tr>\n",
       "      <th>11</th>\n",
       "      <td>-0.250184</td>\n",
       "      <td>-0.250184</td>\n",
       "      <td>-0.288234</td>\n",
       "    </tr>\n",
       "    <tr>\n",
       "      <th>12</th>\n",
       "      <td>-0.248936</td>\n",
       "      <td>-0.248936</td>\n",
       "      <td>-0.304776</td>\n",
       "    </tr>\n",
       "    <tr>\n",
       "      <th>13</th>\n",
       "      <td>-0.243766</td>\n",
       "      <td>-0.243766</td>\n",
       "      <td>-0.313849</td>\n",
       "    </tr>\n",
       "    <tr>\n",
       "      <th>14</th>\n",
       "      <td>-0.237796</td>\n",
       "      <td>-0.237796</td>\n",
       "      <td>-0.314618</td>\n",
       "    </tr>\n",
       "    <tr>\n",
       "      <th>15</th>\n",
       "      <td>-0.226310</td>\n",
       "      <td>-0.226310</td>\n",
       "      <td>-0.302430</td>\n",
       "    </tr>\n",
       "    <tr>\n",
       "      <th>16</th>\n",
       "      <td>-0.224434</td>\n",
       "      <td>-0.224434</td>\n",
       "      <td>-0.290602</td>\n",
       "    </tr>\n",
       "    <tr>\n",
       "      <th>17</th>\n",
       "      <td>-0.198218</td>\n",
       "      <td>-0.198218</td>\n",
       "      <td>-0.252679</td>\n",
       "    </tr>\n",
       "    <tr>\n",
       "      <th>18</th>\n",
       "      <td>-0.164104</td>\n",
       "      <td>-0.164104</td>\n",
       "      <td>-0.211247</td>\n",
       "    </tr>\n",
       "    <tr>\n",
       "      <th>19</th>\n",
       "      <td>-0.097326</td>\n",
       "      <td>-0.097326</td>\n",
       "      <td>-0.132421</td>\n",
       "    </tr>\n",
       "    <tr>\n",
       "      <th>20</th>\n",
       "      <td>-0.034278</td>\n",
       "      <td>-0.034278</td>\n",
       "      <td>-0.050964</td>\n",
       "    </tr>\n",
       "    <tr>\n",
       "      <th>21</th>\n",
       "      <td>-0.029542</td>\n",
       "      <td>-0.029542</td>\n",
       "      <td>-0.024190</td>\n",
       "    </tr>\n",
       "    <tr>\n",
       "      <th>22</th>\n",
       "      <td>-0.024082</td>\n",
       "      <td>-0.024082</td>\n",
       "      <td>-0.019327</td>\n",
       "    </tr>\n",
       "    <tr>\n",
       "      <th>23</th>\n",
       "      <td>-0.017101</td>\n",
       "      <td>-0.017101</td>\n",
       "      <td>-0.013150</td>\n",
       "    </tr>\n",
       "  </tbody>\n",
       "</table>\n",
       "</div>"
      ],
      "text/plain": [
       "    Simple resistance  Ball-Berry    Jarvis\n",
       "0           -0.015287   -0.015287 -0.011658\n",
       "1           -0.014787   -0.014787 -0.011367\n",
       "2           -0.013658   -0.013658 -0.010480\n",
       "3           -0.011582   -0.011582 -0.008543\n",
       "4           -0.010706   -0.010706 -0.007906\n",
       "5           -0.010698   -0.010698 -0.008058\n",
       "6           -0.012603   -0.012603 -0.011350\n",
       "7           -0.045649   -0.045649 -0.044883\n",
       "8           -0.124121   -0.124121 -0.122752\n",
       "9           -0.195222   -0.195222 -0.194044\n",
       "10          -0.240441   -0.240441 -0.250515\n",
       "11          -0.250184   -0.250184 -0.288234\n",
       "12          -0.248936   -0.248936 -0.304776\n",
       "13          -0.243766   -0.243766 -0.313849\n",
       "14          -0.237796   -0.237796 -0.314618\n",
       "15          -0.226310   -0.226310 -0.302430\n",
       "16          -0.224434   -0.224434 -0.290602\n",
       "17          -0.198218   -0.198218 -0.252679\n",
       "18          -0.164104   -0.164104 -0.211247\n",
       "19          -0.097326   -0.097326 -0.132421\n",
       "20          -0.034278   -0.034278 -0.050964\n",
       "21          -0.029542   -0.029542 -0.024190\n",
       "22          -0.024082   -0.024082 -0.019327\n",
       "23          -0.017101   -0.017101 -0.013150"
      ]
     },
     "execution_count": 46,
     "metadata": {},
     "output_type": "execute_result"
    }
   ],
   "source": [
    "ET_Combine"
   ]
  },
  {
   "cell_type": "markdown",
   "metadata": {},
   "source": [
    "#### 4.4) Add obervation data in Aspen station in Reynolds Mountain East to the plot"
   ]
  },
  {
   "cell_type": "code",
   "execution_count": 49,
   "metadata": {},
   "outputs": [],
   "source": [
    "# create pySUMMA Plotting Object\n",
    "Val_eddyFlux = Plotting('/media/sf_pysumma/summaTestCases_2.x/testCases_data/validationData/ReynoldsCreek_eddyFlux.nc')"
   ]
  },
  {
   "cell_type": "code",
   "execution_count": 50,
   "metadata": {},
   "outputs": [],
   "source": [
    "# read Total Evapotranspiration(LE-wpl) from validation netcdf file\n",
    "Obs_Evapotranspitaton = Val_eddyFlux.ds['LE-wpl']\n",
    "# create dates(X-axis) attribute from validation netcdf file\n",
    "dates = Obs_Evapotranspitaton.coords['time'].data\n",
    "# Change unit from Wm-2 to mm/hr (1 Wm-2 = 0.0864 MJm-2day-1, 1 MJm-2day-1 = 0.408 mmday-1, 1day = 24h)\n",
    "data_values = Obs_Evapotranspitaton.data*0.0864*0.408/24\n",
    "# create two dimensional tabular data structure \n",
    "df = pd.DataFrame(data_values, index=dates)\n",
    "# set the time period to display plot\n",
    "df_filt = df.loc[\"2007-06-01\":\"2007-08-20\"]\n",
    "# select aspen obervation station among three different stations\n",
    "df_filt.columns = ['-','Observation (aspen)','-']\n",
    "# resample data by the average for hour of day\n",
    "df_gp_hr = df_filt.groupby([df_filt.index.hour, df_filt.index.minute]).mean()\n",
    "# reset index so each row has an hour an minute column\n",
    "df_gp_hr.reset_index(inplace=True)\n",
    "# add hour and minute columns for plotting\n",
    "xvals = df_gp_hr.reset_index()['level_0'] + df_gp_hr.reset_index()['level_1']/60."
   ]
  },
  {
   "cell_type": "markdown",
   "metadata": {},
   "source": [
    "#### 4.5) Plotting output of three different stomatal resistance parameterizations and observation data"
   ]
  },
  {
   "cell_type": "code",
   "execution_count": 51,
   "metadata": {
    "scrolled": false
   },
   "outputs": [
    {
     "data": {
      "text/plain": [
       "<matplotlib.legend.Legend at 0x7f24f70b57b8>"
      ]
     },
     "execution_count": 51,
     "metadata": {},
     "output_type": "execute_result"
    },
    {
     "data": {
      "image/png": "[encoded data removed]",
      "text/plain": [
       "<matplotlib.figure.Figure at 0x7f24f70b5a20>"
      ]
     },
     "metadata": {},
     "output_type": "display_data"
    }
   ],
   "source": [
    "# create plot with three different stomatal resistance parameterizations\n",
    "ET_Combine_Graph = ET_Combine.plot()\n",
    "# invert y axis\n",
    "ET_Combine_Graph.invert_yaxis()\n",
    "# plot scatter with x='xvals', y='Observation (aspen)'\n",
    "ET_Combine_Graph.scatter(xvals, df_gp_hr['Observation (aspen)'])\n",
    "# add x, y label\n",
    "ET_Combine_Graph.set(xlabel='Time of day (hr)', ylabel='Total evapotranspiration (mm h-1) ')\n",
    "# show up the legend\n",
    "ET_Combine_Graph.legend()"
   ]
  },
  {
   "cell_type": "markdown",
   "metadata": {},
   "source": [
    "## 5. Discussion"
   ]
  },
  {
   "cell_type": "markdown",
   "metadata": {},
   "source": [
    "As stated in Clark et al., 2015, the following insights can be gained from this analysis:\n",
    "* The simulations in Figure 7 illustrate substantial differences in the estimates of the diurnal cycle of transpiration depending on the choice of stomatal resistance parameterization. \n",
    "* The simple soil resistance parameterization [Liang et al., 1994], when combined with the two-source model of within-canopy and below-canopy turbulence [Choudhury and Monteith, 1988; Clark et al., 2015a], results in a substantial amount of transpiration at night when there is no light available for photosynthesis. \n",
    "* The physiological representations of transpiration – using the Jarvis and Ball-Berry parameterizations, as defined in Clark et al. [2015a] – have an explicit dependence on photosynthetically active radiation and show the expected result of zero transpiration during nighttime hours, resulting in a poor match with observations (Figure 7).\n",
    "* A striking result from Figure 7 is that the Ball-Berry parameterization underestimates evapotranspiration when applied using the default model parameters for stomatal resistance in combination with the particular choice of process parameterizations and parameters for soil hydrology."
   ]
  },
  {
   "cell_type": "code",
   "execution_count": null,
   "metadata": {},
   "outputs": [],
   "source": []
  }
 ],
 "metadata": {
  "kernelspec": {
   "display_name": "Python 3",
   "language": "python",
   "name": "python3"
  },
  "language_info": {
   "codemirror_mode": {
    "name": "ipython",
    "version": 3
   },
   "file_extension": ".py",
   "mimetype": "text/x-python",
   "name": "python",
   "nbconvert_exporter": "python",
   "pygments_lexer": "ipython3",
   "version": "3.6.3"
  }
 },
 "nbformat": 4,
 "nbformat_minor": 2
}
