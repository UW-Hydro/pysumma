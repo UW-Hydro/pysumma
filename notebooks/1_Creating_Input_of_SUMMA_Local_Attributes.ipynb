{
 "cells": [
  {
   "cell_type": "markdown",
   "metadata": {},
   "source": [
    "## 1. Creating LocalAttributes netCDF"
   ]
  },
  {
   "cell_type": "code",
   "execution_count": 7,
   "metadata": {},
   "outputs": [],
   "source": [
    "from netCDF4 import Dataset"
   ]
  },
  {
   "cell_type": "code",
   "execution_count": 8,
   "metadata": {},
   "outputs": [],
   "source": [
    "# Create a netCDF file\n",
    "LocalAttributes = Dataset(\"LocalAttri.nc\", \"w\", format=\"NETCDF3_CLASSIC\")\n",
    "# Create attributes in a netCDF file\n",
    "LocalAttributes.datasource = \"*zLocalAttributes*\"\n",
    "LocalAttributes.history = \"Tue Sep 27 21:51:50 2016: ncrename -d nhru,hru -d ngru,gru ./wrrPaperTestCases/figure07/LocalAttri.nc\"\n",
    "LocalAttributes.NCO = \"4.6.0\""
   ]
  },
  {
   "cell_type": "code",
   "execution_count": 9,
   "metadata": {},
   "outputs": [],
   "source": [
    "# Create Dimension in a netCDF file\n",
    "hru = LocalAttributes.createDimension(\"hru\", 1)\n",
    "gru = LocalAttributes.createDimension(\"gru\", 1)"
   ]
  },
  {
   "cell_type": "markdown",
   "metadata": {},
   "source": [
    "### Create variables in a netCDF file for figure07 in wrrPaperTestCases (Clark et al., 2015b)"
   ]
  },
  {
   "cell_type": "code",
   "execution_count": 10,
   "metadata": {
    "scrolled": true
   },
   "outputs": [],
   "source": [
    "hru2gruId = LocalAttributes.createVariable(\"hru2gruId\", \"i4\", (\"hru\",))\n",
    "hru2gruId.long_name = 'Index of GRU to which the HRU belongs'\n",
    "hru2gruId.units = '-'\n",
    "hru2gruId[:] = '1001'"
   ]
  },
  {
   "cell_type": "code",
   "execution_count": 11,
   "metadata": {},
   "outputs": [],
   "source": [
    "downHRUindex = LocalAttributes.createVariable(\"downHRUindex\", \"i4\", (\"hru\",))\n",
    "downHRUindex.long_name = 'Index of downslope HRU (0 = basin outlet)'\n",
    "downHRUindex.units = '-'\n",
    "downHRUindex[:] = '0'"
   ]
  },
  {
   "cell_type": "code",
   "execution_count": 12,
   "metadata": {},
   "outputs": [],
   "source": [
    "slopeTypeIndex = LocalAttributes.createVariable(\"slopeTypeIndex\", \"i4\", (\"hru\",))\n",
    "slopeTypeIndex.long_name = 'Index defining slope'\n",
    "slopeTypeIndex.units = '-'\n",
    "slopeTypeIndex[:] = '1'"
   ]
  },
  {
   "cell_type": "code",
   "execution_count": 13,
   "metadata": {},
   "outputs": [],
   "source": [
    "soilTypeIndex = LocalAttributes.createVariable(\"soilTypeIndex\", \"i4\", (\"hru\",))\n",
    "soilTypeIndex.long_name = 'Index defining soil type'\n",
    "soilTypeIndex.units = '-'\n",
    "soilTypeIndex[:] = '8'"
   ]
  },
  {
   "cell_type": "code",
   "execution_count": 14,
   "metadata": {},
   "outputs": [],
   "source": [
    "vegTypeIndex = LocalAttributes.createVariable(\"vegTypeIndex\", \"i4\", (\"hru\",))\n",
    "vegTypeIndex.long_name = 'Index defining vegetation type'\n",
    "vegTypeIndex.units = '-'\n",
    "vegTypeIndex[:] = '11'"
   ]
  },
  {
   "cell_type": "code",
   "execution_count": 15,
   "metadata": {},
   "outputs": [],
   "source": [
    "mHeight = LocalAttributes.createVariable(\"mHeight\", \"f8\", (\"hru\",))\n",
    "mHeight.long_name = 'Measurement height above bare ground'\n",
    "mHeight.units = 'm'\n",
    "mHeight[:] = '19.25'"
   ]
  },
  {
   "cell_type": "code",
   "execution_count": 16,
   "metadata": {},
   "outputs": [],
   "source": [
    "contourLength = LocalAttributes.createVariable(\"contourLength\", \"f8\", (\"hru\",))\n",
    "contourLength.long_name = 'ContourLength of HRU'\n",
    "contourLength.units = 'm'\n",
    "contourLength[:] = '180.83141'"
   ]
  },
  {
   "cell_type": "code",
   "execution_count": 17,
   "metadata": {},
   "outputs": [],
   "source": [
    "tan_slope = LocalAttributes.createVariable(\"tan_slope\", \"f8\", (\"hru\",))\n",
    "tan_slope.long_name = 'Average tangent slope of HRU'\n",
    "tan_slope.units = 'm m-1'\n",
    "tan_slope[:] = '0.20826'"
   ]
  },
  {
   "cell_type": "code",
   "execution_count": 18,
   "metadata": {},
   "outputs": [],
   "source": [
    "elevation = LocalAttributes.createVariable(\"elevation\", \"f8\", (\"hru\",))\n",
    "elevation.long_name = \"Elevation of HRU's centriod point\"\n",
    "elevation.units = 'm'\n",
    "elevation[:] = '2097.0'"
   ]
  },
  {
   "cell_type": "code",
   "execution_count": 19,
   "metadata": {},
   "outputs": [],
   "source": [
    "longitude = LocalAttributes.createVariable(\"longitude\", \"f8\", (\"hru\",))\n",
    "longitude.long_name = \"Longitude of HRU's centriod point\"\n",
    "longitude.units = 'decimal degree east'\n",
    "longitude[:] = '243.2'"
   ]
  },
  {
   "cell_type": "code",
   "execution_count": 20,
   "metadata": {},
   "outputs": [],
   "source": [
    "latitude = LocalAttributes.createVariable(\"latitude\", \"f8\", (\"hru\",))\n",
    "latitude.long_name = \"Latitude of HRU's centriod point\"\n",
    "latitude.units = 'decimal degree north'\n",
    "latitude[:] = '43.2'"
   ]
  },
  {
   "cell_type": "code",
   "execution_count": 21,
   "metadata": {},
   "outputs": [],
   "source": [
    "HRUarea = LocalAttributes.createVariable(\"HRUarea\", \"f8\", (\"hru\",))\n",
    "HRUarea.long_name = \"Area of each HRU\"\n",
    "HRUarea.units = 'm^2'\n",
    "HRUarea[:] = '32700.0'"
   ]
  },
  {
   "cell_type": "code",
   "execution_count": 22,
   "metadata": {},
   "outputs": [],
   "source": [
    "hruId = LocalAttributes.createVariable(\"hruId\", \"i4\", (\"hru\",))\n",
    "hruId.long_name = \"Ids for hydrological response units\"\n",
    "hruId.units = '-'\n",
    "hruId.v_type = 'scalarv'\n",
    "hruId[:] = '1001'"
   ]
  },
  {
   "cell_type": "code",
   "execution_count": 23,
   "metadata": {},
   "outputs": [],
   "source": [
    "gruId = LocalAttributes.createVariable(\"gruId\", \"i4\", (\"gru\",))\n",
    "gruId.long_name = \"Index of group of response unit (GRU)\"\n",
    "gruId.units = '-'\n",
    "gruId.v_type = 'scalarv'\n",
    "gruId[:] = '1001'"
   ]
  },
  {
   "cell_type": "code",
   "execution_count": 24,
   "metadata": {},
   "outputs": [
    {
     "data": {
      "text/plain": [
       "OrderedDict([('hru2gruId', <class 'netCDF4._netCDF4.Variable'>\n",
       "              int32 hru2gruId(hru)\n",
       "                  long_name: Index of GRU to which the HRU belongs\n",
       "                  units: -\n",
       "              unlimited dimensions: \n",
       "              current shape = (1,)\n",
       "              filling off),\n",
       "             ('downHRUindex', <class 'netCDF4._netCDF4.Variable'>\n",
       "              int32 downHRUindex(hru)\n",
       "                  long_name: Index of downslope HRU (0 = basin outlet)\n",
       "                  units: -\n",
       "              unlimited dimensions: \n",
       "              current shape = (1,)\n",
       "              filling off),\n",
       "             ('slopeTypeIndex', <class 'netCDF4._netCDF4.Variable'>\n",
       "              int32 slopeTypeIndex(hru)\n",
       "                  long_name: Index defining slope\n",
       "                  units: -\n",
       "              unlimited dimensions: \n",
       "              current shape = (1,)\n",
       "              filling off),\n",
       "             ('soilTypeIndex', <class 'netCDF4._netCDF4.Variable'>\n",
       "              int32 soilTypeIndex(hru)\n",
       "                  long_name: Index defining soil type\n",
       "                  units: -\n",
       "              unlimited dimensions: \n",
       "              current shape = (1,)\n",
       "              filling off),\n",
       "             ('vegTypeIndex', <class 'netCDF4._netCDF4.Variable'>\n",
       "              int32 vegTypeIndex(hru)\n",
       "                  long_name: Index defining vegetation type\n",
       "                  units: -\n",
       "              unlimited dimensions: \n",
       "              current shape = (1,)\n",
       "              filling off),\n",
       "             ('mHeight', <class 'netCDF4._netCDF4.Variable'>\n",
       "              float64 mHeight(hru)\n",
       "                  long_name: Measurement height above bare ground\n",
       "                  units: m\n",
       "              unlimited dimensions: \n",
       "              current shape = (1,)\n",
       "              filling off),\n",
       "             ('contourLength', <class 'netCDF4._netCDF4.Variable'>\n",
       "              float64 contourLength(hru)\n",
       "                  long_name: ContourLength of HRU\n",
       "                  units: m\n",
       "              unlimited dimensions: \n",
       "              current shape = (1,)\n",
       "              filling off),\n",
       "             ('tan_slope', <class 'netCDF4._netCDF4.Variable'>\n",
       "              float64 tan_slope(hru)\n",
       "                  long_name: Average tangent slope of HRU\n",
       "                  units: m m-1\n",
       "              unlimited dimensions: \n",
       "              current shape = (1,)\n",
       "              filling off),\n",
       "             ('elevation', <class 'netCDF4._netCDF4.Variable'>\n",
       "              float64 elevation(hru)\n",
       "                  long_name: Elevation of HRU's centriod point\n",
       "                  units: m\n",
       "              unlimited dimensions: \n",
       "              current shape = (1,)\n",
       "              filling off),\n",
       "             ('longitude', <class 'netCDF4._netCDF4.Variable'>\n",
       "              float64 longitude(hru)\n",
       "                  long_name: Longitude of HRU's centriod point\n",
       "                  units: decimal degree east\n",
       "              unlimited dimensions: \n",
       "              current shape = (1,)\n",
       "              filling off),\n",
       "             ('latitude', <class 'netCDF4._netCDF4.Variable'>\n",
       "              float64 latitude(hru)\n",
       "                  long_name: Latitude of HRU's centriod point\n",
       "                  units: decimal degree north\n",
       "              unlimited dimensions: \n",
       "              current shape = (1,)\n",
       "              filling off),\n",
       "             ('HRUarea', <class 'netCDF4._netCDF4.Variable'>\n",
       "              float64 HRUarea(hru)\n",
       "                  long_name: Area of each HRU\n",
       "                  units: m^2\n",
       "              unlimited dimensions: \n",
       "              current shape = (1,)\n",
       "              filling off),\n",
       "             ('hruId', <class 'netCDF4._netCDF4.Variable'>\n",
       "              int32 hruId(hru)\n",
       "                  long_name: Ids for hydrological response units\n",
       "                  units: -\n",
       "                  v_type: scalarv\n",
       "              unlimited dimensions: \n",
       "              current shape = (1,)\n",
       "              filling off),\n",
       "             ('gruId', <class 'netCDF4._netCDF4.Variable'>\n",
       "              int32 gruId(gru)\n",
       "                  long_name: Index of group of response unit (GRU)\n",
       "                  units: -\n",
       "                  v_type: scalarv\n",
       "              unlimited dimensions: \n",
       "              current shape = (1,)\n",
       "              filling off)])"
      ]
     },
     "execution_count": 24,
     "metadata": {},
     "output_type": "execute_result"
    }
   ],
   "source": [
    "# Check variables in a netCDF file\n",
    "LocalAttributes.variables"
   ]
  },
  {
   "cell_type": "code",
   "execution_count": 25,
   "metadata": {},
   "outputs": [
    {
     "data": {
      "text/plain": [
       "OrderedDict([('hru',\n",
       "              <class 'netCDF4._netCDF4.Dimension'>: name = 'hru', size = 1),\n",
       "             ('gru',\n",
       "              <class 'netCDF4._netCDF4.Dimension'>: name = 'gru', size = 1)])"
      ]
     },
     "execution_count": 25,
     "metadata": {},
     "output_type": "execute_result"
    }
   ],
   "source": [
    "# Check Dimension in a netCDF file\n",
    "LocalAttributes.dimensions"
   ]
  },
  {
   "cell_type": "code",
   "execution_count": 26,
   "metadata": {
    "scrolled": false
   },
   "outputs": [
    {
     "data": {
      "text/plain": [
       "<class 'netCDF4._netCDF4.Dataset'>\n",
       "root group (NETCDF3_CLASSIC data model, file format NETCDF3):\n",
       "    datasource: *zLocalAttributes*\n",
       "    history: Tue Sep 27 21:51:50 2016: ncrename -d nhru,hru -d ngru,gru ./wrrPaperTestCases/figure07/LocalAttri.nc\n",
       "    NCO: 4.6.0\n",
       "    dimensions(sizes): hru(1), gru(1)\n",
       "    variables(dimensions): int32 \u001b[4mhru2gruId\u001b[0m(hr), int32 \u001b[4mdownHRUindex\u001b[0m(hr), int32 \u001b[4mslopeTypeIndex\u001b[0m(hr), int32 \u001b[4msoilTypeIndex\u001b[0m(hr), int32 \u001b[4mvegTypeIndex\u001b[0m(hr), float64 \u001b[4mmHeight\u001b[0m(hr), float64 \u001b[4mcontourLength\u001b[0m(hr), float64 \u001b[4mtan_slope\u001b[0m(hr), float64 \u001b[4melevation\u001b[0m(hr), float64 \u001b[4mlongitude\u001b[0m(hr), float64 \u001b[4mlatitude\u001b[0m(hr), float64 \u001b[4mHRUarea\u001b[0m(hr), int32 \u001b[4mhruId\u001b[0m(hr), int32 \u001b[4mgruId\u001b[0m(gr)\n",
       "    groups: "
      ]
     },
     "execution_count": 26,
     "metadata": {},
     "output_type": "execute_result"
    }
   ],
   "source": [
    "# Check a netCDF file\n",
    "LocalAttributes"
   ]
  },
  {
   "cell_type": "code",
   "execution_count": 27,
   "metadata": {},
   "outputs": [],
   "source": [
    "# close a netCDF file\n",
    "LocalAttributes.close()"
   ]
  },
  {
   "cell_type": "code",
   "execution_count": null,
   "metadata": {},
   "outputs": [],
   "source": []
  }
 ],
 "metadata": {
  "kernelspec": {
   "display_name": "Python 3",
   "language": "python",
   "name": "python3"
  },
  "language_info": {
   "codemirror_mode": {
    "name": "ipython",
    "version": 3
   },
   "file_extension": ".py",
   "mimetype": "text/x-python",
   "name": "python",
   "nbconvert_exporter": "python",
   "pygments_lexer": "ipython3",
   "version": "3.6.3"
  }
 },
 "nbformat": 4,
 "nbformat_minor": 2
}
