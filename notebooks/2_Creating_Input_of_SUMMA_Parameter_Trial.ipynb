{
 "cells": [
  {
   "cell_type": "markdown",
   "metadata": {},
   "source": [
    "## 2. Creating Param Trial netCDF"
   ]
  },
  {
   "cell_type": "code",
   "execution_count": 40,
   "metadata": {},
   "outputs": [],
   "source": [
    "from netCDF4 import Dataset"
   ]
  },
  {
   "cell_type": "code",
   "execution_count": 41,
   "metadata": {},
   "outputs": [],
   "source": [
    "# Create a netCDF file\n",
    "ParamTrial = Dataset(\"ParamTrial.nc\", \"w\", format=\"NETCDF3_CLASSIC\")\n",
    "# Create attributes in a netCDF file\n",
    "ParamTrial.history = \"Converted to NetCDF using \\\"/Users/nijssen/Dropbox/data/PLUMBER/PLUMBER_data/tools/paramTrial_ascii_to_nc.py --ascii_in summa_zParamTrial_riparianAspen.txt --nc_out summa_zParamTrial_riparianAspen.nc\\\" on 2017-08-30 13:37:17\\n\""
   ]
  },
  {
   "cell_type": "code",
   "execution_count": 42,
   "metadata": {},
   "outputs": [],
   "source": [
    "# Create Dimension in a netCDF file\n",
    "hru = ParamTrial.createDimension(\"hru\", 1)"
   ]
  },
  {
   "cell_type": "markdown",
   "metadata": {},
   "source": [
    "### Create variables in a netCDF file  for figure07 in wrrPaperTestCases (Clark et al., 2015b)"
   ]
  },
  {
   "cell_type": "code",
   "execution_count": 43,
   "metadata": {
    "scrolled": true
   },
   "outputs": [],
   "source": [
    "hruIndex = ParamTrial.createVariable(\"hruIndex\", \"f8\", (\"hru\",))\n",
    "hruIndex[:] = '1001'"
   ]
  },
  {
   "cell_type": "code",
   "execution_count": 44,
   "metadata": {},
   "outputs": [],
   "source": [
    "frozenPrecipMultip = ParamTrial.createVariable(\"frozenPrecipMultip\", \"f8\", (\"hru\",))\n",
    "frozenPrecipMultip[:] = '1'"
   ]
  },
  {
   "cell_type": "code",
   "execution_count": 45,
   "metadata": {},
   "outputs": [],
   "source": [
    "theta_mp = ParamTrial.createVariable(\"theta_mp\", \"f8\", (\"hru\",))\n",
    "theta_mp[:] = '0.2211'"
   ]
  },
  {
   "cell_type": "code",
   "execution_count": 46,
   "metadata": {},
   "outputs": [],
   "source": [
    "theta_sat = ParamTrial.createVariable(\"theta_sat\", \"f8\", (\"hru\",))\n",
    "theta_sat[:] = '0.4792'"
   ]
  },
  {
   "cell_type": "code",
   "execution_count": 47,
   "metadata": {},
   "outputs": [],
   "source": [
    "theta_res = ParamTrial.createVariable(\"theta_res\", \"f8\", (\"hru\",))\n",
    "theta_res[:] = '0.1'"
   ]
  },
  {
   "cell_type": "code",
   "execution_count": 48,
   "metadata": {},
   "outputs": [],
   "source": [
    "vGn_alpha = ParamTrial.createVariable(\"vGn_alpha\", \"f8\", (\"hru\",))\n",
    "vGn_alpha[:] = '-0.858'"
   ]
  },
  {
   "cell_type": "code",
   "execution_count": 49,
   "metadata": {},
   "outputs": [],
   "source": [
    "vGn_n = ParamTrial.createVariable(\"vGn_n\", \"f8\", (\"hru\",))\n",
    "vGn_n[:] = '1.306'"
   ]
  },
  {
   "cell_type": "code",
   "execution_count": 50,
   "metadata": {},
   "outputs": [],
   "source": [
    "f_impede = ParamTrial.createVariable(\"f_impede\", \"f8\", (\"hru\",))\n",
    "f_impede[:] = '0'"
   ]
  },
  {
   "cell_type": "code",
   "execution_count": 51,
   "metadata": {},
   "outputs": [],
   "source": [
    "k_soil = ParamTrial.createVariable(\"k_soil\", \"f8\", (\"hru\",))\n",
    "k_soil[:] = '3.53e-06'"
   ]
  },
  {
   "cell_type": "code",
   "execution_count": 52,
   "metadata": {},
   "outputs": [],
   "source": [
    "k_macropore = ParamTrial.createVariable(\"k_macropore\", \"f8\", (\"hru\",))\n",
    "k_macropore[:] = '0.06255'"
   ]
  },
  {
   "cell_type": "code",
   "execution_count": 53,
   "metadata": {},
   "outputs": [],
   "source": [
    "critSoilWilting = ParamTrial.createVariable(\"critSoilWilting\", \"f8\", (\"hru\",))\n",
    "critSoilWilting[:] = '0.125'"
   ]
  },
  {
   "cell_type": "code",
   "execution_count": 54,
   "metadata": {},
   "outputs": [],
   "source": [
    "critSoilTranspire = ParamTrial.createVariable(\"critSoilTranspire\", \"f8\", (\"hru\",))\n",
    "critSoilTranspire[:] = '0.2'"
   ]
  },
  {
   "cell_type": "code",
   "execution_count": 55,
   "metadata": {},
   "outputs": [],
   "source": [
    "winterSAI = ParamTrial.createVariable(\"winterSAI\", \"f8\", (\"hru\",))\n",
    "winterSAI[:] = '0.45'"
   ]
  },
  {
   "cell_type": "code",
   "execution_count": 56,
   "metadata": {},
   "outputs": [],
   "source": [
    "summerLAI = ParamTrial.createVariable(\"summerLAI\", \"f8\", (\"hru\",))\n",
    "summerLAI[:] = '2.5'"
   ]
  },
  {
   "cell_type": "code",
   "execution_count": 57,
   "metadata": {},
   "outputs": [],
   "source": [
    "heightCanopyTop = ParamTrial.createVariable(\"heightCanopyTop\", \"f8\", (\"hru\",))\n",
    "heightCanopyTop[:] = '9.5'"
   ]
  },
  {
   "cell_type": "code",
   "execution_count": 58,
   "metadata": {},
   "outputs": [],
   "source": [
    "heightCanopyBottom = ParamTrial.createVariable(\"heightCanopyBottom\", \"f8\", (\"hru\",))\n",
    "heightCanopyBottom[:] = '3'"
   ]
  },
  {
   "cell_type": "code",
   "execution_count": 59,
   "metadata": {},
   "outputs": [],
   "source": [
    "kAnisotropic = ParamTrial.createVariable(\"kAnisotropic\", \"f8\", (\"hru\",))\n",
    "kAnisotropic[:] = '1'"
   ]
  },
  {
   "cell_type": "code",
   "execution_count": 60,
   "metadata": {},
   "outputs": [],
   "source": [
    "rootDistExp = ParamTrial.createVariable(\"rootDistExp\", \"f8\", (\"hru\",))\n",
    "rootDistExp[:] = '1'"
   ]
  },
  {
   "cell_type": "code",
   "execution_count": 61,
   "metadata": {},
   "outputs": [],
   "source": [
    "zScale_TOPMODEL = ParamTrial.createVariable(\"zScale_TOPMODEL\", \"f8\", (\"hru\",))\n",
    "zScale_TOPMODEL[:] = '4.057'"
   ]
  },
  {
   "cell_type": "code",
   "execution_count": 62,
   "metadata": {},
   "outputs": [],
   "source": [
    "qSurfScale = ParamTrial.createVariable(\"qSurfScale\", \"f8\", (\"hru\",))\n",
    "qSurfScale[:] = '84.063'"
   ]
  },
  {
   "cell_type": "code",
   "execution_count": 63,
   "metadata": {},
   "outputs": [
    {
     "data": {
      "text/plain": [
       "OrderedDict([('hruIndex', <class 'netCDF4._netCDF4.Variable'>\n",
       "              float64 hruIndex(hru)\n",
       "              unlimited dimensions: \n",
       "              current shape = (1,)\n",
       "              filling off),\n",
       "             ('frozenPrecipMultip', <class 'netCDF4._netCDF4.Variable'>\n",
       "              float64 frozenPrecipMultip(hru)\n",
       "              unlimited dimensions: \n",
       "              current shape = (1,)\n",
       "              filling off),\n",
       "             ('theta_mp', <class 'netCDF4._netCDF4.Variable'>\n",
       "              float64 theta_mp(hru)\n",
       "              unlimited dimensions: \n",
       "              current shape = (1,)\n",
       "              filling off),\n",
       "             ('theta_sat', <class 'netCDF4._netCDF4.Variable'>\n",
       "              float64 theta_sat(hru)\n",
       "              unlimited dimensions: \n",
       "              current shape = (1,)\n",
       "              filling off),\n",
       "             ('theta_res', <class 'netCDF4._netCDF4.Variable'>\n",
       "              float64 theta_res(hru)\n",
       "              unlimited dimensions: \n",
       "              current shape = (1,)\n",
       "              filling off),\n",
       "             ('vGn_alpha', <class 'netCDF4._netCDF4.Variable'>\n",
       "              float64 vGn_alpha(hru)\n",
       "              unlimited dimensions: \n",
       "              current shape = (1,)\n",
       "              filling off),\n",
       "             ('vGn_n', <class 'netCDF4._netCDF4.Variable'>\n",
       "              float64 vGn_n(hru)\n",
       "              unlimited dimensions: \n",
       "              current shape = (1,)\n",
       "              filling off),\n",
       "             ('f_impede', <class 'netCDF4._netCDF4.Variable'>\n",
       "              float64 f_impede(hru)\n",
       "              unlimited dimensions: \n",
       "              current shape = (1,)\n",
       "              filling off),\n",
       "             ('k_soil', <class 'netCDF4._netCDF4.Variable'>\n",
       "              float64 k_soil(hru)\n",
       "              unlimited dimensions: \n",
       "              current shape = (1,)\n",
       "              filling off),\n",
       "             ('k_macropore', <class 'netCDF4._netCDF4.Variable'>\n",
       "              float64 k_macropore(hru)\n",
       "              unlimited dimensions: \n",
       "              current shape = (1,)\n",
       "              filling off),\n",
       "             ('critSoilWilting', <class 'netCDF4._netCDF4.Variable'>\n",
       "              float64 critSoilWilting(hru)\n",
       "              unlimited dimensions: \n",
       "              current shape = (1,)\n",
       "              filling off),\n",
       "             ('critSoilTranspire', <class 'netCDF4._netCDF4.Variable'>\n",
       "              float64 critSoilTranspire(hru)\n",
       "              unlimited dimensions: \n",
       "              current shape = (1,)\n",
       "              filling off),\n",
       "             ('winterSAI', <class 'netCDF4._netCDF4.Variable'>\n",
       "              float64 winterSAI(hru)\n",
       "              unlimited dimensions: \n",
       "              current shape = (1,)\n",
       "              filling off),\n",
       "             ('summerLAI', <class 'netCDF4._netCDF4.Variable'>\n",
       "              float64 summerLAI(hru)\n",
       "              unlimited dimensions: \n",
       "              current shape = (1,)\n",
       "              filling off),\n",
       "             ('heightCanopyTop', <class 'netCDF4._netCDF4.Variable'>\n",
       "              float64 heightCanopyTop(hru)\n",
       "              unlimited dimensions: \n",
       "              current shape = (1,)\n",
       "              filling off),\n",
       "             ('heightCanopyBottom', <class 'netCDF4._netCDF4.Variable'>\n",
       "              float64 heightCanopyBottom(hru)\n",
       "              unlimited dimensions: \n",
       "              current shape = (1,)\n",
       "              filling off),\n",
       "             ('kAnisotropic', <class 'netCDF4._netCDF4.Variable'>\n",
       "              float64 kAnisotropic(hru)\n",
       "              unlimited dimensions: \n",
       "              current shape = (1,)\n",
       "              filling off),\n",
       "             ('rootDistExp', <class 'netCDF4._netCDF4.Variable'>\n",
       "              float64 rootDistExp(hru)\n",
       "              unlimited dimensions: \n",
       "              current shape = (1,)\n",
       "              filling off),\n",
       "             ('zScale_TOPMODEL', <class 'netCDF4._netCDF4.Variable'>\n",
       "              float64 zScale_TOPMODEL(hru)\n",
       "              unlimited dimensions: \n",
       "              current shape = (1,)\n",
       "              filling off),\n",
       "             ('qSurfScale', <class 'netCDF4._netCDF4.Variable'>\n",
       "              float64 qSurfScale(hru)\n",
       "              unlimited dimensions: \n",
       "              current shape = (1,)\n",
       "              filling off)])"
      ]
     },
     "execution_count": 63,
     "metadata": {},
     "output_type": "execute_result"
    }
   ],
   "source": [
    "# Check variables in a netCDF file\n",
    "ParamTrial.variables"
   ]
  },
  {
   "cell_type": "code",
   "execution_count": 64,
   "metadata": {},
   "outputs": [
    {
     "data": {
      "text/plain": [
       "OrderedDict([('hru',\n",
       "              <class 'netCDF4._netCDF4.Dimension'>: name = 'hru', size = 1)])"
      ]
     },
     "execution_count": 64,
     "metadata": {},
     "output_type": "execute_result"
    }
   ],
   "source": [
    "# Check Dimension in a netCDF file\n",
    "ParamTrial.dimensions"
   ]
  },
  {
   "cell_type": "code",
   "execution_count": 65,
   "metadata": {
    "scrolled": false
   },
   "outputs": [
    {
     "data": {
      "text/plain": [
       "<class 'netCDF4._netCDF4.Dataset'>\n",
       "root group (NETCDF3_CLASSIC data model, file format NETCDF3):\n",
       "    history: Converted to NetCDF using \"/Users/nijssen/Dropbox/data/PLUMBER/PLUMBER_data/tools/paramTrial_ascii_to_nc.py --ascii_in summa_zParamTrial_riparianAspen.txt --nc_out summa_zParamTrial_riparianAspen.nc\" on 2017-08-30 13:37:17\n",
       "\n",
       "    dimensions(sizes): hru(1)\n",
       "    variables(dimensions): float64 \u001b[4mhruIndex\u001b[0m(hr), float64 \u001b[4mfrozenPrecipMultip\u001b[0m(hr), float64 \u001b[4mtheta_mp\u001b[0m(hr), float64 \u001b[4mtheta_sat\u001b[0m(hr), float64 \u001b[4mtheta_res\u001b[0m(hr), float64 \u001b[4mvGn_alpha\u001b[0m(hr), float64 \u001b[4mvGn_n\u001b[0m(hr), float64 \u001b[4mf_impede\u001b[0m(hr), float64 \u001b[4mk_soil\u001b[0m(hr), float64 \u001b[4mk_macropore\u001b[0m(hr), float64 \u001b[4mcritSoilWilting\u001b[0m(hr), float64 \u001b[4mcritSoilTranspire\u001b[0m(hr), float64 \u001b[4mwinterSAI\u001b[0m(hr), float64 \u001b[4msummerLAI\u001b[0m(hr), float64 \u001b[4mheightCanopyTop\u001b[0m(hr), float64 \u001b[4mheightCanopyBottom\u001b[0m(hr), float64 \u001b[4mkAnisotropic\u001b[0m(hr), float64 \u001b[4mrootDistExp\u001b[0m(hr), float64 \u001b[4mzScale_TOPMODEL\u001b[0m(hr), float64 \u001b[4mqSurfScale\u001b[0m(hr)\n",
       "    groups: "
      ]
     },
     "execution_count": 65,
     "metadata": {},
     "output_type": "execute_result"
    }
   ],
   "source": [
    "# Check a netCDF file\n",
    "ParamTrial"
   ]
  },
  {
   "cell_type": "code",
   "execution_count": 66,
   "metadata": {},
   "outputs": [],
   "source": [
    "# close a netCDF file\n",
    "ParamTrial.close()"
   ]
  },
  {
   "cell_type": "code",
   "execution_count": null,
   "metadata": {},
   "outputs": [],
   "source": []
  }
 ],
 "metadata": {
  "kernelspec": {
   "display_name": "Python 3",
   "language": "python",
   "name": "python3"
  },
  "language_info": {
   "codemirror_mode": {
    "name": "ipython",
    "version": 3
   },
   "file_extension": ".py",
   "mimetype": "text/x-python",
   "name": "python",
   "nbconvert_exporter": "python",
   "pygments_lexer": "ipython3",
   "version": "3.6.3"
  }
 },
 "nbformat": 4,
 "nbformat_minor": 2
}
