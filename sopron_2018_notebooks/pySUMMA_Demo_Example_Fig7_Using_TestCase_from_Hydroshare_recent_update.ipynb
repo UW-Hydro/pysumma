{
 "cells": [
  {
   "cell_type": "markdown",
   "metadata": {},
   "source": [
    "##  Modeling the Impact of Stomatal Resistance Parameterizations on Total Evapotranspiration in the Reynolds Mountain East catchment using pySUMMA"
   ]
  },
  {
   "cell_type": "markdown",
   "metadata": {},
   "source": [
    "## 1. Introduction"
   ]
  },
  {
   "cell_type": "markdown",
   "metadata": {},
   "source": [
    "One part of the Clark et al. (2015) study explored the impact of different stomatal resistance parameterizations on total evapotranspiration (ET) using a SUMMA model for the Reynolds Mountain East catchment. This study looked at three different stomatal resistance parameterizations: the simple soil resistance method, the Ball Berry method, and the Jarvis method.\n",
    "\n",
    "In this Jupyter Notebook, the pySUMMA library is used to reproduce this analysis. First, the three different stomatal resistance parameterizations are described. Next, the Methods section describes how the pySUMMA can be used to create three different versions of the Reynolds Mountain East catchment model, one for each stomatal resistance parameterization. The Results section shows how to use pySUMMA and the Pandas library to reproduce Figure 7 from Clark et al. (2015). \n",
    "\n",
    "Collectively, this Jupyter Notebook serves as an example of how hydrologic modeling can be conducted directly within a Jupyter Notebook by leveraging the pySUMMA library. "
   ]
  },
  {
   "cell_type": "markdown",
   "metadata": {},
   "source": [
    "## 2. Background"
   ]
  },
  {
   "cell_type": "markdown",
   "metadata": {},
   "source": [
    "### The stomatal resistance parameterizations available in SUMMA"
   ]
  },
  {
   "cell_type": "code",
   "execution_count": 1,
   "metadata": {},
   "outputs": [],
   "source": [
    "#import libraries to display equations within the notebook\n",
    "from IPython.display import display, Math, Latex"
   ]
  },
  {
   "cell_type": "markdown",
   "metadata": {},
   "source": [
    "### 1.) The simple soil resistance method"
   ]
  },
  {
   "cell_type": "markdown",
   "metadata": {},
   "source": [
    "\\begin{equation*}\n",
    "r_{{s},{sun}} = r_{{s},{shd}} = \\frac{r_{0c}}{\\beta_v} \\,\\,\\,\\, \n",
    "\\end{equation*}\n",
    "$r_{0c} \\,(s\\,m^{-1})$ : the minimum stomatal resistance ,     ${\\beta_v}\\,(-)$ : the total soil water stress function"
   ]
  },
  {
   "cell_type": "markdown",
   "metadata": {},
   "source": [
    "\\begin{equation*}\n",
    "{\\beta_v} = \\sum f_{{roots},{j}} \\beta_{{v},{j}}  +  f_{roots}^{aq} \\beta_{v}^{aq}\n",
    "\\end{equation*}\n",
    "$z_{soil}$ : the soil depth, $f_{{roots},{j}}$ : the root density in the $j$-th soil layer\n",
    "$\\beta_{{v},{j}}$ : the water availability stress funtion in the $j$-th soil layer <br/>\n",
    "$f_{roots}^{aq}$ : the fraction of roots for the aquifer, $\\beta_{v}^{aq}$ : water availability stress function for the aquifer\n",
    "\n",
    "For additional detail, see: https://github.com/DavidChoi76/pysumma/blob/master/simple1.png"
   ]
  },
  {
   "cell_type": "markdown",
   "metadata": {},
   "source": [
    "### 2.) The Ball-Berry method\n",
    " "
   ]
  },
  {
   "cell_type": "markdown",
   "metadata": {},
   "source": [
    "\\begin{equation*}\n",
    "g_i = v_t  \\frac{A_i}{c_{air}}\\frac{e_{air}}{e_{sat}(T_{veg})}P_{air} + g_{min}\\beta_v, \\,\\,\\,\\,   i = sun, shd\n",
    "\\end{equation*}"
   ]
  },
  {
   "cell_type": "markdown",
   "metadata": {},
   "source": [
    "$g_i\\, (micromol \\,\\, m^{-2} s^{-1})$ : Stomatal conductance per unit sunlit and shaded leaf area <br/> \n",
    "$A_i\\, (micromol \\,\\, m^{-2} s^{-1})$ : a function of the rate of photosynthesis <br/>\n",
    "$c_{air}\\, (Pa)$ : $CO_2$ concentration at the leaf surface (time varying model forcing, representing carbon fertilization) <br/>\n",
    "$g_{min}\\, (micromol \\,\\, m^{-2} s^{-1})$ : the minimum stomatal conductance <br/>\n",
    "$v_t\\,(-)$ : an empirical parameter to relate transpiration to the $CO_2$ flux, where a greater value of $v_t$ means the leaf consumes more water to produce the same carbon mass <br/>\n",
    "\n",
    "For additinoal detail, see: https://github.com/DavidChoi76/pysumma/blob/master/BallBerry.png"
   ]
  },
  {
   "cell_type": "markdown",
   "metadata": {},
   "source": [
    "### 3) The Jarvis method"
   ]
  },
  {
   "cell_type": "markdown",
   "metadata": {},
   "source": [
    "\\begin{equation*}\n",
    "r_{{s},{i}} = \\frac{r_{0c}}{f(Q_{{PAR},{i}})f(T_{air})f(e_{d})\\beta_v} \\,\\,\\,\\,   i = sun, shd\n",
    "\\end{equation*}"
   ]
  },
  {
   "cell_type": "markdown",
   "metadata": {},
   "source": [
    "the subscript $i$ defines either sunlit or shaded leaves <br/> \n",
    "$f(Q_{{PAR},{i}})$, $f(T_{air})$, $f(e_{d})$ : all limited to the range 0-1, represent the effects of photosynthetically-active radiation(PAR), air temperature, and vapor pressure deficit, where $ Q_{{PAR},{i}} $ represents PAR absorbed on sunlit or shaded leaves <br/> \n",
    "\n",
    "For additional detail, see: https://github.com/DavidChoi76/pysumma/blob/master/Jarvis.png"
   ]
  },
  {
   "cell_type": "markdown",
   "metadata": {},
   "source": [
    "The above images are taken from the Stomal Resistance Method section within the manual Structure for Unifying Multiple Modeling Alternatives (SUMMA), Version 1.0: Technical Description (April, 2015)."
   ]
  },
  {
   "cell_type": "markdown",
   "metadata": {},
   "source": [
    "## 3. Methods"
   ]
  },
  {
   "cell_type": "markdown",
   "metadata": {},
   "source": [
    "### 1) Study Area"
   ]
  },
  {
   "cell_type": "markdown",
   "metadata": {},
   "source": [
    "#### The Reynolds Mountain East catchment is located in southwestern Idaho as shown in the figure below."
   ]
  },
  {
   "cell_type": "code",
   "execution_count": 1,
   "metadata": {},
   "outputs": [],
   "source": [
    "from ipyleaflet import Map, GeoJSON\n",
    "import json"
   ]
  },
  {
   "cell_type": "code",
   "execution_count": 2,
   "metadata": {},
   "outputs": [
    {
     "data": {
      "application/vnd.jupyter.widget-view+json": {
       "model_id": "e4dd6f94e87d4c1a87981187bcddfd1a",
       "version_major": 2,
       "version_minor": 0
      },
      "text/html": [
       "<p>Failed to display Jupyter Widget of type <code>Map</code>.</p>\n",
       "<p>\n",
       "  If you're reading this message in the Jupyter Notebook or JupyterLab Notebook, it may mean\n",
       "  that the widgets JavaScript is still loading. If this message persists, it\n",
       "  likely means that the widgets JavaScript library is either not installed or\n",
       "  not enabled. See the <a href=\"https://ipywidgets.readthedocs.io/en/stable/user_install.html\">Jupyter\n",
       "  Widgets Documentation</a> for setup instructions.\n",
       "</p>\n",
       "<p>\n",
       "  If you're reading this message in another frontend (for example, a static\n",
       "  rendering on GitHub or <a href=\"https://nbviewer.jupyter.org/\">NBViewer</a>),\n",
       "  it may mean that your frontend doesn't currently support widgets.\n",
       "</p>\n"
      ],
      "text/plain": [
       "Map(basemap={'url': 'https://{s}.tile.openstreetmap.org/{z}/{x}/{y}.png', 'max_zoom': 19, 'attribution': 'Map data (c) <a href=\"https://openstreetmap.org\">OpenStreetMap</a> contributors'}, center=[43.06745, -116.75489], layers=(TileLayer(base=True, max_zoom=19, min_zoom=1, options=['attribution', 'detect_retina', 'max_zoom', 'min_zoom', 'tile_size']), GeoJSON(data={'type': 'FeatureCollection', 'name': 'reynolds_geojson_latlon', 'crs': {'type': 'name', 'properties': {'name': 'urn:ogc:def:crs:OGC:1.3:CRS84'}}, 'features': [{'type': 'Feature', 'properties': {'OBJECTID': 1, 'RCEW_REGIO': 376208.194027, 'PERIMETER': 3340.0, 'RMEAST_MAS': 2, 'RMEAST_M_1': 2, 'GRID_CODE': 1}, 'geometry': {'type': 'Polygon', 'coordinates': [[[-116.7557156288284, 43.07072983625339], [-116.75559279969227, 43.07072957489522], [-116.75559315872648, 43.07063952502811], [-116.75547032977175, 43.07063926353894], [-116.75534750204696, 43.07063900192053], [-116.75522467432737, 43.07063873926983], [-116.7551018453776, 43.07063847738518], [-116.75510220512943, 43.0705484275199], [-116.75497937636112, 43.07054816550426], [-116.75497973629112, 43.070458115638395], [-116.75485690770425, 43.07045785349174], [-116.7547340803473, 43.07045759121584], [-116.754611252992, 43.070457328808125], [-116.75448842441011, 43.07045706626597], [-116.75436559706174, 43.070456802694125], [-116.75424276848315, 43.07045653988829], [-116.75424312949033, 43.070366490025975], [-116.75412030232148, 43.070366227091775], [-116.75399747392602, 43.0703659640231], [-116.75399783529119, 43.07027591416101], [-116.75387500707716, 43.07027565096134], [-116.7537521800931, 43.07027538763253], [-116.75362935188241, 43.07027512416918], [-116.75362971378532, 43.07018507430818], [-116.75363007445833, 43.07009502444305], [-116.75363043635795, 43.07000497457918], [-116.75363079702761, 43.06991492471125], [-116.75375362451547, 43.06991518907176], [-116.75375398500368, 43.06982513920156], [-116.75375434671845, 43.06973508933261], [-116.75375470720336, 43.06964503945952], [-116.75363188147955, 43.06964477600465], [-116.7536322421426, 43.069554726130995], [-116.75350941660027, 43.06955446254514], [-116.75350977744145, 43.06946441267091], [-116.75338695208056, 43.06946414895402], [-116.75338731309988, 43.0693740990792], [-116.75326448792045, 43.06937383523132], [-116.75326485034614, 43.06928378535855], [-116.75314202411995, 43.06928352137701], [-116.75301919912368, 43.069283257266314], [-116.75301956067906, 43.06919320739113], [-116.753019923461, 43.06910315751716], [-116.75289709759774, 43.069102893273666], [-116.7527742729644, 43.06910262890097], [-116.75277463610426, 43.06901257902725], [-116.75265181042415, 43.069012314520926], [-116.75265217374212, 43.06892226464661], [-116.75252934824346, 43.06892200000929], [-116.75252971173958, 43.06883195013435], [-116.7525300740058, 43.0687419002554], [-116.75240725009662, 43.068741635490554], [-116.75240761254095, 43.06865158561097], [-116.75240797621186, 43.06856153573259], [-116.75240833865288, 43.06847148585014], [-116.7524087023168, 43.06838143686942], [-116.75228587790387, 43.06838117107297], [-116.75228624174592, 43.068291122091665], [-116.7522866043617, 43.068201072205795], [-116.75228696820399, 43.06811102232113], [-116.75228733081644, 43.06802097243243], [-116.75228769465541, 43.067930922544896], [-116.75228805726088, 43.067840873553784], [-116.75228842109648, 43.06775082366344], [-116.75216559794013, 43.06775055864152], [-116.75216596195388, 43.06766050875055], [-116.75204313897898, 43.06766024359765], [-116.75192031723756, 43.067659977415076], [-116.7517974954942, 43.067659712001166], [-116.75167467252432, 43.06765944645277], [-116.75167503725551, 43.06756939656374], [-116.75167540075684, 43.067479346670616], [-116.75167576548104, 43.067389297679235], [-116.75167612897903, 43.06729924778324], [-116.75155330795809, 43.067298982109065], [-116.75155367163417, 43.06720893221254], [-116.75155403653679, 43.06711888231719], [-116.7515544002095, 43.067028832417755], [-116.75155476510872, 43.06693878251961], [-116.75143194358047, 43.06693851671426], [-116.75143230865777, 43.06684846681553], [-116.75130948853915, 43.066848200881864], [-116.75130985256638, 43.06675815097988], [-116.75118703262919, 43.06675788491523], [-116.75118739683452, 43.06666783501263], [-116.75118776226276, 43.06657778601176], [-116.75106494146222, 43.066577518913846], [-116.75106530706852, 43.06648746991238], [-116.75094248644945, 43.0664872026835], [-116.75094285223385, 43.06639715368145], [-116.75082003179624, 43.066396886321584], [-116.75082039775869, 43.06630683731896], [-116.75069757873075, 43.066306569830786], [-116.75069794364312, 43.06621652082491], [-116.7505751247966, 43.066216253205766], [-116.75057548988707, 43.06612620419928], [-116.75045267122199, 43.06612593644918], [-116.75045303649055, 43.06603588744212], [-116.75033021800695, 43.06603561956104], [-116.75033058345359, 43.065945570553396], [-116.75020776515143, 43.06594530254135], [-116.75020813200432, 43.06585525353577], [-116.75020849763101, 43.06576520362563], [-116.75008567968639, 43.06576493638401], [-116.75008604549117, 43.06567488647322], [-116.75008641252242, 43.065584836563744], [-116.74996359371086, 43.06558456918925], [-116.7499639609202, 43.065494519279184], [-116.74996432689967, 43.065404469365035], [-116.74996469410563, 43.06531441945208], [-116.74996506007805, 43.06522437043556], [-116.74996542728063, 43.06513432051978], [-116.74984260936957, 43.06513405301767], [-116.74984297675023, 43.06504400310135], [-116.74972015902064, 43.06504373546833], [-116.74972052657935, 43.064953685551345], [-116.74959770903118, 43.06495341778737], [-116.74959807676798, 43.06486336786981], [-116.7495984432749, 43.06477331794819], [-116.74959881100831, 43.06468326802785], [-116.74959917750822, 43.064593219003854], [-116.74959954523823, 43.06450316908064], [-116.7495999117384, 43.06441311915332], [-116.74947709649865, 43.064412851265224], [-116.74947746317322, 43.064322802237804], [-116.7494778310779, 43.06423275231115], [-116.74947819775275, 43.06414270238042], [-116.74947856565407, 43.06405265245087], [-116.74947893232557, 43.06396260251726], [-116.7494793002198, 43.06387255348542], [-116.74947966688791, 43.06378250354897], [-116.74948003478247, 43.06369245361374], [-116.74948040144716, 43.063602403674444], [-116.74960321629733, 43.063602671557646], [-116.74960358278061, 43.06351262161607], [-116.7497263974527, 43.063512889366656], [-116.74972676375454, 43.06342283942277], [-116.74984957824856, 43.06342310704069], [-116.74984994436898, 43.0633330570946], [-116.74997275745312, 43.06333332547769], [-116.74997312462025, 43.063243275532], [-116.74997349055754, 43.06315322558218], [-116.75009630451568, 43.063153492933985], [-116.75009667027156, 43.06306344298194], [-116.75009703725017, 43.06297339393163], [-116.7502198496224, 43.062973661147254], [-116.75021948404797, 43.0630637111016], [-116.75034229660163, 43.06306397818628], [-116.75046510915699, 43.06306424513917], [-116.7505879229421, 43.06306451196297], [-116.7507107355008, 43.063064778652276], [-116.75071037064365, 43.063154828608525], [-116.75083318338379, 43.06315509516688], [-116.75095599612195, 43.06315536249392], [-116.75107881009352, 43.06315562879136], [-116.75107844454583, 43.06324567874606], [-116.75120125869884, 43.0632459449125], [-116.75120089332918, 43.0633359948666], [-116.75132370643553, 43.06333626089942], [-116.75144652077161, 43.06333652680314], [-116.75156933388126, 43.063336792572414], [-116.75169214821707, 43.063337059113024], [-116.75181496133007, 43.06333732461871], [-116.75181459685749, 43.063427374575525], [-116.75193741138003, 43.063427639952906], [-116.7519370470855, 43.06351768990914], [-116.75205986178948, 43.063517955155504], [-116.75218267526697, 43.06351822026746], [-116.75230548874612, 43.063518485247634], [-116.75242830345512, 43.063518750098616], [-116.75242793987789, 43.06360880005679], [-116.75255075476827, 43.063609064776806], [-116.75255039136916, 43.063699114734405], [-116.75255002919647, 43.06378916469316], [-116.75267284321987, 43.0637894292804], [-116.75267248122528, 43.06387947923862], [-116.75279529543008, 43.06387974369489], [-116.7529181096366, 43.06388000801938], [-116.75291774799982, 43.06397005797781], [-116.75304056238771, 43.063970322171336], [-116.75304020092902, 43.064060372129184], [-116.75316301549836, 43.06406063619173], [-116.75316265421776, 43.06415068614896], [-116.75328546896849, 43.06415095008055], [-116.75340828371729, 43.06415121478082], [-116.75353109969949, 43.064151478451464], [-116.75365391445517, 43.06415174198767], [-116.75377672921257, 43.06415200539203], [-116.7537763688291, 43.06424205535201], [-116.75389918376786, 43.06424231862541], [-116.75402199993643, 43.064242581769655], [-116.75414481487492, 43.06424284567996], [-116.75414445380449, 43.064332894737866], [-116.75426727015254, 43.06433315851984], [-116.7542669092602, 43.06442320757712], [-116.75438972578966, 43.06442347122812], [-116.75438936507541, 43.0645135202848], [-116.75451218178628, 43.06451378380481], [-116.75451182125012, 43.064603832860904], [-116.75463463814239, 43.064604096249944], [-116.75475745381179, 43.06460435860405], [-116.75488026948283, 43.06460462082635], [-116.75500308638364, 43.06460488291948], [-116.755125902058, 43.06460514487822], [-116.75512554364352, 43.0646951948401], [-116.75524835949925, 43.064695456667856], [-116.75524800003474, 43.064785506626514], [-116.75537081730003, 43.06478576832591], [-116.75537045801362, 43.06487581828398], [-116.75549327546031, 43.06487607985238], [-116.75561609167696, 43.06487634218685], [-116.75573890789877, 43.064876603489026], [-116.75586172535041, 43.064876864661976], [-116.75598454157557, 43.06487712570054], [-116.7561073590305, 43.0648773866099], [-116.75623017525533, 43.064877648285346], [-116.75623053205527, 43.06478759831891], [-116.7563533493337, 43.064787858963875], [-116.75647616538564, 43.0647881194744], [-116.75659898143923, 43.064788379853105], [-116.75672179871903, 43.06478864100313], [-116.75684461477589, 43.06478890111827], [-116.75696743206254, 43.06478916110423], [-116.75709024812267, 43.06478942095575], [-116.75721306418444, 43.06478968067548], [-116.7573358814724, 43.06478994116648], [-116.75745869753746, 43.064790200622575], [-116.75745834253512, 43.06488025059716], [-116.75758115878155, 43.064880509922304], [-116.75758080272914, 43.06497055989368], [-116.75770362038512, 43.06497081909044], [-116.7577032645109, 43.065060869061206], [-116.75770290986314, 43.065150919033215], [-116.7578257266521, 43.06515117809714], [-116.7578253721825, 43.06524122806852], [-116.75794818915284, 43.06524148700146], [-116.75794783486137, 43.06533153697223], [-116.75807065201312, 43.06533179577418], [-116.75819346916649, 43.06533205444438], [-116.75831628754968, 43.06533231298532], [-116.75831593256771, 43.06542236295451], [-116.75843875113226, 43.06542262136445], [-116.75856156847028, 43.065422879640025], [-116.7586843858064, 43.06542313868428], [-116.75880720437586, 43.065423396698854], [-116.75880685011127, 43.06551344666984], [-116.75892966886211, 43.06551370455339], [-116.75892931477571, 43.06560375452376], [-116.75905213370793, 43.065604012276324], [-116.75905177979965, 43.06569406224608], [-116.75905142712142, 43.06578411131649], [-116.75917424518313, 43.06578436983676], [-116.75917389268305, 43.065874418906574], [-116.75917353894965, 43.06596446887284], [-116.7591731864428, 43.0660545188403], [-116.75917283270616, 43.06614456880377], [-116.75917248019607, 43.06623461876834], [-116.75917212645969, 43.06632466782846], [-116.75917177394635, 43.066414717790195], [-116.75917142020317, 43.06650476774793], [-116.7590486006998, 43.06650451012168], [-116.75904824677524, 43.0665945600772], [-116.75892542709727, 43.06659430141782], [-116.75892507421948, 43.06668435137369], [-116.75892472011186, 43.06677440132552], [-116.75892436723082, 43.06686445127852], [-116.75892401312, 43.06695450122755], [-116.75892366023923, 43.067044550277224], [-116.75892330612511, 43.06713460022334], [-116.75880048536656, 43.067134342327776], [-116.75880013107104, 43.067224392271726], [-116.7587997780021, 43.06731444221678], [-116.75867695688913, 43.067314183287294], [-116.75867660241056, 43.06740423322755], [-116.75867624915857, 43.06749428316894], [-116.75855342645592, 43.067494025003924], [-116.7585530730225, 43.06758407494312], [-116.75855271836282, 43.0676741239778], [-116.75842989653042, 43.06767386568192], [-116.75842954291397, 43.067763915617434], [-116.75830671967523, 43.06776365718634], [-116.75830636587736, 43.067853707119625], [-116.75818354246398, 43.06785344765541], [-116.7581831884847, 43.06794349758646], [-116.75806036488962, 43.067943238890116], [-116.7580600107289, 43.06803328881892], [-116.75805965656659, 43.068123338746325], [-116.7579368326171, 43.06812307901605], [-116.75793647827334, 43.068213128941196], [-116.75793612269969, 43.06830317886229], [-116.75793576835267, 43.068393228784586], [-116.7579354127758, 43.06848327870284], [-116.75781258933702, 43.06848301884009], [-116.75781223357868, 43.06857306875616], [-116.75781187904695, 43.06866311867337], [-116.75768905524666, 43.06866285957763], [-116.75768869930528, 43.06875290949003], [-116.75756587533033, 43.068752649361194], [-116.75756551920755, 43.06884269927132], [-116.75756516431133, 43.0689327491826], [-116.75744233874666, 43.06893248981821], [-116.757441983669, 43.06902253972731], [-116.75744162859324, 43.06911258873441], [-116.75744127228408, 43.06920263863806], [-116.75731844740992, 43.06920237914199], [-116.75731809091928, 43.069292429043344], [-116.75731773565526, 43.06938247894589], [-116.75731737916496, 43.06947252794394], [-116.75719455375298, 43.069472268313625], [-116.7571941970777, 43.06956231820989], [-116.75707137148756, 43.06956205844689], [-116.75707101585903, 43.06965210834358], [-116.75707065900417, 43.06974215733572], [-116.75694783305607, 43.06974189743925], [-116.75694747601622, 43.06983194732963], [-116.75694712020297, 43.06992199722117], [-116.75694676315979, 43.0700120471087], [-116.75694640734682, 43.0701020960969], [-116.75694605030037, 43.070192145981586], [-116.75694569448055, 43.07028219586746], [-116.75694533743085, 43.0703722457493], [-116.75682251022577, 43.0703719857153], [-116.75669968302586, 43.07037172464899], [-116.75669932561487, 43.07046177452776], [-116.75657649823327, 43.070461514229336], [-116.75645366962502, 43.0704612537964], [-116.75633084224668, 43.07046099323429], [-116.75620801487355, 43.07046073163985], [-116.75608518627023, 43.07046047081148], [-116.75596235889682, 43.070460209853884], [-116.7559620004053, 43.070550259726296], [-116.75583917285373, 43.07054999863605], [-116.75583881541262, 43.07064004760835], [-116.75571598645458, 43.07063978638286], [-116.7557156288284, 43.07072983625339]]]}}]})), options=['attribution_control', 'basemap', 'bounce_at_zoom_limits', 'box_zoom', 'center', 'close_popup_on_click', 'double_click_zoom', 'dragging', 'inertia', 'inertia_deceleration', 'inertia_max_speed', 'keyboard', 'keyboard_pan_offset', 'keyboard_zoom_offset', 'max_zoom', 'min_zoom', 'scroll_wheel_zoom', 'tap', 'tap_tolerance', 'touch_zoom', 'world_copy_jump', 'zoom', 'zoom_animation_threshold', 'zoom_control', 'zoom_start'], zoom=15)"
      ]
     },
     "metadata": {},
     "output_type": "display_data"
    }
   ],
   "source": [
    "m = Map(center=[43.06745, -116.75489], zoom=15)\n",
    "with open('reynolds_geojson_latlon.geojson') as f:\n",
    "    data = json.load(f)\n",
    "g = GeoJSON(data=data)\n",
    "m.add_layer(g)\n",
    "m"
   ]
  },
  {
   "cell_type": "markdown",
   "metadata": {},
   "source": [
    "### 2) Download TestCases from HS and Installation to prepare SUMMA simulation"
   ]
  },
  {
   "cell_type": "code",
   "execution_count": 1,
   "metadata": {},
   "outputs": [],
   "source": [
    "# To authenticate using HTTP Basic authentication.\n",
    "from hs_restclient import HydroShare, HydroShareAuthBasic\n",
    "#hs = HydroShare()"
   ]
  },
  {
   "cell_type": "code",
   "execution_count": 2,
   "metadata": {},
   "outputs": [],
   "source": [
    "# import utils.py to download TestCases from HS, unzip and installation\n",
    "from pysumma.utils import utils"
   ]
  },
  {
   "cell_type": "code",
   "execution_count": 3,
   "metadata": {},
   "outputs": [],
   "source": [
    "# define directory where you save SUMMA TestCases\n",
    "save_filepath = '/media/sf_pysumma'"
   ]
  },
  {
   "cell_type": "code",
   "execution_count": 6,
   "metadata": {
    "scrolled": true
   },
   "outputs": [],
   "source": [
    "# call install_test_cases_hs method to download TestCase from HS, unzip and install the TestCase.\n",
    "hs_path = utils.install_test_cases_hs(save_filepath)"
   ]
  },
  {
   "cell_type": "code",
   "execution_count": 1,
   "metadata": {},
   "outputs": [],
   "source": [
    "# Run this code to get to the path of the TestCase if it was gotten during a previous process\n",
    "hs_path = '/media/sf_pysumma/a0105d479c334764ba84633c5b9c1c01/a0105d479c334764ba84633c5b9c1c01/data/contents'"
   ]
  },
  {
   "cell_type": "markdown",
   "metadata": {},
   "source": [
    "### 3) Create pySUMMA Simulation Object"
   ]
  },
  {
   "cell_type": "code",
   "execution_count": 2,
   "metadata": {},
   "outputs": [],
   "source": [
    "from pysumma.Simulation import Simulation"
   ]
  },
  {
   "cell_type": "code",
   "execution_count": 7,
   "metadata": {},
   "outputs": [
    {
     "name": "stdout",
     "output_type": "stream",
     "text": [
      "ModelOuput master file filepath: /media/sf_pysumma/pysumma/sopron_2018_notebooks/var_lookup.f90\n"
     ]
    }
   ],
   "source": [
    "# create a pySUMMA simulation object using the SUMMA 'file manager' input file \n",
    "S = Simulation(hs_path+'/summaTestCases_2.x/settings/wrrPaperTestCases/figure07/summa_fileManager_riparianAspenSimpleResistance.txt')"
   ]
  },
  {
   "cell_type": "code",
   "execution_count": 8,
   "metadata": {},
   "outputs": [],
   "source": [
    "# set the simulation start and finish times\n",
    "S.decision_obj.simulStart.value = \"2007-07-01 00:00\"\n",
    "S.decision_obj.simulFinsh.value = \"2007-08-20 00:00\""
   ]
  },
  {
   "cell_type": "markdown",
   "metadata": {},
   "source": [
    "### 4) Add or remove Output variables"
   ]
  },
  {
   "cell_type": "code",
   "execution_count": 9,
   "metadata": {},
   "outputs": [],
   "source": [
    "output_variables = S.modeloutput_obj.read_variables_from_file()"
   ]
  },
  {
   "cell_type": "code",
   "execution_count": 10,
   "metadata": {},
   "outputs": [
    {
     "data": {
      "text/plain": [
       "['nSnow',\n",
       " 'nSoil',\n",
       " 'pptrate',\n",
       " 'airtemp',\n",
       " 'scalarRainPlusMelt',\n",
       " 'scalarSWE',\n",
       " 'scalarThroughfallSnow',\n",
       " 'scalarThroughfallRain',\n",
       " 'scalarSnowSublimation',\n",
       " 'scalarInfiltration',\n",
       " 'scalarExfiltration',\n",
       " 'scalarSurfaceRunoff',\n",
       " 'scalarSurfaceTemp',\n",
       " 'scalarSenHeatTotal',\n",
       " 'scalarLatHeatTotal',\n",
       " 'scalarCanopyEvaporation',\n",
       " 'scalarGroundEvaporation',\n",
       " 'iLayerHeight',\n",
       " 'iLayerLiqFluxSoil',\n",
       " 'mLayerTemp',\n",
       " 'mLayerDepth',\n",
       " 'mLayerLiqFluxSoil',\n",
       " 'mLayerVolFracIce',\n",
       " 'mLayerVolFracLiq',\n",
       " 'mLayerVolFracWat',\n",
       " 'mLayerMatricHead',\n",
       " 'basin__SurfaceRunoff',\n",
       " 'basin__ColumnOutflow',\n",
       " 'basin__AquiferStorage',\n",
       " 'basin__AquiferRecharge',\n",
       " 'basin__AquiferBaseflow',\n",
       " 'basin__AquiferTranspire',\n",
       " 'averageInstantRunoff',\n",
       " 'averageRoutedRunoff']"
      ]
     },
     "execution_count": 10,
     "metadata": {},
     "output_type": "execute_result"
    }
   ],
   "source": [
    "output_variables"
   ]
  },
  {
   "cell_type": "code",
   "execution_count": 11,
   "metadata": {},
   "outputs": [],
   "source": [
    "master_output_variables = S.modeloutput_obj.read_master_file()"
   ]
  },
  {
   "cell_type": "code",
   "execution_count": 12,
   "metadata": {},
   "outputs": [
    {
     "data": {
      "text/plain": [
       "['numStats',\n",
       " 'maxFreq',\n",
       " 'ixVal',\n",
       " 'iLength',\n",
       " 'iLook_decision',\n",
       " 'simulStart',\n",
       " 'simulFinsh',\n",
       " 'soilCatTbl',\n",
       " 'vegeParTbl',\n",
       " 'soilStress',\n",
       " 'stomResist',\n",
       " 'bbTempFunc',\n",
       " 'bbHumdFunc',\n",
       " 'bbElecFunc',\n",
       " 'bbCO2point',\n",
       " 'bbNumerics',\n",
       " 'bbAssimFnc',\n",
       " 'bbCanIntg8',\n",
       " 'num_method',\n",
       " 'fDerivMeth',\n",
       " 'LAI_method',\n",
       " 'cIntercept',\n",
       " 'f_Richards',\n",
       " 'groundwatr',\n",
       " 'hc_profile',\n",
       " 'bcUpprTdyn',\n",
       " 'bcLowrTdyn',\n",
       " 'bcUpprSoiH',\n",
       " 'bcLowrSoiH',\n",
       " 'veg_traits',\n",
       " 'rootProfil',\n",
       " 'canopyEmis',\n",
       " 'snowIncept',\n",
       " 'windPrfile',\n",
       " 'astability',\n",
       " 'canopySrad',\n",
       " 'alb_method',\n",
       " 'snowLayers',\n",
       " 'compaction',\n",
       " 'thCondSnow',\n",
       " 'thCondSoil',\n",
       " 'spatial_gw',\n",
       " 'subRouting',\n",
       " 'snowDenNew',\n",
       " 'iLook_time',\n",
       " 'iyyy',\n",
       " 'im',\n",
       " 'id',\n",
       " 'ih',\n",
       " 'imin',\n",
       " 'iLook_force',\n",
       " 'time',\n",
       " 'pptrate',\n",
       " 'airtemp',\n",
       " 'spechum',\n",
       " 'windspd',\n",
       " 'SWRadAtm',\n",
       " 'LWRadAtm',\n",
       " 'airpres',\n",
       " 'iLook_attr',\n",
       " 'latitude',\n",
       " 'longitude',\n",
       " 'elevation',\n",
       " 'tan_slope',\n",
       " 'contourLength',\n",
       " 'HRUarea',\n",
       " 'mHeight',\n",
       " 'iLook_type',\n",
       " 'hruIndex',\n",
       " 'vegTypeIndex',\n",
       " 'soilTypeIndex',\n",
       " 'slopeTypeIndex',\n",
       " 'downHRUindex',\n",
       " 'iLook_param',\n",
       " 'upperBoundHead',\n",
       " 'lowerBoundHead',\n",
       " 'upperBoundTheta',\n",
       " 'lowerBoundTheta',\n",
       " 'upperBoundTemp',\n",
       " 'lowerBoundTemp',\n",
       " 'tempCritRain',\n",
       " 'tempRangeTimestep',\n",
       " 'frozenPrecipMultip',\n",
       " 'snowfrz_scale',\n",
       " 'fixedThermalCond_snow',\n",
       " 'albedoMax',\n",
       " 'albedoMinWinter',\n",
       " 'albedoMinSpring',\n",
       " 'albedoMaxVisible',\n",
       " 'albedoMinVisible',\n",
       " 'albedoMaxNearIR',\n",
       " 'albedoMinNearIR',\n",
       " 'albedoDecayRate',\n",
       " 'albedoSootLoad',\n",
       " 'albedoRefresh',\n",
       " 'radExt_snow',\n",
       " 'directScale',\n",
       " 'Frad_direct',\n",
       " 'Frad_vis',\n",
       " 'newSnowDenMin',\n",
       " 'newSnowDenMult',\n",
       " 'newSnowDenScal',\n",
       " 'constSnowDen',\n",
       " 'newSnowDenAdd',\n",
       " 'newSnowDenMultTemp',\n",
       " 'newSnowDenMultWind',\n",
       " 'newSnowDenMultAnd',\n",
       " 'newSnowDenBase',\n",
       " 'densScalGrowth',\n",
       " 'tempScalGrowth',\n",
       " 'grainGrowthRate',\n",
       " 'densScalOvrbdn',\n",
       " 'tempScalOvrbdn',\n",
       " 'baseViscosity',\n",
       " 'Fcapil',\n",
       " 'k_snow',\n",
       " 'mw_exp',\n",
       " 'z0Snow',\n",
       " 'z0Soil',\n",
       " 'z0Canopy',\n",
       " 'zpdFraction',\n",
       " 'critRichNumber',\n",
       " 'Louis79_bparam',\n",
       " 'Louis79_cStar',\n",
       " 'Mahrt87_eScale',\n",
       " 'leafExchangeCoeff',\n",
       " 'windReductionParam',\n",
       " 'Kc25',\n",
       " 'Ko25',\n",
       " 'Kc_qFac',\n",
       " 'Ko_qFac',\n",
       " 'kc_Ha',\n",
       " 'ko_Ha',\n",
       " 'vcmax25_canopyTop',\n",
       " 'vcmax_qFac',\n",
       " 'vcmax_Ha',\n",
       " 'vcmax_Hd',\n",
       " 'vcmax_Sv',\n",
       " 'vcmax_Kn',\n",
       " 'jmax25_scale',\n",
       " 'jmax_Ha',\n",
       " 'jmax_Hd',\n",
       " 'jmax_Sv',\n",
       " 'fractionJ',\n",
       " 'quantamYield',\n",
       " 'vpScaleFactor',\n",
       " 'cond2photo_slope',\n",
       " 'minStomatalConductance',\n",
       " 'winterSAI',\n",
       " 'summerLAI',\n",
       " 'rootScaleFactor1',\n",
       " 'rootScaleFactor2',\n",
       " 'rootingDepth',\n",
       " 'rootDistExp',\n",
       " 'plantWiltPsi',\n",
       " 'soilStressParam',\n",
       " 'critSoilWilting',\n",
       " 'critSoilTranspire',\n",
       " 'critAquiferTranspire',\n",
       " 'minStomatalResistance',\n",
       " 'leafDimension',\n",
       " 'heightCanopyTop',\n",
       " 'heightCanopyBottom',\n",
       " 'specificHeatVeg',\n",
       " 'maxMassVegetation',\n",
       " 'throughfallScaleSnow',\n",
       " 'throughfallScaleRain',\n",
       " 'refInterceptCapSnow',\n",
       " 'refInterceptCapRain',\n",
       " 'snowUnloadingCoeff',\n",
       " 'canopyDrainageCoeff',\n",
       " 'ratioDrip2Unloading',\n",
       " 'canopyWettingFactor',\n",
       " 'canopyWettingExp',\n",
       " 'soil_dens_intr',\n",
       " 'thCond_soil',\n",
       " 'frac_sand',\n",
       " 'frac_silt',\n",
       " 'frac_clay',\n",
       " 'fieldCapacity',\n",
       " 'wettingFrontSuction',\n",
       " 'theta_mp',\n",
       " 'theta_sat',\n",
       " 'theta_res',\n",
       " 'vGn_alpha',\n",
       " 'vGn_n',\n",
       " 'mpExp',\n",
       " 'k_soil',\n",
       " 'k_macropore',\n",
       " 'kAnisotropic',\n",
       " 'zScale_TOPMODEL',\n",
       " 'compactedDepth',\n",
       " 'aquiferScaleFactor',\n",
       " 'aquiferBaseflowExp',\n",
       " 'qSurfScale',\n",
       " 'specificYield',\n",
       " 'specificStorage',\n",
       " 'f_impede',\n",
       " 'soilIceScale',\n",
       " 'soilIceCV',\n",
       " 'minwind',\n",
       " 'minstep',\n",
       " 'maxstep',\n",
       " 'wimplicit',\n",
       " 'maxiter',\n",
       " 'relConvTol_liquid',\n",
       " 'absConvTol_liquid',\n",
       " 'relConvTol_matric',\n",
       " 'absConvTol_matric',\n",
       " 'relConvTol_energy',\n",
       " 'absConvTol_energy',\n",
       " 'relConvTol_aquifr',\n",
       " 'absConvTol_aquifr',\n",
       " 'zmin',\n",
       " 'zmax',\n",
       " 'zminLayer1',\n",
       " 'zminLayer2',\n",
       " 'zminLayer3',\n",
       " 'zminLayer4',\n",
       " 'zminLayer5',\n",
       " 'zmaxLayer1_lower',\n",
       " 'zmaxLayer2_lower',\n",
       " 'zmaxLayer3_lower',\n",
       " 'zmaxLayer4_lower',\n",
       " 'zmaxLayer1_upper',\n",
       " 'zmaxLayer2_upper',\n",
       " 'zmaxLayer3_upper',\n",
       " 'zmaxLayer4_upper',\n",
       " 'iLook_prog',\n",
       " 'dt_init',\n",
       " 'scalarCanopyIce',\n",
       " 'scalarCanopyLiq',\n",
       " 'scalarCanopyWat',\n",
       " 'scalarCanairTemp',\n",
       " 'scalarCanopyTemp',\n",
       " 'spectralSnowAlbedoDiffuse',\n",
       " 'scalarSnowAlbedo',\n",
       " 'scalarSnowDepth',\n",
       " 'scalarSWE',\n",
       " 'scalarSfcMeltPond',\n",
       " 'mLayerTemp',\n",
       " 'mLayerVolFracIce',\n",
       " 'mLayerVolFracLiq',\n",
       " 'mLayerVolFracWat',\n",
       " 'mLayerMatricHead',\n",
       " 'scalarAquiferStorage',\n",
       " 'scalarSurfaceTemp',\n",
       " 'mLayerDepth',\n",
       " 'mLayerHeight',\n",
       " 'iLayerHeight',\n",
       " 'iLook_diag',\n",
       " 'scalarCanopyDepth',\n",
       " 'scalarGreenVegFraction',\n",
       " 'scalarBulkVolHeatCapVeg',\n",
       " 'scalarCanopyEmissivity',\n",
       " 'scalarRootZoneTemp',\n",
       " 'scalarLAI',\n",
       " 'scalarSAI',\n",
       " 'scalarExposedLAI',\n",
       " 'scalarExposedSAI',\n",
       " 'scalarCanopyIceMax',\n",
       " 'scalarCanopyLiqMax',\n",
       " 'scalarGrowingSeasonIndex',\n",
       " 'scalarVolHtCap_air',\n",
       " 'scalarVolHtCap_ice',\n",
       " 'scalarVolHtCap_soil',\n",
       " 'scalarVolHtCap_water',\n",
       " 'mLayerVolHtCapBulk',\n",
       " 'scalarLambda_drysoil',\n",
       " 'scalarLambda_wetsoil',\n",
       " 'mLayerThermalC',\n",
       " 'iLayerThermalC',\n",
       " 'scalarVPair',\n",
       " 'scalarVP_CanopyAir',\n",
       " 'scalarTwetbulb',\n",
       " 'scalarSnowfallTemp',\n",
       " 'scalarNewSnowDensity',\n",
       " 'scalarO2air',\n",
       " 'scalarCO2air',\n",
       " 'scalarCosZenith',\n",
       " 'scalarFractionDirect',\n",
       " 'scalarCanopySunlitFraction',\n",
       " 'scalarCanopySunlitLAI',\n",
       " 'scalarCanopyShadedLAI',\n",
       " 'spectralAlbGndDirect',\n",
       " 'spectralAlbGndDiffuse',\n",
       " 'scalarGroundAlbedo',\n",
       " 'scalarLatHeatSubVapCanopy',\n",
       " 'scalarLatHeatSubVapGround',\n",
       " 'scalarSatVP_CanopyTemp',\n",
       " 'scalarSatVP_GroundTemp',\n",
       " 'scalarZ0Canopy',\n",
       " 'scalarWindReductionFactor',\n",
       " 'scalarZeroPlaneDisplacement',\n",
       " 'scalarRiBulkCanopy',\n",
       " 'scalarRiBulkGround',\n",
       " 'scalarCanopyStabilityCorrection',\n",
       " 'scalarGroundStabilityCorrection',\n",
       " 'scalarIntercellularCO2Sunlit',\n",
       " 'scalarIntercellularCO2Shaded',\n",
       " 'scalarTranspireLim',\n",
       " 'scalarTranspireLimAqfr',\n",
       " 'scalarFoliageNitrogenFactor',\n",
       " 'scalarSoilRelHumidity',\n",
       " 'mLayerTranspireLim',\n",
       " 'mLayerRootDensity',\n",
       " 'scalarAquiferRootFrac',\n",
       " 'scalarFracLiqVeg',\n",
       " 'scalarCanopyWetFraction',\n",
       " 'scalarSnowAge',\n",
       " 'scalarGroundSnowFraction',\n",
       " 'spectralSnowAlbedoDirect',\n",
       " 'mLayerFracLiqSnow',\n",
       " 'mLayerThetaResid',\n",
       " 'mLayerPoreSpace',\n",
       " 'mLayerMeltFreeze',\n",
       " 'scalarInfilArea',\n",
       " 'scalarFrozenArea',\n",
       " 'scalarSoilControl',\n",
       " 'mLayerVolFracAir',\n",
       " 'mLayerTcrit',\n",
       " 'mLayerCompress',\n",
       " 'scalarSoilCompress',\n",
       " 'mLayerMatricHeadLiq',\n",
       " 'scalarSoilWatBalError',\n",
       " 'scalarAquiferBalError',\n",
       " 'scalarTotalSoilLiq',\n",
       " 'scalarTotalSoilIce',\n",
       " 'scalarVGn_m',\n",
       " 'scalarKappa',\n",
       " 'scalarVolLatHt_fus',\n",
       " 'numFluxCalls',\n",
       " 'iLook_flux',\n",
       " 'scalarCanairNetNrgFlux',\n",
       " 'scalarCanopyNetNrgFlux',\n",
       " 'scalarGroundNetNrgFlux',\n",
       " 'scalarCanopyNetLiqFlux',\n",
       " 'scalarRainfall',\n",
       " 'scalarSnowfall',\n",
       " 'spectralIncomingDirect',\n",
       " 'spectralIncomingDiffuse',\n",
       " 'scalarCanopySunlitPAR',\n",
       " 'scalarCanopyShadedPAR',\n",
       " 'spectralBelowCanopyDirect',\n",
       " 'spectralBelowCanopyDiffuse',\n",
       " 'scalarBelowCanopySolar',\n",
       " 'scalarCanopyAbsorbedSolar',\n",
       " 'scalarGroundAbsorbedSolar',\n",
       " 'scalarLWRadCanopy',\n",
       " 'scalarLWRadGround',\n",
       " 'scalarLWRadUbound2Canopy',\n",
       " 'scalarLWRadUbound2Ground',\n",
       " 'scalarLWRadUbound2Ubound',\n",
       " 'scalarLWRadCanopy2Ubound',\n",
       " 'scalarLWRadCanopy2Ground',\n",
       " 'scalarLWRadCanopy2Canopy',\n",
       " 'scalarLWRadGround2Ubound',\n",
       " 'scalarLWRadGround2Canopy',\n",
       " 'scalarLWNetCanopy',\n",
       " 'scalarLWNetGround',\n",
       " 'scalarLWNetUbound',\n",
       " 'scalarEddyDiffusCanopyTop',\n",
       " 'scalarFrictionVelocity',\n",
       " 'scalarWindspdCanopyTop',\n",
       " 'scalarWindspdCanopyBottom',\n",
       " 'scalarGroundResistance',\n",
       " 'scalarCanopyResistance',\n",
       " 'scalarLeafResistance',\n",
       " 'scalarSoilResistance',\n",
       " 'scalarSenHeatTotal',\n",
       " 'scalarSenHeatCanopy',\n",
       " 'scalarSenHeatGround',\n",
       " 'scalarLatHeatTotal',\n",
       " 'scalarLatHeatCanopyEvap',\n",
       " 'scalarLatHeatCanopyTrans',\n",
       " 'scalarLatHeatGround',\n",
       " 'scalarCanopyAdvectiveHeatFlux',\n",
       " 'scalarGroundAdvectiveHeatFlux',\n",
       " 'scalarCanopySublimation',\n",
       " 'scalarSnowSublimation',\n",
       " 'scalarStomResistSunlit',\n",
       " 'scalarStomResistShaded',\n",
       " 'scalarPhotosynthesisSunlit',\n",
       " 'scalarPhotosynthesisShaded',\n",
       " 'scalarCanopyTranspiration',\n",
       " 'scalarCanopyEvaporation',\n",
       " 'scalarGroundEvaporation',\n",
       " 'mLayerTranspire',\n",
       " 'scalarThroughfallSnow',\n",
       " 'scalarThroughfallRain',\n",
       " 'scalarCanopySnowUnloading',\n",
       " 'scalarCanopyLiqDrainage',\n",
       " 'scalarCanopyMeltFreeze',\n",
       " 'iLayerConductiveFlux',\n",
       " 'iLayerAdvectiveFlux',\n",
       " 'iLayerNrgFlux',\n",
       " 'mLayerNrgFlux',\n",
       " 'scalarSnowDrainage',\n",
       " 'iLayerLiqFluxSnow',\n",
       " 'mLayerLiqFluxSnow',\n",
       " 'scalarRainPlusMelt',\n",
       " 'scalarMaxInfilRate',\n",
       " 'scalarInfiltration',\n",
       " 'scalarExfiltration',\n",
       " 'scalarSurfaceRunoff',\n",
       " 'mLayerSatHydCondMP',\n",
       " 'mLayerSatHydCond',\n",
       " 'iLayerSatHydCond',\n",
       " 'mLayerHydCond',\n",
       " 'iLayerLiqFluxSoil',\n",
       " 'mLayerLiqFluxSoil',\n",
       " 'mLayerBaseflow',\n",
       " 'mLayerColumnInflow',\n",
       " 'mLayerColumnOutflow',\n",
       " 'scalarSoilBaseflow',\n",
       " 'scalarSoilDrainage',\n",
       " 'scalarAquiferRecharge',\n",
       " 'scalarAquiferTranspire',\n",
       " 'scalarAquiferBaseflow',\n",
       " 'iLook_deriv',\n",
       " 'dCanairNetFlux_dCanairTemp',\n",
       " 'dCanairNetFlux_dCanopyTemp',\n",
       " 'dCanairNetFlux_dGroundTemp',\n",
       " 'dCanopyNetFlux_dCanairTemp',\n",
       " 'dCanopyNetFlux_dCanopyTemp',\n",
       " 'dCanopyNetFlux_dGroundTemp',\n",
       " 'dCanopyNetFlux_dCanLiq',\n",
       " 'dGroundNetFlux_dCanairTemp',\n",
       " 'dGroundNetFlux_dCanopyTemp',\n",
       " 'dGroundNetFlux_dGroundTemp',\n",
       " 'dGroundNetFlux_dCanLiq',\n",
       " 'dCanopyEvaporation_dTCanair',\n",
       " 'dCanopyEvaporation_dTCanopy',\n",
       " 'dCanopyEvaporation_dTGround',\n",
       " 'dCanopyEvaporation_dCanLiq',\n",
       " 'dGroundEvaporation_dTCanair',\n",
       " 'dGroundEvaporation_dTCanopy',\n",
       " 'dGroundEvaporation_dTGround',\n",
       " 'dGroundEvaporation_dCanLiq',\n",
       " 'dTheta_dTkCanopy',\n",
       " 'dCanLiq_dTcanopy',\n",
       " 'scalarCanopyLiqDeriv',\n",
       " 'scalarThroughfallRainDeriv',\n",
       " 'scalarCanopyLiqDrainageDeriv',\n",
       " 'dNrgFlux_dTempAbove',\n",
       " 'dNrgFlux_dTempBelow',\n",
       " 'iLayerLiqFluxSnowDeriv',\n",
       " 'dVolTot_dPsi0',\n",
       " 'dq_dHydStateAbove',\n",
       " 'dq_dHydStateBelow',\n",
       " 'mLayerdTheta_dPsi',\n",
       " 'mLayerdPsi_dTheta',\n",
       " 'dCompress_dPsi',\n",
       " 'dq_dNrgStateAbove',\n",
       " 'dq_dNrgStateBelow',\n",
       " 'mLayerdTheta_dTk',\n",
       " 'dPsiLiq_dTemp',\n",
       " 'dPsiLiq_dPsi0',\n",
       " 'iLook_index',\n",
       " 'nSnow',\n",
       " 'nSoil',\n",
       " 'nLayers',\n",
       " 'layerType',\n",
       " 'nCasNrg',\n",
       " 'nVegNrg',\n",
       " 'nVegMass',\n",
       " 'nVegState',\n",
       " 'nNrgState',\n",
       " 'nWatState',\n",
       " 'nMatState',\n",
       " 'nMassState',\n",
       " 'nState',\n",
       " 'nSnowSoilNrg',\n",
       " 'nSnowOnlyNrg',\n",
       " 'nSoilOnlyNrg',\n",
       " 'nSnowSoilHyd',\n",
       " 'nSnowOnlyHyd',\n",
       " 'nSoilOnlyHyd',\n",
       " 'ixControlVolume',\n",
       " 'ixDomainType',\n",
       " 'ixStateType',\n",
       " 'ixHydType',\n",
       " 'ixDomainType_subset',\n",
       " 'ixStateType_subset',\n",
       " 'ixMapFull2Subset',\n",
       " 'ixMapSubset2Full',\n",
       " 'ixCasNrg',\n",
       " 'ixVegNrg',\n",
       " 'ixVegHyd',\n",
       " 'ixTopNrg',\n",
       " 'ixTopHyd',\n",
       " 'ixNrgOnly',\n",
       " 'ixHydOnly',\n",
       " 'ixMatOnly',\n",
       " 'ixMassOnly',\n",
       " 'ixSnowSoilNrg',\n",
       " 'ixSnowOnlyNrg',\n",
       " 'ixSoilOnlyNrg',\n",
       " 'ixSnowSoilHyd',\n",
       " 'ixSnowOnlyHyd',\n",
       " 'ixSoilOnlyHyd',\n",
       " 'ixNrgCanair',\n",
       " 'ixNrgCanopy',\n",
       " 'ixHydCanopy',\n",
       " 'ixNrgLayer',\n",
       " 'ixHydLayer',\n",
       " 'ixVolFracWat',\n",
       " 'ixMatricHead',\n",
       " 'ixAllState',\n",
       " 'ixSoilState',\n",
       " 'ixLayerState',\n",
       " 'midSnowStartIndex',\n",
       " 'midSoilStartIndex',\n",
       " 'midTotoStartIndex',\n",
       " 'ifcSnowStartIndex',\n",
       " 'ifcSoilStartIndex',\n",
       " 'ifcTotoStartIndex',\n",
       " 'iLook_bpar',\n",
       " 'basin__aquiferHydCond',\n",
       " 'basin__aquiferScaleFactor',\n",
       " 'basin__aquiferBaseflowExp',\n",
       " 'routingGammaShape',\n",
       " 'routingGammaScale',\n",
       " 'iLook_bvar',\n",
       " 'basin__totalArea',\n",
       " 'basin__SurfaceRunoff',\n",
       " 'basin__ColumnOutflow',\n",
       " 'basin__AquiferStorage',\n",
       " 'basin__AquiferRecharge',\n",
       " 'basin__AquiferBaseflow',\n",
       " 'basin__AquiferTranspire',\n",
       " 'routingRunoffFuture',\n",
       " 'routingFractionFuture',\n",
       " 'averageInstantRunoff',\n",
       " 'averageRoutedRunoff',\n",
       " 'iLook_varType',\n",
       " 'scalarv',\n",
       " 'wLength',\n",
       " 'midSnow',\n",
       " 'midSoil',\n",
       " 'midToto',\n",
       " 'ifcSnow',\n",
       " 'ifcSoil',\n",
       " 'ifcToto',\n",
       " 'parSoil',\n",
       " 'routing',\n",
       " 'outstat',\n",
       " 'unknown',\n",
       " 'iLook_stat',\n",
       " 'totl',\n",
       " 'inst',\n",
       " 'mean',\n",
       " 'vari',\n",
       " 'mini',\n",
       " 'maxi',\n",
       " 'mode',\n",
       " 'iLookDECISIONS',\n",
       " 'iLookTIME',\n",
       " 'iLookFORCE',\n",
       " 'iLookATTR',\n",
       " 'iLookTYPE',\n",
       " 'iLookPARAM',\n",
       " 'iLookPROG',\n",
       " 'iLookDIAG',\n",
       " 'iLookFLUX',\n",
       " 'iLookDERIV',\n",
       " 'iLookINDEX',\n",
       " 'iLookBPAR',\n",
       " 'iLookBVAR',\n",
       " 'iLookVarType',\n",
       " 'iLookStat',\n",
       " 'maxvarDecisions',\n",
       " 'maxvarTime',\n",
       " 'maxvarForc',\n",
       " 'maxvarAttr',\n",
       " 'maxvarType',\n",
       " 'maxvarMpar',\n",
       " 'maxvarProg',\n",
       " 'maxvarDiag',\n",
       " 'maxvarFlux',\n",
       " 'maxvarDeriv',\n",
       " 'maxvarIndx',\n",
       " 'maxvarBpar',\n",
       " 'maxvarBvar',\n",
       " 'maxvarVarType',\n",
       " 'maxvarStat',\n",
       " 'childFLUX_MEAN(:)  ! index of the child data structure: mean flux']"
      ]
     },
     "execution_count": 12,
     "metadata": {},
     "output_type": "execute_result"
    }
   ],
   "source": [
    "master_output_variables"
   ]
  },
  {
   "cell_type": "code",
   "execution_count": 13,
   "metadata": {},
   "outputs": [],
   "source": [
    "S.modeloutput_obj.remove_variable('scalarCanopyTranspiration')"
   ]
  },
  {
   "cell_type": "code",
   "execution_count": 14,
   "metadata": {},
   "outputs": [
    {
     "data": {
      "text/plain": [
       "['nSnow',\n",
       " 'nSoil',\n",
       " 'pptrate',\n",
       " 'airtemp',\n",
       " 'scalarRainPlusMelt',\n",
       " 'scalarSWE',\n",
       " 'scalarThroughfallSnow',\n",
       " 'scalarThroughfallRain',\n",
       " 'scalarSnowSublimation',\n",
       " 'scalarInfiltration',\n",
       " 'scalarExfiltration',\n",
       " 'scalarSurfaceRunoff',\n",
       " 'scalarSurfaceTemp',\n",
       " 'scalarSenHeatTotal',\n",
       " 'scalarLatHeatTotal',\n",
       " 'scalarCanopyEvaporation',\n",
       " 'scalarGroundEvaporation',\n",
       " 'iLayerHeight',\n",
       " 'iLayerLiqFluxSoil',\n",
       " 'mLayerTemp',\n",
       " 'mLayerDepth',\n",
       " 'mLayerLiqFluxSoil',\n",
       " 'mLayerVolFracIce',\n",
       " 'mLayerVolFracLiq',\n",
       " 'mLayerVolFracWat',\n",
       " 'mLayerMatricHead',\n",
       " 'basin__SurfaceRunoff',\n",
       " 'basin__ColumnOutflow',\n",
       " 'basin__AquiferStorage',\n",
       " 'basin__AquiferRecharge',\n",
       " 'basin__AquiferBaseflow',\n",
       " 'basin__AquiferTranspire',\n",
       " 'averageInstantRunoff',\n",
       " 'averageRoutedRunoff']"
      ]
     },
     "execution_count": 14,
     "metadata": {},
     "output_type": "execute_result"
    }
   ],
   "source": [
    "output_variables = S.modeloutput_obj.read_variables_from_file()\n",
    "output_variables"
   ]
  },
  {
   "cell_type": "code",
   "execution_count": 15,
   "metadata": {},
   "outputs": [],
   "source": [
    "S.modeloutput_obj.add_variable('scalarCanopyTranspiration')"
   ]
  },
  {
   "cell_type": "code",
   "execution_count": 16,
   "metadata": {},
   "outputs": [
    {
     "data": {
      "text/plain": [
       "['nSnow',\n",
       " 'nSoil',\n",
       " 'pptrate',\n",
       " 'airtemp',\n",
       " 'scalarRainPlusMelt',\n",
       " 'scalarSWE',\n",
       " 'scalarThroughfallSnow',\n",
       " 'scalarThroughfallRain',\n",
       " 'scalarSnowSublimation',\n",
       " 'scalarInfiltration',\n",
       " 'scalarExfiltration',\n",
       " 'scalarSurfaceRunoff',\n",
       " 'scalarSurfaceTemp',\n",
       " 'scalarSenHeatTotal',\n",
       " 'scalarLatHeatTotal',\n",
       " 'scalarCanopyEvaporation',\n",
       " 'scalarGroundEvaporation',\n",
       " 'iLayerHeight',\n",
       " 'iLayerLiqFluxSoil',\n",
       " 'mLayerTemp',\n",
       " 'mLayerDepth',\n",
       " 'mLayerLiqFluxSoil',\n",
       " 'mLayerVolFracIce',\n",
       " 'mLayerVolFracLiq',\n",
       " 'mLayerVolFracWat',\n",
       " 'mLayerMatricHead',\n",
       " 'basin__SurfaceRunoff',\n",
       " 'basin__ColumnOutflow',\n",
       " 'basin__AquiferStorage',\n",
       " 'basin__AquiferRecharge',\n",
       " 'basin__AquiferBaseflow',\n",
       " 'basin__AquiferTranspire',\n",
       " 'averageInstantRunoff',\n",
       " 'averageRoutedRunoff',\n",
       " 'scalarCanopyTranspiration']"
      ]
     },
     "execution_count": 16,
     "metadata": {},
     "output_type": "execute_result"
    }
   ],
   "source": [
    "output_variables = S.modeloutput_obj.read_variables_from_file()\n",
    "output_variables"
   ]
  },
  {
   "cell_type": "markdown",
   "metadata": {},
   "source": [
    "### 5) Run SUMMA for the different stomatal resistance parameterization options with Developing version of Docker image"
   ]
  },
  {
   "cell_type": "code",
   "execution_count": 17,
   "metadata": {
    "scrolled": true
   },
   "outputs": [
    {
     "data": {
      "text/plain": [
       "['BallBerry', 'Jarvis', 'simpleResistance']"
      ]
     },
     "execution_count": 17,
     "metadata": {},
     "output_type": "execute_result"
    }
   ],
   "source": [
    "# query for the available stomatal resistance parameterizations\n",
    "S.decision_obj.stomResist.options"
   ]
  },
  {
   "cell_type": "markdown",
   "metadata": {},
   "source": [
    "#### 4.1) assign simple soil resistance method "
   ]
  },
  {
   "cell_type": "code",
   "execution_count": 18,
   "metadata": {},
   "outputs": [
    {
     "data": {
      "text/plain": [
       "'simpleResistance'"
      ]
     },
     "execution_count": 18,
     "metadata": {},
     "output_type": "execute_result"
    }
   ],
   "source": [
    "S.decision_obj.stomResist.value = 'simpleResistance'\n",
    "S.decision_obj.stomResist.value"
   ]
  },
  {
   "cell_type": "markdown",
   "metadata": {},
   "source": [
    "#### 4.2) set SUMMA executable file"
   ]
  },
  {
   "cell_type": "code",
   "execution_count": 19,
   "metadata": {},
   "outputs": [],
   "source": [
    "S.executable = \"/media/sf_pysumma/summa-master/bin/summa.exe\""
   ]
  },
  {
   "cell_type": "markdown",
   "metadata": {},
   "source": [
    "#### 4.3) run the model giving the output the suffix \"simpleResistance\""
   ]
  },
  {
   "cell_type": "code",
   "execution_count": 20,
   "metadata": {},
   "outputs": [
    {
     "name": "stdout",
     "output_type": "stream",
     "text": [
      "file_suffix is 'simpleResistance_hs'.\n",
      "file_master is '/media/sf_pysumma/a0105d479c334764ba84633c5b9c1c01/a0105d479c334764ba84633c5b9c1c01/data/contents/summaTestCases_2.x/settings/wrrPaperTestCases/figure07/summa_fileManager_riparianAspenSimpleResistance.txt'.\n",
      "start at 22:41:50\n",
      "Name of Model Output control file: /media/sf_pysumma/a0105d479c334764ba84633c5b9c1c01/a0105d479c334764ba84633c5b9c1c01/data/contents/summaTestCases_2.x/settings/meta/Model_Output.txt\n",
      "decisions file =  /media/sf_pysumma/a0105d479c334764ba84633c5b9c1c01/a0105d479c334764ba84633c5b9c1c01/data/contents/summaTestCases_2.x/settings/wrrPaperTestCases/figure07/summa_zDecisions_riparianAspenSimpleResistance.txt\n",
      "   1 simulStart: 2007-07-01 00:00\n",
      "   2 simulFinsh: 2007-08-20 00:00\n",
      "   3 soilCatTbl: ROSETTA\n",
      "   4 vegeParTbl: USGS\n",
      "   5 soilStress: NoahType\n",
      "   6 stomResist: simpleResistance\n",
      "   7 num_method: itertive\n",
      "   8 fDerivMeth: analytic\n",
      "   9 LAI_method: specified\n",
      "  10 f_Richards: mixdform\n",
      "  11 groundwatr: noXplict\n",
      "  12 hc_profile: constant\n",
      "  13 bcUpprTdyn: nrg_flux\n",
      "  14 bcLowrTdyn: zeroFlux\n",
      "  15 bcUpprSoiH: liq_flux\n",
      "  16 bcLowrSoiH: drainage\n",
      "  17 veg_traits: CM_QJRMS1988\n",
      "  18 canopyEmis: difTrans\n",
      "  19 snowIncept: lightSnow\n",
      "  20 windPrfile: logBelowCanopy\n",
      "  21 astability: louisinv\n",
      "  22 canopySrad: BeersLaw\n",
      "  23 alb_method: varDecay\n",
      "  24 compaction: anderson\n",
      "  25 snowLayers: CLM_2010\n",
      "  26 thCondSnow: jrdn1991\n",
      "  27 thCondSoil: mixConstit\n",
      "  28 spatial_gw: localColumn\n",
      "  29 subRouting: timeDlay\n",
      "startTime: iyyy, im, id, ih, imin = 2007  7  1  0  0\n",
      "finshTime: iyyy, im, id, ih, imin = 2007  8 20  0  0\n",
      "/media/sf_pysumma/a0105d479c334764ba84633c5b9c1c01/a0105d479c334764ba84633c5b9c1c01/data/contents/summaTestCases_2.x/settings/wrrPaperTestCases/figure07/summa_zLocalParamInfo.txt\n",
      "/media/sf_pysumma/a0105d479c334764ba84633c5b9c1c01/a0105d479c334764ba84633c5b9c1c01/data/contents/summaTestCases_2.x/settings/wrrPaperTestCases/figure07/summa_zBasinParamInfo.txt\n",
      "Skipping over SLTYPE = STAS\n",
      "Skipping over SLTYPE = STAS-RUC\n",
      " hruIndex\n",
      " frozenPrecipMultip\n",
      " theta_mp\n",
      " theta_sat\n",
      " theta_res\n",
      " vGn_alpha\n",
      " vGn_n\n",
      " f_impede\n",
      " k_soil\n",
      " k_macropore\n",
      " critSoilWilting\n",
      " critSoilTranspire\n",
      " winterSAI\n",
      " summerLAI\n",
      " heightCanopyTop\n",
      " heightCanopyBottom\n",
      " kAnisotropic\n",
      " rootDistExp\n",
      " zScale_TOPMODEL\n",
      " qSurfScale\n",
      "Created output file:/media/sf_pysumma/a0105d479c334764ba84633c5b9c1c01/a0105d479c334764ba84633c5b9c1c01/data/contents/summaTestCases_2.x/output/wrrPaperTestCases/figure07/vegImpactsTranspire_output_simpleResistance_hs_timestep.nc\n",
      "\n",
      "initial date/time = 2018-05-16  22:41:50.943\n",
      "  final date/time = 2018-05-16  22:41:51.452\n",
      "\n",
      "     elapsed init =   8.9000000E-02 s\n",
      "    fraction init =   0.1748527     s\n",
      "\n",
      "     elapsed read =   2.3000000E-02 s\n",
      "    fraction read =   4.5186640E-02 s\n",
      "\n",
      "    elapsed write =   0.1410000     s\n",
      "   fraction write =   0.2770138     s\n",
      "\n",
      "  elapsed physics =   0.2540000     s\n",
      " fraction physics =   0.4990177     s\n",
      "\n",
      "     elapsed time =   0.5090000     s\n",
      "       or             8.4833333E-03 m\n",
      "       or             1.4138889E-04 h\n",
      "       or             5.8912037E-06 d\n",
      "\n",
      "   number threads =          1\n",
      "\n",
      " FORTRAN STOP: finished simulation successfully.\n",
      "\n"
     ]
    }
   ],
   "source": [
    "results_simpleResistance, out_file1 = S.execute(run_suffix=\"simpleResistance_hs\", run_option = 'local')"
   ]
  },
  {
   "cell_type": "markdown",
   "metadata": {},
   "source": [
    "#### 4.4) repeat for the Ball Berry method "
   ]
  },
  {
   "cell_type": "code",
   "execution_count": 21,
   "metadata": {
    "scrolled": true
   },
   "outputs": [
    {
     "data": {
      "text/plain": [
       "'BallBerry'"
      ]
     },
     "execution_count": 21,
     "metadata": {},
     "output_type": "execute_result"
    }
   ],
   "source": [
    "S.decision_obj.stomResist.value = 'BallBerry'\n",
    "S.decision_obj.stomResist.value"
   ]
  },
  {
   "cell_type": "code",
   "execution_count": 22,
   "metadata": {},
   "outputs": [
    {
     "name": "stdout",
     "output_type": "stream",
     "text": [
      "file_suffix is 'BallBerry_hs'.\n",
      "file_master is '/media/sf_pysumma/a0105d479c334764ba84633c5b9c1c01/a0105d479c334764ba84633c5b9c1c01/data/contents/summaTestCases_2.x/settings/wrrPaperTestCases/figure07/summa_fileManager_riparianAspenSimpleResistance.txt'.\n",
      "start at 22:41:58\n",
      "Name of Model Output control file: /media/sf_pysumma/a0105d479c334764ba84633c5b9c1c01/a0105d479c334764ba84633c5b9c1c01/data/contents/summaTestCases_2.x/settings/meta/Model_Output.txt\n",
      "decisions file =  /media/sf_pysumma/a0105d479c334764ba84633c5b9c1c01/a0105d479c334764ba84633c5b9c1c01/data/contents/summaTestCases_2.x/settings/wrrPaperTestCases/figure07/summa_zDecisions_riparianAspenSimpleResistance.txt\n",
      "   1 simulStart: 2007-07-01 00:00\n",
      "   2 simulFinsh: 2007-08-20 00:00\n",
      "   3 soilCatTbl: ROSETTA\n",
      "   4 vegeParTbl: USGS\n",
      "   5 soilStress: NoahType\n",
      "   6 stomResist: BallBerry\n",
      "   7 num_method: itertive\n",
      "   8 fDerivMeth: analytic\n",
      "   9 LAI_method: specified\n",
      "  10 f_Richards: mixdform\n",
      "  11 groundwatr: noXplict\n",
      "  12 hc_profile: constant\n",
      "  13 bcUpprTdyn: nrg_flux\n",
      "  14 bcLowrTdyn: zeroFlux\n",
      "  15 bcUpprSoiH: liq_flux\n",
      "  16 bcLowrSoiH: drainage\n",
      "  17 veg_traits: CM_QJRMS1988\n",
      "  18 canopyEmis: difTrans\n",
      "  19 snowIncept: lightSnow\n",
      "  20 windPrfile: logBelowCanopy\n",
      "  21 astability: louisinv\n",
      "  22 canopySrad: BeersLaw\n",
      "  23 alb_method: varDecay\n",
      "  24 compaction: anderson\n",
      "  25 snowLayers: CLM_2010\n",
      "  26 thCondSnow: jrdn1991\n",
      "  27 thCondSoil: mixConstit\n",
      "  28 spatial_gw: localColumn\n",
      "  29 subRouting: timeDlay\n",
      "startTime: iyyy, im, id, ih, imin = 2007  7  1  0  0\n",
      "finshTime: iyyy, im, id, ih, imin = 2007  8 20  0  0\n",
      "/media/sf_pysumma/a0105d479c334764ba84633c5b9c1c01/a0105d479c334764ba84633c5b9c1c01/data/contents/summaTestCases_2.x/settings/wrrPaperTestCases/figure07/summa_zLocalParamInfo.txt\n",
      "/media/sf_pysumma/a0105d479c334764ba84633c5b9c1c01/a0105d479c334764ba84633c5b9c1c01/data/contents/summaTestCases_2.x/settings/wrrPaperTestCases/figure07/summa_zBasinParamInfo.txt\n",
      "Skipping over SLTYPE = STAS\n",
      "Skipping over SLTYPE = STAS-RUC\n",
      " hruIndex\n",
      " frozenPrecipMultip\n",
      " theta_mp\n",
      " theta_sat\n",
      " theta_res\n",
      " vGn_alpha\n",
      " vGn_n\n",
      " f_impede\n",
      " k_soil\n",
      " k_macropore\n",
      " critSoilWilting\n",
      " critSoilTranspire\n",
      " winterSAI\n",
      " summerLAI\n",
      " heightCanopyTop\n",
      " heightCanopyBottom\n",
      " kAnisotropic\n",
      " rootDistExp\n",
      " zScale_TOPMODEL\n",
      " qSurfScale\n",
      "Created output file:/media/sf_pysumma/a0105d479c334764ba84633c5b9c1c01/a0105d479c334764ba84633c5b9c1c01/data/contents/summaTestCases_2.x/output/wrrPaperTestCases/figure07/vegImpactsTranspire_output_BallBerry_hs_timestep.nc\n",
      "\n",
      "initial date/time = 2018-05-16  22:41:58.186\n",
      "  final date/time = 2018-05-16  22:41:58.689\n",
      "\n",
      "     elapsed init =   8.9000000E-02 s\n",
      "    fraction init =   0.1769384     s\n",
      "\n",
      "     elapsed read =   2.1000000E-02 s\n",
      "    fraction read =   4.1749503E-02 s\n",
      "\n",
      "    elapsed write =   0.1160000     s\n",
      "   fraction write =   0.2306163     s\n",
      "\n",
      "  elapsed physics =   0.2750000     s\n",
      " fraction physics =   0.5467197     s\n",
      "\n",
      "     elapsed time =   0.5030000     s\n",
      "       or             8.3833333E-03 m\n",
      "       or             1.3972222E-04 h\n",
      "       or             5.8217593E-06 d\n",
      "\n",
      "   number threads =          1\n",
      "\n",
      " FORTRAN STOP: finished simulation successfully.\n",
      "\n"
     ]
    }
   ],
   "source": [
    "results_BallBerry, out_file2 = S.execute(run_suffix=\"BallBerry_hs\", run_option = 'local')"
   ]
  },
  {
   "cell_type": "markdown",
   "metadata": {},
   "source": [
    "#### 4.5) repeat for the Jarvis method "
   ]
  },
  {
   "cell_type": "code",
   "execution_count": 23,
   "metadata": {},
   "outputs": [
    {
     "data": {
      "text/plain": [
       "'Jarvis'"
      ]
     },
     "execution_count": 23,
     "metadata": {},
     "output_type": "execute_result"
    }
   ],
   "source": [
    "S.decision_obj.stomResist.value = 'Jarvis'\n",
    "S.decision_obj.stomResist.value"
   ]
  },
  {
   "cell_type": "code",
   "execution_count": 24,
   "metadata": {},
   "outputs": [
    {
     "name": "stdout",
     "output_type": "stream",
     "text": [
      "file_suffix is 'Jarvis_hs'.\n",
      "file_master is '/media/sf_pysumma/a0105d479c334764ba84633c5b9c1c01/a0105d479c334764ba84633c5b9c1c01/data/contents/summaTestCases_2.x/settings/wrrPaperTestCases/figure07/summa_fileManager_riparianAspenSimpleResistance.txt'.\n",
      "start at 22:42:05\n",
      "Name of Model Output control file: /media/sf_pysumma/a0105d479c334764ba84633c5b9c1c01/a0105d479c334764ba84633c5b9c1c01/data/contents/summaTestCases_2.x/settings/meta/Model_Output.txt\n",
      "decisions file =  /media/sf_pysumma/a0105d479c334764ba84633c5b9c1c01/a0105d479c334764ba84633c5b9c1c01/data/contents/summaTestCases_2.x/settings/wrrPaperTestCases/figure07/summa_zDecisions_riparianAspenSimpleResistance.txt\n",
      "   1 simulStart: 2007-07-01 00:00\n",
      "   2 simulFinsh: 2007-08-20 00:00\n",
      "   3 soilCatTbl: ROSETTA\n",
      "   4 vegeParTbl: USGS\n",
      "   5 soilStress: NoahType\n",
      "   6 stomResist: Jarvis\n",
      "   7 num_method: itertive\n",
      "   8 fDerivMeth: analytic\n",
      "   9 LAI_method: specified\n",
      "  10 f_Richards: mixdform\n",
      "  11 groundwatr: noXplict\n",
      "  12 hc_profile: constant\n",
      "  13 bcUpprTdyn: nrg_flux\n",
      "  14 bcLowrTdyn: zeroFlux\n",
      "  15 bcUpprSoiH: liq_flux\n",
      "  16 bcLowrSoiH: drainage\n",
      "  17 veg_traits: CM_QJRMS1988\n",
      "  18 canopyEmis: difTrans\n",
      "  19 snowIncept: lightSnow\n",
      "  20 windPrfile: logBelowCanopy\n",
      "  21 astability: louisinv\n",
      "  22 canopySrad: BeersLaw\n",
      "  23 alb_method: varDecay\n",
      "  24 compaction: anderson\n",
      "  25 snowLayers: CLM_2010\n",
      "  26 thCondSnow: jrdn1991\n",
      "  27 thCondSoil: mixConstit\n",
      "  28 spatial_gw: localColumn\n",
      "  29 subRouting: timeDlay\n",
      "startTime: iyyy, im, id, ih, imin = 2007  7  1  0  0\n",
      "finshTime: iyyy, im, id, ih, imin = 2007  8 20  0  0\n",
      "/media/sf_pysumma/a0105d479c334764ba84633c5b9c1c01/a0105d479c334764ba84633c5b9c1c01/data/contents/summaTestCases_2.x/settings/wrrPaperTestCases/figure07/summa_zLocalParamInfo.txt\n",
      "/media/sf_pysumma/a0105d479c334764ba84633c5b9c1c01/a0105d479c334764ba84633c5b9c1c01/data/contents/summaTestCases_2.x/settings/wrrPaperTestCases/figure07/summa_zBasinParamInfo.txt\n",
      "Skipping over SLTYPE = STAS\n",
      "Skipping over SLTYPE = STAS-RUC\n",
      " hruIndex\n",
      " frozenPrecipMultip\n",
      " theta_mp\n",
      " theta_sat\n",
      " theta_res\n",
      " vGn_alpha\n",
      " vGn_n\n",
      " f_impede\n",
      " k_soil\n",
      " k_macropore\n",
      " critSoilWilting\n",
      " critSoilTranspire\n",
      " winterSAI\n",
      " summerLAI\n",
      " heightCanopyTop\n",
      " heightCanopyBottom\n",
      " kAnisotropic\n",
      " rootDistExp\n",
      " zScale_TOPMODEL\n",
      " qSurfScale\n",
      "Created output file:/media/sf_pysumma/a0105d479c334764ba84633c5b9c1c01/a0105d479c334764ba84633c5b9c1c01/data/contents/summaTestCases_2.x/output/wrrPaperTestCases/figure07/vegImpactsTranspire_output_Jarvis_hs_timestep.nc\n",
      "\n",
      "initial date/time = 2018-05-16  22:42:05.065\n",
      "  final date/time = 2018-05-16  22:42:05.549\n",
      "\n",
      "     elapsed init =   9.0000000E-02 s\n",
      "    fraction init =   0.1859504     s\n",
      "\n",
      "     elapsed read =   1.6000000E-02 s\n",
      "    fraction read =   3.3057851E-02 s\n",
      "\n",
      "    elapsed write =   0.1190000     s\n",
      "   fraction write =   0.2458678     s\n",
      "\n",
      "  elapsed physics =   0.2550000     s\n",
      " fraction physics =   0.5268595     s\n",
      "\n",
      "     elapsed time =   0.4840000     s\n",
      "       or             8.0666667E-03 m\n",
      "       or             1.3444444E-04 h\n",
      "       or             5.6018519E-06 d\n",
      "\n",
      "   number threads =          1\n",
      "\n",
      " FORTRAN STOP: finished simulation successfully.\n",
      "\n"
     ]
    }
   ],
   "source": [
    "results_Jarvis, out_file3 = S.execute(run_suffix=\"Jarvis_hs\", run_option = 'local')"
   ]
  },
  {
   "cell_type": "markdown",
   "metadata": {},
   "source": [
    "## 4. Results"
   ]
  },
  {
   "cell_type": "markdown",
   "metadata": {},
   "source": [
    "### Recreate the Figure 7 plot from Clark et al., 2015: The total ET for the three different stomatal resistance methods"
   ]
  },
  {
   "cell_type": "code",
   "execution_count": 20,
   "metadata": {},
   "outputs": [],
   "source": [
    "from pysumma.Plotting import Plotting\n",
    "from jupyterthemes import jtplot\n",
    "import matplotlib.pyplot as plt\n",
    "import pandas as pd\n",
    "jtplot.figsize(x=10, y=10)"
   ]
  },
  {
   "cell_type": "markdown",
   "metadata": {},
   "source": [
    "#### 4.1) Create function to calculate Total ET from SUMMA output"
   ]
  },
  {
   "cell_type": "code",
   "execution_count": 21,
   "metadata": {},
   "outputs": [],
   "source": [
    "def calc_total_et(et_output_df):\n",
    "    # Total Evapotranspiration = Canopy Transpiration + Canopy Evaporation + Ground Evaporation\n",
    "    # Change unit from kgm-2s-1 to mm/hr (mulpitle 3600)\n",
    "    total_et_data = (et_output_df['scalarCanopyTranspiration'] + et_output_df['scalarCanopyEvaporation'] + et_output_df['scalarGroundEvaporation'])*3600\n",
    "    # create dates(X-axis) attribute from ouput netcdf\n",
    "    dates = total_et_data.coords['time'].data\n",
    "    # create data value(Y-axis) attribute from ouput netcdf\n",
    "    data_values = total_et_data.data\n",
    "    # create two dimensional tabular data structure \n",
    "    total_et_df = pd.DataFrame(data_values, index=dates)\n",
    "    # round time to nearest hour (ex. 2006-10-01T00:59:59.99 -> 2006-10-01T01:00:00)\n",
    "    total_et_df.index = total_et_df.index.round(\"H\")\n",
    "    # set the time period to display plot \n",
    "    total_et_df = total_et_df.loc[\"2007-06-01\":\"2007-08-20\"]\n",
    "    # resample data by the average value hourly\n",
    "    total_et_df_hourly = total_et_df.resample(\"H\").mean()\n",
    "    # resample data by the average for hour of day\n",
    "    total_et_by_hour = total_et_df_hourly.groupby(total_et_df_hourly.index.hour).mean()\n",
    "    return total_et_by_hour"
   ]
  },
  {
   "cell_type": "markdown",
   "metadata": {},
   "source": [
    "#### 4.2) Get hour of day output of the three stomatal resistance methods for the period 1 June to 20 August 2007"
   ]
  },
  {
   "cell_type": "code",
   "execution_count": 22,
   "metadata": {},
   "outputs": [],
   "source": [
    "simResis_hour = calc_total_et(results_simpleResistance)\n",
    "BallBerry_hour = calc_total_et(results_BallBerry)\n",
    "Jarvis_hour = calc_total_et(results_Jarvis)"
   ]
  },
  {
   "cell_type": "markdown",
   "metadata": {},
   "source": [
    "#### 4.3) Combine the stomatal resistance parameterizations into a single Pandas Dataframe"
   ]
  },
  {
   "cell_type": "code",
   "execution_count": 23,
   "metadata": {},
   "outputs": [],
   "source": [
    "# Combine each stomatal resistance parameterizations\n",
    "ET_Combine = pd.concat([simResis_hour, BallBerry_hour, Jarvis_hour], axis=1)\n",
    "# add label \n",
    "ET_Combine.columns = ['Simple resistance', 'Ball-Berry', 'Jarvis']"
   ]
  },
  {
   "cell_type": "code",
   "execution_count": 24,
   "metadata": {},
   "outputs": [
    {
     "data": {
      "text/html": [
       "<div>\n",
       "<style scoped>\n",
       "    .dataframe tbody tr th:only-of-type {\n",
       "        vertical-align: middle;\n",
       "    }\n",
       "\n",
       "    .dataframe tbody tr th {\n",
       "        vertical-align: top;\n",
       "    }\n",
       "\n",
       "    .dataframe thead th {\n",
       "        text-align: right;\n",
       "    }\n",
       "</style>\n",
       "<table border=\"1\" class=\"dataframe\">\n",
       "  <thead>\n",
       "    <tr style=\"text-align: right;\">\n",
       "      <th></th>\n",
       "      <th>Simple resistance</th>\n",
       "      <th>Ball-Berry</th>\n",
       "      <th>Jarvis</th>\n",
       "    </tr>\n",
       "  </thead>\n",
       "  <tbody>\n",
       "    <tr>\n",
       "      <th>0</th>\n",
       "      <td>-0.069640</td>\n",
       "      <td>-0.022277</td>\n",
       "      <td>-0.021363</td>\n",
       "    </tr>\n",
       "    <tr>\n",
       "      <th>1</th>\n",
       "      <td>-0.073925</td>\n",
       "      <td>-0.020909</td>\n",
       "      <td>-0.020053</td>\n",
       "    </tr>\n",
       "    <tr>\n",
       "      <th>2</th>\n",
       "      <td>-0.076877</td>\n",
       "      <td>-0.016992</td>\n",
       "      <td>-0.016231</td>\n",
       "    </tr>\n",
       "    <tr>\n",
       "      <th>3</th>\n",
       "      <td>-0.074106</td>\n",
       "      <td>-0.014870</td>\n",
       "      <td>-0.014120</td>\n",
       "    </tr>\n",
       "    <tr>\n",
       "      <th>4</th>\n",
       "      <td>-0.058558</td>\n",
       "      <td>-0.014346</td>\n",
       "      <td>-0.013573</td>\n",
       "    </tr>\n",
       "    <tr>\n",
       "      <th>5</th>\n",
       "      <td>-0.058714</td>\n",
       "      <td>-0.014973</td>\n",
       "      <td>-0.013971</td>\n",
       "    </tr>\n",
       "    <tr>\n",
       "      <th>6</th>\n",
       "      <td>-0.055144</td>\n",
       "      <td>-0.014621</td>\n",
       "      <td>-0.013650</td>\n",
       "    </tr>\n",
       "    <tr>\n",
       "      <th>7</th>\n",
       "      <td>-0.045323</td>\n",
       "      <td>-0.010745</td>\n",
       "      <td>-0.010342</td>\n",
       "    </tr>\n",
       "    <tr>\n",
       "      <th>8</th>\n",
       "      <td>-0.043163</td>\n",
       "      <td>-0.009151</td>\n",
       "      <td>-0.009351</td>\n",
       "    </tr>\n",
       "    <tr>\n",
       "      <th>9</th>\n",
       "      <td>-0.050493</td>\n",
       "      <td>-0.008454</td>\n",
       "      <td>-0.008830</td>\n",
       "    </tr>\n",
       "    <tr>\n",
       "      <th>10</th>\n",
       "      <td>-0.063224</td>\n",
       "      <td>-0.009924</td>\n",
       "      <td>-0.010504</td>\n",
       "    </tr>\n",
       "    <tr>\n",
       "      <th>11</th>\n",
       "      <td>-0.082813</td>\n",
       "      <td>-0.010527</td>\n",
       "      <td>-0.011463</td>\n",
       "    </tr>\n",
       "    <tr>\n",
       "      <th>12</th>\n",
       "      <td>-0.086592</td>\n",
       "      <td>-0.013854</td>\n",
       "      <td>-0.015138</td>\n",
       "    </tr>\n",
       "    <tr>\n",
       "      <th>13</th>\n",
       "      <td>-0.469831</td>\n",
       "      <td>-0.358140</td>\n",
       "      <td>-0.528255</td>\n",
       "    </tr>\n",
       "    <tr>\n",
       "      <th>14</th>\n",
       "      <td>-0.493079</td>\n",
       "      <td>-0.288765</td>\n",
       "      <td>-0.460839</td>\n",
       "    </tr>\n",
       "    <tr>\n",
       "      <th>15</th>\n",
       "      <td>-0.465645</td>\n",
       "      <td>-0.252528</td>\n",
       "      <td>-0.413189</td>\n",
       "    </tr>\n",
       "    <tr>\n",
       "      <th>16</th>\n",
       "      <td>-0.435372</td>\n",
       "      <td>-0.244457</td>\n",
       "      <td>-0.380224</td>\n",
       "    </tr>\n",
       "    <tr>\n",
       "      <th>17</th>\n",
       "      <td>-0.368572</td>\n",
       "      <td>-0.212367</td>\n",
       "      <td>-0.328198</td>\n",
       "    </tr>\n",
       "    <tr>\n",
       "      <th>18</th>\n",
       "      <td>-0.299575</td>\n",
       "      <td>-0.172490</td>\n",
       "      <td>-0.276156</td>\n",
       "    </tr>\n",
       "    <tr>\n",
       "      <th>19</th>\n",
       "      <td>-0.200515</td>\n",
       "      <td>-0.114469</td>\n",
       "      <td>-0.175531</td>\n",
       "    </tr>\n",
       "    <tr>\n",
       "      <th>20</th>\n",
       "      <td>-0.142110</td>\n",
       "      <td>-0.027667</td>\n",
       "      <td>-0.050369</td>\n",
       "    </tr>\n",
       "    <tr>\n",
       "      <th>21</th>\n",
       "      <td>-0.109428</td>\n",
       "      <td>-0.027153</td>\n",
       "      <td>-0.027130</td>\n",
       "    </tr>\n",
       "    <tr>\n",
       "      <th>22</th>\n",
       "      <td>-0.073824</td>\n",
       "      <td>-0.022692</td>\n",
       "      <td>-0.021196</td>\n",
       "    </tr>\n",
       "    <tr>\n",
       "      <th>23</th>\n",
       "      <td>-0.063091</td>\n",
       "      <td>-0.015906</td>\n",
       "      <td>-0.014570</td>\n",
       "    </tr>\n",
       "  </tbody>\n",
       "</table>\n",
       "</div>"
      ],
      "text/plain": [
       "    Simple resistance  Ball-Berry    Jarvis\n",
       "0           -0.069640   -0.022277 -0.021363\n",
       "1           -0.073925   -0.020909 -0.020053\n",
       "2           -0.076877   -0.016992 -0.016231\n",
       "3           -0.074106   -0.014870 -0.014120\n",
       "4           -0.058558   -0.014346 -0.013573\n",
       "5           -0.058714   -0.014973 -0.013971\n",
       "6           -0.055144   -0.014621 -0.013650\n",
       "7           -0.045323   -0.010745 -0.010342\n",
       "8           -0.043163   -0.009151 -0.009351\n",
       "9           -0.050493   -0.008454 -0.008830\n",
       "10          -0.063224   -0.009924 -0.010504\n",
       "11          -0.082813   -0.010527 -0.011463\n",
       "12          -0.086592   -0.013854 -0.015138\n",
       "13          -0.469831   -0.358140 -0.528255\n",
       "14          -0.493079   -0.288765 -0.460839\n",
       "15          -0.465645   -0.252528 -0.413189\n",
       "16          -0.435372   -0.244457 -0.380224\n",
       "17          -0.368572   -0.212367 -0.328198\n",
       "18          -0.299575   -0.172490 -0.276156\n",
       "19          -0.200515   -0.114469 -0.175531\n",
       "20          -0.142110   -0.027667 -0.050369\n",
       "21          -0.109428   -0.027153 -0.027130\n",
       "22          -0.073824   -0.022692 -0.021196\n",
       "23          -0.063091   -0.015906 -0.014570"
      ]
     },
     "execution_count": 24,
     "metadata": {},
     "output_type": "execute_result"
    }
   ],
   "source": [
    "ET_Combine"
   ]
  },
  {
   "cell_type": "markdown",
   "metadata": {},
   "source": [
    "#### 4.4) Add obervation data from Aspen station and Reynolds Mountain East to the plot"
   ]
  },
  {
   "cell_type": "code",
   "execution_count": 25,
   "metadata": {},
   "outputs": [],
   "source": [
    "# create pySUMMA Plotting Object\n",
    "Val_eddyFlux = Plotting('/glade/u/home/ydchoi/summaTestCases_2.x/testCases_data/validationData/ReynoldsCreek_eddyFlux.nc')\n",
    "#Val_eddyFlux = Plotting(hs_path + '/summaTestCases_2.x/testCases_data/validationData/ReynoldsCreek_eddyFlux.nc')"
   ]
  },
  {
   "cell_type": "code",
   "execution_count": 26,
   "metadata": {},
   "outputs": [],
   "source": [
    "# read Total Evapotranspiration(LE-wpl) from validation netcdf file\n",
    "Obs_Evapotranspitaton = Val_eddyFlux.ds['LE-wpl']\n",
    "# create dates(X-axis) attribute from validation netcdf file\n",
    "dates = Obs_Evapotranspitaton.coords['time'].data\n",
    "# Change unit from Wm-2 to mm/hr (1 Wm-2 = 0.0864 MJm-2day-1, 1 MJm-2day-1 = 0.408 mmday-1, 1day = 24h)\n",
    "data_values = Obs_Evapotranspitaton.data*0.0864*0.408/24\n",
    "# create two dimensional tabular data structure \n",
    "df = pd.DataFrame(data_values, index=dates)\n",
    "# set the time period to display plot\n",
    "df_filt = df.loc[\"2007-06-01\":\"2007-08-20\"]\n",
    "# select aspen obervation station among three different stations\n",
    "df_filt.columns = ['-','Observation (aspen)','-']\n",
    "# resample data by the average for hour of day\n",
    "df_gp_hr = df_filt.groupby([df_filt.index.hour, df_filt.index.minute]).mean()\n",
    "# reset index so each row has an hour an minute column\n",
    "df_gp_hr.reset_index(inplace=True)\n",
    "# add hour and minute columns for plotting\n",
    "xvals = df_gp_hr.reset_index()['level_0'] + df_gp_hr.reset_index()['level_1']/60."
   ]
  },
  {
   "cell_type": "markdown",
   "metadata": {},
   "source": [
    "#### 4.5) Plotting output of three different stomatal resistance parameterizations and observation data"
   ]
  },
  {
   "cell_type": "code",
   "execution_count": 27,
   "metadata": {},
   "outputs": [
    {
     "data": {
      "image/png": "[encoded data removed]",
      "text/plain": [
       "<Figure size 432x288 with 1 Axes>"
      ]
     },
     "metadata": {},
     "output_type": "display_data"
    }
   ],
   "source": [
    "# create plot with three different stomatal resistance parameterizations\n",
    "ET_Combine_Graph = ET_Combine.plot()\n",
    "# invert y axis\n",
    "ET_Combine_Graph.invert_yaxis()\n",
    "# plot scatter with x='xvals', y='Observation (aspen)'\n",
    "ET_Combine_Graph.scatter(xvals, df_gp_hr['Observation (aspen)'])\n",
    "# add x, y label\n",
    "ET_Combine_Graph.set(xlabel='Time of day (hr)', ylabel='Total evapotranspiration (mm h-1) ')\n",
    "# show up the legend\n",
    "ET_Combine_Graph.legend()\n",
    "jtplot.figsize(x=10, y=10)"
   ]
  },
  {
   "cell_type": "markdown",
   "metadata": {},
   "source": [
    "## 5. Discussion"
   ]
  },
  {
   "cell_type": "markdown",
   "metadata": {},
   "source": [
    "As stated in Clark et al., 2015, the following insights can be gained from this analysis:\n",
    "* The simulations in Figure 7 illustrate substantial differences in the estimates of the diurnal cycle of transpiration depending on the choice of stomatal resistance parameterization. \n",
    "* The simple soil resistance parameterization [Liang et al., 1994], when combined with the two-source model of within-canopy and below-canopy turbulence [Choudhury and Monteith, 1988; Clark et al., 2015a], results in a substantial amount of transpiration at night when there is no light available for photosynthesis. \n",
    "* The physiological representations of transpiration – using the Jarvis and Ball-Berry parameterizations, as defined in Clark et al. [2015a] – have an explicit dependence on photosynthetically active radiation and show the expected result of zero transpiration during nighttime hours. This results in a poor match with observations (Figure 7).\n",
    "* A striking result from Figure 7 is that the Ball-Berry parameterization underestimates evapotranspiration when applied using the default model parameters for stomatal resistance in combination with the particular choice of process parameterizations and parameters for soil hydrology."
   ]
  },
  {
   "cell_type": "markdown",
   "metadata": {},
   "source": [
    "## 6. Post notebook and simulation results back to Hydroshare"
   ]
  },
  {
   "cell_type": "code",
   "execution_count": 28,
   "metadata": {},
   "outputs": [],
   "source": [
    "# write meta data such as abstract, title, keywords, rtype\n",
    "abstract = 'output of SUMMA(Fig7)'\n",
    "title = 'output of SUMMA(Fig7)1'\n",
    "keywords = ('SUMMA', 'Hydrologic Model')\n",
    "rtype = 'GenericResource'\n",
    "fpath = out_file1\n",
    "metadata = '[{\"creator\":{\"name\":\"Youngdon Choi\"}}, {\"creator\":{\"name\":\"Jeffrey Sadler\"}}]'\n",
    "extra_metadata = '{\"key-1\": \"value-1\", \"key-2\": \"value-2\"}'"
   ]
  },
  {
   "cell_type": "code",
   "execution_count": 30,
   "metadata": {},
   "outputs": [],
   "source": [
    "# post simulation results of simpleResistance back to HS\n",
    "auth = HydroShareAuthBasic(username='****', password='****')\n",
    "hs = HydroShare(auth=auth)\n",
    "resource_id = hs.createResource(rtype, title, resource_file=fpath, keywords=keywords, abstract=abstract, metadata=metadata, extra_metadata=extra_metadata)"
   ]
  },
  {
   "cell_type": "code",
   "execution_count": 31,
   "metadata": {},
   "outputs": [],
   "source": [
    "# check your resources id and copy it, then post simulation results of BallBerry back to HS\n",
    "npath = out_file2\n",
    "resource_id = hs.addResourceFile('1df83d07805042ce91d806db9fed1eeb', npath)"
   ]
  },
  {
   "cell_type": "code",
   "execution_count": 32,
   "metadata": {},
   "outputs": [],
   "source": [
    "# post simulation results of Jarvis back to HS\n",
    "npath = out_file3\n",
    "resource_id = hs.addResourceFile('1df83d07805042ce91d806db9fed1eeb', npath)"
   ]
  },
  {
   "cell_type": "markdown",
   "metadata": {},
   "source": [
    "#### Save this notebook file and add the notebook to the resource"
   ]
  },
  {
   "cell_type": "code",
   "execution_count": 33,
   "metadata": {},
   "outputs": [],
   "source": [
    "# add a notebook to the resource of summa output\n",
    "npath = '/glade/u/home/ydchoi/sopron_2018/notebooks/pySUMMA_Demo_Example_Fig7_Using_TestCase_from_Hydroshare.ipynb'\n",
    "# check the resource id on HS that created.\n",
    "resource_id = hs.addResourceFile('1df83d07805042ce91d806db9fed1eeb', npath)"
   ]
  },
  {
   "cell_type": "markdown",
   "metadata": {},
   "source": [
    "## 7. make this resource public"
   ]
  },
  {
   "cell_type": "code",
   "execution_count": 79,
   "metadata": {},
   "outputs": [],
   "source": [
    "# check the resource id \n",
    "C_resource_id = '1df83d07805042ce91d806db9fed1eeb'"
   ]
  },
  {
   "cell_type": "code",
   "execution_count": 80,
   "metadata": {},
   "outputs": [
    {
     "data": {
      "text/plain": [
       "'14fd805b092d49218e7ff88105447fbf'"
      ]
     },
     "execution_count": 80,
     "metadata": {},
     "output_type": "execute_result"
    }
   ],
   "source": [
    "# make a resource public\n",
    "hs.setAccessRules(C_resource_id, public=True)"
   ]
  },
  {
   "cell_type": "code",
   "execution_count": null,
   "metadata": {},
   "outputs": [],
   "source": []
  }
 ],
 "metadata": {
  "kernelspec": {
   "display_name": "Python 3",
   "language": "python",
   "name": "python3"
  },
  "language_info": {
   "codemirror_mode": {
    "name": "ipython",
    "version": 3
   },
   "file_extension": ".py",
   "mimetype": "text/x-python",
   "name": "python",
   "nbconvert_exporter": "python",
   "pygments_lexer": "ipython3",
   "version": "3.6.3"
  }
 },
 "nbformat": 4,
 "nbformat_minor": 2
}
