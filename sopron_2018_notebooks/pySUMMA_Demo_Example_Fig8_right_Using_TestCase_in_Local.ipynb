{
 "cells": [
  {
   "cell_type": "markdown",
   "metadata": {},
   "source": [
    "##  Modeling the Impact of Lateral Flow Parameterizations on Total Evapotranspiration in the Reynolds Mountain East catchment using pySUMMA"
   ]
  },
  {
   "cell_type": "markdown",
   "metadata": {},
   "source": [
    "## 1. Introduction"
   ]
  },
  {
   "cell_type": "markdown",
   "metadata": {},
   "source": [
    "One part of the Clark et al. (2015) study explored the impact of the lateral flux of liquid water on total evapotranspiration (ET) using a SUMMA model for the Reynolds Mountain East catchment. This study looked at the sensitivity of the different model representation of the lateral flux of liquid water, which determines the availability of soil water.\n",
    "\n",
    "In this Jupyter Notebook, the pySUMMA library is used to reproduce this analysis. First, the latertal flux from the soil profile are described. Next, the Methods section describes how the pySUMMA can be used to create three different lateral model representation of the Reynolds Mountain East catchment model, 1d Richards', lumped topmodel, and distributed topmodel. The Results section shows how to use pySUMMA and the Pandas library to reproduce Figure 8(right) from Clark et al. (2015).\n",
    "\n",
    "Collectively, this Jupyter Notebook serves as an example of how hydrologic modeling can be conducted directly within a Jupyter Notebook by leveraging the pySUMMA library. \n",
    "\n",
    " |                    Method                   | 1dRichards' |   Lumped Topmodel |   Distributed Topmodel |\n",
    " |---------------------------------------------|-------------|-------------------|------------------------|\n",
    " |         groundwater parameterization        | noXplict    | qTopmodl          | qTopmodl               |\n",
    " |       hydraulic conductivity profile        | constant    | pow_prof          | pow_prof               |\n",
    " |lower boundary condition for soil hydrology  | drainage    | zeroFlux          | zeroFlux               |\n",
    " |thermal conductivity representation for soil | mixConstit  | funcSoilWet       | funcSoilWet            |"
   ]
  },
  {
   "cell_type": "markdown",
   "metadata": {},
   "source": [
    "## 2. Background"
   ]
  },
  {
   "cell_type": "markdown",
   "metadata": {},
   "source": [
    "### The Transpiration from soil layers available in SUMMA"
   ]
  },
  {
   "cell_type": "code",
   "execution_count": 159,
   "metadata": {},
   "outputs": [],
   "source": [
    "#import libraries to display equations within the notebook\n",
    "from IPython.display import display, Math, Latex"
   ]
  },
  {
   "cell_type": "markdown",
   "metadata": {},
   "source": [
    "### Latertal flux from the soil profile"
   ]
  },
  {
   "cell_type": "markdown",
   "metadata": {},
   "source": [
    "The soil columns can be hydrologically connected, such that the lateral flux from upslope soil columns is the inflow to downslope soil columns, or hydrologically-disconnected (using one or many soil columns), in which case the lateral flux of water from soil columns is assumed to flow directly into the river network."
   ]
  },
  {
   "cell_type": "markdown",
   "metadata": {},
   "source": [
    "The continuity equation for sub-surface storage (i.e., below the water table) can be written for a given model element as [Wigmosta et al., 1994]\n",
    "\n",
    "\\begin{equation*}\n",
    "Q_{dr} = \\frac{dz_{wt}}{dt} = \\frac{Q_{out}-Q_{in}}{A} - q_{rchg}\n",
    "\\end{equation*}\n",
    "\n",
    "$Q_{dr} = (\\theta_{sat}^{soil} - \\theta_{fc}^{soil}) $ : “drainable” porosity, $\\theta_{fc}^{soil}$ : the field capacity of soil, $z_{wt}$ $(m)$ : the depth to the water table\n",
    "\n",
    "$Q_{out}$ and $Q_{in}$ $(m^{3}/s)$: the lateral inflow and outflow, $q_{rchg}$ $(m/s)$ : the vertical recharge rate, $A$ $(m^2)$ : the element area"
   ]
  },
  {
   "cell_type": "markdown",
   "metadata": {},
   "source": [
    "#### Storage-based implementation to represent lateral flow between soil columns"
   ]
  },
  {
   "cell_type": "markdown",
   "metadata": {},
   "source": [
    "The “drainable” water storage and the maximum drainable water storage can be given as\n",
    "\\begin{equation*}\n",
    "W_{dr}^{soil} = \\int_{z_{crit}}^{z_{soil}}\\ [\\theta_{liq}^{soil} (z) - \\theta_{fc}^{soil} ] \\mathrm{d}z, \\          W_{dr,max}^{soil} = \\phi_{dr}z_{soil}\n",
    "\\end{equation*}\n",
    "\n",
    "$\\theta_{liq}^{soil} (z)$ : the volumetric liquid water content at soil depth z, $z_{crit}$ : the lowest point in the soil profile where $\\theta_{liq}^{soil}$ < $\\theta_{fc}^{soil}$"
   ]
  },
  {
   "cell_type": "markdown",
   "metadata": {},
   "source": [
    "#### The total lateral outflow"
   ]
  },
  {
   "cell_type": "markdown",
   "metadata": {},
   "source": [
    "\\begin{equation*}\n",
    "Q_{out} = x_{len}tan(\\beta) \\frac{K_{sat}^{0} W_{dr,max}^{soil}}{\\phi_{dr}n_{sf}}[\\frac{W_{dr}^{soil}}{W_{dr,max}^{soil}}]^{n_{sf}}\n",
    "\\end{equation*}\n",
    "\n",
    "$\\beta$ : the gradient in the land surface, used to approximate the water table gradient"
   ]
  },
  {
   "cell_type": "markdown",
   "metadata": {},
   "source": [
    "#### The total lateral flux"
   ]
  },
  {
   "cell_type": "markdown",
   "metadata": {},
   "source": [
    "\\begin{equation*}\n",
    "q_{base}^{soil} =  \\frac{Q_{out}-Q_{in}}{A}\n",
    "\\end{equation*}\n",
    "\n",
    "The total lateral flux $q_{base}^{soil}$ can then be apportioned to individual soil layers, obtained after spatial discretization described in Clark et al. [2015b], to provide the lateral flow sink term"
   ]
  },
  {
   "cell_type": "markdown",
   "metadata": {},
   "source": [
    "\\begin{equation*}\n",
    "(S_{lf})_{j} = (w_{tv})_{j}   q_{base}^{soil}\n",
    "\\end{equation*}\n",
    "\n",
    "$(w_{tv})_{j}$ : the ratio of the transmissivity of the $j$-th layer to the total transmissivity"
   ]
  },
  {
   "cell_type": "markdown",
   "metadata": {},
   "source": [
    "The above descriptions are taken from the lateral flux from the soil profile section(3.2.3.5) within the manual Structure for Unifying Multiple Modeling Alternatives (SUMMA), Version 1.0: Technical Description (April, 2015)."
   ]
  },
  {
   "cell_type": "markdown",
   "metadata": {},
   "source": [
    "## 3. Methods"
   ]
  },
  {
   "cell_type": "markdown",
   "metadata": {},
   "source": [
    "### 1) Study Area"
   ]
  },
  {
   "cell_type": "markdown",
   "metadata": {},
   "source": [
    "#### The Reynolds Mountain East catchment is located in southwestern Idaho as shown in the figure below."
   ]
  },
  {
   "cell_type": "code",
   "execution_count": 1,
   "metadata": {},
   "outputs": [],
   "source": [
    "from ipyleaflet import Map, GeoJSON\n",
    "import json"
   ]
  },
  {
   "cell_type": "code",
   "execution_count": 2,
   "metadata": {},
   "outputs": [
    {
     "data": {
      "application/vnd.jupyter.widget-view+json": {
       "model_id": "1bb75c83e0dc463e9086712f7953dbb0",
       "version_major": 2,
       "version_minor": 0
      },
      "text/plain": [
       "Map(basemap={'url': 'https://{s}.tile.openstreetmap.org/{z}/{x}/{y}.png', 'max_zoom': 19, 'attribution': 'Map …"
      ]
     },
     "metadata": {},
     "output_type": "display_data"
    }
   ],
   "source": [
    "m = Map(center=[43.06745, -116.75489], zoom=15)\n",
    "with open('reynolds_geojson_latlon.geojson') as f:\n",
    "    data = json.load(f)\n",
    "g = GeoJSON(data=data)\n",
    "m.add_layer(g)\n",
    "m"
   ]
  },
  {
   "cell_type": "markdown",
   "metadata": {},
   "source": [
    "### 3) Create pySUMMA Simulation Object of 1d Richards method and Run SUMMA Model"
   ]
  },
  {
   "cell_type": "code",
   "execution_count": 3,
   "metadata": {},
   "outputs": [],
   "source": [
    "from pysumma.Simulation import Simulation\n",
    "from pysumma.Plotting import Plotting"
   ]
  },
  {
   "cell_type": "code",
   "execution_count": 4,
   "metadata": {},
   "outputs": [],
   "source": [
    "# create a pySUMMA simulation object using the SUMMA 'file manager' input file \n",
    "S_1dRichards = Simulation('/glade/u/home/ydchoi/summaTestCases_2.x/settings/wrrPaperTestCases/figure09/summa_fileManager_1dRichards.txt')"
   ]
  },
  {
   "cell_type": "code",
   "execution_count": 16,
   "metadata": {},
   "outputs": [],
   "source": [
    "# set SUMMA executable file\n",
    "S_1dRichards.executable = \"/glade/u/home/ydchoi/summa/bin/summa.exe\""
   ]
  },
  {
   "cell_type": "code",
   "execution_count": 5,
   "metadata": {},
   "outputs": [
    {
     "data": {
      "text/plain": [
       "('2002-07-01 00:00', '2008-09-30 00:00')"
      ]
     },
     "execution_count": 5,
     "metadata": {},
     "output_type": "execute_result"
    }
   ],
   "source": [
    "# check the simulation start and finish times\n",
    "S_1dRichards.decision_obj.simulStart.value, S_1dRichards.decision_obj.simulFinsh.value"
   ]
  },
  {
   "cell_type": "code",
   "execution_count": 6,
   "metadata": {},
   "outputs": [
    {
     "data": {
      "text/plain": [
       "(['qTopmodl', 'bigBuckt', 'noXplict'], 'noXplict')"
      ]
     },
     "execution_count": 6,
     "metadata": {},
     "output_type": "execute_result"
    }
   ],
   "source": [
    "# check option and selected method of (11) choice of groundwater parameterization in Decision file\n",
    "S_1dRichards.decision_obj.groundwatr.options, S_1dRichards.decision_obj.groundwatr.value"
   ]
  },
  {
   "cell_type": "code",
   "execution_count": 7,
   "metadata": {},
   "outputs": [
    {
     "data": {
      "text/plain": [
       "(['constant', 'pow_prof'], 'constant')"
      ]
     },
     "execution_count": 7,
     "metadata": {},
     "output_type": "execute_result"
    }
   ],
   "source": [
    "# check option and selected method of (12) choice of hydraulic conductivity profile in Decision file\n",
    "S_1dRichards.decision_obj.hc_profile.options, S_1dRichards.decision_obj.hc_profile.value"
   ]
  },
  {
   "cell_type": "code",
   "execution_count": 8,
   "metadata": {},
   "outputs": [
    {
     "data": {
      "text/plain": [
       "(['drainage', 'presHead', 'bottmPsi', 'zeroFlux'], 'drainage')"
      ]
     },
     "execution_count": 8,
     "metadata": {},
     "output_type": "execute_result"
    }
   ],
   "source": [
    "# check option and selected method of (16) type of lower boundary condition for soil hydrology in Decision file\n",
    "S_1dRichards.decision_obj.bcLowrSoiH.options, S_1dRichards.decision_obj.bcLowrSoiH.value"
   ]
  },
  {
   "cell_type": "code",
   "execution_count": 9,
   "metadata": {},
   "outputs": [
    {
     "data": {
      "text/plain": [
       "(['funcSoilWet', 'mixConstit', 'hanssonVZJ'], 'mixConstit')"
      ]
     },
     "execution_count": 9,
     "metadata": {},
     "output_type": "execute_result"
    }
   ],
   "source": [
    "# check option and selected method of (27) choice of thermal conductivity representation for soil in Decision file\n",
    "S_1dRichards.decision_obj.thCondSoil.options, S_1dRichards.decision_obj.thCondSoil.value"
   ]
  },
  {
   "cell_type": "code",
   "execution_count": 10,
   "metadata": {},
   "outputs": [
    {
     "data": {
      "text/plain": [
       "'summa_zBasinModelVarMeta.txt'"
      ]
     },
     "execution_count": 10,
     "metadata": {},
     "output_type": "execute_result"
    }
   ],
   "source": [
    "# check Basin variable meta data in file manager file\n",
    "S_1dRichards.meta_basinvar.filename"
   ]
  },
  {
   "cell_type": "code",
   "execution_count": 11,
   "metadata": {},
   "outputs": [
    {
     "data": {
      "text/plain": [
       "'summa_zBasinParamInfo.txt'"
      ]
     },
     "execution_count": 11,
     "metadata": {},
     "output_type": "execute_result"
    }
   ],
   "source": [
    "# check Basin Parameter info data in file manager file\n",
    "S_1dRichards.basin_par.filename"
   ]
  },
  {
   "cell_type": "code",
   "execution_count": 12,
   "metadata": {},
   "outputs": [
    {
     "data": {
      "text/plain": [
       "'summa_zForcingFileList_riparianAspen_1dRichards.txt'"
      ]
     },
     "execution_count": 12,
     "metadata": {},
     "output_type": "execute_result"
    }
   ],
   "source": [
    "# check Forcing list data in file manager file\n",
    "S_1dRichards.forcing_list.filename"
   ]
  },
  {
   "cell_type": "code",
   "execution_count": 13,
   "metadata": {},
   "outputs": [
    {
     "data": {
      "text/plain": [
       "'summa_zInitialCond.nc'"
      ]
     },
     "execution_count": 13,
     "metadata": {},
     "output_type": "execute_result"
    }
   ],
   "source": [
    "# check Initial condition data in file manager file\n",
    "S_1dRichards.initial_cond.filename"
   ]
  },
  {
   "cell_type": "markdown",
   "metadata": {},
   "source": [
    "#### If you have output file, you don't need to run SUMMA. Move next"
   ]
  },
  {
   "cell_type": "code",
   "execution_count": 17,
   "metadata": {},
   "outputs": [],
   "source": [
    "# run the model giving the output the suffix \"1dRichards_local\" and get \"results_1dRichards\" object\n",
    "results_1dRichards, output_R = S_1dRichards.execute(run_suffix=\"1dRichards_local\", run_option = 'local')"
   ]
  },
  {
   "cell_type": "code",
   "execution_count": null,
   "metadata": {},
   "outputs": [],
   "source": [
    "R = Plotting(output_R)\n",
    "results_1dRichards = R.open_netcdf()"
   ]
  },
  {
   "cell_type": "markdown",
   "metadata": {},
   "source": [
    "### 4) Create pySUMMA Simulation Object of Lumped Topmodel method and Run SUMMA Model"
   ]
  },
  {
   "cell_type": "code",
   "execution_count": 19,
   "metadata": {},
   "outputs": [],
   "source": [
    "# create a pySUMMA simulation object using the SUMMA 'file manager' input file \n",
    "S_lumpedTopmodel = Simulation('/glade/u/home/ydchoi/summaTestCases_2.x/settings/wrrPaperTestCases/figure09/summa_fileManager_lumpedTopmodel.txt')"
   ]
  },
  {
   "cell_type": "code",
   "execution_count": 20,
   "metadata": {},
   "outputs": [],
   "source": [
    "# set SUMMA executable file\n",
    "S_lumpedTopmodel.executable = \"/glade/u/home/ydchoi/summa/bin/summa.exe\""
   ]
  },
  {
   "cell_type": "code",
   "execution_count": 21,
   "metadata": {},
   "outputs": [
    {
     "data": {
      "text/plain": [
       "('2001-07-01 00:00', '2008-09-30 00:00')"
      ]
     },
     "execution_count": 21,
     "metadata": {},
     "output_type": "execute_result"
    }
   ],
   "source": [
    "# check the simulation start and finish times\n",
    "S_lumpedTopmodel.decision_obj.simulStart.value, S_lumpedTopmodel.decision_obj.simulFinsh.value"
   ]
  },
  {
   "cell_type": "code",
   "execution_count": 22,
   "metadata": {},
   "outputs": [
    {
     "data": {
      "text/plain": [
       "(['qTopmodl', 'bigBuckt', 'noXplict'], 'qTopmodl')"
      ]
     },
     "execution_count": 22,
     "metadata": {},
     "output_type": "execute_result"
    }
   ],
   "source": [
    "# check option and selected method of (11) choice of groundwater parameterization in Decision file\n",
    "S_lumpedTopmodel.decision_obj.groundwatr.options, S_lumpedTopmodel.decision_obj.groundwatr.value"
   ]
  },
  {
   "cell_type": "code",
   "execution_count": 23,
   "metadata": {},
   "outputs": [
    {
     "data": {
      "text/plain": [
       "(['constant', 'pow_prof'], 'pow_prof')"
      ]
     },
     "execution_count": 23,
     "metadata": {},
     "output_type": "execute_result"
    }
   ],
   "source": [
    "# check option and selected method of (12) choice of hydraulic conductivity profile in Decision file\n",
    "S_lumpedTopmodel.decision_obj.hc_profile.options, S_lumpedTopmodel.decision_obj.hc_profile.value"
   ]
  },
  {
   "cell_type": "code",
   "execution_count": 24,
   "metadata": {},
   "outputs": [
    {
     "data": {
      "text/plain": [
       "(['drainage', 'presHead', 'bottmPsi', 'zeroFlux'], 'zeroFlux')"
      ]
     },
     "execution_count": 24,
     "metadata": {},
     "output_type": "execute_result"
    }
   ],
   "source": [
    "# check option and selected method of (16) type of lower boundary condition for soil hydrology in Decision file\n",
    "S_lumpedTopmodel.decision_obj.bcLowrSoiH.options, S_lumpedTopmodel.decision_obj.bcLowrSoiH.value"
   ]
  },
  {
   "cell_type": "code",
   "execution_count": 25,
   "metadata": {},
   "outputs": [
    {
     "data": {
      "text/plain": [
       "(['funcSoilWet', 'mixConstit', 'hanssonVZJ'], 'funcSoilWet')"
      ]
     },
     "execution_count": 25,
     "metadata": {},
     "output_type": "execute_result"
    }
   ],
   "source": [
    "# check option and selected method of (27) choice of thermal conductivity representation for soil in Decision file\n",
    "S_lumpedTopmodel.decision_obj.thCondSoil.options, S_lumpedTopmodel.decision_obj.thCondSoil.value"
   ]
  },
  {
   "cell_type": "code",
   "execution_count": 26,
   "metadata": {},
   "outputs": [
    {
     "data": {
      "text/plain": [
       "'summa_zBasinModelVarMeta.txt'"
      ]
     },
     "execution_count": 26,
     "metadata": {},
     "output_type": "execute_result"
    }
   ],
   "source": [
    "# check Basin variable meta data in file manager file\n",
    "S_lumpedTopmodel.meta_basinvar.filename"
   ]
  },
  {
   "cell_type": "code",
   "execution_count": 27,
   "metadata": {},
   "outputs": [
    {
     "data": {
      "text/plain": [
       "'summa_zBasinParamInfo.txt'"
      ]
     },
     "execution_count": 27,
     "metadata": {},
     "output_type": "execute_result"
    }
   ],
   "source": [
    "# check Basin Parameter info data in file manager file\n",
    "S_lumpedTopmodel.basin_par.filename"
   ]
  },
  {
   "cell_type": "code",
   "execution_count": 28,
   "metadata": {},
   "outputs": [
    {
     "data": {
      "text/plain": [
       "'summa_zForcingFileList_riparianAspen_lumpedTopmodel.txt'"
      ]
     },
     "execution_count": 28,
     "metadata": {},
     "output_type": "execute_result"
    }
   ],
   "source": [
    "# check Forcing list data in file manager file\n",
    "S_lumpedTopmodel.forcing_list.filename"
   ]
  },
  {
   "cell_type": "code",
   "execution_count": 29,
   "metadata": {},
   "outputs": [
    {
     "data": {
      "text/plain": [
       "'summa_zInitialCond.nc'"
      ]
     },
     "execution_count": 29,
     "metadata": {},
     "output_type": "execute_result"
    }
   ],
   "source": [
    "# check Initial condition data in file manager file\n",
    "S_lumpedTopmodel.initial_cond.filename"
   ]
  },
  {
   "cell_type": "code",
   "execution_count": 30,
   "metadata": {},
   "outputs": [],
   "source": [
    "# run the model giving the output the suffix \"lumpedTopmodel_docker_develop\" and get \"results_lumpedTopmodel\" object\n",
    "results_lumpedTopmodel, output_LT = S_lumpedTopmodel.execute(run_suffix=\"lumpedTopmodel_local\", run_option = 'local')"
   ]
  },
  {
   "cell_type": "markdown",
   "metadata": {},
   "source": [
    "### 5) Create pySUMMA Simulation Object of Distributed Topmodel method and Run SUMMA Model"
   ]
  },
  {
   "cell_type": "code",
   "execution_count": 31,
   "metadata": {},
   "outputs": [],
   "source": [
    "# create a pySUMMA simulation object using the SUMMA 'file manager' input file \n",
    "S_distributedTopmodel = Simulation('/glade/u/home/ydchoi/summaTestCases_2.x/settings/wrrPaperTestCases/figure09/summa_fileManager_distributedTopmodel.txt')"
   ]
  },
  {
   "cell_type": "code",
   "execution_count": 32,
   "metadata": {},
   "outputs": [],
   "source": [
    "# set SUMMA executable file\n",
    "S_distributedTopmodel.executable = \"/glade/u/home/ydchoi/summa/bin/summa.exe\""
   ]
  },
  {
   "cell_type": "code",
   "execution_count": 33,
   "metadata": {},
   "outputs": [
    {
     "data": {
      "text/plain": [
       "('2001-07-01 00:00', '2008-09-30 00:00')"
      ]
     },
     "execution_count": 33,
     "metadata": {},
     "output_type": "execute_result"
    }
   ],
   "source": [
    "# check the simulation start and finish times\n",
    "S_distributedTopmodel.decision_obj.simulStart.value, S_distributedTopmodel.decision_obj.simulFinsh.value"
   ]
  },
  {
   "cell_type": "code",
   "execution_count": 34,
   "metadata": {},
   "outputs": [
    {
     "data": {
      "text/plain": [
       "(['qTopmodl', 'bigBuckt', 'noXplict'], 'qTopmodl')"
      ]
     },
     "execution_count": 34,
     "metadata": {},
     "output_type": "execute_result"
    }
   ],
   "source": [
    "# check option and selected method of (11) choice of groundwater parameterization in Decision file\n",
    "S_distributedTopmodel.decision_obj.groundwatr.options, S_distributedTopmodel.decision_obj.groundwatr.value"
   ]
  },
  {
   "cell_type": "code",
   "execution_count": 35,
   "metadata": {},
   "outputs": [
    {
     "data": {
      "text/plain": [
       "(['constant', 'pow_prof'], 'pow_prof')"
      ]
     },
     "execution_count": 35,
     "metadata": {},
     "output_type": "execute_result"
    }
   ],
   "source": [
    "# check option and selected method of (12) choice of hydraulic conductivity profile in Decision file\n",
    "S_distributedTopmodel.decision_obj.hc_profile.options, S_distributedTopmodel.decision_obj.hc_profile.value"
   ]
  },
  {
   "cell_type": "code",
   "execution_count": 36,
   "metadata": {},
   "outputs": [
    {
     "data": {
      "text/plain": [
       "(['drainage', 'presHead', 'bottmPsi', 'zeroFlux'], 'zeroFlux')"
      ]
     },
     "execution_count": 36,
     "metadata": {},
     "output_type": "execute_result"
    }
   ],
   "source": [
    "# check option and selected method of (16) type of lower boundary condition for soil hydrology in Decision file\n",
    "S_distributedTopmodel.decision_obj.bcLowrSoiH.options, S_distributedTopmodel.decision_obj.bcLowrSoiH.value"
   ]
  },
  {
   "cell_type": "code",
   "execution_count": 37,
   "metadata": {},
   "outputs": [
    {
     "data": {
      "text/plain": [
       "(['funcSoilWet', 'mixConstit', 'hanssonVZJ'], 'funcSoilWet')"
      ]
     },
     "execution_count": 37,
     "metadata": {},
     "output_type": "execute_result"
    }
   ],
   "source": [
    "# check option and selected method of (27) choice of thermal conductivity representation for soil in Decision file\n",
    "S_distributedTopmodel.decision_obj.thCondSoil.options, S_distributedTopmodel.decision_obj.thCondSoil.value"
   ]
  },
  {
   "cell_type": "code",
   "execution_count": 38,
   "metadata": {},
   "outputs": [
    {
     "data": {
      "text/plain": [
       "'summa_zBasinModelVarMeta.txt'"
      ]
     },
     "execution_count": 38,
     "metadata": {},
     "output_type": "execute_result"
    }
   ],
   "source": [
    "# check Basin variable meta data in file manager file\n",
    "S_distributedTopmodel.meta_basinvar.filename"
   ]
  },
  {
   "cell_type": "code",
   "execution_count": 39,
   "metadata": {},
   "outputs": [
    {
     "data": {
      "text/plain": [
       "'summa_zBasinParamInfo.txt'"
      ]
     },
     "execution_count": 39,
     "metadata": {},
     "output_type": "execute_result"
    }
   ],
   "source": [
    "# check Basin Parameter info data in file manager file\n",
    "S_distributedTopmodel.basin_par.filename"
   ]
  },
  {
   "cell_type": "code",
   "execution_count": 40,
   "metadata": {},
   "outputs": [
    {
     "data": {
      "text/plain": [
       "'summa_zForcingFileList_fullDist.txt'"
      ]
     },
     "execution_count": 40,
     "metadata": {},
     "output_type": "execute_result"
    }
   ],
   "source": [
    "# check Forcing list data in file manager file\n",
    "S_distributedTopmodel.forcing_list.filename"
   ]
  },
  {
   "cell_type": "code",
   "execution_count": 41,
   "metadata": {},
   "outputs": [
    {
     "data": {
      "text/plain": [
       "'summa_zInitialCond_disTop.nc'"
      ]
     },
     "execution_count": 41,
     "metadata": {},
     "output_type": "execute_result"
    }
   ],
   "source": [
    "# check Initial condition data in file manager file\n",
    "S_distributedTopmodel.initial_cond.filename"
   ]
  },
  {
   "cell_type": "code",
   "execution_count": 42,
   "metadata": {},
   "outputs": [],
   "source": [
    "# run the model giving the output the suffix \"distributedTopmodel_docker_develop\" and get \"results_distributedTopmodel\" object\n",
    "results_distributedTopmodel, output_DT = S_distributedTopmodel.execute(run_suffix=\"distributedTopmodel_local\", run_option = 'local')"
   ]
  },
  {
   "cell_type": "markdown",
   "metadata": {},
   "source": [
    "## 4. Results"
   ]
  },
  {
   "cell_type": "markdown",
   "metadata": {},
   "source": [
    "### Recreate the Figure 8(right) plot from Clark et al., 2015: The total ET Sensitivity for the model representation of the lateral flux of liquid water"
   ]
  },
  {
   "cell_type": "code",
   "execution_count": 43,
   "metadata": {},
   "outputs": [],
   "source": [
    "from pysumma.Plotting import Plotting\n",
    "from jupyterthemes import jtplot\n",
    "import matplotlib.pyplot as plt\n",
    "import pandas as pd\n",
    "jtplot.figsize(x=10, y=10)"
   ]
  },
  {
   "cell_type": "markdown",
   "metadata": {},
   "source": [
    "#### 4.1) Create function to calculate Total ET of hour of day from SUMMA output for the period 1 June to 20 August 2007"
   ]
  },
  {
   "cell_type": "code",
   "execution_count": 44,
   "metadata": {},
   "outputs": [],
   "source": [
    "def calc_total_et(et_output_df):\n",
    "    # Total Evapotranspiration = Canopy Transpiration + Canopy Evaporation + Ground Evaporation\n",
    "    # Change unit from kgm-2s-1 to mm/hr (mulpitle 3600)\n",
    "    total_et_data = (et_output_df['scalarCanopyTranspiration'] + et_output_df['scalarCanopyEvaporation'] + et_output_df['scalarGroundEvaporation'])*3600\n",
    "    # create dates(X-axis) attribute from ouput netcdf\n",
    "    dates = total_et_data.coords['time'].data\n",
    "    # create data value(Y-axis) attribute from ouput netcdf\n",
    "    data_values = total_et_data.data\n",
    "    # create two dimensional tabular data structure \n",
    "    total_et_df = pd.DataFrame(data_values, index=dates)\n",
    "    # round time to nearest hour (ex. 2006-10-01T00:59:59.99 -> 2006-10-01T01:00:00)\n",
    "    total_et_df.index = total_et_df.index.round(\"H\")\n",
    "    # set the time period to display plot \n",
    "    total_et_df = total_et_df.loc[\"2007-06-01\":\"2007-08-20\"]\n",
    "    # resample data by the average value hourly\n",
    "    total_et_df_hourly = total_et_df.resample(\"H\").mean()\n",
    "    # resample data by the average for hour of day\n",
    "    total_et_by_hour = total_et_df_hourly.groupby(total_et_df_hourly.index.hour).mean()\n",
    "    return total_et_by_hour"
   ]
  },
  {
   "cell_type": "markdown",
   "metadata": {},
   "source": [
    "#### 4.2) Get hour of day output of the Parameterization of Later Flux of Liquid water for the period 1 June to 20 August 2007"
   ]
  },
  {
   "cell_type": "code",
   "execution_count": 45,
   "metadata": {},
   "outputs": [],
   "source": [
    "# get hour of day output using calc_total_et method (1d Richards method appied 1 hru)\n",
    "hour_1dRichards = calc_total_et(results_1dRichards)"
   ]
  },
  {
   "cell_type": "code",
   "execution_count": 46,
   "metadata": {},
   "outputs": [],
   "source": [
    "# get hour of day output using calc_total_et method (lumped Topmodel method appied 1 hru)\n",
    "hour_lumpedTopmodel = calc_total_et(results_lumpedTopmodel)"
   ]
  },
  {
   "cell_type": "code",
   "execution_count": 47,
   "metadata": {},
   "outputs": [],
   "source": [
    "# get hour of day output using calc_total_et method (lumped Topmodel method appied 6 hru)\n",
    "hour_distributedTopmodel = calc_total_et(results_distributedTopmodel)"
   ]
  },
  {
   "cell_type": "code",
   "execution_count": 48,
   "metadata": {},
   "outputs": [
    {
     "data": {
      "text/plain": [
       "<xarray.DataArray 'HRUarea' (hru: 6)>\n",
       "array([ 78300.,  32700.,  18600.,  32800., 168200.,  45400.])\n",
       "Dimensions without coordinates: hru\n",
       "Attributes:\n",
       "    long_name:  Area of each HRU\n",
       "    units:      m^2"
      ]
     },
     "execution_count": 48,
     "metadata": {},
     "output_type": "execute_result"
    }
   ],
   "source": [
    "# check the area of each hru to calculate areal average ET\n",
    "trial_parameter_nc = Plotting(S_distributedTopmodel.setting_path.filepath+S_distributedTopmodel.local_attr.value)\n",
    "trial_parameter = trial_parameter_nc.open_netcdf()\n",
    "# read the area of each hru\n",
    "trial_parameter['HRUarea']"
   ]
  },
  {
   "cell_type": "code",
   "execution_count": 49,
   "metadata": {},
   "outputs": [],
   "source": [
    "# calculate areal average ET for distributed Topmodel\n",
    "hour_distributedTopmodel_average = (hour_distributedTopmodel[0]*78300 + hour_distributedTopmodel[1]*32700 + hour_distributedTopmodel[2]*18600 + hour_distributedTopmodel[3]*32800 + hour_distributedTopmodel[4]*168200 + hour_distributedTopmodel[5]*45400)/(78300+32700+18600+32800+168200+45400)"
   ]
  },
  {
   "cell_type": "markdown",
   "metadata": {},
   "source": [
    "#### 4.3) Combine the Parameterization of the Lateral Flux of Liquid Water into a single Pandas Dataframe"
   ]
  },
  {
   "cell_type": "code",
   "execution_count": 50,
   "metadata": {},
   "outputs": [],
   "source": [
    "# Combine ET for model representation of the lateral flux of liquid water\n",
    "ET_Combine = pd.concat([hour_1dRichards, hour_lumpedTopmodel, hour_distributedTopmodel_average], axis=1)\n",
    "# add label \n",
    "ET_Combine.columns = [\"Baseflow = 1D Richards'\", 'Baseflow = Topmodel(lumped)', 'Baseflow = Topmodel(distributed)']"
   ]
  },
  {
   "cell_type": "code",
   "execution_count": 51,
   "metadata": {},
   "outputs": [
    {
     "data": {
      "text/html": [
       "<div>\n",
       "<style scoped>\n",
       "    .dataframe tbody tr th:only-of-type {\n",
       "        vertical-align: middle;\n",
       "    }\n",
       "\n",
       "    .dataframe tbody tr th {\n",
       "        vertical-align: top;\n",
       "    }\n",
       "\n",
       "    .dataframe thead th {\n",
       "        text-align: right;\n",
       "    }\n",
       "</style>\n",
       "<table border=\"1\" class=\"dataframe\">\n",
       "  <thead>\n",
       "    <tr style=\"text-align: right;\">\n",
       "      <th></th>\n",
       "      <th>Baseflow = 1D Richards'</th>\n",
       "      <th>Baseflow = Topmodel(lumped)</th>\n",
       "      <th>Baseflow = Topmodel(distributed)</th>\n",
       "    </tr>\n",
       "  </thead>\n",
       "  <tbody>\n",
       "    <tr>\n",
       "      <th>0</th>\n",
       "      <td>-0.009759</td>\n",
       "      <td>-0.010652</td>\n",
       "      <td>-0.008157</td>\n",
       "    </tr>\n",
       "    <tr>\n",
       "      <th>1</th>\n",
       "      <td>-0.009683</td>\n",
       "      <td>-0.010422</td>\n",
       "      <td>-0.008281</td>\n",
       "    </tr>\n",
       "    <tr>\n",
       "      <th>2</th>\n",
       "      <td>-0.009432</td>\n",
       "      <td>-0.010101</td>\n",
       "      <td>-0.008168</td>\n",
       "    </tr>\n",
       "    <tr>\n",
       "      <th>3</th>\n",
       "      <td>-0.008611</td>\n",
       "      <td>-0.009091</td>\n",
       "      <td>-0.007745</td>\n",
       "    </tr>\n",
       "    <tr>\n",
       "      <th>4</th>\n",
       "      <td>-0.007250</td>\n",
       "      <td>-0.007702</td>\n",
       "      <td>-0.007167</td>\n",
       "    </tr>\n",
       "    <tr>\n",
       "      <th>5</th>\n",
       "      <td>-0.006486</td>\n",
       "      <td>-0.006933</td>\n",
       "      <td>-0.007362</td>\n",
       "    </tr>\n",
       "    <tr>\n",
       "      <th>6</th>\n",
       "      <td>-0.007677</td>\n",
       "      <td>-0.008216</td>\n",
       "      <td>-0.007462</td>\n",
       "    </tr>\n",
       "    <tr>\n",
       "      <th>7</th>\n",
       "      <td>-0.007290</td>\n",
       "      <td>-0.007538</td>\n",
       "      <td>-0.006375</td>\n",
       "    </tr>\n",
       "    <tr>\n",
       "      <th>8</th>\n",
       "      <td>-0.006116</td>\n",
       "      <td>-0.006224</td>\n",
       "      <td>-0.005601</td>\n",
       "    </tr>\n",
       "    <tr>\n",
       "      <th>9</th>\n",
       "      <td>-0.005570</td>\n",
       "      <td>-0.005726</td>\n",
       "      <td>-0.006520</td>\n",
       "    </tr>\n",
       "    <tr>\n",
       "      <th>10</th>\n",
       "      <td>-0.006220</td>\n",
       "      <td>-0.006496</td>\n",
       "      <td>-0.007864</td>\n",
       "    </tr>\n",
       "    <tr>\n",
       "      <th>11</th>\n",
       "      <td>-0.007084</td>\n",
       "      <td>-0.007293</td>\n",
       "      <td>-0.009045</td>\n",
       "    </tr>\n",
       "    <tr>\n",
       "      <th>12</th>\n",
       "      <td>-0.009318</td>\n",
       "      <td>-0.009575</td>\n",
       "      <td>-0.011660</td>\n",
       "    </tr>\n",
       "    <tr>\n",
       "      <th>13</th>\n",
       "      <td>-0.374207</td>\n",
       "      <td>-0.375710</td>\n",
       "      <td>-0.343598</td>\n",
       "    </tr>\n",
       "    <tr>\n",
       "      <th>14</th>\n",
       "      <td>-0.363032</td>\n",
       "      <td>-0.364835</td>\n",
       "      <td>-0.405076</td>\n",
       "    </tr>\n",
       "    <tr>\n",
       "      <th>15</th>\n",
       "      <td>-0.317631</td>\n",
       "      <td>-0.319815</td>\n",
       "      <td>-0.365572</td>\n",
       "    </tr>\n",
       "    <tr>\n",
       "      <th>16</th>\n",
       "      <td>-0.301218</td>\n",
       "      <td>-0.303892</td>\n",
       "      <td>-0.315125</td>\n",
       "    </tr>\n",
       "    <tr>\n",
       "      <th>17</th>\n",
       "      <td>-0.238710</td>\n",
       "      <td>-0.240778</td>\n",
       "      <td>-0.248813</td>\n",
       "    </tr>\n",
       "    <tr>\n",
       "      <th>18</th>\n",
       "      <td>-0.188205</td>\n",
       "      <td>-0.190282</td>\n",
       "      <td>-0.176689</td>\n",
       "    </tr>\n",
       "    <tr>\n",
       "      <th>19</th>\n",
       "      <td>-0.116364</td>\n",
       "      <td>-0.118134</td>\n",
       "      <td>-0.091449</td>\n",
       "    </tr>\n",
       "    <tr>\n",
       "      <th>20</th>\n",
       "      <td>-0.026282</td>\n",
       "      <td>-0.027665</td>\n",
       "      <td>-0.022523</td>\n",
       "    </tr>\n",
       "    <tr>\n",
       "      <th>21</th>\n",
       "      <td>-0.017150</td>\n",
       "      <td>-0.018982</td>\n",
       "      <td>-0.013670</td>\n",
       "    </tr>\n",
       "    <tr>\n",
       "      <th>22</th>\n",
       "      <td>-0.013673</td>\n",
       "      <td>-0.015369</td>\n",
       "      <td>-0.010761</td>\n",
       "    </tr>\n",
       "    <tr>\n",
       "      <th>23</th>\n",
       "      <td>-0.010722</td>\n",
       "      <td>-0.012135</td>\n",
       "      <td>-0.009024</td>\n",
       "    </tr>\n",
       "  </tbody>\n",
       "</table>\n",
       "</div>"
      ],
      "text/plain": [
       "    Baseflow = 1D Richards'  Baseflow = Topmodel(lumped)  \\\n",
       "0                 -0.009759                    -0.010652   \n",
       "1                 -0.009683                    -0.010422   \n",
       "2                 -0.009432                    -0.010101   \n",
       "3                 -0.008611                    -0.009091   \n",
       "4                 -0.007250                    -0.007702   \n",
       "5                 -0.006486                    -0.006933   \n",
       "6                 -0.007677                    -0.008216   \n",
       "7                 -0.007290                    -0.007538   \n",
       "8                 -0.006116                    -0.006224   \n",
       "9                 -0.005570                    -0.005726   \n",
       "10                -0.006220                    -0.006496   \n",
       "11                -0.007084                    -0.007293   \n",
       "12                -0.009318                    -0.009575   \n",
       "13                -0.374207                    -0.375710   \n",
       "14                -0.363032                    -0.364835   \n",
       "15                -0.317631                    -0.319815   \n",
       "16                -0.301218                    -0.303892   \n",
       "17                -0.238710                    -0.240778   \n",
       "18                -0.188205                    -0.190282   \n",
       "19                -0.116364                    -0.118134   \n",
       "20                -0.026282                    -0.027665   \n",
       "21                -0.017150                    -0.018982   \n",
       "22                -0.013673                    -0.015369   \n",
       "23                -0.010722                    -0.012135   \n",
       "\n",
       "    Baseflow = Topmodel(distributed)  \n",
       "0                          -0.008157  \n",
       "1                          -0.008281  \n",
       "2                          -0.008168  \n",
       "3                          -0.007745  \n",
       "4                          -0.007167  \n",
       "5                          -0.007362  \n",
       "6                          -0.007462  \n",
       "7                          -0.006375  \n",
       "8                          -0.005601  \n",
       "9                          -0.006520  \n",
       "10                         -0.007864  \n",
       "11                         -0.009045  \n",
       "12                         -0.011660  \n",
       "13                         -0.343598  \n",
       "14                         -0.405076  \n",
       "15                         -0.365572  \n",
       "16                         -0.315125  \n",
       "17                         -0.248813  \n",
       "18                         -0.176689  \n",
       "19                         -0.091449  \n",
       "20                         -0.022523  \n",
       "21                         -0.013670  \n",
       "22                         -0.010761  \n",
       "23                         -0.009024  "
      ]
     },
     "execution_count": 51,
     "metadata": {},
     "output_type": "execute_result"
    }
   ],
   "source": [
    "ET_Combine"
   ]
  },
  {
   "cell_type": "markdown",
   "metadata": {},
   "source": [
    "#### 4.4) Add obervation data in Aspen station in Reynolds Mountain East to the plot"
   ]
  },
  {
   "cell_type": "code",
   "execution_count": 52,
   "metadata": {},
   "outputs": [],
   "source": [
    "# create pySUMMA Plotting Object\n",
    "Val_eddyFlux = Plotting('/glade/u/home/ydchoi/summaTestCases_2.x/testCases_data/validationData/ReynoldsCreek_eddyFlux.nc')"
   ]
  },
  {
   "cell_type": "code",
   "execution_count": 53,
   "metadata": {},
   "outputs": [],
   "source": [
    "# read Total Evapotranspiration(LE-wpl) from validation netcdf file\n",
    "Obs_Evapotranspitaton = Val_eddyFlux.ds['LE-wpl']\n",
    "# create dates(X-axis) attribute from validation netcdf file\n",
    "dates = Obs_Evapotranspitaton.coords['time'].data\n",
    "# Change unit from Wm-2 to mm/hr (1 Wm-2 = 0.0864 MJm-2day-1, 1 MJm-2day-1 = 0.408 mmday-1, 1day = 24h)\n",
    "data_values = Obs_Evapotranspitaton.data*0.0864*0.408/24\n",
    "# create two dimensional tabular data structure \n",
    "df = pd.DataFrame(data_values, index=dates)\n",
    "# set the time period to display plot\n",
    "df_filt = df.loc[\"2007-06-01\":\"2007-08-20\"]\n",
    "# select aspen obervation station among three different stations\n",
    "df_filt.columns = ['-','Observation (aspen)','-']\n",
    "# resample data by the average for hour of day\n",
    "df_gp_hr = df_filt.groupby([df_filt.index.hour, df_filt.index.minute]).mean()\n",
    "# reset index so each row has an hour an minute column\n",
    "df_gp_hr.reset_index(inplace=True)\n",
    "# add hour and minute columns for plotting\n",
    "xvals = df_gp_hr.reset_index()['level_0'] + df_gp_hr.reset_index()['level_1']/60."
   ]
  },
  {
   "cell_type": "markdown",
   "metadata": {},
   "source": [
    "#### 4.5) Plotting output of the Parameterization of the Lateral Flux of Liquid Water and observation data"
   ]
  },
  {
   "cell_type": "code",
   "execution_count": 54,
   "metadata": {
    "scrolled": false
   },
   "outputs": [
    {
     "data": {
      "text/plain": [
       "<matplotlib.legend.Legend at 0x7f8bf5363240>"
      ]
     },
     "execution_count": 54,
     "metadata": {},
     "output_type": "execute_result"
    },
    {
     "data": {
      "image/png": "[encoded data removed]",
      "text/plain": [
       "<Figure size 720x720 with 1 Axes>"
      ]
     },
     "metadata": {},
     "output_type": "display_data"
    }
   ],
   "source": [
    "# create plot with the Parameterization of model representation of the lateral flux of liquid water\n",
    "ET_Combine_Graph = ET_Combine.plot()\n",
    "# invert y axis\n",
    "ET_Combine_Graph.invert_yaxis()\n",
    "# plot scatter with x='xvals', y='Observation (aspen)'\n",
    "ET_Combine_Graph.scatter(xvals, df_gp_hr['Observation (aspen)'])\n",
    "# add x, y label\n",
    "ET_Combine_Graph.set(xlabel='Time of day (hr)', ylabel='Total evapotranspiration (mm h-1) ')\n",
    "# show up the legend\n",
    "ET_Combine_Graph.legend()"
   ]
  },
  {
   "cell_type": "markdown",
   "metadata": {},
   "source": [
    "## 5. Discussion"
   ]
  },
  {
   "cell_type": "markdown",
   "metadata": {},
   "source": [
    "As stated in Clark et al., 2015, the following insights can be gained from this analysis:\n",
    "\n",
    "* The simulation in Figure 8 illustrates the model representation of the lateral flux of liquid water, which determines (in part) the availability of soil water.\n",
    "\n",
    "* The results in Figure 8 demonstrate strong sensitivities the lateral flow parameterization. The parameterizations based on power-law transmissivity profiles (both lumped and distributed) have more drainage of soil water at deeper soil layers; however, the distributed simulations include inflow from upslope, resulting in more plant-available soil water and an increase in transpiration. Taken together, the results in Figure 8 illustrate the strong interdependencies among different modeling decisions, which of course complicate discriminating among competing process parameterizations."
   ]
  },
  {
   "cell_type": "code",
   "execution_count": null,
   "metadata": {},
   "outputs": [],
   "source": []
  }
 ],
 "metadata": {
  "kernelspec": {
   "display_name": "Python 3",
   "language": "python",
   "name": "python3"
  },
  "language_info": {
   "codemirror_mode": {
    "name": "ipython",
    "version": 3
   },
   "file_extension": ".py",
   "mimetype": "text/x-python",
   "name": "python",
   "nbconvert_exporter": "python",
   "pygments_lexer": "ipython3",
   "version": "3.6.5"
  }
 },
 "nbformat": 4,
 "nbformat_minor": 2
}
