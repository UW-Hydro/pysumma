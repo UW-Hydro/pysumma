{
 "cells": [
  {
   "cell_type": "markdown",
   "metadata": {},
   "source": [
    "## Download SUMMA model instances from HydroShare"
   ]
  },
  {
   "cell_type": "code",
   "execution_count": 1,
   "metadata": {},
   "outputs": [],
   "source": [
    "from hs_restclient import HydroShare\n",
    "import shutil, os, zipfile, glob"
   ]
  },
  {
   "cell_type": "code",
   "execution_count": 2,
   "metadata": {},
   "outputs": [
    {
     "data": {
      "text/plain": [
       "u'/data/hsjupyter/a/davidchoi76/test'"
      ]
     },
     "execution_count": 2,
     "metadata": {},
     "output_type": "execute_result"
    }
   ],
   "source": [
    "pwd"
   ]
  },
  {
   "cell_type": "code",
   "execution_count": 3,
   "metadata": {},
   "outputs": [],
   "source": [
    "current_path = '/data/hsjupyter/a/davidchoi76/test'"
   ]
  },
  {
   "cell_type": "code",
   "execution_count": 4,
   "metadata": {},
   "outputs": [
    {
     "name": "stdout",
     "output_type": "stream",
     "text": [
      "Username: choi\n",
      "Password for choi: ········\n"
     ]
    }
   ],
   "source": [
    "# Download RHESsys model data from HydroShare\n",
    "hs = HydroShare()\n",
    "resource_id = 'da08257203d84ef5930f1a77e41dba63'\n",
    "hs.getResource(resource_id, destination=current_path, unzip=True)"
   ]
  },
  {
   "cell_type": "code",
   "execution_count": 5,
   "metadata": {},
   "outputs": [],
   "source": [
    "# move downloaded files to current directory\n",
    "hydroshare_resources = os.path.join(current_path, resource_id, resource_id, 'data/contents')\n",
    "for file in glob.glob(hydroshare_resources +'/*'):\n",
    "    if file == hydroshare_resources + \"/SUMMA_example_download.ipynb\":\n",
    "        pass\n",
    "    else:\n",
    "        shutil.move(file, current_path)\n",
    "shutil.rmtree(os.path.join(current_path, resource_id))"
   ]
  },
  {
   "cell_type": "code",
   "execution_count": 6,
   "metadata": {},
   "outputs": [],
   "source": [
    "# unzip zip file\n",
    "#zip_ref = zipfile.ZipFile(os.path.join(current_path, \"code.zip\"), 'r')\n",
    "#zip_ref.extractall(current_path)\n",
    "# remove unnecessary files\n",
    "#os.remove(os.path.join(current_path, \"code.zip\"))\n",
    "shutil.rmtree(os.path.join(current_path, resource_id))"
   ]
  }
 ],
 "metadata": {
  "kernelspec": {
   "display_name": "RHESsys_v3",
   "language": "python",
   "name": "rhessys"
  },
  "language_info": {
   "codemirror_mode": {
    "name": "ipython",
    "version": 2
   },
   "file_extension": ".py",
   "mimetype": "text/x-python",
   "name": "python",
   "nbconvert_exporter": "python",
   "pygments_lexer": "ipython2",
   "version": "2.7.13"
  }
 },
 "nbformat": 4,
 "nbformat_minor": 2
}
