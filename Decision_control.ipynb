{
 "cells": [
  {
   "cell_type": "markdown",
   "metadata": {},
   "source": [
    "## This is pySUMMA study especially about Model Decision in SUMMA."
   ]
  },
  {
   "cell_type": "markdown",
   "metadata": {},
   "source": [
    "## 1. import tkinter package to create GUI."
   ]
  },
  {
   "cell_type": "code",
   "execution_count": 1,
   "metadata": {},
   "outputs": [],
   "source": [
    "from tkinter import *\n",
    "from tkinter import ttk  \n",
    "from tkinter import font"
   ]
  },
  {
   "cell_type": "markdown",
   "metadata": {},
   "source": [
    "## 2. assign the size of display window."
   ]
  },
  {
   "cell_type": "code",
   "execution_count": 2,
   "metadata": {},
   "outputs": [
    {
     "data": {
      "text/plain": [
       "''"
      ]
     },
     "execution_count": 2,
     "metadata": {},
     "output_type": "execute_result"
    }
   ],
   "source": [
    "root = Tk()\n",
    "w = 1550\n",
    "h = 840\n",
    "x = 450\n",
    "y = 120\n",
    "root.geometry(\"%dx%d+%d+%d\" % (w, h, x, y))"
   ]
  },
  {
   "cell_type": "markdown",
   "metadata": {},
   "source": [
    "### Define font, picture and explanation about this version of pySUMMA"
   ]
  },
  {
   "cell_type": "code",
   "execution_count": 3,
   "metadata": {},
   "outputs": [],
   "source": [
    "helv = font.Font(family=\"Helvetica\", size=20, weight=\"bold\", name='font1')\n",
    "\n",
    "logo1 = PhotoImage(file = 'hydroshare_logo.png')\n",
    "ttk.Label(root, image = logo1).grid(row = 0, column = 0, rowspan = 1)\n",
    "\n",
    "logo2 = PhotoImage(file = 'uva_logo.png')\n",
    "ttk.Label(root, image = logo2).grid(row = 0, column = 3, rowspan = 1)\n",
    "\n",
    "ttk.Label(root, text = '            pySUMMA ver1.0',font=\"font1\").grid(row = 0, column = 1)\n",
    "helv = font.Font(family=\"Helvetica\", size=11, weight=\"bold\", name='font2')\n",
    "ttk.Label(root, wraplength = 700,\n",
    "                  text = (\"pySUMMA ver1.0 is an interface to control the SUMMA Model Decision  \\n\"\n",
    "                          \"                                 and developed by the University of Virginia\"), font=\"font2\").grid(row = 1, column = 1)"
   ]
  },
  {
   "cell_type": "code",
   "execution_count": 4,
   "metadata": {},
   "outputs": [],
   "source": [
    "helv = font.Font(family=\"Helvetica\", size=10, weight=\"bold\", name='font')"
   ]
  },
  {
   "cell_type": "markdown",
   "metadata": {},
   "source": [
    "## 3. Display window"
   ]
  },
  {
   "cell_type": "markdown",
   "metadata": {},
   "source": [
    "### 3-1. Create the Label and Entry of \"Simulation End Time\" "
   ]
  },
  {
   "cell_type": "code",
   "execution_count": 5,
   "metadata": {},
   "outputs": [],
   "source": [
    "ttk.Label(root, text = '(01) simulation start time  :',font=\"font\").grid(row = 4, column = 0, padx = 5, sticky = 'sw')\n",
    "\n",
    "entry1 = ttk.Entry(root, width = 30)\n",
    "entry1.grid(row = 4, column = 1, padx = 5)\n",
    "entry1.insert(0, '')\n",
    "ttk.Label(root, text = '(ex) YYYY-MM-DD HH:MM').grid(row =4, column = 3, padx = 5, sticky = 'sw')"
   ]
  },
  {
   "cell_type": "markdown",
   "metadata": {},
   "source": [
    "### 3-2. Create the Label and Entry of \"Simulation End Time\" "
   ]
  },
  {
   "cell_type": "code",
   "execution_count": 6,
   "metadata": {},
   "outputs": [],
   "source": [
    "ttk.Label(root, text = '(02) simulation end time  :',font=\"font\").grid(row = 6, column = 0, padx = 5, sticky = 'sw')\n",
    "entry2 = ttk.Entry(root, width = 30)\n",
    "entry2.grid(row = 6, column = 1, padx = 5)\n",
    "entry2.insert(0, '')\n",
    "ttk.Label(root, text = '(ex) YYYY-MM-DD HH:MM').grid(row = 6, column = 3, padx = 5, sticky = 'sw')"
   ]
  },
  {
   "cell_type": "markdown",
   "metadata": {},
   "source": [
    "### 3-3. Create the Label and Combobox of \"soil-category dateset\""
   ]
  },
  {
   "cell_type": "code",
   "execution_count": 7,
   "metadata": {},
   "outputs": [],
   "source": [
    "ttk.Label(root, text = '(03) soil-category dateset  :',font=\"font\").grid(row = 8, column = 0, padx = 5, sticky = 'sw')\n",
    "combobox3 = ttk.Combobox(root, width = 27)\n",
    "combobox3.grid(row = 8, column = 1, padx = 5)\n",
    "combobox3.config(values = ('STAS', 'STAS-RUC', 'ROSETTA'))"
   ]
  },
  {
   "cell_type": "markdown",
   "metadata": {},
   "source": [
    "### 3-4. Create the Label and Combobox of \"vegetation category dataset\""
   ]
  },
  {
   "cell_type": "code",
   "execution_count": 8,
   "metadata": {},
   "outputs": [],
   "source": [
    "ttk.Label(root, text = '(04) vegetation category dataset  :',font=\"font\").grid(row = 10, column = 0, padx = 5, sticky = 'sw')\n",
    "combobox4 = ttk.Combobox(root, width = 27)\n",
    "combobox4.grid(row = 10, column = 1, padx = 5)\n",
    "combobox4.config(values = ('USGS', 'MODIFIED_IGBP_MODIS_NOAH'))"
   ]
  },
  {
   "cell_type": "markdown",
   "metadata": {},
   "source": [
    "### 3-5. Create the Label and Combobox of \"choice of function for the soil moisture control on stomatal resistance\""
   ]
  },
  {
   "cell_type": "code",
   "execution_count": 9,
   "metadata": {},
   "outputs": [],
   "source": [
    "ttk.Label(root, text = '(05) choice of function for the soil moisture control on stomatal resistance  :',font=\"font\").grid(row = 12, column = 0, padx = 5, sticky = 'sw')\n",
    "combobox5 = ttk.Combobox(root, width = 27)\n",
    "combobox5.grid(row = 12, column = 1, padx = 5)\n",
    "combobox5.config(values = ('NoahType', 'CLM_Type', 'SiB_Type'))"
   ]
  },
  {
   "cell_type": "markdown",
   "metadata": {},
   "source": [
    "### 3-6. Create the Label and Combobox of \"choice of function for stomatal resistance\""
   ]
  },
  {
   "cell_type": "code",
   "execution_count": 10,
   "metadata": {},
   "outputs": [],
   "source": [
    "ttk.Label(root, text = '(06) choice of function for stomatal resistance  :',font=\"font\").grid(row = 14, column = 0, padx = 5, sticky = 'sw')\n",
    "combobox6 = ttk.Combobox(root, width = 27)\n",
    "combobox6.grid(row = 14, column = 1, padx = 5)\n",
    "combobox6.config(values = ('BallBerry', 'Jarvis'))"
   ]
  },
  {
   "cell_type": "markdown",
   "metadata": {},
   "source": [
    "### 3-7. Create the Label and Combobox of \"choice of numerical method\""
   ]
  },
  {
   "cell_type": "code",
   "execution_count": 11,
   "metadata": {},
   "outputs": [],
   "source": [
    "ttk.Label(root, text = '(07) choice of numerical method  :',font=\"font\").grid(row = 16, column = 0, padx = 5, sticky = 'sw')\n",
    "combobox7 = ttk.Combobox(root, width = 27)\n",
    "combobox7.grid(row = 16, column = 1, padx = 5)\n",
    "combobox7.config(values = ('itertive', 'non_iter', 'itersurf'))"
   ]
  },
  {
   "cell_type": "markdown",
   "metadata": {},
   "source": [
    "### 3-8. Create the Label and Combobox of \"method used to calculate flux derivatives\""
   ]
  },
  {
   "cell_type": "code",
   "execution_count": 12,
   "metadata": {},
   "outputs": [],
   "source": [
    "ttk.Label(root, text = '(08) method used to calculate flux derivatives  :',font=\"font\").grid(row = 18, column = 0, padx = 5, sticky = 'sw')\n",
    "combobox8 = ttk.Combobox(root, width = 27)\n",
    "combobox8.grid(row = 18, column = 1, padx = 5)\n",
    "combobox8.config(values = ('numericl', 'analytic'))"
   ]
  },
  {
   "cell_type": "markdown",
   "metadata": {},
   "source": [
    "### 3-9. Create the Label and Combobox of \"method used to determine LAI and SAI\""
   ]
  },
  {
   "cell_type": "code",
   "execution_count": 13,
   "metadata": {},
   "outputs": [],
   "source": [
    "ttk.Label(root, text = '(09) method used to determine LAI and SAI  :',font=\"font\").grid(row = 20, column = 0, padx = 5, sticky = 'sw')\n",
    "combobox9 = ttk.Combobox(root, width = 27)\n",
    "combobox9.grid(row = 20, column = 1, padx = 5)\n",
    "combobox9.config(values = ('monTable', 'specified'))\n",
    "ttk.Label(root, text = '(09) the LAI_method option [\"specified\"] is no longer supporte').grid(row =20, column = 3, padx = 5, sticky = 'sw')"
   ]
  },
  {
   "cell_type": "markdown",
   "metadata": {},
   "source": [
    "### 3-10. Create the Label and Combobox of \"form of Richards equation\""
   ]
  },
  {
   "cell_type": "code",
   "execution_count": 14,
   "metadata": {},
   "outputs": [],
   "source": [
    "ttk.Label(root, text = '(10) form of Richards equation  :',font=\"font\").grid(row = 22, column = 0, padx = 5, sticky = 'sw')\n",
    "combobox10 = ttk.Combobox(root, width = 27)\n",
    "combobox10.grid(row = 22, column = 1, padx = 5)\n",
    "combobox10.config(values = ('moisture', 'mixdform'))"
   ]
  },
  {
   "cell_type": "markdown",
   "metadata": {},
   "source": [
    "### 3-11. Create the Label and Combobox of \"choice of groundwater parameterization\""
   ]
  },
  {
   "cell_type": "code",
   "execution_count": 15,
   "metadata": {},
   "outputs": [],
   "source": [
    "ttk.Label(root, text = '(11) choice of groundwater parameterization  :',font=\"font\").grid(row = 24, column = 0, padx = 5, sticky = 'sw')\n",
    "combobox11 = ttk.Combobox(root, width = 27)\n",
    "combobox11.grid(row = 24, column = 1, padx = 5)\n",
    "combobox11.config(values = ('qTopmodl', 'bigBuckt', 'noXplict'))\n",
    "ttk.Label(root, text = '(11) groundwater parameterization must be \"(11) bigBucket\" \\n'\n",
    "                       'when using \"(28) singleBasin\" for spatial_gw').grid(row =24, column = 3, padx = 5, sticky = 'sw')"
   ]
  },
  {
   "cell_type": "markdown",
   "metadata": {},
   "source": [
    "### 3-12. Create the Label and Combobox of \"choice of hydraulic conductivity profile\""
   ]
  },
  {
   "cell_type": "code",
   "execution_count": 16,
   "metadata": {},
   "outputs": [],
   "source": [
    "ttk.Label(root, text = '(12) choice of hydraulic conductivity profile  :',font=\"font\").grid(row = 26, column = 0, padx = 5, sticky = 'sw')\n",
    "combobox12 = ttk.Combobox(root, width = 27)\n",
    "combobox12.grid(row = 26, column = 1, padx = 5)\n",
    "combobox12.config(values = ('constant', 'pow_prof'))\n",
    "ttk.Label(root, text = '\"(12) pow_prof(power-law transmissivity profile)\" must be selected \\n'\n",
    "                       'when using \"(11) qTopmodl\" baseflow option').grid(row =26, column = 3, padx = 5, sticky = 'sw')"
   ]
  },
  {
   "cell_type": "markdown",
   "metadata": {},
   "source": [
    "### 3-13. Create the Label and Combobox of \"choice of upper boundary conditions for thermodynamics\""
   ]
  },
  {
   "cell_type": "code",
   "execution_count": 17,
   "metadata": {},
   "outputs": [],
   "source": [
    "ttk.Label(root, text = '(13) choice of upper boundary conditions for thermodynamics  :',font=\"font\").grid(row = 28, column = 0, padx = 5, sticky = 'sw')\n",
    "combobox13 = ttk.Combobox(root, width = 27)\n",
    "combobox13.grid(row = 28, column = 1, padx = 5)\n",
    "combobox13.config(values = ('presTemp', 'nrg_flux'))\n",
    "ttk.Label(root, text = '(13) upper boundary condition for thermodynamics must be \"(13)presTemp\" \\n'\n",
    "                       'with \"(15) (16) presHead\" option for soil hydology').grid(row =28, column = 3, padx = 5, sticky = 'sw')"
   ]
  },
  {
   "cell_type": "markdown",
   "metadata": {},
   "source": [
    "### 3-14. Create the Label and Combobox of \"choice of lower boundary conditions for thermodynamics\""
   ]
  },
  {
   "cell_type": "code",
   "execution_count": 18,
   "metadata": {},
   "outputs": [],
   "source": [
    "ttk.Label(root, text = '(14) choice of lower boundary conditions for thermodynamics  :',font=\"font\").grid(row = 30, column = 0, padx = 5, sticky = 'sw')\n",
    "combobox14 = ttk.Combobox(root, width = 27)\n",
    "combobox14.grid(row = 30, column = 1, padx = 5)\n",
    "combobox14.config(values = ('presTemp', 'zeroFlux'))\n",
    "ttk.Label(root, text = '(14) lower boundary condition for thermodynamics must be \"(14) zeroFlux\" \\n'\n",
    "                       'with \"(15) (16) presHead\" option for soil hydology').grid(row =30, column = 3, padx = 5, sticky = 'sw')"
   ]
  },
  {
   "cell_type": "markdown",
   "metadata": {},
   "source": [
    "### 3-15. Create the Label and Combobox of \"choice of upper boundary conditions for soil hydrology\""
   ]
  },
  {
   "cell_type": "code",
   "execution_count": 19,
   "metadata": {},
   "outputs": [],
   "source": [
    "ttk.Label(root, text = '(15) choice of upper boundary conditions for soil hydrology  :',font=\"font\").grid(row = 32, column = 0, padx = 5, sticky = 'sw')\n",
    "combobox15 = ttk.Combobox(root, width = 27)\n",
    "combobox15.grid(row = 32, column = 1, padx = 5)\n",
    "combobox15.config(values = ('presHead', 'liq_flux'))\n",
    "ttk.Label(root, text = '(15) upper boundary condition for soil hydology must be \"(15) presHead\" \\n'\n",
    "                       'with \"(13)(14) presTemp and (14) zeroFlux\" options for thermodynamics').grid(row =32, column = 3, padx = 5, sticky = 'sw')"
   ]
  },
  {
   "cell_type": "markdown",
   "metadata": {},
   "source": [
    "### 3-16. Create the Label and Combobox of \"choice of lower boundary conditions for soil hydrology\""
   ]
  },
  {
   "cell_type": "code",
   "execution_count": 20,
   "metadata": {},
   "outputs": [],
   "source": [
    "ttk.Label(root, text = '(16) choice of lower boundary conditions for soil hydrology  :',font=\"font\").grid(row = 34, column = 0, padx = 5, sticky = 'sw')\n",
    "combobox16 = ttk.Combobox(root, width = 27)\n",
    "combobox16.grid(row = 34, column = 1, padx = 5)\n",
    "combobox16.config(values = ('drainage', 'presHead', 'bottmPsi', 'zeroFlux'))\n",
    "ttk.Label(root, text = '(16) lower boundary condition for soil hydology must be \"(16) zeroFlux\" \\n'\n",
    "                       'with \"(11) qTopmodl\" option for groundwater').grid(row =34, column = 3, padx = 5, sticky = 'sw')"
   ]
  },
  {
   "cell_type": "markdown",
   "metadata": {},
   "source": [
    "### 3-17. Create the Label and Combobox of \"choice of parameterization for vegetation roughness length and displacement height\""
   ]
  },
  {
   "cell_type": "code",
   "execution_count": 21,
   "metadata": {},
   "outputs": [],
   "source": [
    "ttk.Label(root, text = '(17) choice of parameterization for vegetation roughness length and displacement height  :',font=\"font\").grid(row = 36, column = 0, padx = 5, sticky = 'sw')\n",
    "combobox17 = ttk.Combobox(root, width = 27)\n",
    "combobox17.grid(row = 36, column = 1, padx = 5)\n",
    "combobox17.config(values = ('Raupach_BLM1994', 'CM_QJRMS1998', 'vegTypeTable'))"
   ]
  },
  {
   "cell_type": "markdown",
   "metadata": {},
   "source": [
    "### 3-18. Create the Label and Combobox of \"choice of parameterization for canopy emissivity\""
   ]
  },
  {
   "cell_type": "code",
   "execution_count": 22,
   "metadata": {},
   "outputs": [],
   "source": [
    "ttk.Label(root, text = '(18) choice of parameterization for canopy emissivity  :',font=\"font\").grid(row = 38, column = 0, padx = 5, sticky = 'sw')\n",
    "combobox18 = ttk.Combobox(root, width = 27)\n",
    "combobox18.grid(row = 38, column = 1, padx = 5)\n",
    "combobox18.config(values = ('simplExp', 'difTrans'))"
   ]
  },
  {
   "cell_type": "markdown",
   "metadata": {},
   "source": [
    "### 3-19. Create the Label and Combobox of \"choice of parameterization for snow interception\""
   ]
  },
  {
   "cell_type": "code",
   "execution_count": 23,
   "metadata": {},
   "outputs": [],
   "source": [
    "ttk.Label(root, text = '(19) choice of parameterization for snow interception  :',font=\"font\").grid(row = 40, column = 0, padx = 5, sticky = 'sw')\n",
    "combobox19 = ttk.Combobox(root, width = 27)\n",
    "combobox19.grid(row = 40, column = 1, padx = 5)\n",
    "combobox19.config(values = ('stickySnow', 'lightSnow'))"
   ]
  },
  {
   "cell_type": "markdown",
   "metadata": {},
   "source": [
    "### 3-20. Create the Label and Combobox of \"choice of wind profile\""
   ]
  },
  {
   "cell_type": "code",
   "execution_count": 24,
   "metadata": {},
   "outputs": [],
   "source": [
    "ttk.Label(root, text = '(20) choice of wind profile  :',font=\"font\").grid(row = 42, column = 0, padx = 5, sticky = 'sw')\n",
    "combobox20 = ttk.Combobox(root, width = 27)\n",
    "combobox20.grid(row = 42, column = 1, padx = 5)\n",
    "combobox20.config(values = ('exponential', 'logBelowCanopy'))"
   ]
  },
  {
   "cell_type": "markdown",
   "metadata": {},
   "source": [
    "### 3-21. Create the Label and Combobox of \"choice of stability function\""
   ]
  },
  {
   "cell_type": "code",
   "execution_count": 25,
   "metadata": {},
   "outputs": [],
   "source": [
    "ttk.Label(root, text = '(21) choice of stability function  :',font=\"font\").grid(row = 44, column = 0, padx = 5, sticky = 'sw')\n",
    "combobox21 = ttk.Combobox(root, width = 27)\n",
    "combobox21.grid(row = 44, column = 1, padx = 5)\n",
    "combobox21.config(values = ('standard', 'louisinv', 'mahrtexp'))"
   ]
  },
  {
   "cell_type": "markdown",
   "metadata": {},
   "source": [
    "### 3-22. Create the Label and Combobox of \"choice of canopy shortwave radiation method\""
   ]
  },
  {
   "cell_type": "code",
   "execution_count": 26,
   "metadata": {},
   "outputs": [],
   "source": [
    "ttk.Label(root, text = '(22) choice of canopy shortwave radiation method  :',font=\"font\").grid(row = 46, column = 0, padx = 5, sticky = 'sw')\n",
    "combobox22 = ttk.Combobox(root, width = 27)\n",
    "combobox22.grid(row = 46, column = 1, padx = 5)\n",
    "combobox22.config(values = ('noah_mp', 'CLM_2stream', 'UEB_2stream', 'NL_scatter', 'BeersLaw'))"
   ]
  },
  {
   "cell_type": "markdown",
   "metadata": {},
   "source": [
    "### 3-23. Create the Label and Combobox of \"choice of albedo representation\""
   ]
  },
  {
   "cell_type": "code",
   "execution_count": 27,
   "metadata": {},
   "outputs": [],
   "source": [
    "ttk.Label(root, text = '(23) choice of albedo representation  :',font=\"font\").grid(row = 48, column = 0, padx = 5, sticky = 'sw')\n",
    "combobox23 = ttk.Combobox(root, width = 27)\n",
    "combobox23.grid(row = 48, column = 1, padx = 5)\n",
    "combobox23.config(values = ('conDecay', 'varDecay'))"
   ]
  },
  {
   "cell_type": "markdown",
   "metadata": {},
   "source": [
    "### 3-24. Create the Label and Combobox of \"choice of compaction routine\""
   ]
  },
  {
   "cell_type": "code",
   "execution_count": 28,
   "metadata": {},
   "outputs": [],
   "source": [
    "ttk.Label(root, text = '(24) choice of compaction routine  :',font=\"font\").grid(row = 50, column = 0, padx = 5, sticky = 'sw')\n",
    "combobox24 = ttk.Combobox(root, width = 27)\n",
    "combobox24.grid(row = 50, column = 1, padx = 5)\n",
    "combobox24.config(values = ('consettl', 'anderson'))"
   ]
  },
  {
   "cell_type": "markdown",
   "metadata": {},
   "source": [
    "### 3-25. Create the Label and Combobox of \"choice of method to combine and sub-divide snow layers\""
   ]
  },
  {
   "cell_type": "code",
   "execution_count": 29,
   "metadata": {},
   "outputs": [],
   "source": [
    "ttk.Label(root, text = '(25) choice of method to combine and sub-divide snow layers  :',font=\"font\").grid(row = 52, column = 0, padx = 5, sticky = 'sw')\n",
    "combobox25 = ttk.Combobox(root, width = 27)\n",
    "combobox25.grid(row = 52, column = 1, padx = 5)\n",
    "combobox25.config(values = ('CLM_2010', 'jrdn1991'))"
   ]
  },
  {
   "cell_type": "markdown",
   "metadata": {},
   "source": [
    "### 3-26. Create the Label and Combobox of \"choice of thermal conductivity representation for snow\""
   ]
  },
  {
   "cell_type": "code",
   "execution_count": 30,
   "metadata": {},
   "outputs": [],
   "source": [
    "ttk.Label(root, text = '(26) choice of thermal conductivity representation for snow  :',font=\"font\").grid(row = 54, column = 0, padx = 5, sticky = 'sw')\n",
    "combobox26 = ttk.Combobox(root, width = 27)\n",
    "combobox26.grid(row = 54, column = 1, padx = 5)\n",
    "combobox26.config(values = ('tyen1965', 'melr1977', 'jrdn1991', 'smnv2000'))"
   ]
  },
  {
   "cell_type": "markdown",
   "metadata": {},
   "source": [
    "### 3-27. Create the Label and Combobox of \"choice of thermal conductivity representation for soil\""
   ]
  },
  {
   "cell_type": "code",
   "execution_count": 31,
   "metadata": {},
   "outputs": [],
   "source": [
    "ttk.Label(root, text = '(27) choice of thermal conductivity representation for soil  :',font=\"font\").grid(row = 56, column = 0, padx = 5, sticky = 'sw')\n",
    "combobox27 = ttk.Combobox(root, width = 27)\n",
    "combobox27.grid(row = 56, column = 1, padx = 5)\n",
    "combobox27.config(values = ('funcSoilWet', 'mixConstit', 'hanssonVZJ'))"
   ]
  },
  {
   "cell_type": "markdown",
   "metadata": {},
   "source": [
    "### 3-28. Create the Label and Combobox of \"choice of method for the spatial representation of groundwater\""
   ]
  },
  {
   "cell_type": "code",
   "execution_count": 32,
   "metadata": {},
   "outputs": [],
   "source": [
    "ttk.Label(root, text = '(28) choice of method for the spatial representation of groundwater  :',font=\"font\").grid(row = 58, column = 0, padx = 5, sticky = 'sw')\n",
    "combobox28 = ttk.Combobox(root, width = 27)\n",
    "combobox28.grid(row = 58, column = 1, padx = 5)\n",
    "combobox28.config(values = ('localColumn', 'singleBasin'))"
   ]
  },
  {
   "cell_type": "markdown",
   "metadata": {},
   "source": [
    "### 3-29. Create the Label and Combobox of \"choice of method for sub-grid routing\""
   ]
  },
  {
   "cell_type": "code",
   "execution_count": 33,
   "metadata": {},
   "outputs": [],
   "source": [
    "ttk.Label(root, text = '(29) choice of method for sub-grid routing  :',font=\"font\").grid(row = 60, column = 0, padx = 5, sticky = 'sw')\n",
    "combobox29 = ttk.Combobox(root, width = 27)\n",
    "combobox29.grid(row = 60, column = 1, padx = 5)\n",
    "combobox29.config(values = ('timeDlay', 'qInstant'))"
   ]
  },
  {
   "cell_type": "markdown",
   "metadata": {},
   "source": [
    "## 4. Adjust and Save Model Decision File according to the Previous Setting of Model Decision"
   ]
  },
  {
   "cell_type": "code",
   "execution_count": 35,
   "metadata": {},
   "outputs": [],
   "source": [
    "with open('/media/sf_pysumma/summaTestCases_2.x/settings/wrrPaperTestCases/figure07/summa_zDecisions_riparianAspenSimpleResistance.txt', 'r') as infile:\n",
    "    data = infile.read()\n",
    "my_list = data.splitlines()"
   ]
  },
  {
   "cell_type": "code",
   "execution_count": 36,
   "metadata": {
    "scrolled": true
   },
   "outputs": [],
   "source": [
    "def savemethod(string):\n",
    "    f = open(\"summa_zDecisions_1dRichards2.txt\", \"r\")\n",
    "    lines = f.readlines()\n",
    "    lines[9] = \"simulStart              '%s'                   ! (01) simulation start time -- must be in single quotes \\n\"%entry1.get()\n",
    "    lines[10] = \"simulFinsh             '%s'                   ! (02) simulation end time -- must be in single quotes \\n\"%entry2.get()\n",
    "    lines[12] = 'soilCatTbl                      %s            ! (03) soil-category dateset \\n'%combobox3.get()\n",
    "    lines[13] = 'vegeParTbl                      %s            ! (04) vegetation category dataset \\n'%combobox4.get()\n",
    "    lines[14] = 'soilStress                      %s            ! (05) choice of function for the soil moisture control on stomatal resistance \\n'%combobox5.get()\n",
    "    lines[15] = 'stomResist                      %s            ! (06) choice of function for stomatal resistance \\n'%combobox6.get()\n",
    "    lines[17] = 'num_method                      %s            ! (07) choice of numerical method \\n'%combobox7.get()\n",
    "    lines[18] = 'fDerivMeth                      %s            ! (08) method used to calculate flux derivatives \\n'%combobox8.get()\n",
    "    lines[19] = 'LAI_method                      %s            ! (09) method used to determine LAI and SAI \\n'%combobox9.get()\n",
    "    lines[20] = 'f_Richards                      %s            ! (10) form of Richards equation \\n'%combobox10.get()\n",
    "    lines[21] = 'groundwatr                      %s            ! (11) choice of groundwater parameterization \\n'%combobox11.get()\n",
    "    lines[22] = 'hc_profile                      %s            ! (12) choice of hydraulic conductivity profile \\n'%combobox12.get()\n",
    "    lines[23] = 'bcUpprTdyn                      %s            ! (13) type of upper boundary condition for thermodynamics \\n'%combobox13.get()\n",
    "    lines[24] = 'bcLowrTdyn                      %s            ! (14) type of lower boundary condition for thermodynamics \\n'%combobox14.get()\n",
    "    lines[25] = 'bcUpprSoiH                      %s            ! (15) type of upper boundary condition for soil hydrology \\n'%combobox15.get()\n",
    "    lines[26] = 'bcLowrSoiH                      %s            ! (16) type of lower boundary condition for soil hydrology \\n'%combobox16.get()\n",
    "    lines[27] = 'veg_traits                      %s            ! (17) choice of parameterization for vegetation roughness length and displacement height \\n'%combobox17.get()\n",
    "    lines[28] = 'canopyEmis                      %s            ! (18) choice of parameterization for canopy emissivity \\n'%combobox18.get()\n",
    "    lines[29] = 'snowIncept                      %s            ! (19) choice of parameterization for snow interception \\n'%combobox19.get()\n",
    "    lines[30] = 'windPrfile                      %s            ! (20) choice of wind profile through the canopy \\n'%combobox20.get()\n",
    "    lines[31] = 'astability                      %s            ! (21) choice of stability function \\n'%combobox21.get()\n",
    "    lines[32] = 'canopySrad                      %s            ! (22) choice of canopy shortwave radiation method \\n'%combobox22.get()\n",
    "    lines[33] = 'alb_method                      %s            ! (23) choice of albedo representation \\n'%combobox23.get()\n",
    "    lines[34] = 'compaction                      %s            ! (24) choice of compaction routine \\n'%combobox24.get()\n",
    "    lines[35] = 'snowLayers                      %s            ! (25) choice of method to combine and sub-divide snow layers \\n'%combobox25.get()\n",
    "    lines[36] = 'thCondSnow                      %s            ! (26) choice of thermal conductivity representation for snow \\n'%combobox26.get()\n",
    "    lines[37] = 'thCondSoil                      %s            ! (27) choice of thermal conductivity representation for soil \\n'%combobox27.get()\n",
    "    lines[38] = 'spatial_gw                      %s            ! (28) choice of method for the spatial representation of groundwater \\n'%combobox28.get()\n",
    "    lines[39] = 'subRouting                      %s            ! (29) choice of method for sub-grid routing \\n'%combobox29.get()    \n",
    "    \n",
    "    f = open('SUMMA_zDecision_Test.txt','a')\n",
    "    for line in lines:\n",
    "        data = line\n",
    "        f.write(data)\n",
    "    f.close\n",
    "    \n",
    "ttk.Button(root, text = 'Save', command = lambda: savemethod(1)).grid(row = 61, column = 3, padx = 5, pady = 5, sticky = 'e')\n",
    "\n",
    "root.mainloop()"
   ]
  },
  {
   "cell_type": "code",
   "execution_count": null,
   "metadata": {},
   "outputs": [],
   "source": []
  }
 ],
 "metadata": {
  "kernelspec": {
   "display_name": "Python 3",
   "language": "python",
   "name": "python3"
  },
  "language_info": {
   "codemirror_mode": {
    "name": "ipython",
    "version": 3
   },
   "file_extension": ".py",
   "mimetype": "text/x-python",
   "name": "python",
   "nbconvert_exporter": "python",
   "pygments_lexer": "ipython3",
   "version": "3.6.3"
  }
 },
 "nbformat": 4,
 "nbformat_minor": 2
}
